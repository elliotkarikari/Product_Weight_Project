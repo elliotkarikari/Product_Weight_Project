{
 "cells": [
  {
   "cell_type": "markdown",
   "id": "26eb5f17",
   "metadata": {},
   "source": [
    "# Product Weighting Project"
   ]
  },
  {
   "cell_type": "markdown",
   "id": "e344662d",
   "metadata": {},
   "source": [
    "                                         Data Reduction - Food Purchased In Store"
   ]
  },
  {
   "cell_type": "markdown",
   "id": "3fc27e6e",
   "metadata": {},
   "source": [
    "###### Import Necessary Libraries "
   ]
  },
  {
   "cell_type": "code",
   "execution_count": 1,
   "id": "afa09013",
   "metadata": {},
   "outputs": [],
   "source": [
    "import pandas as pd"
   ]
  },
  {
   "cell_type": "markdown",
   "id": "6be5a0fb",
   "metadata": {},
   "source": [
    "Read in Data"
   ]
  },
  {
   "cell_type": "code",
   "execution_count": 2,
   "id": "bdfa9c96",
   "metadata": {},
   "outputs": [],
   "source": [
    "Labelled = pd.read_csv(r'C:\\Users\\medekar\\Desktop\\Product_Weight_Project\\Data\\Processed\\Labelling2021_watercress.csv')"
   ]
  },
  {
   "cell_type": "markdown",
   "id": "e575d791",
   "metadata": {},
   "source": [
    "### Products beginning with a 'U' "
   ]
  },
  {
   "cell_type": "code",
   "execution_count": 6,
   "id": "2f12459c",
   "metadata": {
    "scrolled": false
   },
   "outputs": [
    {
     "data": {
      "text/html": [
       "<div>\n",
       "<style scoped>\n",
       "    .dataframe tbody tr th:only-of-type {\n",
       "        vertical-align: middle;\n",
       "    }\n",
       "\n",
       "    .dataframe tbody tr th {\n",
       "        vertical-align: top;\n",
       "    }\n",
       "\n",
       "    .dataframe thead th {\n",
       "        text-align: right;\n",
       "    }\n",
       "</style>\n",
       "<table border=\"1\" class=\"dataframe\">\n",
       "  <thead>\n",
       "    <tr style=\"text-align: right;\">\n",
       "      <th></th>\n",
       "      <th>Food Code</th>\n",
       "      <th>Food Name</th>\n",
       "      <th>Description</th>\n",
       "      <th>Group</th>\n",
       "      <th>Previous</th>\n",
       "      <th>Main data references</th>\n",
       "      <th>Footnote</th>\n",
       "      <th>Energy (kJ)</th>\n",
       "      <th>Energy (kcal)</th>\n",
       "      <th>Fat (g)</th>\n",
       "      <th>Saturates (g)</th>\n",
       "      <th>Carbohydrate (g)</th>\n",
       "      <th>Sugars (g)</th>\n",
       "      <th>Starch (g)</th>\n",
       "      <th>Fibre (g)</th>\n",
       "      <th>Protein (g)</th>\n",
       "      <th>Salt (g)</th>\n",
       "    </tr>\n",
       "  </thead>\n",
       "  <tbody>\n",
       "    <tr>\n",
       "      <th>2796</th>\n",
       "      <td>12-468</td>\n",
       "      <td>Urad dahl, homemade</td>\n",
       "      <td>5 samples, black lentil curry</td>\n",
       "      <td>DR</td>\n",
       "      <td>NaN</td>\n",
       "      <td>University of Leeds, Nutritional analysis of c...</td>\n",
       "      <td>NaN</td>\n",
       "      <td>357</td>\n",
       "      <td>85</td>\n",
       "      <td>3.2</td>\n",
       "      <td>0.44</td>\n",
       "      <td>8</td>\n",
       "      <td>0.8</td>\n",
       "      <td>7.2</td>\n",
       "      <td>2.7</td>\n",
       "      <td>4.8</td>\n",
       "      <td>0.84</td>\n",
       "    </tr>\n",
       "  </tbody>\n",
       "</table>\n",
       "</div>"
      ],
      "text/plain": [
       "     Food Code            Food Name                    Description Group  \\\n",
       "2796    12-468  Urad dahl, homemade  5 samples, black lentil curry    DR   \n",
       "\n",
       "     Previous                               Main data references Footnote  \\\n",
       "2796      NaN  University of Leeds, Nutritional analysis of c...      NaN   \n",
       "\n",
       "     Energy (kJ) Energy (kcal)  Fat (g) Saturates (g) Carbohydrate (g)  \\\n",
       "2796         357            85      3.2          0.44                8   \n",
       "\n",
       "     Sugars (g) Starch (g) Fibre (g)  Protein (g) Salt (g)  \n",
       "2796        0.8        7.2       2.7          4.8     0.84  "
      ]
     },
     "execution_count": 6,
     "metadata": {},
     "output_type": "execute_result"
    }
   ],
   "source": [
    "prod_u = Labelled.loc[Labelled['Food Name'].str.startswith('U')]\n",
    "prod_u"
   ]
  },
  {
   "cell_type": "markdown",
   "id": "8ce61870",
   "metadata": {},
   "source": [
    "Products within a Group (provide identification of the food group and food type to which the food belongs)"
   ]
  },
  {
   "cell_type": "code",
   "execution_count": 7,
   "id": "0e051ec9",
   "metadata": {
    "scrolled": false
   },
   "outputs": [
    {
     "data": {
      "text/plain": [
       "Group\n",
       "DR    1\n",
       "Name: Food Name, dtype: int64"
      ]
     },
     "execution_count": 7,
     "metadata": {},
     "output_type": "execute_result"
    }
   ],
   "source": [
    "prod_u.groupby('Group')['Food Name'].count()"
   ]
  },
  {
   "cell_type": "markdown",
   "id": "0c220f33",
   "metadata": {},
   "source": [
    "Didn"
   ]
  },
  {
   "cell_type": "code",
   "execution_count": null,
   "id": "4b2f88ae",
   "metadata": {},
   "outputs": [],
   "source": []
  }
 ],
 "metadata": {
  "kernelspec": {
   "display_name": "ProdW",
   "language": "python",
   "name": "prodw"
  },
  "language_info": {
   "codemirror_mode": {
    "name": "ipython",
    "version": 3
   },
   "file_extension": ".py",
   "mimetype": "text/x-python",
   "name": "python",
   "nbconvert_exporter": "python",
   "pygments_lexer": "ipython3",
   "version": "3.11.2"
  }
 },
 "nbformat": 4,
 "nbformat_minor": 5
}
