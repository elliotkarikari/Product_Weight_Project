{
 "cells": [
  {
   "cell_type": "markdown",
   "id": "8dc1249f",
   "metadata": {},
   "source": [
    "# Matching Algorithm - Matching with Food Description/Name column"
   ]
  },
  {
   "cell_type": "markdown",
   "id": "c41e6766",
   "metadata": {},
   "source": [
    "There is something wrong with the matching algo. When I run it one i get weird results but when I run it the second time I get better results in some categories "
   ]
  },
  {
   "cell_type": "markdown",
   "id": "377493a7",
   "metadata": {},
   "source": [
    "##### Import Libraries"
   ]
  },
  {
   "cell_type": "code",
   "execution_count": 1,
   "id": "678844c3",
   "metadata": {},
   "outputs": [],
   "source": [
    "import pandas as pd\n",
    "import matplotlib.pyplot as plt\n",
    "import seaborn as sns\n",
    "import numpy as np\n",
    "import re #regular expressions \n",
    "from fuzzywuzzy import process, fuzz\n",
    "from sklearn.feature_extraction.text import TfidfVectorizer\n",
    "from sklearn.metrics.pairwise import cosine_similarity\n",
    "from sklearn.metrics import pairwise_distances"
   ]
  },
  {
   "cell_type": "markdown",
   "id": "c6ecf653",
   "metadata": {},
   "source": [
    "##### Read In Data"
   ]
  },
  {
   "cell_type": "markdown",
   "id": "f49d92a4",
   "metadata": {},
   "source": [
    "                                                      M&W Reduced"
   ]
  },
  {
   "cell_type": "code",
   "execution_count": 2,
   "id": "aa3f0cff",
   "metadata": {
    "scrolled": true
   },
   "outputs": [
    {
     "data": {
      "text/html": [
       "<div>\n",
       "<style scoped>\n",
       "    .dataframe tbody tr th:only-of-type {\n",
       "        vertical-align: middle;\n",
       "    }\n",
       "\n",
       "    .dataframe tbody tr th {\n",
       "        vertical-align: top;\n",
       "    }\n",
       "\n",
       "    .dataframe thead th {\n",
       "        text-align: right;\n",
       "    }\n",
       "</style>\n",
       "<table border=\"1\" class=\"dataframe\">\n",
       "  <thead>\n",
       "    <tr style=\"text-align: right;\">\n",
       "      <th></th>\n",
       "      <th>Food Code</th>\n",
       "      <th>Food Name</th>\n",
       "      <th>Food sub-group codes</th>\n",
       "      <th>Food Group</th>\n",
       "      <th>Sales Format</th>\n",
       "      <th>Normalized Food Name</th>\n",
       "    </tr>\n",
       "  </thead>\n",
       "  <tbody>\n",
       "    <tr>\n",
       "      <th>0</th>\n",
       "      <td>13-145</td>\n",
       "      <td>ackee, canned, drained</td>\n",
       "      <td>DG</td>\n",
       "      <td>Vegetables</td>\n",
       "      <td>Can</td>\n",
       "      <td>ackeecanneddrained</td>\n",
       "    </tr>\n",
       "    <tr>\n",
       "      <th>1</th>\n",
       "      <td>13-146</td>\n",
       "      <td>agar, dried</td>\n",
       "      <td>DG</td>\n",
       "      <td>Vegetables</td>\n",
       "      <td>Bag</td>\n",
       "      <td>agardried</td>\n",
       "    </tr>\n",
       "    <tr>\n",
       "      <th>2</th>\n",
       "      <td>13-148</td>\n",
       "      <td>alfalfa sprouts, raw</td>\n",
       "      <td>DG</td>\n",
       "      <td>Vegetables</td>\n",
       "      <td>Bagged produce</td>\n",
       "      <td>alfalfasproutsraw</td>\n",
       "    </tr>\n",
       "    <tr>\n",
       "      <th>3</th>\n",
       "      <td>14-896</td>\n",
       "      <td>almonds, whole kernels</td>\n",
       "      <td>GA</td>\n",
       "      <td>Nuts and seeds</td>\n",
       "      <td>Bag</td>\n",
       "      <td>almondswholekernels</td>\n",
       "    </tr>\n",
       "    <tr>\n",
       "      <th>4</th>\n",
       "      <td>13-149</td>\n",
       "      <td>amaranth leaves, raw</td>\n",
       "      <td>DG</td>\n",
       "      <td>Vegetables</td>\n",
       "      <td>Bagged produce</td>\n",
       "      <td>amaranthleavesraw</td>\n",
       "    </tr>\n",
       "  </tbody>\n",
       "</table>\n",
       "</div>"
      ],
      "text/plain": [
       "  Food Code               Food Name Food sub-group codes      Food Group  \\\n",
       "0    13-145  ackee, canned, drained                   DG      Vegetables   \n",
       "1    13-146             agar, dried                   DG      Vegetables   \n",
       "2    13-148    alfalfa sprouts, raw                   DG      Vegetables   \n",
       "3    14-896  almonds, whole kernels                   GA  Nuts and seeds   \n",
       "4    13-149    amaranth leaves, raw                   DG      Vegetables   \n",
       "\n",
       "     Sales Format Normalized Food Name  \n",
       "0             Can   ackeecanneddrained  \n",
       "1             Bag            agardried  \n",
       "2  Bagged produce    alfalfasproutsraw  \n",
       "3             Bag  almondswholekernels  \n",
       "4  Bagged produce    amaranthleavesraw  "
      ]
     },
     "execution_count": 2,
     "metadata": {},
     "output_type": "execute_result"
    }
   ],
   "source": [
    "#pd.set_option('display.max_rows', None)\n",
    "redFood = pd.read_csv(r\"C:\\Users\\medekar\\Desktop\\Product_Weight_Project\\Data\\Processed\\MW_DataReduction\\Reduced Total\\Updated3_RedLab2021.csv\", index_col=0)\n",
    "redFood.head()"
   ]
  },
  {
   "cell_type": "code",
   "execution_count": 3,
   "id": "6d4dd80d",
   "metadata": {},
   "outputs": [
    {
     "data": {
      "text/plain": [
       "Index(['Food Code', 'Food Name', 'Food sub-group codes', 'Food Group',\n",
       "       'Sales Format', 'Normalized Food Name'],\n",
       "      dtype='object')"
      ]
     },
     "execution_count": 3,
     "metadata": {},
     "output_type": "execute_result"
    }
   ],
   "source": [
    "redFood.columns"
   ]
  },
  {
   "cell_type": "code",
   "execution_count": 4,
   "id": "528a1ffa",
   "metadata": {},
   "outputs": [],
   "source": [
    "redFood.drop(['Normalized Food Name'], axis=1, inplace=True)"
   ]
  },
  {
   "cell_type": "markdown",
   "id": "2b6a1cee",
   "metadata": {},
   "source": [
    "Creating a Source column to indicate where I got weight data from"
   ]
  },
  {
   "cell_type": "code",
   "execution_count": 5,
   "id": "cac22306",
   "metadata": {},
   "outputs": [],
   "source": [
    "redFood['Source'] = ' '"
   ]
  },
  {
   "cell_type": "markdown",
   "id": "c11d117b",
   "metadata": {},
   "source": [
    "Remove the word raw from all strings"
   ]
  },
  {
   "cell_type": "code",
   "execution_count": 6,
   "id": "6ae424b8",
   "metadata": {
    "scrolled": true
   },
   "outputs": [
    {
     "name": "stderr",
     "output_type": "stream",
     "text": [
      "C:\\Users\\medekar\\AppData\\Local\\Temp\\ipykernel_21340\\2998643072.py:1: FutureWarning: The default value of regex will change from True to False in a future version.\n",
      "  redFood['Food Name'] = redFood['Food Name'].str.replace(r'\\bhomemade\\b', '', case=False).str.strip()\n"
     ]
    }
   ],
   "source": [
    "redFood['Food Name'] = redFood['Food Name'].str.replace(r'\\bhomemade\\b', '', case=False).str.strip()"
   ]
  },
  {
   "cell_type": "code",
   "execution_count": 7,
   "id": "af789a06",
   "metadata": {},
   "outputs": [
    {
     "name": "stderr",
     "output_type": "stream",
     "text": [
      "C:\\Users\\medekar\\AppData\\Local\\Temp\\ipykernel_21340\\2998347005.py:1: FutureWarning: The default value of regex will change from True to False in a future version.\n",
      "  redFood['Food Name'] = redFood['Food Name'].str.replace(r'\\bbfresh\\b', '', case=False).str.strip()\n"
     ]
    }
   ],
   "source": [
    "redFood['Food Name'] = redFood['Food Name'].str.replace(r'\\bbfresh\\b', '', case=False).str.strip()"
   ]
  },
  {
   "cell_type": "code",
   "execution_count": 8,
   "id": "becf28a6",
   "metadata": {},
   "outputs": [
    {
     "name": "stderr",
     "output_type": "stream",
     "text": [
      "C:\\Users\\medekar\\AppData\\Local\\Temp\\ipykernel_21340\\4246196801.py:1: FutureWarning: The default value of regex will change from True to False in a future version.\n",
      "  redFood['Food Name'] = redFood['Food Name'].str.replace(r'\\bboiled\\b', '', case=False).str.strip()\n"
     ]
    }
   ],
   "source": [
    "redFood['Food Name'] = redFood['Food Name'].str.replace(r'\\bboiled\\b', '', case=False).str.strip()"
   ]
  },
  {
   "cell_type": "code",
   "execution_count": 9,
   "id": "8588474d",
   "metadata": {
    "scrolled": false
   },
   "outputs": [
    {
     "name": "stderr",
     "output_type": "stream",
     "text": [
      "C:\\Users\\medekar\\AppData\\Local\\Temp\\ipykernel_21340\\3194073488.py:1: FutureWarning: The default value of regex will change from True to False in a future version.\n",
      "  redFood['Food Name'] = redFood['Food Name'].str.replace(r'\\braw\\b', '', case=False).str.strip()\n"
     ]
    }
   ],
   "source": [
    "redFood['Food Name'] = redFood['Food Name'].str.replace(r'\\braw\\b', '', case=False).str.strip()"
   ]
  },
  {
   "cell_type": "code",
   "execution_count": 10,
   "id": "f81a18fd",
   "metadata": {},
   "outputs": [
    {
     "name": "stderr",
     "output_type": "stream",
     "text": [
      "C:\\Users\\medekar\\AppData\\Local\\Temp\\ipykernel_21340\\2182989439.py:1: FutureWarning: The default value of regex will change from True to False in a future version.\n",
      "  redFood['Food Name'] = redFood['Food Name'].str.replace(r'\\bdrained\\b', '', case=False).str.strip()\n"
     ]
    }
   ],
   "source": [
    "redFood['Food Name'] = redFood['Food Name'].str.replace(r'\\bdrained\\b', '', case=False).str.strip()"
   ]
  },
  {
   "cell_type": "code",
   "execution_count": 11,
   "id": "a60d5c14",
   "metadata": {},
   "outputs": [
    {
     "name": "stderr",
     "output_type": "stream",
     "text": [
      "C:\\Users\\medekar\\AppData\\Local\\Temp\\ipykernel_21340\\2870357712.py:1: FutureWarning: The default value of regex will change from True to False in a future version.\n",
      "  redFood['Food Name'] = redFood['Food Name'].str.replace(r'\\bcanned\\b', '', case=False).str.strip()\n"
     ]
    }
   ],
   "source": [
    "redFood['Food Name'] = redFood['Food Name'].str.replace(r'\\bcanned\\b', '', case=False).str.strip()"
   ]
  },
  {
   "cell_type": "code",
   "execution_count": 12,
   "id": "73cd8802",
   "metadata": {},
   "outputs": [
    {
     "name": "stderr",
     "output_type": "stream",
     "text": [
      "C:\\Users\\medekar\\AppData\\Local\\Temp\\ipykernel_21340\\781900119.py:1: FutureWarning: The default value of regex will change from True to False in a future version.\n",
      "  redFood['Food Name'] = redFood['Food Name'].str.replace(r'\\bretial\\b', '', case=False).str.strip()\n"
     ]
    }
   ],
   "source": [
    "redFood['Food Name'] = redFood['Food Name'].str.replace(r'\\bretial\\b', '', case=False).str.strip()"
   ]
  },
  {
   "cell_type": "code",
   "execution_count": 13,
   "id": "fa3d3c68",
   "metadata": {},
   "outputs": [
    {
     "name": "stderr",
     "output_type": "stream",
     "text": [
      "C:\\Users\\medekar\\AppData\\Local\\Temp\\ipykernel_21340\\1532661085.py:1: FutureWarning: The default value of regex will change from True to False in a future version.\n",
      "  redFood['Food Name'] = redFood['Food Name'].str.replace(r'\\bretail\\b', '', case=False).str.strip()\n"
     ]
    }
   ],
   "source": [
    "redFood['Food Name'] = redFood['Food Name'].str.replace(r'\\bretail\\b', '', case=False).str.strip()"
   ]
  },
  {
   "cell_type": "code",
   "execution_count": 14,
   "id": "a8444581",
   "metadata": {},
   "outputs": [
    {
     "name": "stderr",
     "output_type": "stream",
     "text": [
      "C:\\Users\\medekar\\AppData\\Local\\Temp\\ipykernel_21340\\1293648092.py:1: FutureWarning: The default value of regex will change from True to False in a future version.\n",
      "  redFood['Food Name'] = redFood['Food Name'].str.replace(r'\\blean\\b', '', case=False).str.strip()\n"
     ]
    }
   ],
   "source": [
    "redFood['Food Name'] = redFood['Food Name'].str.replace(r'\\blean\\b', '', case=False).str.strip()"
   ]
  },
  {
   "cell_type": "code",
   "execution_count": 15,
   "id": "230cccc9",
   "metadata": {},
   "outputs": [
    {
     "name": "stderr",
     "output_type": "stream",
     "text": [
      "C:\\Users\\medekar\\AppData\\Local\\Temp\\ipykernel_21340\\2351664628.py:1: FutureWarning: The default value of regex will change from True to False in a future version.\n",
      "  redFood['Food Name'] = redFood['Food Name'].str.replace(r'\\bvegetable\\b', '', case=False).str.strip()\n"
     ]
    }
   ],
   "source": [
    "redFood['Food Name'] = redFood['Food Name'].str.replace(r'\\bvegetable\\b', '', case=False).str.strip()"
   ]
  },
  {
   "cell_type": "code",
   "execution_count": 16,
   "id": "5b8b6bf1",
   "metadata": {
    "scrolled": true
   },
   "outputs": [
    {
     "name": "stderr",
     "output_type": "stream",
     "text": [
      "C:\\Users\\medekar\\AppData\\Local\\Temp\\ipykernel_21340\\3763956422.py:1: FutureWarning: The default value of regex will change from True to False in a future version.\n",
      "  redFood['Food Name'] = redFood['Food Name'].str.replace(r'\\bplain\\b', '', case=False).str.strip()\n"
     ]
    }
   ],
   "source": [
    "redFood['Food Name'] = redFood['Food Name'].str.replace(r'\\bplain\\b', '', case=False).str.strip()"
   ]
  },
  {
   "cell_type": "code",
   "execution_count": 17,
   "id": "f538772b",
   "metadata": {},
   "outputs": [],
   "source": [
    "# Remove commas from 'Food Name' column\n",
    "redFood['Food Name'] = redFood['Food Name'].str.replace(',', '').str.strip()"
   ]
  },
  {
   "cell_type": "markdown",
   "id": "8e08171f",
   "metadata": {},
   "source": [
    "                                                         FPS Data"
   ]
  },
  {
   "cell_type": "code",
   "execution_count": 18,
   "id": "f9cf04fb",
   "metadata": {
    "scrolled": true
   },
   "outputs": [],
   "source": [
    "CleanRetai = pd.read_csv(r'C:\\Users\\medekar\\Desktop\\Product_Weight_Project\\Data\\Processed\\FoodPortionSized\\FPS_VJ.csv')\n",
    "CleanRetai['Food Name'] = CleanRetai['Food Name'].str.lower()  # Convert to lowercase\n",
    "CleanRetai['Food Name'].drop_duplicates(inplace=True)           # Drop duplicate values\n",
    "CleanRetai['Food Name'].dropna(inplace=True)                   # Drop rows with missing values"
   ]
  },
  {
   "cell_type": "markdown",
   "id": "39032137",
   "metadata": {},
   "source": [
    "Drop if protion consumed had no information"
   ]
  },
  {
   "cell_type": "code",
   "execution_count": 19,
   "id": "2d4ba7ef",
   "metadata": {},
   "outputs": [],
   "source": [
    "CleanRetai.dropna(subset=['Portion Consumed'], inplace=True)"
   ]
  },
  {
   "cell_type": "markdown",
   "id": "4585e78b",
   "metadata": {},
   "source": [
    "                            Identify Food Portion Sizes that are equivalent to Retail sold portions"
   ]
  },
  {
   "cell_type": "code",
   "execution_count": 20,
   "id": "4157511a",
   "metadata": {
    "scrolled": false
   },
   "outputs": [
    {
     "data": {
      "text/html": [
       "<div>\n",
       "<style scoped>\n",
       "    .dataframe tbody tr th:only-of-type {\n",
       "        vertical-align: middle;\n",
       "    }\n",
       "\n",
       "    .dataframe tbody tr th {\n",
       "        vertical-align: top;\n",
       "    }\n",
       "\n",
       "    .dataframe thead th {\n",
       "        text-align: right;\n",
       "    }\n",
       "</style>\n",
       "<table border=\"1\" class=\"dataframe\">\n",
       "  <thead>\n",
       "    <tr style=\"text-align: right;\">\n",
       "      <th></th>\n",
       "      <th>Group</th>\n",
       "      <th>Brand</th>\n",
       "      <th>Food Name</th>\n",
       "      <th>Portion Consumed</th>\n",
       "      <th>Weight</th>\n",
       "      <th>PurEqualCon</th>\n",
       "      <th>Purchased</th>\n",
       "      <th>Format</th>\n",
       "      <th>Source</th>\n",
       "    </tr>\n",
       "  </thead>\n",
       "  <tbody>\n",
       "    <tr>\n",
       "      <th>7</th>\n",
       "      <td>BABY FOODS</td>\n",
       "      <td>Cow and Gate</td>\n",
       "      <td>ready to drink baby juice</td>\n",
       "      <td>Stage 1 jars</td>\n",
       "      <td>150g</td>\n",
       "      <td>Y</td>\n",
       "      <td>NaN</td>\n",
       "      <td>NaN</td>\n",
       "      <td>NaN</td>\n",
       "    </tr>\n",
       "    <tr>\n",
       "      <th>8</th>\n",
       "      <td>BABY FOODS</td>\n",
       "      <td>Cow and Gate</td>\n",
       "      <td>ready to drink baby juice</td>\n",
       "      <td>Stage 2 jars</td>\n",
       "      <td>200g</td>\n",
       "      <td>Y</td>\n",
       "      <td>NaN</td>\n",
       "      <td>NaN</td>\n",
       "      <td>NaN</td>\n",
       "    </tr>\n",
       "    <tr>\n",
       "      <th>11</th>\n",
       "      <td>BABY FOODS</td>\n",
       "      <td>Heinz</td>\n",
       "      <td>fromage frais</td>\n",
       "      <td>Jar</td>\n",
       "      <td>150g</td>\n",
       "      <td>Y</td>\n",
       "      <td>NaN</td>\n",
       "      <td>NaN</td>\n",
       "      <td>NaN</td>\n",
       "    </tr>\n",
       "    <tr>\n",
       "      <th>12</th>\n",
       "      <td>BABY FOODS</td>\n",
       "      <td>Heinz</td>\n",
       "      <td>desserts</td>\n",
       "      <td>Can</td>\n",
       "      <td>128g</td>\n",
       "      <td>Y</td>\n",
       "      <td>NaN</td>\n",
       "      <td>NaN</td>\n",
       "      <td>NaN</td>\n",
       "    </tr>\n",
       "    <tr>\n",
       "      <th>13</th>\n",
       "      <td>BABY FOODS</td>\n",
       "      <td>Heinz</td>\n",
       "      <td>desserts</td>\n",
       "      <td>Jar</td>\n",
       "      <td>163g</td>\n",
       "      <td>Y</td>\n",
       "      <td>NaN</td>\n",
       "      <td>NaN</td>\n",
       "      <td>NaN</td>\n",
       "    </tr>\n",
       "  </tbody>\n",
       "</table>\n",
       "</div>"
      ],
      "text/plain": [
       "         Group         Brand                  Food Name Portion Consumed  \\\n",
       "7   BABY FOODS  Cow and Gate  ready to drink baby juice     Stage 1 jars   \n",
       "8   BABY FOODS  Cow and Gate  ready to drink baby juice     Stage 2 jars   \n",
       "11  BABY FOODS         Heinz              fromage frais              Jar   \n",
       "12  BABY FOODS         Heinz                   desserts              Can   \n",
       "13  BABY FOODS         Heinz                   desserts              Jar   \n",
       "\n",
       "   Weight PurEqualCon  Purchased Format Source  \n",
       "7    150g           Y        NaN    NaN    NaN  \n",
       "8    200g           Y        NaN    NaN    NaN  \n",
       "11   150g           Y        NaN    NaN    NaN  \n",
       "12   128g           Y        NaN    NaN    NaN  \n",
       "13   163g           Y        NaN    NaN    NaN  "
      ]
     },
     "execution_count": 20,
     "metadata": {},
     "output_type": "execute_result"
    }
   ],
   "source": [
    "CleanRetail = CleanRetai[CleanRetai['PurEqualCon'].isin(['Y', 'Y, P'])]\n",
    "CleanRetail.head()#[CleanRetail['Food Name'].str.contains('bread')]#.head()"
   ]
  },
  {
   "cell_type": "code",
   "execution_count": 21,
   "id": "bcc78cd9",
   "metadata": {},
   "outputs": [
    {
     "name": "stderr",
     "output_type": "stream",
     "text": [
      "C:\\Users\\medekar\\AppData\\Local\\Temp\\ipykernel_21340\\2023026776.py:1: FutureWarning: The default value of regex will change from True to False in a future version.\n",
      "  CleanRetail['Food Name'] = CleanRetail['Food Name'].str.replace(r'\\bhomemade\\b', '', case=False).str.strip()\n",
      "C:\\Users\\medekar\\AppData\\Local\\Temp\\ipykernel_21340\\2023026776.py:1: SettingWithCopyWarning: \n",
      "A value is trying to be set on a copy of a slice from a DataFrame.\n",
      "Try using .loc[row_indexer,col_indexer] = value instead\n",
      "\n",
      "See the caveats in the documentation: https://pandas.pydata.org/pandas-docs/stable/user_guide/indexing.html#returning-a-view-versus-a-copy\n",
      "  CleanRetail['Food Name'] = CleanRetail['Food Name'].str.replace(r'\\bhomemade\\b', '', case=False).str.strip()\n"
     ]
    }
   ],
   "source": [
    "CleanRetail['Food Name'] = CleanRetail['Food Name'].str.replace(r'\\bhomemade\\b', '', case=False).str.strip()"
   ]
  },
  {
   "cell_type": "code",
   "execution_count": 22,
   "id": "dda2ebae",
   "metadata": {
    "scrolled": true
   },
   "outputs": [
    {
     "name": "stderr",
     "output_type": "stream",
     "text": [
      "C:\\Users\\medekar\\AppData\\Local\\Temp\\ipykernel_21340\\3647971633.py:1: FutureWarning: The default value of regex will change from True to False in a future version.\n",
      "  CleanRetail['Food Name'] = CleanRetail['Food Name'].str.replace(r'\\braw\\b', '', case=False).str.strip()\n",
      "C:\\Users\\medekar\\AppData\\Local\\Temp\\ipykernel_21340\\3647971633.py:1: SettingWithCopyWarning: \n",
      "A value is trying to be set on a copy of a slice from a DataFrame.\n",
      "Try using .loc[row_indexer,col_indexer] = value instead\n",
      "\n",
      "See the caveats in the documentation: https://pandas.pydata.org/pandas-docs/stable/user_guide/indexing.html#returning-a-view-versus-a-copy\n",
      "  CleanRetail['Food Name'] = CleanRetail['Food Name'].str.replace(r'\\braw\\b', '', case=False).str.strip()\n"
     ]
    }
   ],
   "source": [
    "CleanRetail['Food Name'] = CleanRetail['Food Name'].str.replace(r'\\braw\\b', '', case=False).str.strip()"
   ]
  },
  {
   "cell_type": "code",
   "execution_count": 23,
   "id": "c539c8fe",
   "metadata": {},
   "outputs": [
    {
     "name": "stderr",
     "output_type": "stream",
     "text": [
      "C:\\Users\\medekar\\AppData\\Local\\Temp\\ipykernel_21340\\936346120.py:1: FutureWarning: The default value of regex will change from True to False in a future version.\n",
      "  CleanRetail['Food Name'] = CleanRetail['Food Name'].str.replace(r'\\bfresh\\b', '', case=False).str.strip()\n",
      "C:\\Users\\medekar\\AppData\\Local\\Temp\\ipykernel_21340\\936346120.py:1: SettingWithCopyWarning: \n",
      "A value is trying to be set on a copy of a slice from a DataFrame.\n",
      "Try using .loc[row_indexer,col_indexer] = value instead\n",
      "\n",
      "See the caveats in the documentation: https://pandas.pydata.org/pandas-docs/stable/user_guide/indexing.html#returning-a-view-versus-a-copy\n",
      "  CleanRetail['Food Name'] = CleanRetail['Food Name'].str.replace(r'\\bfresh\\b', '', case=False).str.strip()\n"
     ]
    }
   ],
   "source": [
    "CleanRetail['Food Name'] = CleanRetail['Food Name'].str.replace(r'\\bfresh\\b', '', case=False).str.strip()"
   ]
  },
  {
   "cell_type": "code",
   "execution_count": 24,
   "id": "6f6c0f54",
   "metadata": {},
   "outputs": [
    {
     "name": "stderr",
     "output_type": "stream",
     "text": [
      "C:\\Users\\medekar\\AppData\\Local\\Temp\\ipykernel_21340\\838438233.py:1: FutureWarning: The default value of regex will change from True to False in a future version.\n",
      "  CleanRetail['Food Name'] = CleanRetail['Food Name'].str.replace(r'\\bboiled\\b', '', case=False).str.strip()\n",
      "C:\\Users\\medekar\\AppData\\Local\\Temp\\ipykernel_21340\\838438233.py:1: SettingWithCopyWarning: \n",
      "A value is trying to be set on a copy of a slice from a DataFrame.\n",
      "Try using .loc[row_indexer,col_indexer] = value instead\n",
      "\n",
      "See the caveats in the documentation: https://pandas.pydata.org/pandas-docs/stable/user_guide/indexing.html#returning-a-view-versus-a-copy\n",
      "  CleanRetail['Food Name'] = CleanRetail['Food Name'].str.replace(r'\\bboiled\\b', '', case=False).str.strip()\n"
     ]
    }
   ],
   "source": [
    "CleanRetail['Food Name'] = CleanRetail['Food Name'].str.replace(r'\\bboiled\\b', '', case=False).str.strip()"
   ]
  },
  {
   "cell_type": "code",
   "execution_count": 25,
   "id": "f2adf964",
   "metadata": {},
   "outputs": [
    {
     "name": "stderr",
     "output_type": "stream",
     "text": [
      "C:\\Users\\medekar\\AppData\\Local\\Temp\\ipykernel_21340\\2157568834.py:1: FutureWarning: The default value of regex will change from True to False in a future version.\n",
      "  CleanRetail['Food Name'] = CleanRetail['Food Name'].str.replace(r'\\bdrained\\b', '', case=False).str.strip()\n",
      "C:\\Users\\medekar\\AppData\\Local\\Temp\\ipykernel_21340\\2157568834.py:1: SettingWithCopyWarning: \n",
      "A value is trying to be set on a copy of a slice from a DataFrame.\n",
      "Try using .loc[row_indexer,col_indexer] = value instead\n",
      "\n",
      "See the caveats in the documentation: https://pandas.pydata.org/pandas-docs/stable/user_guide/indexing.html#returning-a-view-versus-a-copy\n",
      "  CleanRetail['Food Name'] = CleanRetail['Food Name'].str.replace(r'\\bdrained\\b', '', case=False).str.strip()\n"
     ]
    }
   ],
   "source": [
    "CleanRetail['Food Name'] = CleanRetail['Food Name'].str.replace(r'\\bdrained\\b', '', case=False).str.strip()"
   ]
  },
  {
   "cell_type": "code",
   "execution_count": 26,
   "id": "2f2bf15f",
   "metadata": {},
   "outputs": [
    {
     "name": "stderr",
     "output_type": "stream",
     "text": [
      "C:\\Users\\medekar\\AppData\\Local\\Temp\\ipykernel_21340\\966731845.py:1: FutureWarning: The default value of regex will change from True to False in a future version.\n",
      "  CleanRetail['Food Name'] = CleanRetail['Food Name'].str.replace(r'\\bcanned\\b', '', case=False).str.strip()\n",
      "C:\\Users\\medekar\\AppData\\Local\\Temp\\ipykernel_21340\\966731845.py:1: SettingWithCopyWarning: \n",
      "A value is trying to be set on a copy of a slice from a DataFrame.\n",
      "Try using .loc[row_indexer,col_indexer] = value instead\n",
      "\n",
      "See the caveats in the documentation: https://pandas.pydata.org/pandas-docs/stable/user_guide/indexing.html#returning-a-view-versus-a-copy\n",
      "  CleanRetail['Food Name'] = CleanRetail['Food Name'].str.replace(r'\\bcanned\\b', '', case=False).str.strip()\n"
     ]
    }
   ],
   "source": [
    "CleanRetail['Food Name'] = CleanRetail['Food Name'].str.replace(r'\\bcanned\\b', '', case=False).str.strip()"
   ]
  },
  {
   "cell_type": "code",
   "execution_count": 27,
   "id": "18744579",
   "metadata": {},
   "outputs": [
    {
     "name": "stderr",
     "output_type": "stream",
     "text": [
      "C:\\Users\\medekar\\AppData\\Local\\Temp\\ipykernel_21340\\1833636288.py:1: FutureWarning: The default value of regex will change from True to False in a future version.\n",
      "  CleanRetail['Food Name'] = CleanRetail['Food Name'].str.replace(r'\\bretial\\b', '', case=False).str.strip()\n",
      "C:\\Users\\medekar\\AppData\\Local\\Temp\\ipykernel_21340\\1833636288.py:1: SettingWithCopyWarning: \n",
      "A value is trying to be set on a copy of a slice from a DataFrame.\n",
      "Try using .loc[row_indexer,col_indexer] = value instead\n",
      "\n",
      "See the caveats in the documentation: https://pandas.pydata.org/pandas-docs/stable/user_guide/indexing.html#returning-a-view-versus-a-copy\n",
      "  CleanRetail['Food Name'] = CleanRetail['Food Name'].str.replace(r'\\bretial\\b', '', case=False).str.strip()\n"
     ]
    }
   ],
   "source": [
    "CleanRetail['Food Name'] = CleanRetail['Food Name'].str.replace(r'\\bretial\\b', '', case=False).str.strip()"
   ]
  },
  {
   "cell_type": "code",
   "execution_count": 28,
   "id": "af350c66",
   "metadata": {},
   "outputs": [
    {
     "name": "stderr",
     "output_type": "stream",
     "text": [
      "C:\\Users\\medekar\\AppData\\Local\\Temp\\ipykernel_21340\\4022516943.py:1: FutureWarning: The default value of regex will change from True to False in a future version.\n",
      "  CleanRetail['Food Name'] = CleanRetail['Food Name'].str.replace(r'\\bretail\\b', '', case=False).str.strip()\n",
      "C:\\Users\\medekar\\AppData\\Local\\Temp\\ipykernel_21340\\4022516943.py:1: SettingWithCopyWarning: \n",
      "A value is trying to be set on a copy of a slice from a DataFrame.\n",
      "Try using .loc[row_indexer,col_indexer] = value instead\n",
      "\n",
      "See the caveats in the documentation: https://pandas.pydata.org/pandas-docs/stable/user_guide/indexing.html#returning-a-view-versus-a-copy\n",
      "  CleanRetail['Food Name'] = CleanRetail['Food Name'].str.replace(r'\\bretail\\b', '', case=False).str.strip()\n"
     ]
    }
   ],
   "source": [
    "CleanRetail['Food Name'] = CleanRetail['Food Name'].str.replace(r'\\bretail\\b', '', case=False).str.strip()"
   ]
  },
  {
   "cell_type": "code",
   "execution_count": 29,
   "id": "b74fec1b",
   "metadata": {},
   "outputs": [
    {
     "name": "stderr",
     "output_type": "stream",
     "text": [
      "C:\\Users\\medekar\\AppData\\Local\\Temp\\ipykernel_21340\\2505337015.py:1: FutureWarning: The default value of regex will change from True to False in a future version.\n",
      "  CleanRetail['Food Name'] = CleanRetail['Food Name'].str.replace(r'\\blean\\b', '', case=False).str.strip()\n",
      "C:\\Users\\medekar\\AppData\\Local\\Temp\\ipykernel_21340\\2505337015.py:1: SettingWithCopyWarning: \n",
      "A value is trying to be set on a copy of a slice from a DataFrame.\n",
      "Try using .loc[row_indexer,col_indexer] = value instead\n",
      "\n",
      "See the caveats in the documentation: https://pandas.pydata.org/pandas-docs/stable/user_guide/indexing.html#returning-a-view-versus-a-copy\n",
      "  CleanRetail['Food Name'] = CleanRetail['Food Name'].str.replace(r'\\blean\\b', '', case=False).str.strip()\n"
     ]
    }
   ],
   "source": [
    "CleanRetail['Food Name'] = CleanRetail['Food Name'].str.replace(r'\\blean\\b', '', case=False).str.strip()"
   ]
  },
  {
   "cell_type": "code",
   "execution_count": 30,
   "id": "2c8deb6f",
   "metadata": {},
   "outputs": [
    {
     "name": "stderr",
     "output_type": "stream",
     "text": [
      "C:\\Users\\medekar\\AppData\\Local\\Temp\\ipykernel_21340\\4276015385.py:1: FutureWarning: The default value of regex will change from True to False in a future version.\n",
      "  CleanRetail['Food Name'] = CleanRetail['Food Name'].str.replace(r'\\bvegetable\\b', '', case=False).str.strip()\n",
      "C:\\Users\\medekar\\AppData\\Local\\Temp\\ipykernel_21340\\4276015385.py:1: SettingWithCopyWarning: \n",
      "A value is trying to be set on a copy of a slice from a DataFrame.\n",
      "Try using .loc[row_indexer,col_indexer] = value instead\n",
      "\n",
      "See the caveats in the documentation: https://pandas.pydata.org/pandas-docs/stable/user_guide/indexing.html#returning-a-view-versus-a-copy\n",
      "  CleanRetail['Food Name'] = CleanRetail['Food Name'].str.replace(r'\\bvegetable\\b', '', case=False).str.strip()\n"
     ]
    }
   ],
   "source": [
    "CleanRetail['Food Name'] = CleanRetail['Food Name'].str.replace(r'\\bvegetable\\b', '', case=False).str.strip()"
   ]
  },
  {
   "cell_type": "code",
   "execution_count": 31,
   "id": "529114a9",
   "metadata": {
    "scrolled": true
   },
   "outputs": [
    {
     "name": "stderr",
     "output_type": "stream",
     "text": [
      "C:\\Users\\medekar\\AppData\\Local\\Temp\\ipykernel_21340\\1931908059.py:1: FutureWarning: The default value of regex will change from True to False in a future version.\n",
      "  CleanRetail['Food Name'] = CleanRetail['Food Name'].str.replace(r'\\bplain\\b', '', case=False).str.strip()\n",
      "C:\\Users\\medekar\\AppData\\Local\\Temp\\ipykernel_21340\\1931908059.py:1: SettingWithCopyWarning: \n",
      "A value is trying to be set on a copy of a slice from a DataFrame.\n",
      "Try using .loc[row_indexer,col_indexer] = value instead\n",
      "\n",
      "See the caveats in the documentation: https://pandas.pydata.org/pandas-docs/stable/user_guide/indexing.html#returning-a-view-versus-a-copy\n",
      "  CleanRetail['Food Name'] = CleanRetail['Food Name'].str.replace(r'\\bplain\\b', '', case=False).str.strip()\n"
     ]
    }
   ],
   "source": [
    "CleanRetail['Food Name'] = CleanRetail['Food Name'].str.replace(r'\\bplain\\b', '', case=False).str.strip()"
   ]
  },
  {
   "cell_type": "markdown",
   "id": "71d9f214",
   "metadata": {},
   "source": [
    "###                                                        Match Data (Hybrid Algo).\n",
    "\n",
    "###### Once matched, Import Weight and Unit Columns into Reduced M&W table"
   ]
  },
  {
   "cell_type": "markdown",
   "id": "74643a4e",
   "metadata": {},
   "source": [
    "Seem to work better when run twice. Something isn't working well with the matching process"
   ]
  },
  {
   "cell_type": "markdown",
   "id": "4a2a0914",
   "metadata": {},
   "source": [
    "###### Algorithm"
   ]
  },
  {
   "cell_type": "code",
   "execution_count": 35,
   "id": "87ad0d84",
   "metadata": {},
   "outputs": [
    {
     "name": "stdout",
     "output_type": "stream",
     "text": [
      "Iteration 1/2\n"
     ]
    },
    {
     "name": "stderr",
     "output_type": "stream",
     "text": [
      "<timed exec>:8: FutureWarning: The default value of regex will change from True to False in a future version.\n",
      "<timed exec>:39: FutureWarning: The series.append method is deprecated and will be removed from pandas in a future version. Use pandas.concat instead.\n",
      "<timed exec>:66: FutureWarning: The frame.append method is deprecated and will be removed from pandas in a future version. Use pandas.concat instead.\n",
      "<timed exec>:8: FutureWarning: The default value of regex will change from True to False in a future version.\n"
     ]
    },
    {
     "name": "stdout",
     "output_type": "stream",
     "text": [
      "Iteration 2/2\n",
      "CPU times: total: 15.6 s\n",
      "Wall time: 15.8 s\n"
     ]
    },
    {
     "name": "stderr",
     "output_type": "stream",
     "text": [
      "<timed exec>:39: FutureWarning: The series.append method is deprecated and will be removed from pandas in a future version. Use pandas.concat instead.\n",
      "<timed exec>:66: FutureWarning: The frame.append method is deprecated and will be removed from pandas in a future version. Use pandas.concat instead.\n"
     ]
    }
   ],
   "source": [
    "%%time\n",
    "\n",
    "def preprocess_text(df, column_name):\n",
    "    return df[column_name].str.replace(r'\\s+', ' ').str.strip().str.lower()\n",
    "\n",
    "def fuzzy_matching_score(source, target):\n",
    "    return fuzz.partial_token_set_ratio(source, target)\n",
    "\n",
    "def hybrid_fuzzy_matching(CleanRetail, redFood, iterations=2):\n",
    "    # Set initial and subsequent thresholds for matching\n",
    "    initial_fuzzy_threshold = 75  # Lower the threshold for initial fuzzy matching\n",
    "    subsequent_fuzzy_threshold = 95\n",
    "    cosine_similarity_threshold = 0.80\n",
    "    min_similarity_threshold = 0.50\n",
    "\n",
    "    for iteration in range(iterations):\n",
    "        print(f\"Iteration {iteration + 1}/{iterations}\")\n",
    "\n",
    "        # Preprocess text data in both DataFrames for the \"Merged Name\" field.\n",
    "        CleanRetail['Food Name'] = preprocess_text(CleanRetail, 'Food Name')\n",
    "        redFood['Food Name'] = preprocess_text(redFood, 'Food Name')\n",
    "\n",
    "        # Step 1: Fuzzy Matching (Initial: permissive, Subsequent: stricter)\n",
    "        if iteration == 0:\n",
    "            partial_token_set_ratio_threshold = initial_fuzzy_threshold\n",
    "        else:\n",
    "            partial_token_set_ratio_threshold = subsequent_fuzzy_threshold\n",
    "\n",
    "        CleanRetail['Partial Token Set Ratio'] = CleanRetail['Food Name'].apply(\n",
    "            lambda x: fuzzy_matching_score(x, redFood['Food Name']))\n",
    "        potential_matches = CleanRetail[CleanRetail['Partial Token Set Ratio'] >= partial_token_set_ratio_threshold]\n",
    "\n",
    "        # Step 2: TF-IDF and Cosine Similarity (Text Matching)\n",
    "        vectorizer = TfidfVectorizer()\n",
    "        combined_texts = potential_matches['Food Name'].append(redFood['Food Name'])\n",
    "        tfidf_combined = vectorizer.fit_transform(combined_texts)\n",
    "\n",
    "        tfidf_clean_retail = tfidf_combined[:potential_matches.shape[0]]\n",
    "        tfidf_red_food = tfidf_combined[potential_matches.shape[0]:]\n",
    "\n",
    "        similarities = pairwise_distances(tfidf_red_food, tfidf_clean_retail, metric='cosine')\n",
    "        max_sim_indices = similarities.argmin(axis=1)\n",
    "        max_sim_scores = 1 - similarities.min(axis=1)  # Convert cosine distance to similarity\n",
    "\n",
    "        # Update redFood DataFrame with matched information and sources\n",
    "        redFood['Similarity Score'] = max_sim_scores\n",
    "        redFood['Weight'] = potential_matches['Weight'].values[max_sim_indices]\n",
    "        redFood['PurEqualCon'] = potential_matches['PurEqualCon'].values[max_sim_indices]\n",
    "        redFood['Portion Consumed'] = potential_matches['Portion Consumed'].values[max_sim_indices]\n",
    "\n",
    "        # Create a mapping dictionary for matched indices to their sources\n",
    "        match_indices_to_sources = dict(zip(potential_matches.index, potential_matches['Source']))\n",
    "\n",
    "        # Map the sources and format to the redFood DataFrame based on matched indices\n",
    "        redFood['Source'] = redFood.index.map(lambda i: match_indices_to_sources.get(i, ''))\n",
    "\n",
    "        # Set to NaN for rows where similarity score is below the minimum threshold\n",
    "        redFood.loc[redFood['Similarity Score'] < min_similarity_threshold,\n",
    "                    ['Weight', 'PurEqualCon', 'Portion Consumed', 'Source']] = ''\n",
    "\n",
    "        # Update CleanRetail with new matches from redFood\n",
    "        CleanRetail = CleanRetail.append(redFood[redFood['Similarity Score'] >= min_similarity_threshold])\n",
    "\n",
    "    return redFood\n",
    "\n",
    "# Call the hybrid_fuzzy_matching function with iterations and get the matched DataFrame\n",
    "redFood_matched = hybrid_fuzzy_matching(CleanRetail.copy(), redFood.copy(), iterations=2)"
   ]
  },
  {
   "cell_type": "code",
   "execution_count": 36,
   "id": "56b1e339",
   "metadata": {
    "scrolled": true
   },
   "outputs": [],
   "source": [
    "pd.set_option('display.max_rows', None)\n",
    "#redFood_matched.head()"
   ]
  },
  {
   "cell_type": "markdown",
   "id": "cdca8576",
   "metadata": {},
   "source": [
    "Identifying Matched Items with weights"
   ]
  },
  {
   "cell_type": "code",
   "execution_count": 40,
   "id": "975b735d",
   "metadata": {
    "scrolled": true
   },
   "outputs": [
    {
     "data": {
      "text/plain": [
       "107"
      ]
     },
     "execution_count": 40,
     "metadata": {},
     "output_type": "execute_result"
    }
   ],
   "source": [
    "pd.set_option('display.max_rows', None)\n",
    "d = redFood_matched.loc[redFood_matched['Weight'] != '']\n",
    "d['Food Name'].value_counts().sum()"
   ]
  },
  {
   "cell_type": "markdown",
   "id": "90566bd5",
   "metadata": {},
   "source": [
    "#### Export Matched DataSet"
   ]
  },
  {
   "cell_type": "code",
   "execution_count": 39,
   "id": "2bd066fe",
   "metadata": {},
   "outputs": [],
   "source": [
    "redFood_matched.to_csv(r'C:\\Users\\medekar\\Desktop\\Product_Weight_Project\\Data\\Processed\\ReducedwithWeights\\matchedwithFPS.csv')"
   ]
  },
  {
   "cell_type": "markdown",
   "id": "2a53b881",
   "metadata": {},
   "source": [
    "### 320 / 535 items Matched Using Algo 4 which is a combination of Algo 2 & It uses the fuzz.partial_token_set_ratio & Term Frequency-Inverse Document Frequency"
   ]
  },
  {
   "cell_type": "code",
   "execution_count": 34,
   "id": "2b38759c",
   "metadata": {},
   "outputs": [
    {
     "data": {
      "text/plain": [
       "'Fourth Algorithm Matched 20.0% of products between McCane and Widdowson df and Food Portion Sizes df at a threshold of 90 and a Cosine threshold of 70. Contains some errors'"
      ]
     },
     "execution_count": 34,
     "metadata": {},
     "output_type": "execute_result"
    }
   ],
   "source": [
    "f'Fourth Algorithm Matched {round((107/535) * 100, 2)}% of products between McCane and Widdowson df and Food Portion Sizes df at a threshold of 90 and a Cosine threshold of 70. Contains some errors'"
   ]
  },
  {
   "cell_type": "markdown",
   "id": "c41c2f4a",
   "metadata": {},
   "source": [
    "## Plotting Matching Efficiency of Algo 4"
   ]
  },
  {
   "cell_type": "markdown",
   "id": "70174e3c",
   "metadata": {},
   "source": [
    "Find total counts of food by Super Group"
   ]
  },
  {
   "cell_type": "code",
   "execution_count": 41,
   "id": "18df57b8",
   "metadata": {
    "scrolled": false
   },
   "outputs": [
    {
     "data": {
      "text/html": [
       "<div>\n",
       "<style scoped>\n",
       "    .dataframe tbody tr th:only-of-type {\n",
       "        vertical-align: middle;\n",
       "    }\n",
       "\n",
       "    .dataframe tbody tr th {\n",
       "        vertical-align: top;\n",
       "    }\n",
       "\n",
       "    .dataframe thead th {\n",
       "        text-align: right;\n",
       "    }\n",
       "</style>\n",
       "<table border=\"1\" class=\"dataframe\">\n",
       "  <thead>\n",
       "    <tr style=\"text-align: right;\">\n",
       "      <th></th>\n",
       "      <th>Food Group</th>\n",
       "      <th>Matched Prod Count</th>\n",
       "    </tr>\n",
       "  </thead>\n",
       "  <tbody>\n",
       "    <tr>\n",
       "      <th>0</th>\n",
       "      <td>Fats and oils</td>\n",
       "      <td>2</td>\n",
       "    </tr>\n",
       "    <tr>\n",
       "      <th>1</th>\n",
       "      <td>Herbs and spices</td>\n",
       "      <td>2</td>\n",
       "    </tr>\n",
       "    <tr>\n",
       "      <th>2</th>\n",
       "      <td>Alcoholic beverages</td>\n",
       "      <td>3</td>\n",
       "    </tr>\n",
       "    <tr>\n",
       "      <th>3</th>\n",
       "      <td>Beverages</td>\n",
       "      <td>4</td>\n",
       "    </tr>\n",
       "    <tr>\n",
       "      <th>4</th>\n",
       "      <td>Nuts and seeds</td>\n",
       "      <td>6</td>\n",
       "    </tr>\n",
       "    <tr>\n",
       "      <th>5</th>\n",
       "      <td>Fish and fish products</td>\n",
       "      <td>7</td>\n",
       "    </tr>\n",
       "    <tr>\n",
       "      <th>6</th>\n",
       "      <td>Milk and milk products</td>\n",
       "      <td>7</td>\n",
       "    </tr>\n",
       "    <tr>\n",
       "      <th>7</th>\n",
       "      <td>Fruit</td>\n",
       "      <td>8</td>\n",
       "    </tr>\n",
       "    <tr>\n",
       "      <th>8</th>\n",
       "      <td>Meat and meat products</td>\n",
       "      <td>9</td>\n",
       "    </tr>\n",
       "    <tr>\n",
       "      <th>9</th>\n",
       "      <td>Sugars, preserves and snacks</td>\n",
       "      <td>11</td>\n",
       "    </tr>\n",
       "    <tr>\n",
       "      <th>10</th>\n",
       "      <td>Vegetables</td>\n",
       "      <td>11</td>\n",
       "    </tr>\n",
       "    <tr>\n",
       "      <th>11</th>\n",
       "      <td>Soups, sauces and miscellaneous foods</td>\n",
       "      <td>13</td>\n",
       "    </tr>\n",
       "    <tr>\n",
       "      <th>12</th>\n",
       "      <td>Cereals and cereal products</td>\n",
       "      <td>24</td>\n",
       "    </tr>\n",
       "  </tbody>\n",
       "</table>\n",
       "</div>"
      ],
      "text/plain": [
       "                               Food Group  Matched Prod Count\n",
       "0                           Fats and oils                   2\n",
       "1                        Herbs and spices                   2\n",
       "2                     Alcoholic beverages                   3\n",
       "3                               Beverages                   4\n",
       "4                          Nuts and seeds                   6\n",
       "5                  Fish and fish products                   7\n",
       "6                  Milk and milk products                   7\n",
       "7                                   Fruit                   8\n",
       "8                  Meat and meat products                   9\n",
       "9            Sugars, preserves and snacks                  11\n",
       "10                             Vegetables                  11\n",
       "11  Soups, sauces and miscellaneous foods                  13\n",
       "12            Cereals and cereal products                  24"
      ]
     },
     "execution_count": 41,
     "metadata": {},
     "output_type": "execute_result"
    }
   ],
   "source": [
    "d = redFood_matched[redFood_matched['Weight'] != '']\n",
    "ax4_s = d.groupby('Food Group')['Food Name'].count().rename('Matched Prod Count', inplace=True).copy().sort_values(ascending=True)\n",
    "ax4 = pd.DataFrame(ax4_s).reset_index()\n",
    "ax4"
   ]
  },
  {
   "cell_type": "code",
   "execution_count": 42,
   "id": "d8e7fbc5",
   "metadata": {
    "scrolled": false
   },
   "outputs": [
    {
     "data": {
      "text/html": [
       "<div>\n",
       "<style scoped>\n",
       "    .dataframe tbody tr th:only-of-type {\n",
       "        vertical-align: middle;\n",
       "    }\n",
       "\n",
       "    .dataframe tbody tr th {\n",
       "        vertical-align: top;\n",
       "    }\n",
       "\n",
       "    .dataframe thead th {\n",
       "        text-align: right;\n",
       "    }\n",
       "</style>\n",
       "<table border=\"1\" class=\"dataframe\">\n",
       "  <thead>\n",
       "    <tr style=\"text-align: right;\">\n",
       "      <th></th>\n",
       "      <th>Food Group</th>\n",
       "      <th>Total Prod Count</th>\n",
       "    </tr>\n",
       "  </thead>\n",
       "  <tbody>\n",
       "    <tr>\n",
       "      <th>0</th>\n",
       "      <td>Eggs</td>\n",
       "      <td>1</td>\n",
       "    </tr>\n",
       "    <tr>\n",
       "      <th>1</th>\n",
       "      <td>Alcoholic beverages</td>\n",
       "      <td>8</td>\n",
       "    </tr>\n",
       "    <tr>\n",
       "      <th>2</th>\n",
       "      <td>Fats and oils</td>\n",
       "      <td>10</td>\n",
       "    </tr>\n",
       "    <tr>\n",
       "      <th>3</th>\n",
       "      <td>Beverages</td>\n",
       "      <td>12</td>\n",
       "    </tr>\n",
       "    <tr>\n",
       "      <th>4</th>\n",
       "      <td>Nuts and seeds</td>\n",
       "      <td>20</td>\n",
       "    </tr>\n",
       "    <tr>\n",
       "      <th>5</th>\n",
       "      <td>Fish and fish products</td>\n",
       "      <td>21</td>\n",
       "    </tr>\n",
       "    <tr>\n",
       "      <th>6</th>\n",
       "      <td>Sugars, preserves and snacks</td>\n",
       "      <td>24</td>\n",
       "    </tr>\n",
       "    <tr>\n",
       "      <th>7</th>\n",
       "      <td>Herbs and spices</td>\n",
       "      <td>30</td>\n",
       "    </tr>\n",
       "    <tr>\n",
       "      <th>8</th>\n",
       "      <td>Milk and milk products</td>\n",
       "      <td>38</td>\n",
       "    </tr>\n",
       "    <tr>\n",
       "      <th>9</th>\n",
       "      <td>Soups, sauces and miscellaneous foods</td>\n",
       "      <td>40</td>\n",
       "    </tr>\n",
       "    <tr>\n",
       "      <th>10</th>\n",
       "      <td>Meat and meat products</td>\n",
       "      <td>48</td>\n",
       "    </tr>\n",
       "    <tr>\n",
       "      <th>11</th>\n",
       "      <td>Fruit</td>\n",
       "      <td>63</td>\n",
       "    </tr>\n",
       "    <tr>\n",
       "      <th>12</th>\n",
       "      <td>Cereals and cereal products</td>\n",
       "      <td>89</td>\n",
       "    </tr>\n",
       "    <tr>\n",
       "      <th>13</th>\n",
       "      <td>Vegetables</td>\n",
       "      <td>107</td>\n",
       "    </tr>\n",
       "  </tbody>\n",
       "</table>\n",
       "</div>"
      ],
      "text/plain": [
       "                               Food Group  Total Prod Count\n",
       "0                                    Eggs                 1\n",
       "1                     Alcoholic beverages                 8\n",
       "2                           Fats and oils                10\n",
       "3                               Beverages                12\n",
       "4                          Nuts and seeds                20\n",
       "5                  Fish and fish products                21\n",
       "6            Sugars, preserves and snacks                24\n",
       "7                        Herbs and spices                30\n",
       "8                  Milk and milk products                38\n",
       "9   Soups, sauces and miscellaneous foods                40\n",
       "10                 Meat and meat products                48\n",
       "11                                  Fruit                63\n",
       "12            Cereals and cereal products                89\n",
       "13                             Vegetables               107"
      ]
     },
     "execution_count": 42,
     "metadata": {},
     "output_type": "execute_result"
    }
   ],
   "source": [
    "ax4_count = redFood_matched.groupby('Food Group')['Food Name'].count().rename('Total Prod Count', inplace=True).copy().sort_values(ascending=True)\n",
    "ax4_nt = pd.DataFrame(ax4_count).reset_index()\n",
    "ax4_nt"
   ]
  },
  {
   "cell_type": "code",
   "execution_count": 43,
   "id": "9a3c8710",
   "metadata": {},
   "outputs": [],
   "source": [
    "# Evaluating Percentaged Mapped\n",
    "ax4_counts = ax4_nt.merge(ax4, on='Food Group', how='left')\n",
    "ax4_counts['%Matched'] = ax4_counts['Matched Prod Count'] / ax4_counts['Total Prod Count'] * 100 "
   ]
  },
  {
   "cell_type": "code",
   "execution_count": 44,
   "id": "e5ed6819",
   "metadata": {
    "scrolled": false
   },
   "outputs": [
    {
     "name": "stderr",
     "output_type": "stream",
     "text": [
      "C:\\Users\\medekar\\AppData\\Local\\Temp\\ipykernel_21340\\1404641568.py:45: UserWarning: FixedFormatter should only be used together with FixedLocator\n",
      "  ax.set_yticklabels(ax.get_yticklabels(), rotation=0, ha=\"right\", fontsize=12)\n"
     ]
    },
    {
     "data": {
      "image/png": "[encoded data removed]",
      "text/plain": [
       "<Figure size 1000x700 with 1 Axes>"
      ]
     },
     "metadata": {},
     "output_type": "display_data"
    }
   ],
   "source": [
    "import matplotlib.font_manager as fm\n",
    "\n",
    "# Find the minimum count in the ax4_counts DataFrame.\n",
    "min_count4 = ax4_counts['%Matched'].min()\n",
    "\n",
    "# Create a custom color palette.\n",
    "bar_colors4 = ['lightpink' if count != min_count4 else '#f95d6a' for count in ax4_counts['%Matched']]\n",
    "\n",
    "# Set the font family and size for the title.\n",
    "title_font = fm.FontProperties(family='Arial', size=23)\n",
    "subtitle_font = fm.FontProperties(family='Arial', size=12)\n",
    "\n",
    "# Set the font family and size for the axes labels.\n",
    "axis_font = fm.FontProperties(family='Arial', size=18)\n",
    "\n",
    "# Create the figure and axes objects.\n",
    "fig, ax = plt.subplots(figsize=(10, 7))\n",
    "\n",
    "# Plot the horizontal bar chart.\n",
    "bars = ax.barh(ax4_counts['Food Group'], ax4_counts['%Matched'], color=bar_colors4)\n",
    "\n",
    "# Add gridlines to the plot.\n",
    "ax.grid(axis='x', linestyle='--', alpha=0.45)\n",
    "\n",
    "# Customize the title, x-axis, and y-axis labels.\n",
    "plt.suptitle('Matching Rate of Hybrid Matching Process, FPS',ha='center', fontproperties=title_font, y=1)  # Add y parameter\n",
    "ax.set_title('The matching process was used to match weights from the Food Portion Sizes data to our reduced food product dataset', ha='center', fontproperties=subtitle_font, y=1.04, x=0.25)  # Add y parameter for subtitle\n",
    "ax.set_xlabel('Percentage Matched', fontproperties=axis_font)\n",
    "ax.set_ylabel('Food Group', fontproperties=axis_font)\n",
    "\n",
    "# Set the maximum value of the x-axis to 100.\n",
    "ax.set_xlim(0, 100)\n",
    "\n",
    "# Adjust the spacing around the plot.\n",
    "plt.tight_layout(pad=1.07)\n",
    "\n",
    "# Remove the top and right spines from the plot.\n",
    "ax.spines['top'].set_visible(False)\n",
    "ax.spines['right'].set_visible(False)\n",
    "\n",
    "# Increase the tick label font size.\n",
    "ax.tick_params(axis='x', which='major', labelsize=13)\n",
    "\n",
    "# Adjust y-axis tick label alignment and font size.\n",
    "ax.set_yticklabels(ax.get_yticklabels(), rotation=0, ha=\"right\", fontsize=12)\n",
    "\n",
    "# Invert the y-axis to display the lowest match on top.\n",
    "ax.invert_yaxis()\n",
    "\n",
    "    # Show the plot.\n",
    "plt.show()\n"
   ]
  },
  {
   "cell_type": "markdown",
   "id": "7a89aa71",
   "metadata": {},
   "source": [
    "                                                  NEXT NOTEBOOK"
   ]
  }
 ],
 "metadata": {
  "kernelspec": {
   "display_name": "ProdW",
   "language": "python",
   "name": "prodw"
  },
  "language_info": {
   "codemirror_mode": {
    "name": "ipython",
    "version": 3
   },
   "file_extension": ".py",
   "mimetype": "text/x-python",
   "name": "python",
   "nbconvert_exporter": "python",
   "pygments_lexer": "ipython3",
   "version": "3.11.2"
  }
 },
 "nbformat": 4,
 "nbformat_minor": 5
}
