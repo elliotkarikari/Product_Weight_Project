{
 "cells": [
  {
   "cell_type": "markdown",
   "id": "8dc1249f",
   "metadata": {},
   "source": [
    "# Matching Algorithm - Matching with Food Description/Name column"
   ]
  },
  {
   "cell_type": "markdown",
   "id": "c41e6766",
   "metadata": {},
   "source": [
    "There is something wrong with the matching algo. When I run it one i get weird results but when I run it the second time I get better results in some categories "
   ]
  },
  {
   "cell_type": "markdown",
   "id": "377493a7",
   "metadata": {},
   "source": [
    "##### Import Libraries"
   ]
  },
  {
   "cell_type": "code",
   "execution_count": 1,
   "id": "678844c3",
   "metadata": {},
   "outputs": [],
   "source": [
    "import pandas as pd\n",
    "import matplotlib.pyplot as plt\n",
    "import seaborn as sns\n",
    "import numpy as np\n",
    "import re #regular expressions \n",
    "from fuzzywuzzy import process, fuzz\n",
    "from sklearn.feature_extraction.text import TfidfVectorizer\n",
    "from sklearn.metrics.pairwise import cosine_similarity"
   ]
  },
  {
   "cell_type": "markdown",
   "id": "c6ecf653",
   "metadata": {},
   "source": [
    "##### Read In Data"
   ]
  },
  {
   "cell_type": "markdown",
   "id": "f49d92a4",
   "metadata": {},
   "source": [
    "                                                      M&W Reduced"
   ]
  },
  {
   "cell_type": "code",
   "execution_count": 2,
   "id": "aa3f0cff",
   "metadata": {
    "scrolled": true
   },
   "outputs": [
    {
     "data": {
      "text/html": [
       "<div>\n",
       "<style scoped>\n",
       "    .dataframe tbody tr th:only-of-type {\n",
       "        vertical-align: middle;\n",
       "    }\n",
       "\n",
       "    .dataframe tbody tr th {\n",
       "        vertical-align: top;\n",
       "    }\n",
       "\n",
       "    .dataframe thead th {\n",
       "        text-align: right;\n",
       "    }\n",
       "</style>\n",
       "<table border=\"1\" class=\"dataframe\">\n",
       "  <thead>\n",
       "    <tr style=\"text-align: right;\">\n",
       "      <th></th>\n",
       "      <th>Food Code</th>\n",
       "      <th>Food Name</th>\n",
       "      <th>Group</th>\n",
       "      <th>Super Group</th>\n",
       "      <th>Sale format(s)</th>\n",
       "      <th>Source</th>\n",
       "      <th>Similarity Score</th>\n",
       "      <th>Weight</th>\n",
       "      <th>PurEqualCon</th>\n",
       "      <th>Portion Consumed</th>\n",
       "    </tr>\n",
       "  </thead>\n",
       "  <tbody>\n",
       "    <tr>\n",
       "      <th>0</th>\n",
       "      <td>17-208</td>\n",
       "      <td>beer, bitter, best, premium, 1 pint</td>\n",
       "      <td>QA</td>\n",
       "      <td>Alcoholic beverages</td>\n",
       "      <td>pint</td>\n",
       "      <td>FPS</td>\n",
       "      <td>0.707107</td>\n",
       "      <td>574g</td>\n",
       "      <td>Y</td>\n",
       "      <td>1 pint</td>\n",
       "    </tr>\n",
       "    <tr>\n",
       "      <th>1</th>\n",
       "      <td>NaN</td>\n",
       "      <td>beer, bitter, best, premium, bottle</td>\n",
       "      <td>QA</td>\n",
       "      <td>Alcoholic beverages</td>\n",
       "      <td>beer bottle</td>\n",
       "      <td>NaN</td>\n",
       "      <td>NaN</td>\n",
       "      <td>NaN</td>\n",
       "      <td>NaN</td>\n",
       "      <td>NaN</td>\n",
       "    </tr>\n",
       "    <tr>\n",
       "      <th>2</th>\n",
       "      <td>NaN</td>\n",
       "      <td>beer, bitter, best, premium, small can</td>\n",
       "      <td>QA</td>\n",
       "      <td>Alcoholic beverages</td>\n",
       "      <td>small can</td>\n",
       "      <td>NaN</td>\n",
       "      <td>NaN</td>\n",
       "      <td>NaN</td>\n",
       "      <td>NaN</td>\n",
       "      <td>NaN</td>\n",
       "    </tr>\n",
       "    <tr>\n",
       "      <th>3</th>\n",
       "      <td>NaN</td>\n",
       "      <td>beer, bitter, best, premium, large can</td>\n",
       "      <td>QA</td>\n",
       "      <td>Alcoholic beverages</td>\n",
       "      <td>large can</td>\n",
       "      <td>NaN</td>\n",
       "      <td>NaN</td>\n",
       "      <td>NaN</td>\n",
       "      <td>NaN</td>\n",
       "      <td>NaN</td>\n",
       "    </tr>\n",
       "    <tr>\n",
       "      <th>4</th>\n",
       "      <td>17-224</td>\n",
       "      <td>cider</td>\n",
       "      <td>QC</td>\n",
       "      <td>Alcoholic beverages</td>\n",
       "      <td>can, can multipack, bottle, bottle multipack</td>\n",
       "      <td>NaN</td>\n",
       "      <td>0.609864</td>\n",
       "      <td>25g</td>\n",
       "      <td>Y</td>\n",
       "      <td>NaN</td>\n",
       "    </tr>\n",
       "  </tbody>\n",
       "</table>\n",
       "</div>"
      ],
      "text/plain": [
       "  Food Code                               Food Name Group  \\\n",
       "0    17-208     beer, bitter, best, premium, 1 pint    QA   \n",
       "1       NaN     beer, bitter, best, premium, bottle    QA   \n",
       "2       NaN  beer, bitter, best, premium, small can    QA   \n",
       "3       NaN  beer, bitter, best, premium, large can    QA   \n",
       "4    17-224                                   cider    QC   \n",
       "\n",
       "           Super Group                                Sale format(s) Source  \\\n",
       "0  Alcoholic beverages                                          pint    FPS   \n",
       "1  Alcoholic beverages                                   beer bottle    NaN   \n",
       "2  Alcoholic beverages                                     small can    NaN   \n",
       "3  Alcoholic beverages                                     large can    NaN   \n",
       "4  Alcoholic beverages  can, can multipack, bottle, bottle multipack    NaN   \n",
       "\n",
       "   Similarity Score Weight PurEqualCon Portion Consumed  \n",
       "0          0.707107   574g           Y           1 pint  \n",
       "1               NaN    NaN         NaN              NaN  \n",
       "2               NaN    NaN         NaN              NaN  \n",
       "3               NaN    NaN         NaN              NaN  \n",
       "4          0.609864    25g           Y              NaN  "
      ]
     },
     "execution_count": 2,
     "metadata": {},
     "output_type": "execute_result"
    }
   ],
   "source": [
    "#pd.set_option('display.max_rows', None)\n",
    "redFood = pd.read_csv(r\"C:\\Users\\medekar\\Desktop\\Product_Weight_Project\\Data\\Processed\\ReducedwithWeights\\dataproduct.csv\")\n",
    "redFood.rename(columns={'Super Group':'SuperGroup'})\n",
    "redFood['Food Name'] = redFood['Food Name'].str.lower()\n",
    "redFood.head()"
   ]
  },
  {
   "cell_type": "code",
   "execution_count": 3,
   "id": "6d4dd80d",
   "metadata": {},
   "outputs": [
    {
     "data": {
      "text/plain": [
       "Index(['Food Code', 'Food Name', 'Group', 'Super Group', 'Sale format(s)',\n",
       "       'Source', 'Similarity Score', 'Weight', 'PurEqualCon',\n",
       "       'Portion Consumed'],\n",
       "      dtype='object')"
      ]
     },
     "execution_count": 3,
     "metadata": {},
     "output_type": "execute_result"
    }
   ],
   "source": [
    "redFood.columns"
   ]
  },
  {
   "cell_type": "code",
   "execution_count": 4,
   "id": "528a1ffa",
   "metadata": {},
   "outputs": [],
   "source": [
    "redFood.drop(['Source', 'Similarity Score', 'Weight', 'PurEqualCon',\n",
    "       'Portion Consumed'], axis=1, inplace=True)"
   ]
  },
  {
   "cell_type": "markdown",
   "id": "2b6a1cee",
   "metadata": {},
   "source": [
    "Creating a Source column to indicate where I got weight data from"
   ]
  },
  {
   "cell_type": "code",
   "execution_count": 5,
   "id": "cac22306",
   "metadata": {},
   "outputs": [],
   "source": [
    "redFood['Source'] = ' '"
   ]
  },
  {
   "cell_type": "code",
   "execution_count": 23,
   "id": "f7299af7",
   "metadata": {},
   "outputs": [
    {
     "data": {
      "text/html": [
       "<div>\n",
       "<style scoped>\n",
       "    .dataframe tbody tr th:only-of-type {\n",
       "        vertical-align: middle;\n",
       "    }\n",
       "\n",
       "    .dataframe tbody tr th {\n",
       "        vertical-align: top;\n",
       "    }\n",
       "\n",
       "    .dataframe thead th {\n",
       "        text-align: right;\n",
       "    }\n",
       "</style>\n",
       "<table border=\"1\" class=\"dataframe\">\n",
       "  <thead>\n",
       "    <tr style=\"text-align: right;\">\n",
       "      <th></th>\n",
       "      <th>Food Code</th>\n",
       "      <th>Food Name</th>\n",
       "      <th>Group</th>\n",
       "      <th>Super Group</th>\n",
       "      <th>Sale format(s)</th>\n",
       "      <th>Source</th>\n",
       "    </tr>\n",
       "  </thead>\n",
       "  <tbody>\n",
       "    <tr>\n",
       "      <th>0</th>\n",
       "      <td>17-208</td>\n",
       "      <td>beer, bitter, best, premium, 1 pint</td>\n",
       "      <td>QA</td>\n",
       "      <td>Alcoholic beverages</td>\n",
       "      <td>pint</td>\n",
       "      <td></td>\n",
       "    </tr>\n",
       "    <tr>\n",
       "      <th>1</th>\n",
       "      <td>NaN</td>\n",
       "      <td>beer, bitter, best, premium, bottle</td>\n",
       "      <td>QA</td>\n",
       "      <td>Alcoholic beverages</td>\n",
       "      <td>beer bottle</td>\n",
       "      <td></td>\n",
       "    </tr>\n",
       "    <tr>\n",
       "      <th>2</th>\n",
       "      <td>NaN</td>\n",
       "      <td>beer, bitter, best, premium, small can</td>\n",
       "      <td>QA</td>\n",
       "      <td>Alcoholic beverages</td>\n",
       "      <td>small can</td>\n",
       "      <td></td>\n",
       "    </tr>\n",
       "    <tr>\n",
       "      <th>3</th>\n",
       "      <td>NaN</td>\n",
       "      <td>beer, bitter, best, premium, large can</td>\n",
       "      <td>QA</td>\n",
       "      <td>Alcoholic beverages</td>\n",
       "      <td>large can</td>\n",
       "      <td></td>\n",
       "    </tr>\n",
       "    <tr>\n",
       "      <th>4</th>\n",
       "      <td>17-224</td>\n",
       "      <td>cider</td>\n",
       "      <td>QC</td>\n",
       "      <td>Alcoholic beverages</td>\n",
       "      <td>can, can multipack, bottle, bottle multipack</td>\n",
       "      <td></td>\n",
       "    </tr>\n",
       "  </tbody>\n",
       "</table>\n",
       "</div>"
      ],
      "text/plain": [
       "  Food Code                               Food Name Group  \\\n",
       "0    17-208     beer, bitter, best, premium, 1 pint    QA   \n",
       "1       NaN     beer, bitter, best, premium, bottle    QA   \n",
       "2       NaN  beer, bitter, best, premium, small can    QA   \n",
       "3       NaN  beer, bitter, best, premium, large can    QA   \n",
       "4    17-224                                   cider    QC   \n",
       "\n",
       "           Super Group                                Sale format(s) Source  \n",
       "0  Alcoholic beverages                                          pint         \n",
       "1  Alcoholic beverages                                   beer bottle         \n",
       "2  Alcoholic beverages                                     small can         \n",
       "3  Alcoholic beverages                                     large can         \n",
       "4  Alcoholic beverages  can, can multipack, bottle, bottle multipack         "
      ]
     },
     "execution_count": 23,
     "metadata": {},
     "output_type": "execute_result"
    }
   ],
   "source": [
    "redFood.head()"
   ]
  },
  {
   "cell_type": "code",
   "execution_count": 7,
   "id": "8588474d",
   "metadata": {},
   "outputs": [
    {
     "name": "stderr",
     "output_type": "stream",
     "text": [
      "C:\\Users\\medekar\\AppData\\Local\\Temp\\ipykernel_31212\\3194073488.py:1: FutureWarning: The default value of regex will change from True to False in a future version.\n",
      "  redFood['Food Name'] = redFood['Food Name'].str.replace(r'\\braw\\b', '', case=False).str.strip()\n"
     ]
    }
   ],
   "source": [
    "redFood['Food Name'] = redFood['Food Name'].str.replace(r'\\braw\\b', '', case=False).str.strip()"
   ]
  },
  {
   "cell_type": "markdown",
   "id": "8e08171f",
   "metadata": {},
   "source": [
    "                                                         FPS Data"
   ]
  },
  {
   "cell_type": "code",
   "execution_count": 8,
   "id": "f9cf04fb",
   "metadata": {
    "scrolled": true
   },
   "outputs": [
    {
     "data": {
      "text/html": [
       "<div>\n",
       "<style scoped>\n",
       "    .dataframe tbody tr th:only-of-type {\n",
       "        vertical-align: middle;\n",
       "    }\n",
       "\n",
       "    .dataframe tbody tr th {\n",
       "        vertical-align: top;\n",
       "    }\n",
       "\n",
       "    .dataframe thead th {\n",
       "        text-align: right;\n",
       "    }\n",
       "</style>\n",
       "<table border=\"1\" class=\"dataframe\">\n",
       "  <thead>\n",
       "    <tr style=\"text-align: right;\">\n",
       "      <th></th>\n",
       "      <th>Group</th>\n",
       "      <th>Brand</th>\n",
       "      <th>Food Name</th>\n",
       "      <th>Portion Consumed</th>\n",
       "      <th>Weight</th>\n",
       "      <th>PurEqualCon</th>\n",
       "      <th>Purchased</th>\n",
       "      <th>Format</th>\n",
       "      <th>Source</th>\n",
       "    </tr>\n",
       "  </thead>\n",
       "  <tbody>\n",
       "    <tr>\n",
       "      <th>2672</th>\n",
       "      <td>YOGHURTS AND FROMAGE FRAIS</td>\n",
       "      <td>NaN</td>\n",
       "      <td>onken</td>\n",
       "      <td>NaN</td>\n",
       "      <td>200g</td>\n",
       "      <td>NaN</td>\n",
       "      <td>NaN</td>\n",
       "      <td>NaN</td>\n",
       "      <td>NaN</td>\n",
       "    </tr>\n",
       "    <tr>\n",
       "      <th>2673</th>\n",
       "      <td>YOGHURTS AND FROMAGE FRAIS</td>\n",
       "      <td>NaN</td>\n",
       "      <td>petit danoneâ</td>\n",
       "      <td>small</td>\n",
       "      <td>50g</td>\n",
       "      <td>NaN</td>\n",
       "      <td>NaN</td>\n",
       "      <td>NaN</td>\n",
       "      <td>NaN</td>\n",
       "    </tr>\n",
       "    <tr>\n",
       "      <th>2674</th>\n",
       "      <td>YOGHURTS AND FROMAGE FRAIS</td>\n",
       "      <td>NaN</td>\n",
       "      <td>st ivel fiendish faces</td>\n",
       "      <td>NaN</td>\n",
       "      <td>50g</td>\n",
       "      <td>NaN</td>\n",
       "      <td>NaN</td>\n",
       "      <td>NaN</td>\n",
       "      <td>NaN</td>\n",
       "    </tr>\n",
       "    <tr>\n",
       "      <th>2675</th>\n",
       "      <td>YOGHURTS AND FROMAGE FRAIS</td>\n",
       "      <td>NaN</td>\n",
       "      <td>baby fromage frais</td>\n",
       "      <td>Baby Danone</td>\n",
       "      <td>60g</td>\n",
       "      <td>Y</td>\n",
       "      <td>NaN</td>\n",
       "      <td>NaN</td>\n",
       "      <td>NaN</td>\n",
       "    </tr>\n",
       "    <tr>\n",
       "      <th>2676</th>\n",
       "      <td>YOGHURTS AND FROMAGE FRAIS</td>\n",
       "      <td>Heinz</td>\n",
       "      <td>baby fromage frais</td>\n",
       "      <td>Jar</td>\n",
       "      <td>163g</td>\n",
       "      <td>Y</td>\n",
       "      <td>NaN</td>\n",
       "      <td>NaN</td>\n",
       "      <td>NaN</td>\n",
       "    </tr>\n",
       "  </tbody>\n",
       "</table>\n",
       "</div>"
      ],
      "text/plain": [
       "                           Group   Brand               Food Name  \\\n",
       "2672  YOGHURTS AND FROMAGE FRAIS     NaN                   onken   \n",
       "2673  YOGHURTS AND FROMAGE FRAIS     NaN           petit danoneâ   \n",
       "2674  YOGHURTS AND FROMAGE FRAIS     NaN  st ivel fiendish faces   \n",
       "2675  YOGHURTS AND FROMAGE FRAIS     NaN      baby fromage frais   \n",
       "2676  YOGHURTS AND FROMAGE FRAIS  Heinz       baby fromage frais   \n",
       "\n",
       "     Portion Consumed Weight PurEqualCon  Purchased Format Source  \n",
       "2672              NaN   200g         NaN        NaN    NaN    NaN  \n",
       "2673            small    50g         NaN        NaN    NaN    NaN  \n",
       "2674              NaN    50g         NaN        NaN    NaN    NaN  \n",
       "2675      Baby Danone    60g           Y        NaN    NaN    NaN  \n",
       "2676              Jar   163g           Y        NaN    NaN    NaN  "
      ]
     },
     "execution_count": 8,
     "metadata": {},
     "output_type": "execute_result"
    }
   ],
   "source": [
    "CleanRetai = pd.read_csv(r'C:\\Users\\medekar\\Desktop\\Product_Weight_Project\\Data\\Processed\\FoodPortionSized\\FPS_VJ.csv')\n",
    "CleanRetai['Food Name'] = CleanRetai['Food Name'].str.lower()\n",
    "CleanRetai.tail()"
   ]
  },
  {
   "cell_type": "markdown",
   "id": "4585e78b",
   "metadata": {},
   "source": [
    "                            Identify Food Portion Sizes that are equivalent to Retail sold portions"
   ]
  },
  {
   "cell_type": "code",
   "execution_count": 24,
   "id": "4157511a",
   "metadata": {
    "scrolled": true
   },
   "outputs": [
    {
     "data": {
      "text/html": [
       "<div>\n",
       "<style scoped>\n",
       "    .dataframe tbody tr th:only-of-type {\n",
       "        vertical-align: middle;\n",
       "    }\n",
       "\n",
       "    .dataframe tbody tr th {\n",
       "        vertical-align: top;\n",
       "    }\n",
       "\n",
       "    .dataframe thead th {\n",
       "        text-align: right;\n",
       "    }\n",
       "</style>\n",
       "<table border=\"1\" class=\"dataframe\">\n",
       "  <thead>\n",
       "    <tr style=\"text-align: right;\">\n",
       "      <th></th>\n",
       "      <th>Group</th>\n",
       "      <th>Brand</th>\n",
       "      <th>Food Name</th>\n",
       "      <th>Portion Consumed</th>\n",
       "      <th>Weight</th>\n",
       "      <th>PurEqualCon</th>\n",
       "      <th>Purchased</th>\n",
       "      <th>Format</th>\n",
       "      <th>Source</th>\n",
       "    </tr>\n",
       "  </thead>\n",
       "  <tbody>\n",
       "    <tr>\n",
       "      <th>138</th>\n",
       "      <td>BISCUITS</td>\n",
       "      <td>M&amp;S</td>\n",
       "      <td>all butter shortbread fingers, organice</td>\n",
       "      <td>NaN</td>\n",
       "      <td>175g</td>\n",
       "      <td>Y</td>\n",
       "      <td>NaN</td>\n",
       "      <td>NaN</td>\n",
       "      <td>Ocado Website</td>\n",
       "    </tr>\n",
       "    <tr>\n",
       "      <th>325</th>\n",
       "      <td>BREAD</td>\n",
       "      <td>NaN</td>\n",
       "      <td>breadstick</td>\n",
       "      <td>each, 7g</td>\n",
       "      <td>140g</td>\n",
       "      <td>Y</td>\n",
       "      <td>NaN</td>\n",
       "      <td>Box</td>\n",
       "      <td>NaN</td>\n",
       "    </tr>\n",
       "    <tr>\n",
       "      <th>337</th>\n",
       "      <td>BREAD</td>\n",
       "      <td>NaN</td>\n",
       "      <td>danish light bread</td>\n",
       "      <td>loaf</td>\n",
       "      <td>400g</td>\n",
       "      <td>Y</td>\n",
       "      <td>NaN</td>\n",
       "      <td>NaN</td>\n",
       "      <td>Ocado Website</td>\n",
       "    </tr>\n",
       "    <tr>\n",
       "      <th>343</th>\n",
       "      <td>BREAD</td>\n",
       "      <td>NaN</td>\n",
       "      <td>garlic bread</td>\n",
       "      <td>1 slice</td>\n",
       "      <td>20g</td>\n",
       "      <td>Y</td>\n",
       "      <td>NaN</td>\n",
       "      <td>NaN</td>\n",
       "      <td>NaN</td>\n",
       "    </tr>\n",
       "    <tr>\n",
       "      <th>344</th>\n",
       "      <td>BREAD</td>\n",
       "      <td>Tesco</td>\n",
       "      <td>garlic bread</td>\n",
       "      <td>NaN</td>\n",
       "      <td>260g</td>\n",
       "      <td>Y, P</td>\n",
       "      <td>NaN</td>\n",
       "      <td>NaN</td>\n",
       "      <td>Tesco Website</td>\n",
       "    </tr>\n",
       "  </tbody>\n",
       "</table>\n",
       "</div>"
      ],
      "text/plain": [
       "        Group  Brand                                Food Name  \\\n",
       "138  BISCUITS    M&S  all butter shortbread fingers, organice   \n",
       "325     BREAD    NaN                               breadstick   \n",
       "337     BREAD    NaN                       danish light bread   \n",
       "343     BREAD    NaN                             garlic bread   \n",
       "344     BREAD  Tesco                             garlic bread   \n",
       "\n",
       "    Portion Consumed Weight PurEqualCon  Purchased Format         Source  \n",
       "138              NaN   175g           Y        NaN    NaN  Ocado Website  \n",
       "325         each, 7g   140g           Y        NaN    Box            NaN  \n",
       "337             loaf   400g           Y        NaN    NaN  Ocado Website  \n",
       "343          1 slice    20g           Y        NaN    NaN            NaN  \n",
       "344              NaN   260g        Y, P        NaN    NaN  Tesco Website  "
      ]
     },
     "execution_count": 24,
     "metadata": {},
     "output_type": "execute_result"
    }
   ],
   "source": [
    "CleanRetail = CleanRetai[CleanRetai['PurEqualCon'].isin(['Y', 'Y, P'])]\n",
    "CleanRetail[CleanRetail['Food Name'].str.contains('bread')].head()"
   ]
  },
  {
   "cell_type": "code",
   "execution_count": 10,
   "id": "f58da92b",
   "metadata": {},
   "outputs": [
    {
     "name": "stderr",
     "output_type": "stream",
     "text": [
      "C:\\Users\\medekar\\AppData\\Local\\Temp\\ipykernel_31212\\3856531053.py:2: SettingWithCopyWarning: \n",
      "A value is trying to be set on a copy of a slice from a DataFrame.\n",
      "Try using .loc[row_indexer,col_indexer] = value instead\n",
      "\n",
      "See the caveats in the documentation: https://pandas.pydata.org/pandas-docs/stable/user_guide/indexing.html#returning-a-view-versus-a-copy\n",
      "  CleanRetail['Merged Name'] = CleanRetail['Food Name'].astype(str).str.cat(CleanRetail['Portion Consumed'].astype(str), sep=',')\n"
     ]
    }
   ],
   "source": [
    "# Merge columns using .str.cat() and create a new column 'Merged_Column'\n",
    "CleanRetail['Merged Name'] = CleanRetail['Food Name'].astype(str).str.cat(CleanRetail['Portion Consumed'].astype(str), sep=',')"
   ]
  },
  {
   "cell_type": "code",
   "execution_count": 11,
   "id": "98923983",
   "metadata": {},
   "outputs": [
    {
     "name": "stderr",
     "output_type": "stream",
     "text": [
      "C:\\Users\\medekar\\AppData\\Local\\Temp\\ipykernel_31212\\2238590420.py:1: SettingWithCopyWarning: \n",
      "A value is trying to be set on a copy of a slice from a DataFrame.\n",
      "Try using .loc[row_indexer,col_indexer] = value instead\n",
      "\n",
      "See the caveats in the documentation: https://pandas.pydata.org/pandas-docs/stable/user_guide/indexing.html#returning-a-view-versus-a-copy\n",
      "  CleanRetail['Merged Name'] = CleanRetail['Merged Name'].str.lower()\n"
     ]
    }
   ],
   "source": [
    "CleanRetail['Merged Name'] = CleanRetail['Merged Name'].str.lower()"
   ]
  },
  {
   "cell_type": "markdown",
   "id": "71d9f214",
   "metadata": {},
   "source": [
    "###                                                        Match Data (Hybrid Algo).\n",
    "\n",
    "###### Once matched, Import Weight and Unit Columns into Reduced M&W table"
   ]
  },
  {
   "cell_type": "markdown",
   "id": "74643a4e",
   "metadata": {},
   "source": [
    "Seem to work better when run twice. Something isn't working well with the matching process"
   ]
  },
  {
   "cell_type": "markdown",
   "id": "4a2a0914",
   "metadata": {},
   "source": [
    "###### Algorithm"
   ]
  },
  {
   "cell_type": "code",
   "execution_count": 12,
   "id": "87ad0d84",
   "metadata": {},
   "outputs": [
    {
     "name": "stdout",
     "output_type": "stream",
     "text": [
      "CPU times: total: 328 ms\n",
      "Wall time: 362 ms\n"
     ]
    }
   ],
   "source": [
    "%%time\n",
    "\n",
    "def preprocess_text(df, column_name):\n",
    "    return df[column_name].str.lower()\n",
    "\n",
    "def fuzzy_matching_score(source, target):\n",
    "    return fuzz.partial_token_set_ratio(source, target)\n",
    "\n",
    "def get_most_similar_indices(tfidf_red_food, tfidf_clean_retail):\n",
    "    similarities = cosine_similarity(tfidf_red_food, tfidf_clean_retail)\n",
    "    return similarities.argmax(axis=1)\n",
    "\n",
    "def hybrid_fuzzy_matching(CleanRetail, redFood):\n",
    "    # Set thresholds for matching\n",
    "    partial_token_set_ratio_threshold = 98\n",
    "    cosine_similarity_threshold = 0.75\n",
    "    min_similarity_threshold = 0.53\n",
    "\n",
    "    # Preprocess text data in both DataFrames for the \"Merged Name\" field.\n",
    "    CleanRetail['Merged Name'] = preprocess_text(CleanRetail, 'Merged Name')\n",
    "    redFood['Food Name'] = preprocess_text(redFood, 'Food Name')\n",
    "\n",
    "    # Step 1: Partial Token Set Ratio (Fuzzy Matching)\n",
    "    CleanRetail['Partial Token Set Ratio'] = CleanRetail['Merged Name'].apply(lambda x: fuzzy_matching_score(x, redFood['Food Name']))\n",
    "    potential_matches = CleanRetail[CleanRetail['Partial Token Set Ratio'] >= partial_token_set_ratio_threshold]\n",
    "\n",
    "    # Step 2: TF-IDF and Cosine Similarity (Text Matching) - Use combined matches as input\n",
    "    vectorizer = TfidfVectorizer()\n",
    "    vectorizer.fit(potential_matches['Merged Name'])\n",
    "    tfidf_clean_retail = vectorizer.transform(potential_matches['Merged Name'])\n",
    "    tfidf_red_food = vectorizer.transform(redFood['Food Name'])\n",
    "\n",
    "    # Find the most similar match for each redFood product\n",
    "    max_sim_indices = get_most_similar_indices(tfidf_red_food, tfidf_clean_retail)\n",
    "    max_sim_scores = cosine_similarity(tfidf_red_food, tfidf_clean_retail).max(axis=1)\n",
    "\n",
    "    # Update redFood DataFrame with matched information and sources\n",
    "    redFood['Similarity Score'] = max_sim_scores\n",
    "    redFood['Weight'] = potential_matches['Weight'].values[max_sim_indices]\n",
    "    redFood['PurEqualCon'] = potential_matches['PurEqualCon'].values[max_sim_indices]\n",
    "    redFood['Portion Consumed'] = potential_matches['Portion Consumed'].values[max_sim_indices]\n",
    "\n",
    "    # Create a mapping dictionary for matched indices to their sources\n",
    "    match_indices_to_sources = dict(zip(potential_matches.index, potential_matches['Source']))\n",
    "\n",
    "    # Map the sources and format to the redFood DataFrame based on matched indices\n",
    "    redFood['Source'] = redFood.index.map(lambda i: match_indices_to_sources.get(max_sim_indices[i], ''))\n",
    "\n",
    "    # Set to NaN for rows where similarity score is below the minimum threshold\n",
    "    redFood.loc[redFood['Similarity Score'] < min_similarity_threshold, ['Weight', 'PurEqualCon', 'Portion Consumed', 'Source']] = ''\n",
    "\n",
    "    return redFood\n",
    "\n",
    "# Call the hybrid_fuzzy_matching function and get the matched DataFrame\n",
    "redFood_matched = hybrid_fuzzy_matching(CleanRetail.copy(), redFood.copy())"
   ]
  },
  {
   "cell_type": "code",
   "execution_count": 13,
   "id": "56b1e339",
   "metadata": {
    "scrolled": true
   },
   "outputs": [],
   "source": [
    "#pd.set_option('display.max_rows', None)\n",
    "#redFood_matched.head()"
   ]
  },
  {
   "cell_type": "markdown",
   "id": "cdca8576",
   "metadata": {},
   "source": [
    "Identifying Matched Items with weights"
   ]
  },
  {
   "cell_type": "code",
   "execution_count": 26,
   "id": "975b735d",
   "metadata": {
    "scrolled": true
   },
   "outputs": [
    {
     "data": {
      "text/html": [
       "<div>\n",
       "<style scoped>\n",
       "    .dataframe tbody tr th:only-of-type {\n",
       "        vertical-align: middle;\n",
       "    }\n",
       "\n",
       "    .dataframe tbody tr th {\n",
       "        vertical-align: top;\n",
       "    }\n",
       "\n",
       "    .dataframe thead th {\n",
       "        text-align: right;\n",
       "    }\n",
       "</style>\n",
       "<table border=\"1\" class=\"dataframe\">\n",
       "  <thead>\n",
       "    <tr style=\"text-align: right;\">\n",
       "      <th></th>\n",
       "      <th>Food Code</th>\n",
       "      <th>Food Name</th>\n",
       "      <th>Group</th>\n",
       "      <th>Super Group</th>\n",
       "      <th>Sale format(s)</th>\n",
       "      <th>Source</th>\n",
       "      <th>Similarity Score</th>\n",
       "      <th>Weight</th>\n",
       "      <th>PurEqualCon</th>\n",
       "      <th>Portion Consumed</th>\n",
       "    </tr>\n",
       "  </thead>\n",
       "  <tbody>\n",
       "    <tr>\n",
       "      <th>0</th>\n",
       "      <td>17-208</td>\n",
       "      <td>beer, bitter, best, premium, 1 pint</td>\n",
       "      <td>QA</td>\n",
       "      <td>Alcoholic beverages</td>\n",
       "      <td>pint</td>\n",
       "      <td>NaN</td>\n",
       "      <td>0.828152</td>\n",
       "      <td>574g</td>\n",
       "      <td>Y</td>\n",
       "      <td>1 pint</td>\n",
       "    </tr>\n",
       "    <tr>\n",
       "      <th>1</th>\n",
       "      <td>NaN</td>\n",
       "      <td>beer, bitter, best, premium, bottle</td>\n",
       "      <td>QA</td>\n",
       "      <td>Alcoholic beverages</td>\n",
       "      <td>beer bottle</td>\n",
       "      <td></td>\n",
       "      <td>0.792934</td>\n",
       "      <td>250/300g</td>\n",
       "      <td>Y</td>\n",
       "      <td>bottle</td>\n",
       "    </tr>\n",
       "    <tr>\n",
       "      <th>2</th>\n",
       "      <td>NaN</td>\n",
       "      <td>beer, bitter, best, premium, small can</td>\n",
       "      <td>QA</td>\n",
       "      <td>Alcoholic beverages</td>\n",
       "      <td>small can</td>\n",
       "      <td></td>\n",
       "      <td>0.782098</td>\n",
       "      <td>333g</td>\n",
       "      <td>Y</td>\n",
       "      <td>small can</td>\n",
       "    </tr>\n",
       "    <tr>\n",
       "      <th>3</th>\n",
       "      <td>NaN</td>\n",
       "      <td>beer, bitter, best, premium, large can</td>\n",
       "      <td>QA</td>\n",
       "      <td>Alcoholic beverages</td>\n",
       "      <td>large can</td>\n",
       "      <td>NaN</td>\n",
       "      <td>0.785473</td>\n",
       "      <td>444g</td>\n",
       "      <td>Y</td>\n",
       "      <td>large can</td>\n",
       "    </tr>\n",
       "    <tr>\n",
       "      <th>4</th>\n",
       "      <td>17-224</td>\n",
       "      <td>cider</td>\n",
       "      <td>QC</td>\n",
       "      <td>Alcoholic beverages</td>\n",
       "      <td>can, can multipack, bottle, bottle multipack</td>\n",
       "      <td></td>\n",
       "      <td>0.000000</td>\n",
       "      <td></td>\n",
       "      <td></td>\n",
       "      <td></td>\n",
       "    </tr>\n",
       "  </tbody>\n",
       "</table>\n",
       "</div>"
      ],
      "text/plain": [
       "  Food Code                               Food Name Group  \\\n",
       "0    17-208     beer, bitter, best, premium, 1 pint    QA   \n",
       "1       NaN     beer, bitter, best, premium, bottle    QA   \n",
       "2       NaN  beer, bitter, best, premium, small can    QA   \n",
       "3       NaN  beer, bitter, best, premium, large can    QA   \n",
       "4    17-224                                   cider    QC   \n",
       "\n",
       "           Super Group                                Sale format(s) Source  \\\n",
       "0  Alcoholic beverages                                          pint    NaN   \n",
       "1  Alcoholic beverages                                   beer bottle          \n",
       "2  Alcoholic beverages                                     small can          \n",
       "3  Alcoholic beverages                                     large can    NaN   \n",
       "4  Alcoholic beverages  can, can multipack, bottle, bottle multipack          \n",
       "\n",
       "   Similarity Score    Weight PurEqualCon Portion Consumed  \n",
       "0          0.828152      574g           Y           1 pint  \n",
       "1          0.792934  250/300g           Y          bottle   \n",
       "2          0.782098      333g           Y        small can  \n",
       "3          0.785473      444g           Y        large can  \n",
       "4          0.000000                                         "
      ]
     },
     "execution_count": 26,
     "metadata": {},
     "output_type": "execute_result"
    }
   ],
   "source": [
    "pd.set_option('display.max_rows', None)\n",
    "#d = redFood_matched.loc[redFood_matched['Weight'] != '']\n",
    "redFood_matched.head()#['Food Name'].value_counts().sum()"
   ]
  },
  {
   "cell_type": "markdown",
   "id": "90566bd5",
   "metadata": {},
   "source": [
    "#### Export Matched DataSet"
   ]
  },
  {
   "cell_type": "code",
   "execution_count": 22,
   "id": "2bd066fe",
   "metadata": {},
   "outputs": [],
   "source": [
    "redFood_matched.to_csv(r'C:\\Users\\medekar\\Desktop\\Product_Weight_Project\\Data\\Processed\\ReducedwithWeights\\dataproduct.csv')"
   ]
  },
  {
   "cell_type": "markdown",
   "id": "2a53b881",
   "metadata": {},
   "source": [
    "### 320 / 535 items Matched Using Algo 4 which is a combination of Algo 2 & It uses the fuzz.partial_token_set_ratio & Term Frequency-Inverse Document Frequency"
   ]
  },
  {
   "cell_type": "code",
   "execution_count": 16,
   "id": "2b38759c",
   "metadata": {},
   "outputs": [
    {
     "data": {
      "text/plain": [
       "'Fourth Algorithm Matched 59.81% of products between McCane and Widdowson df and Food Portion Sizes df at a threshold of 90 and a Cosine threshold of 70. Contains some errors'"
      ]
     },
     "execution_count": 16,
     "metadata": {},
     "output_type": "execute_result"
    }
   ],
   "source": [
    "f'Fourth Algorithm Matched {round((320/535) * 100, 2)}% of products between McCane and Widdowson df and Food Portion Sizes df at a threshold of 90 and a Cosine threshold of 70. Contains some errors'"
   ]
  },
  {
   "cell_type": "markdown",
   "id": "c41c2f4a",
   "metadata": {},
   "source": [
    "## Plotting Matching Efficiency of Algo 4"
   ]
  },
  {
   "cell_type": "markdown",
   "id": "70174e3c",
   "metadata": {},
   "source": [
    "Find total counts of food by Super Group"
   ]
  },
  {
   "cell_type": "code",
   "execution_count": 17,
   "id": "18df57b8",
   "metadata": {
    "scrolled": false
   },
   "outputs": [
    {
     "data": {
      "text/html": [
       "<div>\n",
       "<style scoped>\n",
       "    .dataframe tbody tr th:only-of-type {\n",
       "        vertical-align: middle;\n",
       "    }\n",
       "\n",
       "    .dataframe tbody tr th {\n",
       "        vertical-align: top;\n",
       "    }\n",
       "\n",
       "    .dataframe thead th {\n",
       "        text-align: right;\n",
       "    }\n",
       "</style>\n",
       "<table border=\"1\" class=\"dataframe\">\n",
       "  <thead>\n",
       "    <tr style=\"text-align: right;\">\n",
       "      <th></th>\n",
       "      <th>Super Group</th>\n",
       "      <th>Matched Prod Count</th>\n",
       "    </tr>\n",
       "  </thead>\n",
       "  <tbody>\n",
       "    <tr>\n",
       "      <th>0</th>\n",
       "      <td>Eggs</td>\n",
       "      <td>1</td>\n",
       "    </tr>\n",
       "    <tr>\n",
       "      <th>1</th>\n",
       "      <td>Herbs and spices</td>\n",
       "      <td>1</td>\n",
       "    </tr>\n",
       "    <tr>\n",
       "      <th>2</th>\n",
       "      <td>Nuts and seeds</td>\n",
       "      <td>2</td>\n",
       "    </tr>\n",
       "    <tr>\n",
       "      <th>3</th>\n",
       "      <td>Fats and oils</td>\n",
       "      <td>4</td>\n",
       "    </tr>\n",
       "    <tr>\n",
       "      <th>4</th>\n",
       "      <td>Sugars, preserves and snacks</td>\n",
       "      <td>6</td>\n",
       "    </tr>\n",
       "    <tr>\n",
       "      <th>5</th>\n",
       "      <td>Fish and fish products</td>\n",
       "      <td>7</td>\n",
       "    </tr>\n",
       "    <tr>\n",
       "      <th>6</th>\n",
       "      <td>Alcoholic beverages</td>\n",
       "      <td>8</td>\n",
       "    </tr>\n",
       "    <tr>\n",
       "      <th>7</th>\n",
       "      <td>Beverages</td>\n",
       "      <td>10</td>\n",
       "    </tr>\n",
       "    <tr>\n",
       "      <th>8</th>\n",
       "      <td>Soups, sauces and miscellaneous foods</td>\n",
       "      <td>11</td>\n",
       "    </tr>\n",
       "    <tr>\n",
       "      <th>9</th>\n",
       "      <td>Fruit</td>\n",
       "      <td>12</td>\n",
       "    </tr>\n",
       "    <tr>\n",
       "      <th>10</th>\n",
       "      <td>Milk and milk products</td>\n",
       "      <td>13</td>\n",
       "    </tr>\n",
       "    <tr>\n",
       "      <th>11</th>\n",
       "      <td>Meat and meat products</td>\n",
       "      <td>16</td>\n",
       "    </tr>\n",
       "    <tr>\n",
       "      <th>12</th>\n",
       "      <td>Cereals and cereal products</td>\n",
       "      <td>22</td>\n",
       "    </tr>\n",
       "    <tr>\n",
       "      <th>13</th>\n",
       "      <td>Vegetables</td>\n",
       "      <td>22</td>\n",
       "    </tr>\n",
       "  </tbody>\n",
       "</table>\n",
       "</div>"
      ],
      "text/plain": [
       "                              Super Group  Matched Prod Count\n",
       "0                                    Eggs                   1\n",
       "1                        Herbs and spices                   1\n",
       "2                          Nuts and seeds                   2\n",
       "3                           Fats and oils                   4\n",
       "4            Sugars, preserves and snacks                   6\n",
       "5                  Fish and fish products                   7\n",
       "6                     Alcoholic beverages                   8\n",
       "7                               Beverages                  10\n",
       "8   Soups, sauces and miscellaneous foods                  11\n",
       "9                                   Fruit                  12\n",
       "10                 Milk and milk products                  13\n",
       "11                 Meat and meat products                  16\n",
       "12            Cereals and cereal products                  22\n",
       "13                             Vegetables                  22"
      ]
     },
     "execution_count": 17,
     "metadata": {},
     "output_type": "execute_result"
    }
   ],
   "source": [
    "d = redFood_matched[redFood_matched['Weight'] != '']\n",
    "ax4_s = d.groupby('Super Group')['Food Name'].count().rename('Matched Prod Count', inplace=True).copy().sort_values(ascending=True)\n",
    "ax4 = pd.DataFrame(ax4_s).reset_index()\n",
    "ax4"
   ]
  },
  {
   "cell_type": "code",
   "execution_count": 18,
   "id": "d8e7fbc5",
   "metadata": {
    "scrolled": false
   },
   "outputs": [
    {
     "data": {
      "text/html": [
       "<div>\n",
       "<style scoped>\n",
       "    .dataframe tbody tr th:only-of-type {\n",
       "        vertical-align: middle;\n",
       "    }\n",
       "\n",
       "    .dataframe tbody tr th {\n",
       "        vertical-align: top;\n",
       "    }\n",
       "\n",
       "    .dataframe thead th {\n",
       "        text-align: right;\n",
       "    }\n",
       "</style>\n",
       "<table border=\"1\" class=\"dataframe\">\n",
       "  <thead>\n",
       "    <tr style=\"text-align: right;\">\n",
       "      <th></th>\n",
       "      <th>Super Group</th>\n",
       "      <th>Total Prod Count</th>\n",
       "    </tr>\n",
       "  </thead>\n",
       "  <tbody>\n",
       "    <tr>\n",
       "      <th>0</th>\n",
       "      <td>Eggs</td>\n",
       "      <td>2</td>\n",
       "    </tr>\n",
       "    <tr>\n",
       "      <th>1</th>\n",
       "      <td>Fats and oils</td>\n",
       "      <td>6</td>\n",
       "    </tr>\n",
       "    <tr>\n",
       "      <th>2</th>\n",
       "      <td>Alcoholic beverages</td>\n",
       "      <td>11</td>\n",
       "    </tr>\n",
       "    <tr>\n",
       "      <th>3</th>\n",
       "      <td>Nuts and seeds</td>\n",
       "      <td>17</td>\n",
       "    </tr>\n",
       "    <tr>\n",
       "      <th>4</th>\n",
       "      <td>Beverages</td>\n",
       "      <td>21</td>\n",
       "    </tr>\n",
       "    <tr>\n",
       "      <th>5</th>\n",
       "      <td>Sugars, preserves and snacks</td>\n",
       "      <td>25</td>\n",
       "    </tr>\n",
       "    <tr>\n",
       "      <th>6</th>\n",
       "      <td>Fish and fish products</td>\n",
       "      <td>31</td>\n",
       "    </tr>\n",
       "    <tr>\n",
       "      <th>7</th>\n",
       "      <td>Milk and milk products</td>\n",
       "      <td>32</td>\n",
       "    </tr>\n",
       "    <tr>\n",
       "      <th>8</th>\n",
       "      <td>Herbs and spices</td>\n",
       "      <td>35</td>\n",
       "    </tr>\n",
       "    <tr>\n",
       "      <th>9</th>\n",
       "      <td>Meat and meat products</td>\n",
       "      <td>46</td>\n",
       "    </tr>\n",
       "    <tr>\n",
       "      <th>10</th>\n",
       "      <td>Soups, sauces and miscellaneous foods</td>\n",
       "      <td>46</td>\n",
       "    </tr>\n",
       "    <tr>\n",
       "      <th>11</th>\n",
       "      <td>Fruit</td>\n",
       "      <td>67</td>\n",
       "    </tr>\n",
       "    <tr>\n",
       "      <th>12</th>\n",
       "      <td>Cereals and cereal products</td>\n",
       "      <td>84</td>\n",
       "    </tr>\n",
       "    <tr>\n",
       "      <th>13</th>\n",
       "      <td>Vegetables</td>\n",
       "      <td>110</td>\n",
       "    </tr>\n",
       "  </tbody>\n",
       "</table>\n",
       "</div>"
      ],
      "text/plain": [
       "                              Super Group  Total Prod Count\n",
       "0                                    Eggs                 2\n",
       "1                           Fats and oils                 6\n",
       "2                     Alcoholic beverages                11\n",
       "3                          Nuts and seeds                17\n",
       "4                               Beverages                21\n",
       "5            Sugars, preserves and snacks                25\n",
       "6                  Fish and fish products                31\n",
       "7                  Milk and milk products                32\n",
       "8                        Herbs and spices                35\n",
       "9                  Meat and meat products                46\n",
       "10  Soups, sauces and miscellaneous foods                46\n",
       "11                                  Fruit                67\n",
       "12            Cereals and cereal products                84\n",
       "13                             Vegetables               110"
      ]
     },
     "execution_count": 18,
     "metadata": {},
     "output_type": "execute_result"
    }
   ],
   "source": [
    "ax4_count = redFood_matched.groupby('Super Group')['Food Name'].count().rename('Total Prod Count', inplace=True).copy().sort_values(ascending=True)\n",
    "ax4_nt = pd.DataFrame(ax4_count).reset_index()\n",
    "ax4_nt"
   ]
  },
  {
   "cell_type": "code",
   "execution_count": 19,
   "id": "9a3c8710",
   "metadata": {},
   "outputs": [],
   "source": [
    "# Evaluating Percentaged Mapped\n",
    "ax4_counts = ax4_nt.merge(ax4, on='Super Group', how='left')\n",
    "ax4_counts['%Matched'] = ax4_counts['Matched Prod Count'] / ax4_counts['Total Prod Count'] * 100 "
   ]
  },
  {
   "cell_type": "code",
   "execution_count": 20,
   "id": "e5ed6819",
   "metadata": {},
   "outputs": [
    {
     "data": {
      "image/png": "[encoded data removed]",
      "text/plain": [
       "<Figure size 1000x800 with 1 Axes>"
      ]
     },
     "metadata": {},
     "output_type": "display_data"
    }
   ],
   "source": [
    "import matplotlib.font_manager as fm\n",
    "\n",
    "# Find the minimum count in the ax4_counts DataFrame.\n",
    "min_count4 = ax4_counts['%Matched'].min()\n",
    "\n",
    "# Create a custom color palette.\n",
    "bar_colors4 = ['lightpink' if count != min_count4 else '#f95d6a' for count in ax4_counts['%Matched']]\n",
    "\n",
    "# Set the font family and size for the title.\n",
    "title_font = fm.FontProperties(family='Times New Roman', size=24)\n",
    "\n",
    "# Set the font family and size for the axes labels.\n",
    "axis_font = fm.FontProperties(family='Times New Roman', size=18)\n",
    "\n",
    "# Create the figure and axes objects.\n",
    "fig, ax = plt.subplots(figsize=(10, 8))\n",
    "\n",
    "# Plot the horizontal bar chart.\n",
    "bars = ax.barh(ax4_counts['Super Group'], ax4_counts['%Matched'], color=bar_colors4)\n",
    "\n",
    "# Add gridlines to the plot.\n",
    "ax.grid(axis='x', linestyle='--', alpha=0.2)\n",
    "\n",
    "# Customize the title, x-axis, and y-axis labels.\n",
    "ax.set_title('Evaluation of Hybrid Matching (Algorithm 4)', fontproperties=title_font)\n",
    "ax.set_xlabel('Percentage Matched', fontproperties=axis_font)\n",
    "ax.set_ylabel('Super Group', fontproperties=axis_font)\n",
    "\n",
    "# Set the maximum value of the x-axis to 100.\n",
    "ax.set_xlim(0, 100)\n",
    "\n",
    "# Adjust the spacing around the plot.\n",
    "plt.tight_layout(pad=1.0)\n",
    "\n",
    "# Remove the top and right spines from the plot.\n",
    "ax.spines['top'].set_visible(False)\n",
    "ax.spines['right'].set_visible(False)\n",
    "\n",
    "# Increase the tick label font size.\n",
    "ax.tick_params(axis='both', which='major', labelsize=13)\n",
    "\n",
    "# Invert the y-axis to display the highest match on top.\n",
    "ax.invert_yaxis()\n",
    "\n",
    "    # Show the plot.\n",
    "plt.show()\n"
   ]
  },
  {
   "cell_type": "markdown",
   "id": "7a89aa71",
   "metadata": {},
   "source": [
    "                                                  NEXT NOTEBOOK"
   ]
  }
 ],
 "metadata": {
  "kernelspec": {
   "display_name": "ProdW",
   "language": "python",
   "name": "prodw"
  },
  "language_info": {
   "codemirror_mode": {
    "name": "ipython",
    "version": 3
   },
   "file_extension": ".py",
   "mimetype": "text/x-python",
   "name": "python",
   "nbconvert_exporter": "python",
   "pygments_lexer": "ipython3",
   "version": "3.11.2"
  }
 },
 "nbformat": 4,
 "nbformat_minor": 5
}
