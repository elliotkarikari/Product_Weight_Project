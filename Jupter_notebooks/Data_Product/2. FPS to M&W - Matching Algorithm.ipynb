{
 "cells": [
  {
   "cell_type": "markdown",
   "id": "ece92cad",
   "metadata": {},
   "source": [
    "# Matching Algorithm - Matching Through Food Description"
   ]
  },
  {
   "cell_type": "markdown",
   "id": "b21a4f87",
   "metadata": {},
   "source": [
    "##### Import Libraries"
   ]
  },
  {
   "cell_type": "code",
   "execution_count": 1,
   "id": "ee5b14fb",
   "metadata": {},
   "outputs": [],
   "source": [
    "import pandas as pd\n",
    "import matplotlib.pyplot as plt\n",
    "import seaborn as sns\n",
    "import numpy as np\n",
    "import re #regular expressions "
   ]
  },
  {
   "cell_type": "markdown",
   "id": "6d08cee8",
   "metadata": {},
   "source": [
    "##### Read In Data"
   ]
  },
  {
   "cell_type": "markdown",
   "id": "6f2784a9",
   "metadata": {},
   "source": [
    "                                                      M&W Reduced"
   ]
  },
  {
   "cell_type": "code",
   "execution_count": 2,
   "id": "05336899",
   "metadata": {
    "scrolled": true
   },
   "outputs": [
    {
     "data": {
      "text/html": [
       "<div>\n",
       "<style scoped>\n",
       "    .dataframe tbody tr th:only-of-type {\n",
       "        vertical-align: middle;\n",
       "    }\n",
       "\n",
       "    .dataframe tbody tr th {\n",
       "        vertical-align: top;\n",
       "    }\n",
       "\n",
       "    .dataframe thead th {\n",
       "        text-align: right;\n",
       "    }\n",
       "</style>\n",
       "<table border=\"1\" class=\"dataframe\">\n",
       "  <thead>\n",
       "    <tr style=\"text-align: right;\">\n",
       "      <th></th>\n",
       "      <th>Food Code</th>\n",
       "      <th>Food Name</th>\n",
       "      <th>Group</th>\n",
       "      <th>Super Group</th>\n",
       "      <th>Sale format(s)</th>\n",
       "    </tr>\n",
       "  </thead>\n",
       "  <tbody>\n",
       "    <tr>\n",
       "      <th>0</th>\n",
       "      <td>17-208</td>\n",
       "      <td>beer, bitter, best, premium</td>\n",
       "      <td>QA</td>\n",
       "      <td>Alcoholic beverages</td>\n",
       "      <td>can, can multipack, bottle, bottle multipack</td>\n",
       "    </tr>\n",
       "    <tr>\n",
       "      <th>1</th>\n",
       "      <td>17-224</td>\n",
       "      <td>cider, sweet</td>\n",
       "      <td>QC</td>\n",
       "      <td>Alcoholic beverages</td>\n",
       "      <td>can, can multipack, bottle, bottle multipack</td>\n",
       "    </tr>\n",
       "    <tr>\n",
       "      <th>2</th>\n",
       "      <td>17-234</td>\n",
       "      <td>port</td>\n",
       "      <td>QF</td>\n",
       "      <td>Alcoholic beverages</td>\n",
       "      <td>bottle</td>\n",
       "    </tr>\n",
       "    <tr>\n",
       "      <th>3</th>\n",
       "      <td>17-236</td>\n",
       "      <td>sherry, medium</td>\n",
       "      <td>QF</td>\n",
       "      <td>Alcoholic beverages</td>\n",
       "      <td>bottle</td>\n",
       "    </tr>\n",
       "    <tr>\n",
       "      <th>4</th>\n",
       "      <td>17-247</td>\n",
       "      <td>spirits, 40% volume</td>\n",
       "      <td>QK</td>\n",
       "      <td>Alcoholic beverages</td>\n",
       "      <td>bottle, miniature</td>\n",
       "    </tr>\n",
       "  </tbody>\n",
       "</table>\n",
       "</div>"
      ],
      "text/plain": [
       "  Food Code                    Food Name Group          Super Group  \\\n",
       "0    17-208  beer, bitter, best, premium    QA  Alcoholic beverages   \n",
       "1    17-224                 cider, sweet    QC  Alcoholic beverages   \n",
       "2    17-234                         port    QF  Alcoholic beverages   \n",
       "3    17-236               sherry, medium    QF  Alcoholic beverages   \n",
       "4    17-247          spirits, 40% volume    QK  Alcoholic beverages   \n",
       "\n",
       "                                 Sale format(s)  \n",
       "0  can, can multipack, bottle, bottle multipack  \n",
       "1  can, can multipack, bottle, bottle multipack  \n",
       "2                                        bottle  \n",
       "3                                        bottle  \n",
       "4                             bottle, miniature  "
      ]
     },
     "execution_count": 2,
     "metadata": {},
     "output_type": "execute_result"
    }
   ],
   "source": [
    "#pd.set_option('display.max_rows', None)\n",
    "redFood = pd.read_csv(r\"C:\\Users\\medekar\\Desktop\\Product_Weight_Project\\Data\\Processed\\Reduced Super Group\\Cleaned\\Reduced_SecondClean.csv\", index_col=0)\n",
    "redFood.rename(columns={'Super Group':'SuperGroup'})\n",
    "redFood['Food Name'] = redFood['Food Name'].str.lower()\n",
    "redFood.head()"
   ]
  },
  {
   "cell_type": "markdown",
   "id": "c04c5362",
   "metadata": {},
   "source": [
    "                                                         FPS Data"
   ]
  },
  {
   "cell_type": "code",
   "execution_count": 3,
   "id": "e0b18b00",
   "metadata": {
    "scrolled": true
   },
   "outputs": [
    {
     "data": {
      "text/html": [
       "<div>\n",
       "<style scoped>\n",
       "    .dataframe tbody tr th:only-of-type {\n",
       "        vertical-align: middle;\n",
       "    }\n",
       "\n",
       "    .dataframe tbody tr th {\n",
       "        vertical-align: top;\n",
       "    }\n",
       "\n",
       "    .dataframe thead th {\n",
       "        text-align: right;\n",
       "    }\n",
       "</style>\n",
       "<table border=\"1\" class=\"dataframe\">\n",
       "  <thead>\n",
       "    <tr style=\"text-align: right;\">\n",
       "      <th></th>\n",
       "      <th>Group</th>\n",
       "      <th>Brand</th>\n",
       "      <th>Food Name</th>\n",
       "      <th>Portion Consumed</th>\n",
       "      <th>Weight</th>\n",
       "      <th>PurEqualCon</th>\n",
       "      <th>Purchased</th>\n",
       "      <th>Format</th>\n",
       "      <th>Source</th>\n",
       "    </tr>\n",
       "  </thead>\n",
       "  <tbody>\n",
       "    <tr>\n",
       "      <th>2672</th>\n",
       "      <td>YOGHURTS AND FROMAGE FRAIS</td>\n",
       "      <td>NaN</td>\n",
       "      <td>onken</td>\n",
       "      <td>NaN</td>\n",
       "      <td>200g</td>\n",
       "      <td>NaN</td>\n",
       "      <td>NaN</td>\n",
       "      <td>NaN</td>\n",
       "      <td>NaN</td>\n",
       "    </tr>\n",
       "    <tr>\n",
       "      <th>2673</th>\n",
       "      <td>YOGHURTS AND FROMAGE FRAIS</td>\n",
       "      <td>NaN</td>\n",
       "      <td>petit danoneâ</td>\n",
       "      <td>small</td>\n",
       "      <td>50g</td>\n",
       "      <td>NaN</td>\n",
       "      <td>NaN</td>\n",
       "      <td>NaN</td>\n",
       "      <td>NaN</td>\n",
       "    </tr>\n",
       "    <tr>\n",
       "      <th>2674</th>\n",
       "      <td>YOGHURTS AND FROMAGE FRAIS</td>\n",
       "      <td>NaN</td>\n",
       "      <td>st ivel fiendish faces</td>\n",
       "      <td>NaN</td>\n",
       "      <td>50g</td>\n",
       "      <td>NaN</td>\n",
       "      <td>NaN</td>\n",
       "      <td>NaN</td>\n",
       "      <td>NaN</td>\n",
       "    </tr>\n",
       "    <tr>\n",
       "      <th>2675</th>\n",
       "      <td>YOGHURTS AND FROMAGE FRAIS</td>\n",
       "      <td>NaN</td>\n",
       "      <td>baby fromage frais</td>\n",
       "      <td>Baby Danone</td>\n",
       "      <td>60g</td>\n",
       "      <td>Y</td>\n",
       "      <td>NaN</td>\n",
       "      <td>NaN</td>\n",
       "      <td>NaN</td>\n",
       "    </tr>\n",
       "    <tr>\n",
       "      <th>2676</th>\n",
       "      <td>YOGHURTS AND FROMAGE FRAIS</td>\n",
       "      <td>Heinz</td>\n",
       "      <td>baby fromage frais</td>\n",
       "      <td>Jar</td>\n",
       "      <td>163g</td>\n",
       "      <td>Y</td>\n",
       "      <td>NaN</td>\n",
       "      <td>NaN</td>\n",
       "      <td>NaN</td>\n",
       "    </tr>\n",
       "  </tbody>\n",
       "</table>\n",
       "</div>"
      ],
      "text/plain": [
       "                           Group   Brand               Food Name  \\\n",
       "2672  YOGHURTS AND FROMAGE FRAIS     NaN                   onken   \n",
       "2673  YOGHURTS AND FROMAGE FRAIS     NaN           petit danoneâ   \n",
       "2674  YOGHURTS AND FROMAGE FRAIS     NaN  st ivel fiendish faces   \n",
       "2675  YOGHURTS AND FROMAGE FRAIS     NaN      baby fromage frais   \n",
       "2676  YOGHURTS AND FROMAGE FRAIS  Heinz       baby fromage frais   \n",
       "\n",
       "     Portion Consumed Weight PurEqualCon  Purchased Format Source  \n",
       "2672              NaN   200g         NaN        NaN    NaN    NaN  \n",
       "2673            small    50g         NaN        NaN    NaN    NaN  \n",
       "2674              NaN    50g         NaN        NaN    NaN    NaN  \n",
       "2675      Baby Danone    60g           Y        NaN    NaN    NaN  \n",
       "2676              Jar   163g           Y        NaN    NaN    NaN  "
      ]
     },
     "execution_count": 3,
     "metadata": {},
     "output_type": "execute_result"
    }
   ],
   "source": [
    "CleanRetai = pd.read_csv(r'C:\\Users\\medekar\\Desktop\\Product_Weight_Project\\Data\\Processed\\FoodPortionSized\\FPS_VJ.csv')\n",
    "CleanRetai['Food Name'] = CleanRetai['Food Name'].str.lower()\n",
    "CleanRetai.tail()"
   ]
  },
  {
   "cell_type": "code",
   "execution_count": 4,
   "id": "7a20abd2",
   "metadata": {},
   "outputs": [
    {
     "data": {
      "text/html": [
       "<div>\n",
       "<style scoped>\n",
       "    .dataframe tbody tr th:only-of-type {\n",
       "        vertical-align: middle;\n",
       "    }\n",
       "\n",
       "    .dataframe tbody tr th {\n",
       "        vertical-align: top;\n",
       "    }\n",
       "\n",
       "    .dataframe thead th {\n",
       "        text-align: right;\n",
       "    }\n",
       "</style>\n",
       "<table border=\"1\" class=\"dataframe\">\n",
       "  <thead>\n",
       "    <tr style=\"text-align: right;\">\n",
       "      <th></th>\n",
       "      <th>Group</th>\n",
       "      <th>Brand</th>\n",
       "      <th>Food Name</th>\n",
       "      <th>Portion Consumed</th>\n",
       "      <th>Weight</th>\n",
       "      <th>PurEqualCon</th>\n",
       "      <th>Purchased</th>\n",
       "      <th>Format</th>\n",
       "      <th>Source</th>\n",
       "    </tr>\n",
       "  </thead>\n",
       "  <tbody>\n",
       "    <tr>\n",
       "      <th>0</th>\n",
       "      <td>BABY FOODS</td>\n",
       "      <td>Boots</td>\n",
       "      <td>first harvest,dessert starter</td>\n",
       "      <td>NaN</td>\n",
       "      <td>125g</td>\n",
       "      <td>Y</td>\n",
       "      <td>NaN</td>\n",
       "      <td>NaN</td>\n",
       "      <td>NaN</td>\n",
       "    </tr>\n",
       "    <tr>\n",
       "      <th>1</th>\n",
       "      <td>BABY FOODS</td>\n",
       "      <td>Boots</td>\n",
       "      <td>first harvest, infant desserts</td>\n",
       "      <td>NaN</td>\n",
       "      <td>125g</td>\n",
       "      <td>Y</td>\n",
       "      <td>NaN</td>\n",
       "      <td>NaN</td>\n",
       "      <td>NaN</td>\n",
       "    </tr>\n",
       "    <tr>\n",
       "      <th>2</th>\n",
       "      <td>BABY FOODS</td>\n",
       "      <td>Boots</td>\n",
       "      <td>first harvest,infant savouries</td>\n",
       "      <td>NaN</td>\n",
       "      <td>125g</td>\n",
       "      <td>Y</td>\n",
       "      <td>NaN</td>\n",
       "      <td>NaN</td>\n",
       "      <td>NaN</td>\n",
       "    </tr>\n",
       "    <tr>\n",
       "      <th>3</th>\n",
       "      <td>BABY FOODS</td>\n",
       "      <td>Boots</td>\n",
       "      <td>first harvest,junior desserts</td>\n",
       "      <td>NaN</td>\n",
       "      <td>190g</td>\n",
       "      <td>Y</td>\n",
       "      <td>NaN</td>\n",
       "      <td>NaN</td>\n",
       "      <td>NaN</td>\n",
       "    </tr>\n",
       "    <tr>\n",
       "      <th>4</th>\n",
       "      <td>BABY FOODS</td>\n",
       "      <td>Boots</td>\n",
       "      <td>first harvest,junior savouries</td>\n",
       "      <td>NaN</td>\n",
       "      <td>190g</td>\n",
       "      <td>Y</td>\n",
       "      <td>NaN</td>\n",
       "      <td>NaN</td>\n",
       "      <td>NaN</td>\n",
       "    </tr>\n",
       "  </tbody>\n",
       "</table>\n",
       "</div>"
      ],
      "text/plain": [
       "        Group  Brand                       Food Name Portion Consumed Weight  \\\n",
       "0  BABY FOODS  Boots   first harvest,dessert starter              NaN   125g   \n",
       "1  BABY FOODS  Boots  first harvest, infant desserts              NaN   125g   \n",
       "2  BABY FOODS  Boots  first harvest,infant savouries              NaN   125g   \n",
       "3  BABY FOODS  Boots   first harvest,junior desserts              NaN   190g   \n",
       "4  BABY FOODS  Boots  first harvest,junior savouries              NaN   190g   \n",
       "\n",
       "  PurEqualCon  Purchased Format Source  \n",
       "0           Y        NaN    NaN    NaN  \n",
       "1           Y        NaN    NaN    NaN  \n",
       "2           Y        NaN    NaN    NaN  \n",
       "3           Y        NaN    NaN    NaN  \n",
       "4           Y        NaN    NaN    NaN  "
      ]
     },
     "execution_count": 4,
     "metadata": {},
     "output_type": "execute_result"
    }
   ],
   "source": [
    "CleanRetail = CleanRetai[CleanRetai['PurEqualCon'].isin(['Y', 'Y, P'])]\n",
    "CleanRetail.head()"
   ]
  },
  {
   "cell_type": "markdown",
   "id": "e86913fc",
   "metadata": {},
   "source": [
    "###                                                        Match Data.\n",
    "\n",
    "###### Once matched, Import Weight and Unit Columns into Reduced M&W table"
   ]
  },
  {
   "cell_type": "markdown",
   "id": "79929170",
   "metadata": {},
   "source": [
    "# 1"
   ]
  },
  {
   "cell_type": "markdown",
   "id": "d97f9aae",
   "metadata": {},
   "source": [
    "                                                   Using Fuzzy Matching"
   ]
  },
  {
   "cell_type": "code",
   "execution_count": 5,
   "id": "1e8ac9c3",
   "metadata": {},
   "outputs": [],
   "source": [
    "from fuzzywuzzy import fuzz\n",
    "\n",
    "def match_food_group(CleanRetail, redFood):\n",
    "    \"\"\"\n",
    "    Matches food groups between two DataFrames using fuzzy matching and updates \n",
    "    redFood database with Weight and Unit from CleanRetail dataframe.\n",
    "\n",
    "    Args:\n",
    "        CleanRetail (DataFrame): The DataFrame containing the clean retail data.\n",
    "        redFood (DataFrame): The DataFrame containing the red food data.\n",
    "\n",
    "    Returns:\n",
    "        DataFrame: The red food DataFrame with updated weight, unit, and super group values.\n",
    "    \"\"\"\n",
    "    # Set a threshold for fuzzy matching.\n",
    "    threshold = 65\n",
    "\n",
    "    # Create a set to store the SKU descriptions that have already been matched.\n",
    "    matched_skus = set()\n",
    "\n",
    "    # Create a mapping dictionary for efficient lookups.\n",
    "    food_mapping = {}\n",
    "    for _, row in CleanRetail.iterrows():\n",
    "        food_mapping[row['Food Name']] = {\n",
    "            'Weight': row['Weight'],\n",
    "            'PurEqualCon': row['PurEqualCon'],\n",
    "            'Portion Consumed': row['Portion Consumed'],\n",
    "        }\n",
    "\n",
    "    # Add Weight and Unit columns to the redFood DataFrame.\n",
    "    redFood['Weight'] = ''\n",
    "    redFood['PurEqualCon'] = ''\n",
    "    redFood['Portion Consumed'] = ''\n",
    "\n",
    "    # Loop through the rows in the redFood DataFrame.\n",
    "    for i, row in redFood.iterrows():\n",
    "        # Get the food name from the current row.\n",
    "        product = row['Food Name']\n",
    "\n",
    "        # Check if the food name has already been matched.\n",
    "        if product in matched_skus:\n",
    "            continue\n",
    "\n",
    "        # Check similarity between the food name and SKU descriptions using fuzzy matching.\n",
    "        matches = CleanRetail['Food Name'].apply(lambda x: fuzz.token_sort_ratio(x, product) >= threshold)\n",
    "\n",
    "        # Replace NaN values in the boolean Series with False.\n",
    "        matches = matches.fillna(False)\n",
    "\n",
    "        # If any match is found, update the 'Weight', 'Unit', and 'Super Group' values in the redFood DataFrame.\n",
    "        if matches.any():\n",
    "            match_indices = matches[matches].index\n",
    "            match_index = match_indices[0]\n",
    "            food_info = food_mapping[CleanRetail.at[match_index, 'Food Name']]\n",
    "\n",
    "            redFood.at[i, 'Weight'] = food_info['Weight']\n",
    "            redFood.at[i, 'PurEqualCon'] = food_info['PurEqualCon']\n",
    "            redFood.at[i, 'Portion Consumed'] = food_info['Portion Consumed']\n",
    "\n",
    "            matched_skus.add(product)\n",
    "\n",
    "    return redFood\n",
    "\n",
    "\n",
    "redFood1 = match_food_group(CleanRetail.copy(), redFood.copy())"
   ]
  },
  {
   "cell_type": "code",
   "execution_count": 6,
   "id": "a3b0ce42",
   "metadata": {},
   "outputs": [],
   "source": [
    "redFood1['Source'] = ' '"
   ]
  },
  {
   "cell_type": "markdown",
   "id": "2d0651c1",
   "metadata": {},
   "source": [
    "###### Identifying all columns with weights and assigning data source "
   ]
  },
  {
   "cell_type": "code",
   "execution_count": 7,
   "id": "40703979",
   "metadata": {
    "scrolled": true
   },
   "outputs": [
    {
     "name": "stderr",
     "output_type": "stream",
     "text": [
      "C:\\Users\\medekar\\AppData\\Local\\Temp\\ipykernel_28360\\2909531313.py:3: SettingWithCopyWarning: \n",
      "A value is trying to be set on a copy of a slice from a DataFrame.\n",
      "Try using .loc[row_indexer,col_indexer] = value instead\n",
      "\n",
      "See the caveats in the documentation: https://pandas.pydata.org/pandas-docs/stable/user_guide/indexing.html#returning-a-view-versus-a-copy\n",
      "  WeiRdf1['Source'] = 'FPS'\n"
     ]
    }
   ],
   "source": [
    "pd.set_option('display.max_rows', None)\n",
    "WeiRdf1 = redFood1.loc[redFood1['Weight'] != '']\n",
    "WeiRdf1['Source'] = 'FPS'"
   ]
  },
  {
   "cell_type": "markdown",
   "id": "99ad331d",
   "metadata": {},
   "source": [
    "###### Updating Red M&W List with Source indications"
   ]
  },
  {
   "cell_type": "code",
   "execution_count": 8,
   "id": "19977039",
   "metadata": {},
   "outputs": [],
   "source": [
    "redFood1.update(WeiRdf1)"
   ]
  },
  {
   "cell_type": "code",
   "execution_count": 9,
   "id": "9ce9ae3b",
   "metadata": {
    "scrolled": true
   },
   "outputs": [
    {
     "data": {
      "text/plain": [
       "97"
      ]
     },
     "execution_count": 9,
     "metadata": {},
     "output_type": "execute_result"
    }
   ],
   "source": [
    "a = redFood1.loc[redFood1['Weight'] != '']\n",
    "a['Weight'].value_counts().sum()"
   ]
  },
  {
   "cell_type": "markdown",
   "id": "c5059529",
   "metadata": {},
   "source": [
    "### 97 / 535 items Matched Using Algo 1 "
   ]
  },
  {
   "cell_type": "code",
   "execution_count": 10,
   "id": "df3a8d58",
   "metadata": {},
   "outputs": [
    {
     "data": {
      "text/plain": [
       "'First Algorithm Matched 18.13% of products between McCane and Widdowson df and Food Portion Sizes df'"
      ]
     },
     "execution_count": 10,
     "metadata": {},
     "output_type": "execute_result"
    }
   ],
   "source": [
    "f'First Algorithm Matched {round((97/535) * 100, 2)}% of products between McCane and Widdowson df and Food Portion Sizes df'"
   ]
  },
  {
   "cell_type": "markdown",
   "id": "26444e1b",
   "metadata": {},
   "source": [
    "# 2"
   ]
  },
  {
   "cell_type": "markdown",
   "id": "af9fc094",
   "metadata": {},
   "source": [
    "                                    Using Term Frequency-Inverse Document Frequency\n",
    "                                                                        \n",
    "Its a feature extraction technique used in natural language processing and information retrieval. The main purpose of TfidfVectorizer is to transform a collection of text documents into a numerical feature matrix that can be used as input for machine learning algorithms.\n",
    "\n",
    "Starts with:\n",
    "\n",
    "Tokenization: The input text is first split into individual words or tokens.\n",
    "\n",
    "Term Frequency (TF): For each token, the term frequency is calculated, which represents the number of times a token appears in a specific document.\n",
    "\n",
    "Inverse Document Frequency (IDF): The inverse document frequency measures how important a word is in the entire collection of documents. If a word appears frequently in many documents, its IDF score will be low. But if a word is rare and only appears in a few documents, its IDF score will be high.\n",
    "\n",
    "TF-IDF Weighting: The TF-IDF score is calculated for each token in each document by multiplying the term frequency (TF) with the inverse document frequency (IDF)(how unique it is among all the documents).\n",
    "\n",
    "The result is that words that appear often in a document but are rare overall get a high TF-IDF score."
   ]
  },
  {
   "cell_type": "code",
   "execution_count": 11,
   "id": "3264d79d",
   "metadata": {},
   "outputs": [
    {
     "name": "stdout",
     "output_type": "stream",
     "text": [
      "CPU times: total: 719 ms\n",
      "Wall time: 845 ms\n"
     ]
    }
   ],
   "source": [
    "%%time\n",
    "from sklearn.feature_extraction.text import TfidfVectorizer\n",
    "from sklearn.metrics.pairwise import cosine_similarity\n",
    "\n",
    "\n",
    "def match_food_group(CleanRetail, redFood):\n",
    "    \"\"\"\n",
    "    Matches food groups between two DataFrames using TF-IDF and cosine similarity and updates \n",
    "    redFood database with Weight and Unit from CleanRetail dataframe.\n",
    "\n",
    "    Args:\n",
    "        CleanRetail (DataFrame): The DataFrame containing the clean retail data.\n",
    "        redFood (DataFrame): The DataFrame containing the red food data.\n",
    "\n",
    "    Returns:\n",
    "        DataFrame: The red food DataFrame with updated weight and unit values.\n",
    "    \"\"\"\n",
    "    # Set a threshold for cosine similarity.\n",
    "    threshold = 0.65\n",
    "\n",
    "    # Add Weight and Unit columns to the redFood DataFrame.\n",
    "    redFood['Weight'] = ''\n",
    "    redFood['PurEqualCon'] = ''\n",
    "    redFood['Portion Consumed'] = ''\n",
    "\n",
    "    # Preprocess text data in both DataFrames for the \"Food Name\" field.\n",
    "    CleanRetail['Food Name'] = CleanRetail['Food Name'].str.lower()\n",
    "    redFood['Food Name'] = redFood['Food Name'].str.lower()\n",
    "\n",
    "    # Create a TF-IDF vectorizer for the \"Food Name\" field only in the redFood DataFrame.\n",
    "    vectorizer = TfidfVectorizer()\n",
    "    vectorizer.fit(CleanRetail['Food Name'])\n",
    "\n",
    "    # Transform the \"Food Name\" field into TF-IDF vectors for both DataFrames.\n",
    "    tfidf_clean_retail = vectorizer.transform(CleanRetail['Food Name'])\n",
    "    tfidf_red_food = vectorizer.transform(redFood['Food Name'])\n",
    "\n",
    "    # Loop through the rows in the redFood DataFrame.\n",
    "    for i, row in redFood.iterrows():\n",
    "        # Get the food name from the current row.\n",
    "        product = row['Food Name']\n",
    "\n",
    "        # Calculate cosine similarity between the food name and all CleanRetail food names.\n",
    "        similarities = cosine_similarity(tfidf_red_food[i], tfidf_clean_retail)\n",
    "\n",
    "        # Find the index of the most similar food name based on cosine similarity.\n",
    "        match_index = similarities.argmax()\n",
    "\n",
    "        # If the similarity exceeds the threshold, update the 'Weight' and 'PurEqualCon' values in the redFood DataFrame.\n",
    "        if similarities[0, match_index] >= threshold:\n",
    "            food = CleanRetail.loc[CleanRetail.index[match_index], 'Weight']\n",
    "            unit = CleanRetail.loc[CleanRetail.index[match_index], 'PurEqualCon']\n",
    "            consumed = CleanRetail.loc[CleanRetail.index[match_index], 'Portion Consumed']\n",
    "\n",
    "            redFood.at[i, 'Weight'] = food\n",
    "            redFood.at[i, 'PurEqualCon'] = unit\n",
    "            redFood.at[i, 'Portion Consumed'] = consumed\n",
    "\n",
    "    return redFood\n",
    "\n",
    "redFood2 = match_food_group(CleanRetail.copy(), redFood.copy())"
   ]
  },
  {
   "cell_type": "code",
   "execution_count": 12,
   "id": "e6265223",
   "metadata": {},
   "outputs": [],
   "source": [
    "redFood2['Source'] = ' '"
   ]
  },
  {
   "cell_type": "markdown",
   "id": "a4e6db8c",
   "metadata": {},
   "source": [
    "###### Identifying all columns with weights and assigning data source "
   ]
  },
  {
   "cell_type": "code",
   "execution_count": 13,
   "id": "8a955d58",
   "metadata": {
    "scrolled": true
   },
   "outputs": [
    {
     "name": "stderr",
     "output_type": "stream",
     "text": [
      "C:\\Users\\medekar\\AppData\\Local\\Temp\\ipykernel_28360\\1784067148.py:3: SettingWithCopyWarning: \n",
      "A value is trying to be set on a copy of a slice from a DataFrame.\n",
      "Try using .loc[row_indexer,col_indexer] = value instead\n",
      "\n",
      "See the caveats in the documentation: https://pandas.pydata.org/pandas-docs/stable/user_guide/indexing.html#returning-a-view-versus-a-copy\n",
      "  WeiRdf2['Source'] = 'FPS'\n"
     ]
    }
   ],
   "source": [
    "pd.set_option('display.max_rows', None)\n",
    "WeiRdf2 = redFood2.loc[redFood2['Weight'] != '']\n",
    "WeiRdf2['Source'] = 'FPS'"
   ]
  },
  {
   "cell_type": "markdown",
   "id": "d7648307",
   "metadata": {},
   "source": [
    "###### Updating Red M&W List with Source indications"
   ]
  },
  {
   "cell_type": "code",
   "execution_count": 14,
   "id": "bd06756a",
   "metadata": {},
   "outputs": [],
   "source": [
    "redFood2.update(WeiRdf2)"
   ]
  },
  {
   "cell_type": "code",
   "execution_count": 15,
   "id": "79ebe89b",
   "metadata": {
    "scrolled": true
   },
   "outputs": [
    {
     "data": {
      "text/html": [
       "<div>\n",
       "<style scoped>\n",
       "    .dataframe tbody tr th:only-of-type {\n",
       "        vertical-align: middle;\n",
       "    }\n",
       "\n",
       "    .dataframe tbody tr th {\n",
       "        vertical-align: top;\n",
       "    }\n",
       "\n",
       "    .dataframe thead th {\n",
       "        text-align: right;\n",
       "    }\n",
       "</style>\n",
       "<table border=\"1\" class=\"dataframe\">\n",
       "  <thead>\n",
       "    <tr style=\"text-align: right;\">\n",
       "      <th></th>\n",
       "      <th>Food Code</th>\n",
       "      <th>Food Name</th>\n",
       "      <th>Group</th>\n",
       "      <th>Super Group</th>\n",
       "      <th>Sale format(s)</th>\n",
       "      <th>Weight</th>\n",
       "      <th>PurEqualCon</th>\n",
       "      <th>Portion Consumed</th>\n",
       "      <th>Source</th>\n",
       "    </tr>\n",
       "  </thead>\n",
       "  <tbody>\n",
       "    <tr>\n",
       "      <th>482</th>\n",
       "      <td>15-637</td>\n",
       "      <td>cauliflower cheese, retail</td>\n",
       "      <td>DR</td>\n",
       "      <td>Vegetables</td>\n",
       "      <td>packet</td>\n",
       "      <td>185g</td>\n",
       "      <td>Y</td>\n",
       "      <td>NaN</td>\n",
       "      <td>FPS</td>\n",
       "    </tr>\n",
       "    <tr>\n",
       "      <th>487</th>\n",
       "      <td>13-608</td>\n",
       "      <td>green beans, dried</td>\n",
       "      <td>DI</td>\n",
       "      <td>Vegetables</td>\n",
       "      <td>packet</td>\n",
       "      <td>170g</td>\n",
       "      <td>Y</td>\n",
       "      <td>small can</td>\n",
       "      <td>FPS</td>\n",
       "    </tr>\n",
       "    <tr>\n",
       "      <th>500</th>\n",
       "      <td>13-298</td>\n",
       "      <td>mustard leaves, raw</td>\n",
       "      <td>DG</td>\n",
       "      <td>Vegetables</td>\n",
       "      <td>NaN</td>\n",
       "      <td>5g</td>\n",
       "      <td>Y</td>\n",
       "      <td>I sachet</td>\n",
       "      <td>FPS</td>\n",
       "    </tr>\n",
       "    <tr>\n",
       "      <th>504</th>\n",
       "      <td>NaN</td>\n",
       "      <td>potatoes,</td>\n",
       "      <td>DA</td>\n",
       "      <td>Vegetables</td>\n",
       "      <td>NaN</td>\n",
       "      <td>75g</td>\n",
       "      <td>Y</td>\n",
       "      <td>small</td>\n",
       "      <td>FPS</td>\n",
       "    </tr>\n",
       "    <tr>\n",
       "      <th>529</th>\n",
       "      <td>15-617</td>\n",
       "      <td>sushi, vegetable</td>\n",
       "      <td>DR</td>\n",
       "      <td>Vegetables</td>\n",
       "      <td>NaN</td>\n",
       "      <td>210g/440g</td>\n",
       "      <td>Y</td>\n",
       "      <td>can</td>\n",
       "      <td>FPS</td>\n",
       "    </tr>\n",
       "  </tbody>\n",
       "</table>\n",
       "</div>"
      ],
      "text/plain": [
       "    Food Code                   Food Name Group Super Group Sale format(s)  \\\n",
       "482    15-637  cauliflower cheese, retail    DR  Vegetables         packet   \n",
       "487    13-608          green beans, dried    DI  Vegetables         packet   \n",
       "500    13-298         mustard leaves, raw    DG  Vegetables            NaN   \n",
       "504       NaN                   potatoes,    DA  Vegetables            NaN   \n",
       "529    15-617            sushi, vegetable    DR  Vegetables            NaN   \n",
       "\n",
       "        Weight PurEqualCon Portion Consumed Source  \n",
       "482       185g           Y              NaN    FPS  \n",
       "487       170g           Y        small can    FPS  \n",
       "500         5g           Y         I sachet    FPS  \n",
       "504        75g           Y            small    FPS  \n",
       "529  210g/440g           Y              can    FPS  "
      ]
     },
     "execution_count": 15,
     "metadata": {},
     "output_type": "execute_result"
    }
   ],
   "source": [
    "#redFood2\n",
    "b = redFood2.loc[redFood2['Weight'] != '']\n",
    "b.tail()"
   ]
  },
  {
   "cell_type": "code",
   "execution_count": 16,
   "id": "6b90baff",
   "metadata": {},
   "outputs": [
    {
     "data": {
      "text/plain": [
       "86"
      ]
     },
     "execution_count": 16,
     "metadata": {},
     "output_type": "execute_result"
    }
   ],
   "source": [
    "b['Weight'].value_counts().sum()"
   ]
  },
  {
   "cell_type": "markdown",
   "id": "46697da2",
   "metadata": {},
   "source": [
    "### 86 / 535 items Matched Using Algo 2 "
   ]
  },
  {
   "cell_type": "code",
   "execution_count": 17,
   "id": "6ead815b",
   "metadata": {},
   "outputs": [
    {
     "data": {
      "text/plain": [
       "'Second Algorithm Matched 16.07% of products between McCane and Widdowson df and Food Portion Sizes df. Contains some errors'"
      ]
     },
     "execution_count": 17,
     "metadata": {},
     "output_type": "execute_result"
    }
   ],
   "source": [
    "f'Second Algorithm Matched {round((86/535) * 100, 2)}% of products between McCane and Widdowson df and Food Portion Sizes df. Contains some errors'"
   ]
  },
  {
   "cell_type": "markdown",
   "id": "69ab769e",
   "metadata": {},
   "source": [
    "# 3"
   ]
  },
  {
   "cell_type": "markdown",
   "id": "045ff0b2",
   "metadata": {},
   "source": [
    "                                               Using Fuzzy Matching"
   ]
  },
  {
   "cell_type": "markdown",
   "id": "a1a555fa",
   "metadata": {},
   "source": [
    "\n",
    "\n",
    "Here, I use fuzz.token_set_ratio from the fuzzywuzzy library to calculate a similarity score between each food name in redFood and all food names in CleanRetail. The token_set_ratio function considers the set of unique tokens (words) in the strings and calculates the similarity based on common token matches. The similarity score ranges from 0 to 100, where higher values indicate more similarity.\n",
    "\n",
    "\n",
    "By adjusting the threshold value, you can control the matching sensitivity. Lower threshold values will allow for more leniency in matching, potentially catching more variations, while higher threshold values will require closer matches."
   ]
  },
  {
   "cell_type": "code",
   "execution_count": 18,
   "id": "113a5cdd",
   "metadata": {},
   "outputs": [
    {
     "name": "stderr",
     "output_type": "stream",
     "text": [
      "<timed exec>:46: SyntaxWarning: \"is not\" with a literal. Did you mean \"!=\"?\n"
     ]
    },
    {
     "name": "stdout",
     "output_type": "stream",
     "text": [
      "CPU times: total: 34.5 s\n",
      "Wall time: 34.6 s\n"
     ]
    }
   ],
   "source": [
    "%%time\n",
    "from fuzzywuzzy import fuzz\n",
    "\n",
    "def match_food_group(CleanRetail, redFood):\n",
    "    \"\"\"\n",
    "    Matches food groups between two DataFrames using approximate string matching and updates \n",
    "    redFood database with Weight and Unit from CleanRetail dataframe.\n",
    "\n",
    "    Args:\n",
    "        CleanRetail (DataFrame): The DataFrame containing the clean retail data.\n",
    "        redFood (DataFrame): The DataFrame containing the red food data.\n",
    "\n",
    "    Returns:\n",
    "        DataFrame: The red food DataFrame with updated weight and unit values.\n",
    "    \"\"\"\n",
    "    # Set a threshold for string matching similarity.\n",
    "    threshold = 65  # You can experiment with different threshold values (0 to 100).\n",
    "\n",
    "    # Add Weight and Unit columns to the redFood DataFrame.\n",
    "    redFood['Weight'] = ''\n",
    "    redFood['PurEqualCon'] = ''\n",
    "    redFood['Portion Consumed'] = ''\n",
    "    redFood['Source'] = ''\n",
    "\n",
    "    # Preprocess text data in both DataFrames for the \"Food Name\" field.\n",
    "    CleanRetail['Food Name'] = CleanRetail['Food Name'].str.lower()\n",
    "    redFood['Food Name'] = redFood['Food Name'].str.lower()\n",
    "\n",
    "    # Loop through the rows in the redFood DataFrame.\n",
    "    for i, row in redFood.iterrows():\n",
    "        # Get the food name from the current row.\n",
    "        product = row['Food Name']\n",
    "\n",
    "        # Find the most similar food name in CleanRetail using fuzzy string matching.\n",
    "        best_match = 60\n",
    "        best_score = 0\n",
    "\n",
    "        for _, retail_row in CleanRetail.iterrows():\n",
    "            retail_product = retail_row['Food Name']\n",
    "            similarity_score = fuzz.partial_token_set_ratio(product, retail_product)\n",
    "\n",
    "            if similarity_score > best_score and similarity_score >= threshold:\n",
    "                best_score = similarity_score\n",
    "                best_match = retail_row\n",
    "\n",
    "        # If the similarity exceeds the threshold, update the 'Weight' and 'PurEqualCon' values in the redFood DataFrame.\n",
    "        if best_match is not 60:\n",
    "            food = best_match['Weight']\n",
    "            unit = best_match['PurEqualCon']\n",
    "            consumed = best_match['Portion Consumed']\n",
    "            sourced = best_match['Source']\n",
    "\n",
    "            redFood.at[i, 'Weight'] = food\n",
    "            redFood.at[i, 'PurEqualCon'] = unit\n",
    "            redFood.at[i, 'Portion Consumed'] = consumed\n",
    "            redFood.at[i, 'Source'] = sourced\n",
    "\n",
    "    return redFood\n",
    "\n",
    "redFood3 = match_food_group(CleanRetail.copy(), redFood.copy())"
   ]
  },
  {
   "cell_type": "markdown",
   "id": "06f16199",
   "metadata": {},
   "source": [
    "                              Creating Source column so I can Identify weight Inputs source"
   ]
  },
  {
   "cell_type": "markdown",
   "id": "533bdd3f",
   "metadata": {},
   "source": [
    "###### Identifying all columns with weights and assigning data source "
   ]
  },
  {
   "cell_type": "code",
   "execution_count": 19,
   "id": "191be41d",
   "metadata": {
    "scrolled": true
   },
   "outputs": [
    {
     "name": "stderr",
     "output_type": "stream",
     "text": [
      "C:\\Users\\medekar\\AppData\\Local\\Temp\\ipykernel_28360\\3809329642.py:4: SettingWithCopyWarning: \n",
      "A value is trying to be set on a copy of a slice from a DataFrame.\n",
      "Try using .loc[row_indexer,col_indexer] = value instead\n",
      "\n",
      "See the caveats in the documentation: https://pandas.pydata.org/pandas-docs/stable/user_guide/indexing.html#returning-a-view-versus-a-copy\n",
      "  WeiRdf3['Source'] = WeiRdf3['Source'].fillna('FPS')\n"
     ]
    }
   ],
   "source": [
    "pd.set_option('display.max_rows', None)\n",
    "WeiRdf3 = redFood3.loc[redFood3['Weight'] != '']\n",
    "\n",
    "WeiRdf3['Source'] = WeiRdf3['Source'].fillna('FPS')"
   ]
  },
  {
   "cell_type": "markdown",
   "id": "6ec954c5",
   "metadata": {},
   "source": [
    "###### Updating Red M&W List with Source indications"
   ]
  },
  {
   "cell_type": "code",
   "execution_count": 20,
   "id": "0413eafd",
   "metadata": {},
   "outputs": [],
   "source": [
    "redFood3.update(WeiRdf3)"
   ]
  },
  {
   "cell_type": "code",
   "execution_count": 21,
   "id": "37f2a72c",
   "metadata": {},
   "outputs": [
    {
     "data": {
      "text/html": [
       "<div>\n",
       "<style scoped>\n",
       "    .dataframe tbody tr th:only-of-type {\n",
       "        vertical-align: middle;\n",
       "    }\n",
       "\n",
       "    .dataframe tbody tr th {\n",
       "        vertical-align: top;\n",
       "    }\n",
       "\n",
       "    .dataframe thead th {\n",
       "        text-align: right;\n",
       "    }\n",
       "</style>\n",
       "<table border=\"1\" class=\"dataframe\">\n",
       "  <thead>\n",
       "    <tr style=\"text-align: right;\">\n",
       "      <th></th>\n",
       "      <th>Food Code</th>\n",
       "      <th>Food Name</th>\n",
       "      <th>Group</th>\n",
       "      <th>Super Group</th>\n",
       "      <th>Sale format(s)</th>\n",
       "      <th>Weight</th>\n",
       "      <th>PurEqualCon</th>\n",
       "      <th>Portion Consumed</th>\n",
       "      <th>Source</th>\n",
       "    </tr>\n",
       "  </thead>\n",
       "  <tbody>\n",
       "    <tr>\n",
       "      <th>0</th>\n",
       "      <td>17-208</td>\n",
       "      <td>beer, bitter, best, premium</td>\n",
       "      <td>QA</td>\n",
       "      <td>Alcoholic beverages</td>\n",
       "      <td>can, can multipack, bottle, bottle multipack</td>\n",
       "      <td>574g</td>\n",
       "      <td>Y</td>\n",
       "      <td>1 pint</td>\n",
       "      <td>FPS</td>\n",
       "    </tr>\n",
       "    <tr>\n",
       "      <th>1</th>\n",
       "      <td>17-224</td>\n",
       "      <td>cider, sweet</td>\n",
       "      <td>QC</td>\n",
       "      <td>Alcoholic beverages</td>\n",
       "      <td>can, can multipack, bottle, bottle multipack</td>\n",
       "      <td>300g</td>\n",
       "      <td>Y</td>\n",
       "      <td>NaN</td>\n",
       "      <td>FPS</td>\n",
       "    </tr>\n",
       "    <tr>\n",
       "      <th>2</th>\n",
       "      <td>17-234</td>\n",
       "      <td>port</td>\n",
       "      <td>QF</td>\n",
       "      <td>Alcoholic beverages</td>\n",
       "      <td>bottle</td>\n",
       "      <td>161g</td>\n",
       "      <td>Y</td>\n",
       "      <td>Hot wings, with bones, 5 pieces</td>\n",
       "      <td>FPS</td>\n",
       "    </tr>\n",
       "    <tr>\n",
       "      <th>3</th>\n",
       "      <td>17-236</td>\n",
       "      <td>sherry, medium</td>\n",
       "      <td>QF</td>\n",
       "      <td>Alcoholic beverages</td>\n",
       "      <td>bottle</td>\n",
       "      <td></td>\n",
       "      <td></td>\n",
       "      <td></td>\n",
       "      <td></td>\n",
       "    </tr>\n",
       "    <tr>\n",
       "      <th>4</th>\n",
       "      <td>17-247</td>\n",
       "      <td>spirits, 40% volume</td>\n",
       "      <td>QK</td>\n",
       "      <td>Alcoholic beverages</td>\n",
       "      <td>bottle, miniature</td>\n",
       "      <td>29g</td>\n",
       "      <td>Y</td>\n",
       "      <td>1 miniature</td>\n",
       "      <td>FPS</td>\n",
       "    </tr>\n",
       "  </tbody>\n",
       "</table>\n",
       "</div>"
      ],
      "text/plain": [
       "  Food Code                    Food Name Group          Super Group  \\\n",
       "0    17-208  beer, bitter, best, premium    QA  Alcoholic beverages   \n",
       "1    17-224                 cider, sweet    QC  Alcoholic beverages   \n",
       "2    17-234                         port    QF  Alcoholic beverages   \n",
       "3    17-236               sherry, medium    QF  Alcoholic beverages   \n",
       "4    17-247          spirits, 40% volume    QK  Alcoholic beverages   \n",
       "\n",
       "                                 Sale format(s) Weight PurEqualCon  \\\n",
       "0  can, can multipack, bottle, bottle multipack   574g           Y   \n",
       "1  can, can multipack, bottle, bottle multipack   300g           Y   \n",
       "2                                        bottle   161g           Y   \n",
       "3                                        bottle                      \n",
       "4                             bottle, miniature    29g           Y   \n",
       "\n",
       "                  Portion Consumed Source  \n",
       "0                           1 pint    FPS  \n",
       "1                              NaN    FPS  \n",
       "2  Hot wings, with bones, 5 pieces    FPS  \n",
       "3                                          \n",
       "4                      1 miniature    FPS  "
      ]
     },
     "execution_count": 21,
     "metadata": {},
     "output_type": "execute_result"
    }
   ],
   "source": [
    "redFood3.head()"
   ]
  },
  {
   "cell_type": "code",
   "execution_count": 22,
   "id": "85df79e7",
   "metadata": {
    "scrolled": true
   },
   "outputs": [
    {
     "data": {
      "text/plain": [
       "523"
      ]
     },
     "execution_count": 22,
     "metadata": {},
     "output_type": "execute_result"
    }
   ],
   "source": [
    "c = redFood3.loc[redFood3['Weight'] != '']\n",
    "c['Food Name'].value_counts().sum()"
   ]
  },
  {
   "cell_type": "markdown",
   "id": "e4912270",
   "metadata": {},
   "source": [
    "### 523 / 535 items Matched Using Algo 3 with threshold 65 using a fuzz.partial_token_set_ratio"
   ]
  },
  {
   "cell_type": "code",
   "execution_count": 23,
   "id": "10429068",
   "metadata": {},
   "outputs": [
    {
     "data": {
      "text/plain": [
       "'Third Algorithm Matched 97.76% of products between McCane and Widdowson df and Food Portion Sizes df at a threshold of 65. Contains some errors'"
      ]
     },
     "execution_count": 23,
     "metadata": {},
     "output_type": "execute_result"
    }
   ],
   "source": [
    "f'Third Algorithm Matched {round((523/535) * 100, 2)}% of products between McCane and Widdowson df and Food Portion Sizes df at a threshold of 65. Contains some errors'"
   ]
  },
  {
   "cell_type": "markdown",
   "id": "e0ef2284",
   "metadata": {},
   "source": [
    "Exporting Updated dataframe"
   ]
  },
  {
   "cell_type": "code",
   "execution_count": 24,
   "id": "fa4d48e4",
   "metadata": {},
   "outputs": [],
   "source": [
    "#redFood3.to_csv(r'C:\\Users\\medekar\\Desktop\\Product_Weight_Project\\Data\\Processed\\ReducedwithWeights\\RedM&Weight.csv')"
   ]
  },
  {
   "cell_type": "markdown",
   "id": "a23425af",
   "metadata": {},
   "source": [
    "## Not Matched Feeds Into second Algo "
   ]
  },
  {
   "cell_type": "code",
   "execution_count": 25,
   "id": "1c4885ed",
   "metadata": {},
   "outputs": [
    {
     "data": {
      "text/plain": [
       "12"
      ]
     },
     "execution_count": 25,
     "metadata": {},
     "output_type": "execute_result"
    }
   ],
   "source": [
    "c1 = redFood3.loc[redFood3['Weight'] == '']\n",
    "c1['Food Name'].value_counts().sum()"
   ]
  },
  {
   "cell_type": "markdown",
   "id": "c74647ae",
   "metadata": {},
   "source": [
    "                                            Visualising Matching Efficiency "
   ]
  },
  {
   "cell_type": "code",
   "execution_count": 26,
   "id": "f94bf28d",
   "metadata": {},
   "outputs": [],
   "source": [
    "# Matched Product Counts.\n",
    "ax1_count = redFood.groupby('Super Group')['Food Name'].count().rename('Total Prod Count', inplace=True).copy().sort_values(ascending=True)\n",
    "ax2_count = redFood.groupby('Super Group')['Food Name'].count().rename('Total Prod Count', inplace=True).copy().sort_values(ascending=True)\n",
    "ax3_count = redFood.groupby('Super Group')['Food Name'].count().rename('Total Prod Count', inplace=True).copy().sort_values(ascending=True)\n",
    "\n",
    "#Total Product Counts\n",
    "ax1_s = a.groupby('Super Group')['PurEqualCon'].count().rename('Matched Prod Count', inplace=True).copy().sort_values(ascending=True)\n",
    "ax2_s = b.groupby('Super Group')['PurEqualCon'].count().rename('Matched Prod Count', inplace=True).copy().sort_values(ascending=True)\n",
    "ax3_s = c.groupby('Super Group')['PurEqualCon'].count().rename('Matched Prod Count', inplace=True).copy().sort_values(ascending=True)"
   ]
  },
  {
   "cell_type": "code",
   "execution_count": 27,
   "id": "4e2e924d",
   "metadata": {},
   "outputs": [],
   "source": [
    "#\n",
    "ax1_nt = pd.DataFrame(ax1_count).reset_index()\n",
    "ax2_nt = pd.DataFrame(ax2_count).reset_index()\n",
    "ax3_nt = pd.DataFrame(ax3_count).reset_index()\n",
    "\n",
    "# Find Total Counts of All Categories \n",
    "ax1 = pd.DataFrame(ax1_s).reset_index()\n",
    "ax2 = pd.DataFrame(ax2_s).reset_index()\n",
    "ax3 = pd.DataFrame(ax3_s).reset_index()\n",
    "\n",
    "# Evaluating Percentaged Mapped\n",
    "ax1_counts = ax1_nt.merge(ax1, on='Super Group', how='left')\n",
    "ax1_counts['%Matched'] = ax1_counts['Matched Prod Count'] / ax1_counts['Total Prod Count'] * 100 \n",
    "\n",
    "ax2_counts = ax2_nt.merge(ax2, on='Super Group', how='left')\n",
    "ax2_counts['%Matched'] = ax2_counts['Matched Prod Count'] / ax2_counts['Total Prod Count'] * 100 \n",
    "\n",
    "ax3_counts = ax3_nt.merge(ax3, on='Super Group', how='left')\n",
    "ax3_counts['%Matched'] = ax3_counts['Matched Prod Count'] / ax3_counts['Total Prod Count'] * 100 "
   ]
  },
  {
   "cell_type": "code",
   "execution_count": 28,
   "id": "c9ecb47d",
   "metadata": {},
   "outputs": [
    {
     "data": {
      "image/png": "[encoded data removed]",
      "text/plain": [
       "<Figure size 2500x1000 with 3 Axes>"
      ]
     },
     "metadata": {},
     "output_type": "display_data"
    }
   ],
   "source": [
    "# Find the minimum count in each grouped DataFrame.\n",
    "min_count1 = ax1_counts['%Matched'].min()\n",
    "min_count2 = ax2_counts['%Matched'].min()\n",
    "min_count3 = ax3_counts['%Matched'].min()\n",
    "\n",
    "# Create a list of colors for the bars. If count equals the minimum count, set the color to red; otherwise, set it to teal.\n",
    "bar_colors1 = ['#f95d6a' if count == min_count1 else 'lightpink' for count in ax1_counts['%Matched']]\n",
    "bar_colors2 = ['#f95d6a' if count == min_count2 else 'lightpink' for count in ax2_counts['%Matched']]\n",
    "bar_colors3 = ['#f95d6a' if count == min_count3 else 'lightpink' for count in ax3_counts['%Matched']]\n",
    "\n",
    "# Create a figure with three subplots (1 row, 3 columns) for each algorithm's matching output evaluation.\n",
    "fig, (ax1, ax2, ax3) = plt.subplots(1, 3, sharex=True, sharey=True)\n",
    "fig.set_size_inches(25, 10)\n",
    "\n",
    "# Plot the bar chart for each algorithm's matching output evaluation.\n",
    "ax1.barh(ax1_counts['Super Group'], ax1_counts['%Matched'], color=bar_colors1)\n",
    "ax1.set_title('Evaluating fuzz.token_sort_ratio, Algo1', fontsize=20)\n",
    "\n",
    "ax2.barh(ax2_counts['Super Group'], ax2_counts['%Matched'], color=bar_colors2)\n",
    "ax2.set_title('Evaluating TfidfVectorizer, Algo 2', fontsize=20)\n",
    "\n",
    "ax3.barh(ax3_counts['Super Group'], ax3_counts['%Matched'], color=bar_colors3)\n",
    "ax3.set_title('Evaluating partial_token_set_ratio, Algo 3', fontsize=20)\n",
    "\n",
    "# Set the label for the common x-axis and y-axis of the subplots.\n",
    "fig.supxlabel(\"Percentage Matched\")\n",
    "fig.supylabel(\"Super Group\")\n",
    "\n",
    "plt.show()"
   ]
  },
  {
   "cell_type": "markdown",
   "id": "73fe317f",
   "metadata": {},
   "source": [
    "### Algo 3 most successful with Matching but contains errors. Evaluate Success rate of Matching. \n",
    "\n",
    "I would Use a combination of Algo 2 and 3 for final data product, However set a very high threshold for first algo"
   ]
  },
  {
   "cell_type": "markdown",
   "id": "f7428fc3",
   "metadata": {},
   "source": [
    "# 4"
   ]
  },
  {
   "cell_type": "markdown",
   "id": "2cbbb56e",
   "metadata": {},
   "source": [
    "###### Algorithm"
   ]
  },
  {
   "cell_type": "code",
   "execution_count": 51,
   "id": "83df5d80",
   "metadata": {},
   "outputs": [],
   "source": [
    "from fuzzywuzzy import fuzz\n",
    "from sklearn.feature_extraction.text import TfidfVectorizer\n",
    "from sklearn.metrics.pairwise import cosine_similarity\n",
    "\n",
    "def preprocess_text(df, column_name):\n",
    "    return df[column_name].str.lower()\n",
    "\n",
    "def fuzzy_matching_score(source, target):\n",
    "    return fuzz.partial_token_set_ratio(source, target)\n",
    "\n",
    "def get_most_similar_indices(tfidf_red_food, tfidf_clean_retail):\n",
    "    similarities = cosine_similarity(tfidf_red_food, tfidf_clean_retail)\n",
    "    return similarities.argmax(axis=1)\n",
    "\n",
    "def hybrid_fuzzy_matching(CleanRetail, redFood):\n",
    "    # Set thresholds for matching\n",
    "    partial_token_set_ratio_threshold = 98\n",
    "    cosine_similarity_threshold = 0.70\n",
    "    min_similarity_threshold = 0.47\n",
    "\n",
    "    # Preprocess text data in both DataFrames for the \"Food Name\" field.\n",
    "    CleanRetail['Food Name'] = preprocess_text(CleanRetail, 'Food Name')\n",
    "    redFood['Food Name'] = preprocess_text(redFood, 'Food Name')\n",
    "\n",
    "    # Step 1: Partial Token Set Ratio (Fuzzy Matching)\n",
    "    CleanRetail['Partial Token Set Ratio'] = CleanRetail['Food Name'].apply(lambda x: fuzzy_matching_score(x, redFood['Food Name']))\n",
    "    potential_matches = CleanRetail[CleanRetail['Partial Token Set Ratio'] >= partial_token_set_ratio_threshold]\n",
    "\n",
    "    # Step 2: TF-IDF and Cosine Similarity (Text Matching) - Use combined matches as input\n",
    "    vectorizer = TfidfVectorizer()\n",
    "    vectorizer.fit(potential_matches['Food Name'])\n",
    "    tfidf_clean_retail = vectorizer.transform(potential_matches['Food Name'])\n",
    "    tfidf_red_food = vectorizer.transform(redFood['Food Name'])\n",
    "\n",
    "    # Find the most similar match for each redFood product\n",
    "    max_sim_indices = get_most_similar_indices(tfidf_red_food, tfidf_clean_retail)\n",
    "    max_sim_scores = cosine_similarity(tfidf_red_food, tfidf_clean_retail).max(axis=1)\n",
    "\n",
    "    # Update redFood DataFrame with matched information and sources\n",
    "    redFood['Similarity Score'] = max_sim_scores\n",
    "    redFood['Weight'] = potential_matches['Weight'].values[max_sim_indices]\n",
    "    redFood['PurEqualCon'] = potential_matches['PurEqualCon'].values[max_sim_indices]\n",
    "    redFood['Portion Consumed'] = potential_matches['Portion Consumed'].values[max_sim_indices]\n",
    "\n",
    "    # Create a mapping dictionary for matched indices to their sources\n",
    "    match_indices_to_sources = dict(zip(potential_matches.index, potential_matches['Source']))\n",
    "\n",
    "    # Map the sources and format to the redFood DataFrame based on matched indices\n",
    "    redFood['Source'] = redFood.index.map(lambda i: match_indices_to_sources.get(max_sim_indices[i], ''))\n",
    "    \n",
    "    # Set to NaN for rows where similarity score is below the minimum threshold\n",
    "    redFood.loc[redFood['Similarity Score'] < min_similarity_threshold, ['Weight', 'PurEqualCon', 'Portion Consumed', 'Source']] = ''\n",
    "\n",
    "    return redFood\n",
    "\n",
    "# Call the hybrid_fuzzy_matching function and get the matched DataFrame\n",
    "redFood_matched = hybrid_fuzzy_matching(CleanRetail.copy(), redFood.copy())"
   ]
  },
  {
   "cell_type": "code",
   "execution_count": 52,
   "id": "be12659b",
   "metadata": {
    "scrolled": true
   },
   "outputs": [
    {
     "data": {
      "text/html": [
       "<div>\n",
       "<style scoped>\n",
       "    .dataframe tbody tr th:only-of-type {\n",
       "        vertical-align: middle;\n",
       "    }\n",
       "\n",
       "    .dataframe tbody tr th {\n",
       "        vertical-align: top;\n",
       "    }\n",
       "\n",
       "    .dataframe thead th {\n",
       "        text-align: right;\n",
       "    }\n",
       "</style>\n",
       "<table border=\"1\" class=\"dataframe\">\n",
       "  <thead>\n",
       "    <tr style=\"text-align: right;\">\n",
       "      <th></th>\n",
       "      <th>Food Code</th>\n",
       "      <th>Food Name</th>\n",
       "      <th>Group</th>\n",
       "      <th>Super Group</th>\n",
       "      <th>Sale format(s)</th>\n",
       "      <th>Similarity Score</th>\n",
       "      <th>Weight</th>\n",
       "      <th>PurEqualCon</th>\n",
       "      <th>Portion Consumed</th>\n",
       "      <th>Source</th>\n",
       "    </tr>\n",
       "  </thead>\n",
       "  <tbody>\n",
       "    <tr>\n",
       "      <th>0</th>\n",
       "      <td>17-208</td>\n",
       "      <td>beer, bitter, best, premium</td>\n",
       "      <td>QA</td>\n",
       "      <td>Alcoholic beverages</td>\n",
       "      <td>can, can multipack, bottle, bottle multipack</td>\n",
       "      <td>0.707107</td>\n",
       "      <td>574g</td>\n",
       "      <td>Y</td>\n",
       "      <td>1 pint</td>\n",
       "      <td>NaN</td>\n",
       "    </tr>\n",
       "    <tr>\n",
       "      <th>1</th>\n",
       "      <td>17-224</td>\n",
       "      <td>cider, sweet</td>\n",
       "      <td>QC</td>\n",
       "      <td>Alcoholic beverages</td>\n",
       "      <td>can, can multipack, bottle, bottle multipack</td>\n",
       "      <td>0.609864</td>\n",
       "      <td>25g</td>\n",
       "      <td>Y</td>\n",
       "      <td>NaN</td>\n",
       "      <td></td>\n",
       "    </tr>\n",
       "    <tr>\n",
       "      <th>2</th>\n",
       "      <td>17-234</td>\n",
       "      <td>port</td>\n",
       "      <td>QF</td>\n",
       "      <td>Alcoholic beverages</td>\n",
       "      <td>bottle</td>\n",
       "      <td>0.000000</td>\n",
       "      <td></td>\n",
       "      <td></td>\n",
       "      <td></td>\n",
       "      <td></td>\n",
       "    </tr>\n",
       "    <tr>\n",
       "      <th>3</th>\n",
       "      <td>17-236</td>\n",
       "      <td>sherry, medium</td>\n",
       "      <td>QF</td>\n",
       "      <td>Alcoholic beverages</td>\n",
       "      <td>bottle</td>\n",
       "      <td>0.000000</td>\n",
       "      <td></td>\n",
       "      <td></td>\n",
       "      <td></td>\n",
       "      <td></td>\n",
       "    </tr>\n",
       "    <tr>\n",
       "      <th>4</th>\n",
       "      <td>17-247</td>\n",
       "      <td>spirits, 40% volume</td>\n",
       "      <td>QK</td>\n",
       "      <td>Alcoholic beverages</td>\n",
       "      <td>bottle, miniature</td>\n",
       "      <td>1.000000</td>\n",
       "      <td>29g</td>\n",
       "      <td>Y</td>\n",
       "      <td>1 miniature</td>\n",
       "      <td></td>\n",
       "    </tr>\n",
       "  </tbody>\n",
       "</table>\n",
       "</div>"
      ],
      "text/plain": [
       "  Food Code                    Food Name Group          Super Group  \\\n",
       "0    17-208  beer, bitter, best, premium    QA  Alcoholic beverages   \n",
       "1    17-224                 cider, sweet    QC  Alcoholic beverages   \n",
       "2    17-234                         port    QF  Alcoholic beverages   \n",
       "3    17-236               sherry, medium    QF  Alcoholic beverages   \n",
       "4    17-247          spirits, 40% volume    QK  Alcoholic beverages   \n",
       "\n",
       "                                 Sale format(s)  Similarity Score Weight  \\\n",
       "0  can, can multipack, bottle, bottle multipack          0.707107   574g   \n",
       "1  can, can multipack, bottle, bottle multipack          0.609864    25g   \n",
       "2                                        bottle          0.000000          \n",
       "3                                        bottle          0.000000          \n",
       "4                             bottle, miniature          1.000000    29g   \n",
       "\n",
       "  PurEqualCon Portion Consumed Source  \n",
       "0           Y           1 pint    NaN  \n",
       "1           Y              NaN         \n",
       "2                                      \n",
       "3                                      \n",
       "4           Y      1 miniature         "
      ]
     },
     "execution_count": 52,
     "metadata": {},
     "output_type": "execute_result"
    }
   ],
   "source": [
    "redFood_matched.head()"
   ]
  },
  {
   "cell_type": "code",
   "execution_count": 53,
   "id": "724bf5ac",
   "metadata": {},
   "outputs": [
    {
     "data": {
      "text/plain": [
       "320"
      ]
     },
     "execution_count": 53,
     "metadata": {},
     "output_type": "execute_result"
    }
   ],
   "source": [
    "d = redFood_matched.loc[redFood_matched['Weight'] != '']\n",
    "d['Food Name'].value_counts().sum()"
   ]
  },
  {
   "cell_type": "markdown",
   "id": "29141638",
   "metadata": {},
   "source": [
    "#### Export Matched DataSet"
   ]
  },
  {
   "cell_type": "code",
   "execution_count": 55,
   "id": "2390a4d1",
   "metadata": {},
   "outputs": [],
   "source": [
    "#redFood_matched.to_csv(r'C:\\Users\\medekar\\Desktop\\Product_Weight_Project\\Data\\Processed\\ReducedwithWeights\\dataproduct.csv')"
   ]
  },
  {
   "cell_type": "markdown",
   "id": "c91f1ab4",
   "metadata": {},
   "source": [
    "### 320 / 535 items Matched Using Algo 4 which is a combination of Algo 2 & It uses the fuzz.partial_token_set_ratio & Term Frequency-Inverse Document Frequency"
   ]
  },
  {
   "cell_type": "code",
   "execution_count": 56,
   "id": "3fd5b8a5",
   "metadata": {},
   "outputs": [
    {
     "data": {
      "text/plain": [
       "'Fourth Algorithm Matched 59.81% of products between McCane and Widdowson df and Food Portion Sizes df at a threshold of 90 and a Cosine threshold of 70. Contains some errors'"
      ]
     },
     "execution_count": 56,
     "metadata": {},
     "output_type": "execute_result"
    }
   ],
   "source": [
    "f'Fourth Algorithm Matched {round((320/535) * 100, 2)}% of products between McCane and Widdowson df and Food Portion Sizes df at a threshold of 90 and a Cosine threshold of 70. Contains some errors'"
   ]
  },
  {
   "cell_type": "markdown",
   "id": "03f4958a",
   "metadata": {},
   "source": [
    "## Plotting Matching Efficiency of Algo 4"
   ]
  },
  {
   "cell_type": "markdown",
   "id": "6c6b06b1",
   "metadata": {},
   "source": [
    "Find total counts of food by Super Group"
   ]
  },
  {
   "cell_type": "code",
   "execution_count": 57,
   "id": "d70f02d2",
   "metadata": {
    "scrolled": false
   },
   "outputs": [
    {
     "data": {
      "text/html": [
       "<div>\n",
       "<style scoped>\n",
       "    .dataframe tbody tr th:only-of-type {\n",
       "        vertical-align: middle;\n",
       "    }\n",
       "\n",
       "    .dataframe tbody tr th {\n",
       "        vertical-align: top;\n",
       "    }\n",
       "\n",
       "    .dataframe thead th {\n",
       "        text-align: right;\n",
       "    }\n",
       "</style>\n",
       "<table border=\"1\" class=\"dataframe\">\n",
       "  <thead>\n",
       "    <tr style=\"text-align: right;\">\n",
       "      <th></th>\n",
       "      <th>Super Group</th>\n",
       "      <th>Total Prod Count</th>\n",
       "    </tr>\n",
       "  </thead>\n",
       "  <tbody>\n",
       "    <tr>\n",
       "      <th>0</th>\n",
       "      <td>Eggs</td>\n",
       "      <td>2</td>\n",
       "    </tr>\n",
       "    <tr>\n",
       "      <th>1</th>\n",
       "      <td>Fats and oils</td>\n",
       "      <td>7</td>\n",
       "    </tr>\n",
       "    <tr>\n",
       "      <th>2</th>\n",
       "      <td>Alcoholic beverages</td>\n",
       "      <td>8</td>\n",
       "    </tr>\n",
       "    <tr>\n",
       "      <th>3</th>\n",
       "      <td>Beverages</td>\n",
       "      <td>14</td>\n",
       "    </tr>\n",
       "    <tr>\n",
       "      <th>4</th>\n",
       "      <td>Nuts and seeds</td>\n",
       "      <td>17</td>\n",
       "    </tr>\n",
       "    <tr>\n",
       "      <th>5</th>\n",
       "      <td>Sugars, preserves and snacks</td>\n",
       "      <td>25</td>\n",
       "    </tr>\n",
       "    <tr>\n",
       "      <th>6</th>\n",
       "      <td>Fish and fish products</td>\n",
       "      <td>33</td>\n",
       "    </tr>\n",
       "    <tr>\n",
       "      <th>7</th>\n",
       "      <td>Milk and milk products</td>\n",
       "      <td>33</td>\n",
       "    </tr>\n",
       "    <tr>\n",
       "      <th>8</th>\n",
       "      <td>Herbs and spices</td>\n",
       "      <td>35</td>\n",
       "    </tr>\n",
       "    <tr>\n",
       "      <th>9</th>\n",
       "      <td>Soups, sauces and miscellaneous foods</td>\n",
       "      <td>44</td>\n",
       "    </tr>\n",
       "    <tr>\n",
       "      <th>10</th>\n",
       "      <td>Meat and meat products</td>\n",
       "      <td>46</td>\n",
       "    </tr>\n",
       "    <tr>\n",
       "      <th>11</th>\n",
       "      <td>Fruit</td>\n",
       "      <td>68</td>\n",
       "    </tr>\n",
       "    <tr>\n",
       "      <th>12</th>\n",
       "      <td>Cereals and cereal products</td>\n",
       "      <td>89</td>\n",
       "    </tr>\n",
       "    <tr>\n",
       "      <th>13</th>\n",
       "      <td>Vegetables</td>\n",
       "      <td>114</td>\n",
       "    </tr>\n",
       "  </tbody>\n",
       "</table>\n",
       "</div>"
      ],
      "text/plain": [
       "                              Super Group  Total Prod Count\n",
       "0                                    Eggs                 2\n",
       "1                           Fats and oils                 7\n",
       "2                     Alcoholic beverages                 8\n",
       "3                               Beverages                14\n",
       "4                          Nuts and seeds                17\n",
       "5            Sugars, preserves and snacks                25\n",
       "6                  Fish and fish products                33\n",
       "7                  Milk and milk products                33\n",
       "8                        Herbs and spices                35\n",
       "9   Soups, sauces and miscellaneous foods                44\n",
       "10                 Meat and meat products                46\n",
       "11                                  Fruit                68\n",
       "12            Cereals and cereal products                89\n",
       "13                             Vegetables               114"
      ]
     },
     "execution_count": 57,
     "metadata": {},
     "output_type": "execute_result"
    }
   ],
   "source": [
    "ax4_count = redFood_matched.groupby('Super Group')['Food Name'].count().rename('Total Prod Count', inplace=True).copy().sort_values(ascending=True)\n",
    "ax4_nt = pd.DataFrame(ax4_count).reset_index()\n",
    "ax4_nt"
   ]
  },
  {
   "cell_type": "markdown",
   "id": "66c03b26",
   "metadata": {},
   "source": [
    "Count of Matched items by Super Group"
   ]
  },
  {
   "cell_type": "code",
   "execution_count": 58,
   "id": "898fbb2c",
   "metadata": {
    "scrolled": false
   },
   "outputs": [
    {
     "data": {
      "text/html": [
       "<div>\n",
       "<style scoped>\n",
       "    .dataframe tbody tr th:only-of-type {\n",
       "        vertical-align: middle;\n",
       "    }\n",
       "\n",
       "    .dataframe tbody tr th {\n",
       "        vertical-align: top;\n",
       "    }\n",
       "\n",
       "    .dataframe thead th {\n",
       "        text-align: right;\n",
       "    }\n",
       "</style>\n",
       "<table border=\"1\" class=\"dataframe\">\n",
       "  <thead>\n",
       "    <tr style=\"text-align: right;\">\n",
       "      <th></th>\n",
       "      <th>Super Group</th>\n",
       "      <th>Matched Prod Count</th>\n",
       "    </tr>\n",
       "  </thead>\n",
       "  <tbody>\n",
       "    <tr>\n",
       "      <th>0</th>\n",
       "      <td>Eggs</td>\n",
       "      <td>1</td>\n",
       "    </tr>\n",
       "    <tr>\n",
       "      <th>1</th>\n",
       "      <td>Fats and oils</td>\n",
       "      <td>4</td>\n",
       "    </tr>\n",
       "    <tr>\n",
       "      <th>2</th>\n",
       "      <td>Alcoholic beverages</td>\n",
       "      <td>6</td>\n",
       "    </tr>\n",
       "    <tr>\n",
       "      <th>3</th>\n",
       "      <td>Herbs and spices</td>\n",
       "      <td>6</td>\n",
       "    </tr>\n",
       "    <tr>\n",
       "      <th>4</th>\n",
       "      <td>Beverages</td>\n",
       "      <td>8</td>\n",
       "    </tr>\n",
       "    <tr>\n",
       "      <th>5</th>\n",
       "      <td>Nuts and seeds</td>\n",
       "      <td>9</td>\n",
       "    </tr>\n",
       "    <tr>\n",
       "      <th>6</th>\n",
       "      <td>Sugars, preserves and snacks</td>\n",
       "      <td>18</td>\n",
       "    </tr>\n",
       "    <tr>\n",
       "      <th>7</th>\n",
       "      <td>Meat and meat products</td>\n",
       "      <td>20</td>\n",
       "    </tr>\n",
       "    <tr>\n",
       "      <th>8</th>\n",
       "      <td>Milk and milk products</td>\n",
       "      <td>22</td>\n",
       "    </tr>\n",
       "    <tr>\n",
       "      <th>9</th>\n",
       "      <td>Fish and fish products</td>\n",
       "      <td>24</td>\n",
       "    </tr>\n",
       "    <tr>\n",
       "      <th>10</th>\n",
       "      <td>Soups, sauces and miscellaneous foods</td>\n",
       "      <td>30</td>\n",
       "    </tr>\n",
       "    <tr>\n",
       "      <th>11</th>\n",
       "      <td>Fruit</td>\n",
       "      <td>43</td>\n",
       "    </tr>\n",
       "    <tr>\n",
       "      <th>12</th>\n",
       "      <td>Cereals and cereal products</td>\n",
       "      <td>47</td>\n",
       "    </tr>\n",
       "    <tr>\n",
       "      <th>13</th>\n",
       "      <td>Vegetables</td>\n",
       "      <td>82</td>\n",
       "    </tr>\n",
       "  </tbody>\n",
       "</table>\n",
       "</div>"
      ],
      "text/plain": [
       "                              Super Group  Matched Prod Count\n",
       "0                                    Eggs                   1\n",
       "1                           Fats and oils                   4\n",
       "2                     Alcoholic beverages                   6\n",
       "3                        Herbs and spices                   6\n",
       "4                               Beverages                   8\n",
       "5                          Nuts and seeds                   9\n",
       "6            Sugars, preserves and snacks                  18\n",
       "7                  Meat and meat products                  20\n",
       "8                  Milk and milk products                  22\n",
       "9                  Fish and fish products                  24\n",
       "10  Soups, sauces and miscellaneous foods                  30\n",
       "11                                  Fruit                  43\n",
       "12            Cereals and cereal products                  47\n",
       "13                             Vegetables                  82"
      ]
     },
     "execution_count": 58,
     "metadata": {},
     "output_type": "execute_result"
    }
   ],
   "source": [
    "d = redFood_matched[redFood_matched['Weight'] != '']\n",
    "ax4_s = d.groupby('Super Group')['Food Name'].count().rename('Matched Prod Count', inplace=True).copy().sort_values(ascending=True)\n",
    "ax4 = pd.DataFrame(ax4_s).reset_index()\n",
    "ax4"
   ]
  },
  {
   "cell_type": "code",
   "execution_count": 59,
   "id": "c7313fd5",
   "metadata": {},
   "outputs": [],
   "source": [
    "# Evaluating Percentaged Mapped\n",
    "ax4_counts = ax4_nt.merge(ax4, on='Super Group', how='left')\n",
    "ax4_counts['%Matched'] = ax4_counts['Matched Prod Count'] / ax4_counts['Total Prod Count'] * 100 "
   ]
  },
  {
   "cell_type": "code",
   "execution_count": 61,
   "id": "9e6e9678",
   "metadata": {},
   "outputs": [
    {
     "data": {
      "image/png": "[encoded data removed]",
      "text/plain": [
       "<Figure size 1000x800 with 1 Axes>"
      ]
     },
     "metadata": {},
     "output_type": "display_data"
    }
   ],
   "source": [
    "import matplotlib.font_manager as fm\n",
    "\n",
    "# Find the minimum count in the ax4_counts DataFrame.\n",
    "min_count4 = ax4_counts['%Matched'].min()\n",
    "\n",
    "# Create a custom color palette.\n",
    "bar_colors4 = ['lightpink' if count != min_count4 else '#f95d6a' for count in ax4_counts['%Matched']]\n",
    "\n",
    "# Set the font family and size for the title.\n",
    "title_font = fm.FontProperties(family='Times New Roman', size=24)\n",
    "\n",
    "# Set the font family and size for the axes labels.\n",
    "axis_font = fm.FontProperties(family='Times New Roman', size=18)\n",
    "\n",
    "# Create the figure and axes objects.\n",
    "fig, ax = plt.subplots(figsize=(10, 8))\n",
    "\n",
    "# Plot the horizontal bar chart.\n",
    "bars = ax.barh(ax4_counts['Super Group'], ax4_counts['%Matched'], color=bar_colors4)\n",
    "\n",
    "# Add gridlines to the plot.\n",
    "ax.grid(axis='x', linestyle='--', alpha=0.2)\n",
    "\n",
    "# Customize the title, x-axis, and y-axis labels.\n",
    "ax.set_title('Evaluation of Hybrid Matching (Algorithm 4)', fontproperties=title_font)\n",
    "ax.set_xlabel('Percentage Matched', fontproperties=axis_font)\n",
    "ax.set_ylabel('Super Group', fontproperties=axis_font)\n",
    "\n",
    "# Set the maximum value of the x-axis to 100.\n",
    "ax.set_xlim(0, 100)\n",
    "\n",
    "# Adjust the spacing around the plot.\n",
    "plt.tight_layout(pad=1.0)\n",
    "\n",
    "# Remove the top and right spines from the plot.\n",
    "ax.spines['top'].set_visible(False)\n",
    "ax.spines['right'].set_visible(False)\n",
    "\n",
    "# Increase the tick label font size.\n",
    "ax.tick_params(axis='both', which='major', labelsize=13)\n",
    "\n",
    "# Invert the y-axis to display the highest match on top.\n",
    "ax.invert_yaxis()\n",
    "\n",
    "    # Show the plot.\n",
    "plt.show()\n"
   ]
  },
  {
   "cell_type": "markdown",
   "id": "cf0d44a4",
   "metadata": {},
   "source": [
    "                                        Matching with Supervised Algorithm"
   ]
  },
  {
   "cell_type": "markdown",
   "id": "e8b2ed37",
   "metadata": {},
   "source": [
    "###### Predefined List"
   ]
  },
  {
   "cell_type": "code",
   "execution_count": 37,
   "id": "ef43ca3b",
   "metadata": {},
   "outputs": [],
   "source": [
    "# #Alcoholic beverages\n",
    "# Alcoh_bev = ['Beer','Cider','Port','Sherry','Spirits','Vermouth', 'Wine']\n",
    "# Alcoh_bev = [item.lower() for item in Alcoh_bev]\n",
    "\n",
    "# #Beverages\n",
    "# Bev = ['Juice', 'Cappuccino', 'Cola', 'Drink', 'Chocolate', 'Energy', \n",
    "#        'Horlicks', 'Lemonade', 'Lucozade', 'Lager', 'Liqueurs']\n",
    "# Bev = [item.lower() for item in Bev]\n",
    "\n",
    "\n",
    "# #Cereals and cereal products\n",
    "# Cer = ['Bread', 'Cereal', 'Biscuits', 'Cakes', 'Croissants', \n",
    "#            'Crackers', 'Pastry', 'Pizza', 'Pies', 'Pudding', 'Rice']\n",
    "# Cer = [item.lower() for item in Cer]\n",
    "\n",
    "# #Eggs\n",
    "# Eg = ['Eggs', 'Quiche']\n",
    "# Eg = [item.lower() for item in Eg]\n",
    "\n",
    "# #Fats and oils\n",
    "# Foils = ['Dripping', 'Lard', 'Oil']\n",
    "# Foils = [item.lower() for item in Foils]\n",
    "\n",
    "\n",
    "# #Fish and fish products\n",
    "# Fsh = ['Ayr', 'Anchovies', 'Bass', 'Bele', 'Boal', 'Bream', 'Bombay', 'Catfish', 'Chital', 'Crab', \n",
    "#         'Crayfish', 'Calamari', 'Cockles', 'Cuttlefish', 'Caviare', 'Eel', 'Haddock', 'Hake', 'Kalabasu', \n",
    "#         'Katla', 'Kippers', 'Mackerel', 'Mussels', 'Octopus', 'Oysters', 'Pollock', 'Prawns']\n",
    "# Fsh = [item.lower() for item in Fsh]\n",
    "\n",
    "\n",
    "# #Fruit\n",
    "# Frt = ['Apples', 'Apricots', 'Avocado', 'Babaco', 'Bananas', 'Berries','Currants','Cherries', \n",
    "#          'Citrus', 'Cranberries', 'Currants', 'Damsons', 'Dates', 'Elderberries', 'Gooseberries', \n",
    "#          'Grapefruit', 'Grapes', 'Guava', 'Kiwi', 'Kumquats', 'Lemons', 'Limes', 'Loganberries', 'Mangoes', \n",
    "#          'Melon', 'Mulberries', 'Nectarines', 'Olives', 'Oranges', 'Passion fruit', 'Peaches', 'Pears', 'Pineapple', \n",
    "#          'Plums', 'Pomegranate', 'Prunes', 'Raisins', 'Raspberries', 'Rhubarb', 'Strawberries']\n",
    "# Frt = [item.lower() for item in Frt]\n",
    "\n",
    "\n",
    "# #Herbs and spices\n",
    "# Heb = ['Allspice', 'Anise', 'Asafoetida', 'Basil', 'Caraway', 'Cardamom', 'Celery', 'Chervil', 'Chilli', 'Chinese 5 spice', \n",
    "#          'Chives', 'Cinnamon', 'Cloves', 'Coriander', 'Cumin', 'Curry', 'Dill', 'Garam masala', 'Garlic', 'Ginger', 'Marjoram', \n",
    "#          'Mint', 'Mixed herbs', 'Mustard', 'Nutmeg', 'Oregano', 'Paprika', 'Parsley', 'Pepper', 'Rosemary', 'Saffron', 'Sage']\n",
    "# Heb = [item.lower() for item in Heb]\n",
    "\n",
    "\n",
    "# #Meat and meat products\n",
    "# Met = ['Bacon', 'Beef', 'Chicken', 'Duck', 'Gammon', 'Ghee', 'Ham', 'Haggis', 'Kidney', 'Lamb', 'Liver', 'Luncheon meat', \n",
    "#        'Mince', 'Oxtail', 'Pork', 'Rabbit', 'Ribs', 'Spare ribs', 'Venison']\n",
    "# Met = [item.lower() for item in Met]\n",
    "\n",
    "\n",
    "# #Milk and milk products\n",
    "# Mlk = ['Butter', 'Cheese', 'Cream', 'Custard', 'Desserts', 'Ice cream', 'Jelly', \n",
    "#        'Lassi', 'Lollies', 'Milk', 'milk powder', 'Mousse', 'Pudding', 'Raita', 'Yogurt']\n",
    "# Mlk = [item.lower() for item in Mlk]\n",
    "\n",
    "\n",
    "# #Nuts and seeds\n",
    "# Nts = ['Almonds', 'Breadnut', 'Betel', 'Chestnuts', 'Coconut', 'Hazelnuts', \n",
    "#        'Macadamia', 'Marzipan', 'Mixed nuts', 'Peanut butter', 'Peanuts', \n",
    "#        'Pistachio', 'Quinoa', 'Sunflower', 'Walnuts']\n",
    "# Nts = [item.lower() for item in Nts]\n",
    "\n",
    "# #Soups, sauces and miscellaneous foods\n",
    "# Sp = ['Apple sauce', 'Barbecue', 'Sauce', 'Soup', 'Dressing', 'Chutney', 'Relish', 'Mayonnaise', \n",
    "#        'Mustard', 'Pesto', 'Pickle', 'Salad cream', 'Soy sauce', 'Stock, Vinegar', 'Worcestershire sauce']\n",
    "# Sp = [item.lower() for item in Sp]\n",
    "\n",
    "# #Sugars, preserves and snacks\n",
    "# Sgs = ['Chocolate', 'Creme egg', 'Corn snacks', 'Glucose', 'Honey', 'Jam', 'Liquorice', 'Marmalade', 'Maltesers', \n",
    "#        'Mars bar', 'Marshmallows', 'Nougat', 'Peppermints', 'Popcorn', 'Pork scratchings', 'Potato crisps', \n",
    "#        'Sugar', 'Syrup', 'Sweets']\n",
    "# Sgs = [item.lower() for item in Sgs]\n",
    "\n",
    "# #Vegetables\n",
    "# Veg = ['Ackee', 'Agar', 'Alfalfa', 'Amaranth', 'Arrowhead', 'Artichoke', 'Asparagus', 'Aubergine', 'Beans', 'Beetroot', 'Bok choy', \n",
    "#        'Breadfruit', 'Broccoli', 'Brussels sprouts', 'Cabbage', 'Carrots', 'Cauliflower', 'Celeriac', 'Celery', 'Chard', 'Chicory', \n",
    "#        'Courgette', 'Kale', 'Kohl rabi', 'Lentils', 'Leeks', 'Lettuce', 'Lotus', 'Mushrooms', 'Mustard leaves', 'Okra', 'Onions', \n",
    "#        'Papaya', 'Parsnip', 'Pepper', 'Plantain', 'Potatoes', 'Pumpkin', 'Radish', 'Rocket', 'Spinach', 'Swede', 'Sweet potato',\n",
    "#        'Sweetcorn', 'Turnip', 'Watercress', 'Yam']\n",
    "# Veg = [item.lower() for item in Veg]\n",
    "\n",
    "# foodLists = [Alcoh_bev,Bev,Cer,Eg,Foils,Fsh,Frt,Heb,Met,Mlk,Nts,Sp,Sgs,Veg]"
   ]
  },
  {
   "cell_type": "markdown",
   "id": "4d8c9f81",
   "metadata": {},
   "source": [
    "                                                  NEXT NOTEBOOK"
   ]
  }
 ],
 "metadata": {
  "kernelspec": {
   "display_name": "ProdW",
   "language": "python",
   "name": "prodw"
  },
  "language_info": {
   "codemirror_mode": {
    "name": "ipython",
    "version": 3
   },
   "file_extension": ".py",
   "mimetype": "text/x-python",
   "name": "python",
   "nbconvert_exporter": "python",
   "pygments_lexer": "ipython3",
   "version": "3.11.2"
  }
 },
 "nbformat": 4,
 "nbformat_minor": 5
}
