{
 "cells": [
  {
   "cell_type": "markdown",
   "id": "f8ca6f47",
   "metadata": {},
   "source": [
    "## Visualising Food by Super Group using a network Graph"
   ]
  },
  {
   "cell_type": "markdown",
   "id": "743ee8c9",
   "metadata": {},
   "source": [
    "Import Library"
   ]
  },
  {
   "cell_type": "code",
   "execution_count": 11,
   "id": "8fa563c0",
   "metadata": {},
   "outputs": [],
   "source": [
    "import pandas as pd\n",
    "import matplotlib.pyplot as plt\n",
    "import plotly.graph_objects as go\n",
    "import dash\n",
    "from dash import dcc\n",
    "from dash import html\n",
    "import matplotlib.cm as cm\n",
    "import squarify"
   ]
  },
  {
   "cell_type": "markdown",
   "id": "2d408493",
   "metadata": {},
   "source": [
    "Import Dataset"
   ]
  },
  {
   "cell_type": "code",
   "execution_count": 12,
   "id": "50803fef",
   "metadata": {
    "scrolled": false
   },
   "outputs": [
    {
     "data": {
      "text/html": [
       "<div>\n",
       "<style scoped>\n",
       "    .dataframe tbody tr th:only-of-type {\n",
       "        vertical-align: middle;\n",
       "    }\n",
       "\n",
       "    .dataframe tbody tr th {\n",
       "        vertical-align: top;\n",
       "    }\n",
       "\n",
       "    .dataframe thead th {\n",
       "        text-align: right;\n",
       "    }\n",
       "</style>\n",
       "<table border=\"1\" class=\"dataframe\">\n",
       "  <thead>\n",
       "    <tr style=\"text-align: right;\">\n",
       "      <th></th>\n",
       "      <th>Food Code</th>\n",
       "      <th>Food Name</th>\n",
       "      <th>Group</th>\n",
       "      <th>Super Group</th>\n",
       "      <th>Sale format(s)</th>\n",
       "      <th>Source</th>\n",
       "      <th>Similarity Score</th>\n",
       "      <th>Weight</th>\n",
       "      <th>PurEqualCon</th>\n",
       "      <th>Portion Consumed</th>\n",
       "    </tr>\n",
       "  </thead>\n",
       "  <tbody>\n",
       "    <tr>\n",
       "      <th>0</th>\n",
       "      <td>17-208</td>\n",
       "      <td>beer, bitter, best, premium, 1 pint</td>\n",
       "      <td>QA</td>\n",
       "      <td>Alcoholic beverages</td>\n",
       "      <td>pint</td>\n",
       "      <td>NaN</td>\n",
       "      <td>0.828152</td>\n",
       "      <td>574g</td>\n",
       "      <td>Y</td>\n",
       "      <td>1 pint</td>\n",
       "    </tr>\n",
       "    <tr>\n",
       "      <th>1</th>\n",
       "      <td>NaN</td>\n",
       "      <td>beer, bitter, best, premium, bottle</td>\n",
       "      <td>QA</td>\n",
       "      <td>Alcoholic beverages</td>\n",
       "      <td>beer bottle</td>\n",
       "      <td>NaN</td>\n",
       "      <td>0.792934</td>\n",
       "      <td>250/300g</td>\n",
       "      <td>Y</td>\n",
       "      <td>bottle</td>\n",
       "    </tr>\n",
       "    <tr>\n",
       "      <th>2</th>\n",
       "      <td>NaN</td>\n",
       "      <td>beer, bitter, best, premium, small can</td>\n",
       "      <td>QA</td>\n",
       "      <td>Alcoholic beverages</td>\n",
       "      <td>small can</td>\n",
       "      <td>NaN</td>\n",
       "      <td>0.782098</td>\n",
       "      <td>333g</td>\n",
       "      <td>Y</td>\n",
       "      <td>small can</td>\n",
       "    </tr>\n",
       "    <tr>\n",
       "      <th>3</th>\n",
       "      <td>NaN</td>\n",
       "      <td>beer, bitter, best, premium, large can</td>\n",
       "      <td>QA</td>\n",
       "      <td>Alcoholic beverages</td>\n",
       "      <td>large can</td>\n",
       "      <td>NaN</td>\n",
       "      <td>0.785473</td>\n",
       "      <td>444g</td>\n",
       "      <td>Y</td>\n",
       "      <td>large can</td>\n",
       "    </tr>\n",
       "    <tr>\n",
       "      <th>4</th>\n",
       "      <td>17-224</td>\n",
       "      <td>cider</td>\n",
       "      <td>QC</td>\n",
       "      <td>Alcoholic beverages</td>\n",
       "      <td>can, can multipack, bottle, bottle multipack</td>\n",
       "      <td>NaN</td>\n",
       "      <td>0.000000</td>\n",
       "      <td>NaN</td>\n",
       "      <td>NaN</td>\n",
       "      <td>NaN</td>\n",
       "    </tr>\n",
       "  </tbody>\n",
       "</table>\n",
       "</div>"
      ],
      "text/plain": [
       "  Food Code                               Food Name Group  \\\n",
       "0    17-208     beer, bitter, best, premium, 1 pint    QA   \n",
       "1       NaN     beer, bitter, best, premium, bottle    QA   \n",
       "2       NaN  beer, bitter, best, premium, small can    QA   \n",
       "3       NaN  beer, bitter, best, premium, large can    QA   \n",
       "4    17-224                                   cider    QC   \n",
       "\n",
       "           Super Group                                Sale format(s)  Source  \\\n",
       "0  Alcoholic beverages                                          pint     NaN   \n",
       "1  Alcoholic beverages                                   beer bottle     NaN   \n",
       "2  Alcoholic beverages                                     small can     NaN   \n",
       "3  Alcoholic beverages                                     large can     NaN   \n",
       "4  Alcoholic beverages  can, can multipack, bottle, bottle multipack     NaN   \n",
       "\n",
       "   Similarity Score    Weight PurEqualCon Portion Consumed  \n",
       "0          0.828152      574g           Y           1 pint  \n",
       "1          0.792934  250/300g           Y          bottle   \n",
       "2          0.782098      333g           Y        small can  \n",
       "3          0.785473      444g           Y        large can  \n",
       "4          0.000000       NaN         NaN              NaN  "
      ]
     },
     "execution_count": 12,
     "metadata": {},
     "output_type": "execute_result"
    }
   ],
   "source": [
    "pd.set_option('display.max_rows', None)\n",
    "Retail = pd.read_csv(r'C:\\Users\\medekar\\Desktop\\Product_Weight_Project\\Data\\Processed\\ReducedwithWeights\\dataproduct.csv', index_col=0)\n",
    "Retail.head()"
   ]
  },
  {
   "cell_type": "markdown",
   "id": "e1223457",
   "metadata": {},
   "source": [
    "                                            Creating and Visualising Graph"
   ]
  },
  {
   "cell_type": "markdown",
   "id": "5c04082d",
   "metadata": {},
   "source": [
    "### Food Products in Super Group"
   ]
  },
  {
   "cell_type": "code",
   "execution_count": 13,
   "id": "a404c7d5",
   "metadata": {},
   "outputs": [
    {
     "data": {
      "image/png": "[encoded data removed]",
      "text/plain": [
       "<Figure size 1600x1000 with 1 Axes>"
      ]
     },
     "metadata": {},
     "output_type": "display_data"
    }
   ],
   "source": [
    "# Count the occurrences of each super group\n",
    "super_group_counts = Retail['Super Group'].value_counts()\n",
    "\n",
    "# Create labels and sizes for the treemap\n",
    "labels = super_group_counts.index\n",
    "sizes = super_group_counts.values\n",
    "\n",
    "# Custom colors for the treemap (replace with your preferred colors)\n",
    "# For shading one color, we'll use the 'viridis' colormap from Matplotlib\n",
    "cmap = cm.Set3\n",
    "normalize = plt.Normalize(vmin=sizes.min(), vmax=sizes.max())\n",
    "colors = [cmap(normalize(value)) for value in sizes]\n",
    "\n",
    "# Add box outlines\n",
    "plt.figure(figsize=(16, 10))\n",
    "squarify.plot(sizes=sizes, label=labels, alpha=0.8, color=colors, linewidth=1, edgecolor='black', pad=True)\n",
    "\n",
    "# Add title\n",
    "plt.title('Standardised Food Composite Data Product (ShelfScale)', fontsize=16, fontweight='bold')\n",
    "\n",
    "\n",
    "# Remove axes\n",
    "plt.axis('off')\n",
    "\n",
    "# Show the plot\n",
    "plt.show()\n"
   ]
  },
  {
   "cell_type": "markdown",
   "id": "2e9199a1",
   "metadata": {},
   "source": [
    "                                            Creating an interactive Version"
   ]
  },
  {
   "cell_type": "code",
   "execution_count": 14,
   "id": "75f67069",
   "metadata": {
    "scrolled": false
   },
   "outputs": [],
   "source": [
    "# Count the occurrences of each super group\n",
    "super_group_counts = Retail['Super Group'].value_counts()\n",
    "\n",
    "# Create labels and sizes for the treemap\n",
    "labels = super_group_counts.index\n",
    "sizes = super_group_counts.values\n",
    "\n",
    "# Custom colors for the treemap (replace with your preferred colors)\n",
    "cmap = cm.Set3\n",
    "colors = [f'rgb{tuple(int(255 * x) for x in cmap(i)[:3])}' for i in range(len(labels))]\n",
    "\n",
    "# Create the Plotly treemap\n",
    "fig = go.Figure(go.Treemap(\n",
    "    labels=labels,\n",
    "    parents=[''] * len(labels),\n",
    "    values=sizes,\n",
    "    customdata=[f\"{size} products\" for size in sizes],  # Data for hover info\n",
    "    texttemplate=\"%{label}<br>%{customdata}\",\n",
    "    textfont=dict(size=15, family=\"Arial\"),\n",
    "    marker=dict(\n",
    "        colors=colors,\n",
    "        line=dict(width=0.5, color='black')\n",
    "    )\n",
    "))\n",
    "\n",
    "# Customize the layout\n",
    "fig.update_layout(\n",
    "    margin=dict(t=50, l=10, r=10, b=10)\n",
    ")\n",
    "\n",
    "# Initialize the Dash app\n",
    "app = dash.Dash(__name__)\n",
    "\n",
    "# Define loading indicator component with CSS styling\n",
    "loading_indicator = html.Div(\n",
    "    html.Div([\n",
    "        dcc.Loading(\n",
    "            html.Div([\n",
    "                html.Div(\"Loading...\", className=\"loading-text\"),\n",
    "                html.Div(className=\"loading-spinner\")\n",
    "            ]),\n",
    "            type=\"default\",\n",
    "            color=\"#119DFF\",\n",
    "        ),\n",
    "    ], className=\"loading-container\")\n",
    ")\n",
    "\n",
    "# Define the app layout\n",
    "app.layout = html.Div([\n",
    "    html.Div([\n",
    "        html.H1('ShelfScale Dashboard', className='header'),\n",
    "        html.P(\"Click on a treemap box to see more details:\", className='intro-text'),\n",
    "    ], className='header-container'),\n",
    "    html.Div([\n",
    "        dcc.Graph(id='treemap', figure=fig, config={'displayModeBar': False}),\n",
    "        html.Div(id='bar-chart-container', className='background-image', style={\n",
    "            'background-image': 'url(r\"C:/Users/medekar/Desktop/Product_Weight_Project/Dashboard/SscaleDB.png\")',\n",
    "            'background-size': 'cover',\n",
    "        })  # Placeholder for the bar-chart\n",
    "    ], className='treemap-container'),\n",
    "    html.A(id='download-link', children='Download Table', href='', target='_blank'),\n",
    "    html.Div([\n",
    "        html.Div(id='table-container', className='table-container', children=[\n",
    "            html.Table(id='details-table', className='details-table')\n",
    "        ]),   \n",
    "    ], className='table-container'),\n",
    "])\n"
   ]
  },
  {
   "cell_type": "markdown",
   "id": "4aafaf1b",
   "metadata": {},
   "source": [
    "# When I click a box I want the information of the box to show in expanded box with the option to download"
   ]
  },
  {
   "cell_type": "code",
   "execution_count": 15,
   "id": "4f31a6c5",
   "metadata": {
    "scrolled": false
   },
   "outputs": [
    {
     "data": {
      "text/html": [
       "\n",
       "        <iframe\n",
       "            width=\"100%\"\n",
       "            height=\"650\"\n",
       "            src=\"http://127.0.0.1:8050/\"\n",
       "            frameborder=\"0\"\n",
       "            allowfullscreen\n",
       "            \n",
       "        ></iframe>\n",
       "        "
      ],
      "text/plain": [
       "<IPython.lib.display.IFrame at 0x1d4a40060d0>"
      ]
     },
     "metadata": {},
     "output_type": "display_data"
    },
    {
     "name": "stdout",
     "output_type": "stream",
     "text": [
      "\u001b[1;31m---------------------------------------------------------------------------\u001b[0m\n",
      "\u001b[1;31mAttributeError\u001b[0m                            Traceback (most recent call last)\n",
      "\u001b[1;31mAttributeError\u001b[0m: 'numpy.int64' object has no attribute 'index'\n",
      "\n",
      "\u001b[1;31m---------------------------------------------------------------------------\u001b[0m\n",
      "\u001b[1;31mAttributeError\u001b[0m                            Traceback (most recent call last)\n",
      "\u001b[1;31mAttributeError\u001b[0m: 'numpy.int64' object has no attribute 'index'\n",
      "\n",
      "\u001b[1;31m---------------------------------------------------------------------------\u001b[0m\n",
      "\u001b[1;31mAttributeError\u001b[0m                            Traceback (most recent call last)\n",
      "\u001b[1;31mAttributeError\u001b[0m: 'numpy.int64' object has no attribute 'index'\n",
      "\n",
      "\u001b[1;31m---------------------------------------------------------------------------\u001b[0m\n",
      "\u001b[1;31mAttributeError\u001b[0m                            Traceback (most recent call last)\n",
      "\u001b[1;31mAttributeError\u001b[0m: 'numpy.int64' object has no attribute 'index'\n",
      "\n",
      "\u001b[1;31m---------------------------------------------------------------------------\u001b[0m\n",
      "\u001b[1;31mAttributeError\u001b[0m                            Traceback (most recent call last)\n",
      "\u001b[1;31mAttributeError\u001b[0m: 'numpy.int64' object has no attribute 'index'\n",
      "\n",
      "\u001b[1;31m---------------------------------------------------------------------------\u001b[0m\n",
      "\u001b[1;31mAttributeError\u001b[0m                            Traceback (most recent call last)\n",
      "\u001b[1;31mAttributeError\u001b[0m: 'numpy.int64' object has no attribute 'index'\n",
      "\n",
      "\u001b[1;31m---------------------------------------------------------------------------\u001b[0m\n",
      "\u001b[1;31mAttributeError\u001b[0m                            Traceback (most recent call last)\n",
      "\u001b[1;31mAttributeError\u001b[0m: 'numpy.int64' object has no attribute 'index'\n",
      "\n",
      "\u001b[1;31m---------------------------------------------------------------------------\u001b[0m\n",
      "\u001b[1;31mAttributeError\u001b[0m                            Traceback (most recent call last)\n",
      "\u001b[1;31mAttributeError\u001b[0m: 'numpy.int64' object has no attribute 'index'\n",
      "\n"
     ]
    }
   ],
   "source": [
    "from dash.dependencies import Input, Output\n",
    "import plotly.express as px\n",
    "\n",
    "# Callback to update the table when a treemap box is clicked\n",
    "@app.callback(\n",
    "    Output('table-container', 'children'),\n",
    "    [Input('treemap', 'clickData')]\n",
    ")\n",
    "def update_table(clickData):\n",
    "    if not clickData:\n",
    "        return html.Div()\n",
    "\n",
    "    super_group = clickData['points'][0]['label']\n",
    "    products = Retail[Retail['Super Group'] == super_group]\n",
    "\n",
    "    table = html.Table([\n",
    "        html.Thead(\n",
    "            html.Tr([html.Th(col) for col in products.columns])\n",
    "        ),\n",
    "        html.Tbody([\n",
    "            html.Tr([html.Td(products.iloc[i][col]) for col in products.columns])\n",
    "            for i in range(len(products))\n",
    "        ])\n",
    "    ])\n",
    "    \n",
    "    return table\n",
    "@app.callback(\n",
    "    Output('bar-chart-container', 'children'),\n",
    "    Input('treemap', 'clickData')\n",
    ")\n",
    "def update_bar_chart(click_data):\n",
    "    if click_data is None:\n",
    "        return None\n",
    "\n",
    "    selected_super_group = click_data['points'][0]['label']\n",
    "    # Replace 'Retail' with your actual dataframe name and 'Value' with the appropriate column for the bar chart data\n",
    "    bar_data = Retail[Retail['Super Group'] == selected_super_group]['Weight'].count()\n",
    "\n",
    "    bar_fig = px.bar(\n",
    "        x=bar_data.index,\n",
    "        y=bar_data,\n",
    "        labels={'x': 'Super Group', 'y': 'Weight'},\n",
    "        title=f'Bar Chart for {selected_super_group}',\n",
    "    )\n",
    "    \n",
    "    bar_fig.update_layout(\n",
    "        xaxis_title='Super Group',\n",
    "        yaxis_title='Weight',\n",
    "    )\n",
    "\n",
    "    return dcc.Graph(id='bar-chart', figure=bar_fig)  # Return the bar-chart figure\n",
    "\n",
    "if __name__ == '__main__':\n",
    "    app.run_server(debug=True)"
   ]
  },
  {
   "cell_type": "code",
   "execution_count": null,
   "id": "b331feec",
   "metadata": {},
   "outputs": [],
   "source": []
  }
 ],
 "metadata": {
  "kernelspec": {
   "display_name": "ProdW",
   "language": "python",
   "name": "prodw"
  },
  "language_info": {
   "codemirror_mode": {
    "name": "ipython",
    "version": 3
   },
   "file_extension": ".py",
   "mimetype": "text/x-python",
   "name": "python",
   "nbconvert_exporter": "python",
   "pygments_lexer": "ipython3",
   "version": "3.11.2"
  }
 },
 "nbformat": 4,
 "nbformat_minor": 5
}
