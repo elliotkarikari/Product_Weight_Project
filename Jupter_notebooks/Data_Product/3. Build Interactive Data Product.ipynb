{
 "cells": [
  {
   "cell_type": "markdown",
   "id": "f8ca6f47",
   "metadata": {},
   "source": [
    "## Visualising Food by Super Group using a network Graph"
   ]
  },
  {
   "cell_type": "markdown",
   "id": "743ee8c9",
   "metadata": {},
   "source": [
    "Import Library"
   ]
  },
  {
   "cell_type": "code",
   "execution_count": 1,
   "id": "8fa563c0",
   "metadata": {},
   "outputs": [],
   "source": [
    "import pandas as pd\n",
    "import matplotlib.pyplot as plt\n",
    "import plotly.graph_objects as go\n",
    "import dash\n",
    "from dash import Dash, dcc, html, Input, Output\n",
    "import plotly.express as px\n",
    "import dash_bootstrap_components as dbc\n",
    "import io\n",
    "import base64\n",
    "import matplotlib.cm as cm\n",
    "import squarify"
   ]
  },
  {
   "cell_type": "code",
   "execution_count": 2,
   "id": "0ed50ea4",
   "metadata": {},
   "outputs": [],
   "source": [
    "%load_ext watermark"
   ]
  },
  {
   "cell_type": "code",
   "execution_count": 3,
   "id": "ff75cc97",
   "metadata": {},
   "outputs": [
    {
     "name": "stdout",
     "output_type": "stream",
     "text": [
      "squarify                 : 0.4.3\n",
      "pandas                   : 1.5.3\n",
      "dash                     : 2.12.0\n",
      "dash_bootstrap_components: 1.4.2\n",
      "plotly                   : 5.15.0\n",
      "matplotlib               : 3.7.1\n",
      "\n"
     ]
    }
   ],
   "source": [
    "%watermark --iversions"
   ]
  },
  {
   "cell_type": "markdown",
   "id": "2d408493",
   "metadata": {},
   "source": [
    "Import Dataset"
   ]
  },
  {
   "cell_type": "code",
   "execution_count": 4,
   "id": "50803fef",
   "metadata": {
    "scrolled": false
   },
   "outputs": [
    {
     "data": {
      "text/html": [
       "<div>\n",
       "<style scoped>\n",
       "    .dataframe tbody tr th:only-of-type {\n",
       "        vertical-align: middle;\n",
       "    }\n",
       "\n",
       "    .dataframe tbody tr th {\n",
       "        vertical-align: top;\n",
       "    }\n",
       "\n",
       "    .dataframe thead th {\n",
       "        text-align: right;\n",
       "    }\n",
       "</style>\n",
       "<table border=\"1\" class=\"dataframe\">\n",
       "  <thead>\n",
       "    <tr style=\"text-align: right;\">\n",
       "      <th></th>\n",
       "      <th>Food Code</th>\n",
       "      <th>Food Name</th>\n",
       "      <th>Food sub-group codes</th>\n",
       "      <th>Food Group</th>\n",
       "      <th>Sale format(s)</th>\n",
       "      <th>Similarity Score</th>\n",
       "      <th>Product Weight</th>\n",
       "      <th>Source</th>\n",
       "      <th>Purchase Date</th>\n",
       "      <th>Pack Size</th>\n",
       "    </tr>\n",
       "  </thead>\n",
       "  <tbody>\n",
       "    <tr>\n",
       "      <th>0</th>\n",
       "      <td>17-208</td>\n",
       "      <td>beer, bitter, best, premium</td>\n",
       "      <td>QA</td>\n",
       "      <td>Alcoholic beverages</td>\n",
       "      <td>can, can multipack, bottle, bottle multipack</td>\n",
       "      <td>0.707107</td>\n",
       "      <td>574g</td>\n",
       "      <td>FPS</td>\n",
       "      <td>NaN</td>\n",
       "      <td>1 pint</td>\n",
       "    </tr>\n",
       "    <tr>\n",
       "      <th>1</th>\n",
       "      <td>17-224</td>\n",
       "      <td>cider, sweet</td>\n",
       "      <td>QC</td>\n",
       "      <td>Alcoholic beverages</td>\n",
       "      <td>can, can multipack, bottle, bottle multipack</td>\n",
       "      <td>0.609864</td>\n",
       "      <td>25g</td>\n",
       "      <td>FPS</td>\n",
       "      <td>NaN</td>\n",
       "      <td>NaN</td>\n",
       "    </tr>\n",
       "    <tr>\n",
       "      <th>2</th>\n",
       "      <td>17-234</td>\n",
       "      <td>port</td>\n",
       "      <td>QF</td>\n",
       "      <td>Alcoholic beverages</td>\n",
       "      <td>bottle</td>\n",
       "      <td>0.000000</td>\n",
       "      <td>NaN</td>\n",
       "      <td>NaN</td>\n",
       "      <td>NaN</td>\n",
       "      <td>NaN</td>\n",
       "    </tr>\n",
       "    <tr>\n",
       "      <th>3</th>\n",
       "      <td>17-236</td>\n",
       "      <td>sherry, medium</td>\n",
       "      <td>QF</td>\n",
       "      <td>Alcoholic beverages</td>\n",
       "      <td>bottle</td>\n",
       "      <td>0.000000</td>\n",
       "      <td>NaN</td>\n",
       "      <td>NaN</td>\n",
       "      <td>NaN</td>\n",
       "      <td>NaN</td>\n",
       "    </tr>\n",
       "    <tr>\n",
       "      <th>4</th>\n",
       "      <td>17-247</td>\n",
       "      <td>spirits, 40% volume</td>\n",
       "      <td>QK</td>\n",
       "      <td>Alcoholic beverages</td>\n",
       "      <td>bottle, miniature</td>\n",
       "      <td>1.000000</td>\n",
       "      <td>29g</td>\n",
       "      <td>FPS</td>\n",
       "      <td>NaN</td>\n",
       "      <td>1 miniature</td>\n",
       "    </tr>\n",
       "  </tbody>\n",
       "</table>\n",
       "</div>"
      ],
      "text/plain": [
       "  Food Code                    Food Name Food sub-group codes  \\\n",
       "0    17-208  beer, bitter, best, premium                   QA   \n",
       "1    17-224                 cider, sweet                   QC   \n",
       "2    17-234                         port                   QF   \n",
       "3    17-236               sherry, medium                   QF   \n",
       "4    17-247          spirits, 40% volume                   QK   \n",
       "\n",
       "            Food Group                                Sale format(s)  \\\n",
       "0  Alcoholic beverages  can, can multipack, bottle, bottle multipack   \n",
       "1  Alcoholic beverages  can, can multipack, bottle, bottle multipack   \n",
       "2  Alcoholic beverages                                        bottle   \n",
       "3  Alcoholic beverages                                        bottle   \n",
       "4  Alcoholic beverages                             bottle, miniature   \n",
       "\n",
       "   Similarity Score Product Weight Source Purchase Date    Pack Size  \n",
       "0          0.707107           574g    FPS           NaN       1 pint  \n",
       "1          0.609864            25g    FPS           NaN          NaN  \n",
       "2          0.000000            NaN    NaN           NaN          NaN  \n",
       "3          0.000000            NaN    NaN           NaN          NaN  \n",
       "4          1.000000            29g    FPS           NaN  1 miniature  "
      ]
     },
     "execution_count": 4,
     "metadata": {},
     "output_type": "execute_result"
    }
   ],
   "source": [
    "pd.set_option('display.max_rows', None)\n",
    "Retail = pd.read_csv(r'C:\\Users\\medekar\\Desktop\\Product_Weight_Project\\Data\\Processed\\ReducedwithWeights\\dp_full.csv', index_col=0)\n",
    "Retail.head()"
   ]
  },
  {
   "cell_type": "markdown",
   "id": "e1223457",
   "metadata": {},
   "source": [
    "                                            Creating and Visualising Graph"
   ]
  },
  {
   "cell_type": "markdown",
   "id": "5c04082d",
   "metadata": {},
   "source": [
    "### Food Products in Super Group"
   ]
  },
  {
   "cell_type": "code",
   "execution_count": 5,
   "id": "a404c7d5",
   "metadata": {},
   "outputs": [
    {
     "data": {
      "image/png": "[encoded data removed]",
      "text/plain": [
       "<Figure size 1600x1000 with 1 Axes>"
      ]
     },
     "metadata": {},
     "output_type": "display_data"
    }
   ],
   "source": [
    "# Count the occurrences of each super group\n",
    "super_group_counts = Retail['Food Group'].value_counts()\n",
    "\n",
    "# Create labels and sizes for the treemap\n",
    "labels = super_group_counts.index\n",
    "sizes = super_group_counts.values\n",
    "\n",
    "# Custom colors for the treemap (replace with your preferred colors)\n",
    "# For shading one color, we'll use the 'viridis' colormap from Matplotlib\n",
    "cmap = cm.Set3\n",
    "normalize = plt.Normalize(vmin=sizes.min(), vmax=sizes.max())\n",
    "colors = [cmap(normalize(value)) for value in sizes]\n",
    "\n",
    "# Add box outlines\n",
    "plt.figure(figsize=(16, 10))\n",
    "squarify.plot(sizes=sizes, label=labels, alpha=0.8, color=colors, linewidth=1, edgecolor='black', pad=True)\n",
    "\n",
    "# Add title\n",
    "plt.title('Standardised Food Composite Data Product (ShelfScale)', fontsize=16, fontweight='bold')\n",
    "\n",
    "\n",
    "# Remove axes\n",
    "plt.axis('off')\n",
    "\n",
    "# Show the plot\n",
    "plt.show()\n"
   ]
  },
  {
   "cell_type": "markdown",
   "id": "2e9199a1",
   "metadata": {},
   "source": [
    "                                            Creating an interactive Version"
   ]
  },
  {
   "cell_type": "code",
   "execution_count": 6,
   "id": "75f67069",
   "metadata": {
    "scrolled": false
   },
   "outputs": [],
   "source": [
    "# Count the occurrences of each super group\n",
    "super_group_counts = Retail['Food Group'].value_counts()\n",
    "\n",
    "# Create labels and sizes for the treemap\n",
    "labels = super_group_counts.index\n",
    "sizes = super_group_counts.values\n",
    "#print(labels)\n",
    "\n",
    "# Custom colors for the treemap (replace with your preferred colors)\n",
    "cmap = cm.Set3\n",
    "colors = [f'rgb{tuple(int(255 * x) for x in cmap(i)[:3])}' for i in range(len(labels))]\n",
    "\n",
    "# Create the Plotly treemap\n",
    "fig = go.Figure(go.Treemap(\n",
    "    labels=labels,\n",
    "    parents=[''] * len(labels),\n",
    "    values=sizes,\n",
    "    customdata=[f\"{size} products\" for size in sizes],  # Data for hover info\n",
    "    texttemplate=\"%{label}<br>%{customdata}\",\n",
    "    textfont=dict(size=15, family=\"Arial\"),\n",
    "    marker=dict(\n",
    "        colors=colors,\n",
    "        line=dict(width=0.5, color='black')\n",
    "    )\n",
    "))\n",
    "\n",
    "# Customize the layout\n",
    "fig.update_layout(\n",
    "    margin=dict(t=50, l=10, r=10, b=10)\n",
    ")\n",
    "\n",
    "# Initialize the Dash app\n",
    "app = dash.Dash(__name__, external_stylesheets=[dbc.themes.ZEPHYR])\n",
    "\n",
    "# Define the app layout\n",
    "app.layout = html.Div([\n",
    "    html.Div([\n",
    "        html.H1('ShelfScale Dashboard', className='header'),\n",
    "        html.P(\"Click on a treemap box to see more details:\", className='intro-text'),\n",
    "    ], className='header-container'),\n",
    "    html.Div([\n",
    "        dcc.Graph(id='treemap', figure=fig, config={'displayModeBar': False}),\n",
    "        dbc.Modal([\n",
    "            dbc.ModalHeader(\"First Ten Product Weight as Purchased\"),\n",
    "            dbc.ModalBody(id='table-modal-content'),\n",
    "            dbc.ModalFooter([\n",
    "                html.A(\n",
    "                    dbc.Button(\"Download\", id=\"download-button\", color=\"primary\"),\n",
    "                    id='download-link-modal',\n",
    "                    download=\"data.csv\",\n",
    "                    href=\"\",\n",
    "                    target=\"_blank\"\n",
    "                ),\n",
    "                dbc.Button(\"Close\", id=\"close-table-modal\", className=\"ml-auto\", n_clicks=0)\n",
    "            ]),\n",
    "        ],\n",
    "        id=\"table-modal-xl\", size=\"xl\", is_open=False, fullscreen=True),\n",
    "    ], className='treemap-container'),\n",
    "    html.A(\n",
    "        dbc.Button(\"Download Full Dataset\", id='download-button-csv', n_clicks=0),\n",
    "        id='download-link',\n",
    "        download=\"Weightdata.csv\",\n",
    "        href=\"\",\n",
    "        target=\"_blank\"\n",
    "    ),\n",
    "    html.Div([\n",
    "        html.Div(id='table-container', className='table-container', children=[\n",
    "            html.Table(id='details-table', className='details-table')\n",
    "        ]),\n",
    "    ], className='table-container'),\n",
    "])"
   ]
  },
  {
   "cell_type": "markdown",
   "id": "4aafaf1b",
   "metadata": {},
   "source": [
    "# When I click a box I want the information of the box to show in expanded box with the option to download"
   ]
  },
  {
   "cell_type": "code",
   "execution_count": 7,
   "id": "4f31a6c5",
   "metadata": {
    "scrolled": false
   },
   "outputs": [
    {
     "data": {
      "text/html": [
       "\n",
       "        <iframe\n",
       "            width=\"100%\"\n",
       "            height=\"650\"\n",
       "            src=\"http://127.0.0.1:8050/\"\n",
       "            frameborder=\"0\"\n",
       "            allowfullscreen\n",
       "            \n",
       "        ></iframe>\n",
       "        "
      ],
      "text/plain": [
       "<IPython.lib.display.IFrame at 0x247f2323710>"
      ]
     },
     "metadata": {},
     "output_type": "display_data"
    }
   ],
   "source": [
    "# Define constants\n",
    "MAX_ROWS = 10\n",
    "TABLE_STYLE = {'max-height': '500px', 'overflowY': 'scroll', 'max-width': '100%'}\n",
    "TABLE_MODAL_WIDTH = '100%'  \n",
    "expanded_boxes = []\n",
    "\n",
    "# Function to generate the CSV download link\n",
    "def generate_csv_link(dataframe, filename):\n",
    "    csv_buffer = io.StringIO()\n",
    "    dataframe.to_csv(csv_buffer, index=False, encoding='utf-8')\n",
    "    \n",
    "    csv_data = csv_buffer.getvalue().encode('utf-8')\n",
    "    b64 = base64.b64encode(csv_data).decode('utf-8')\n",
    "    \n",
    "    return f\"data:text/csv;charset=utf-8;base64,{b64}\"\n",
    "\n",
    "\n",
    "# Callback function\n",
    "@app.callback(\n",
    "    [Output('treemap', 'clickData'),\n",
    "     Output('table-modal-xl', 'is_open'),\n",
    "     Output('table-modal-content', 'children'),\n",
    "     Output('download-link', 'href'),\n",
    "     Output('download-button-csv', 'n_clicks')],\n",
    "    \n",
    "    [Input('treemap', 'clickData'),\n",
    "     Input('download-button', 'n_clicks'),\n",
    "     Input('close-table-modal', 'n_clicks'),\n",
    "     Input('download-button-csv', 'n_clicks')],\n",
    "    prevent_initial_call=True\n",
    ")\n",
    "\n",
    "\n",
    "def toggle_table_modal(click_data, download_clicks, close_clicks, download_table_clicks):\n",
    "        \n",
    "    global expanded_boxes\n",
    "    global products1  \n",
    "    \n",
    "    ctx = dash.callback_context\n",
    "    trigger_id = ctx.triggered[0]['prop_id'].split('.')[0]\n",
    "    \n",
    "    if trigger_id == 'close-table-modal': \n",
    "        expanded_boxes = [] # Reset expanded boxes\n",
    "        return dash.no_update, False, None, dash.no_update, dash.no_update\n",
    "    \n",
    "    elif trigger_id == 'treemap':\n",
    "        if not click_data or 'points' not in click_data:\n",
    "            return dash.no_update, False, None, dash.no_update, dash.no_update\n",
    "        \n",
    "        super_group = click_data['points'][0]['label']\n",
    "        \n",
    "        if super_group in expanded_boxes:\n",
    "            expanded_boxes.remove(super_group)  # Minimize expanded box\n",
    "            return dash.no_update, False, None, dash.no_update, dash.no_update\n",
    "            \n",
    "        expanded_boxes.append(super_group)\n",
    "        products1 = Retail[Retail['Food Group'] == super_group]\n",
    "        products = products1.head(MAX_ROWS)\n",
    "        \n",
    "        table = dbc.Table.from_dataframe(\n",
    "            products,\n",
    "            striped=True,\n",
    "            bordered=True,\n",
    "            hover=True,\n",
    "            responsive=True,\n",
    "            style={**TABLE_STYLE, 'width': TABLE_MODAL_WIDTH},\n",
    "        )\n",
    "        \n",
    "        filename = f\"{super_group}_data\"  # Construct the filename\n",
    "        csv_link = generate_csv_link(products1, filename)  # Generate CSV link\n",
    "        \n",
    "        return click_data, True, table, csv_link, dash.no_update\n",
    "           \n",
    "    elif trigger_id == 'download-button':\n",
    "        if not products1.empty:\n",
    "            csv_link = generate_csv_link(products1, \"data\")  # Generate CSV link\n",
    "            return dash.no_update, dash.no_update, dash.no_update, csv_link, dash.no_update\n",
    "    \n",
    "    elif trigger_id == 'download-button-csv':\n",
    "        if not products1.empty and click_data and 'points' in click_data:\n",
    "            super_group_label = click_data['points'][0]['label']\n",
    "            filename = f\"{super_group_label}_Weightdata\"\n",
    "\n",
    "            csv_link = generate_csv_link(products1, filename)  # Generate CSV link\n",
    "            return dash.no_update, dash.no_update, dash.no_update, csv_link, 0\n",
    "        else:\n",
    "            return dash.no_update, dash.no_update, dash.no_update, dash.no_update, dash.no_update\n",
    "\n",
    "    \n",
    "    elif trigger_id == 'close-table-modal':\n",
    "        expanded_boxes = []  # Reset the expanded boxes list\n",
    "        return dash.no_update, False, None, dash.no_update, dash.no_update\n",
    "    \n",
    "    return dash.no_update, False, None, dash.no_update, dash.no_update\n",
    "\n",
    "# Run the app\n",
    "if __name__ == '__main__':\n",
    "    app.run_server(debug=True)"
   ]
  },
  {
   "cell_type": "markdown",
   "id": "b842b90a",
   "metadata": {},
   "source": [
    "                                                       End of Notebook"
   ]
  }
 ],
 "metadata": {
  "kernelspec": {
   "display_name": "ProdW",
   "language": "python",
   "name": "prodw"
  },
  "language_info": {
   "codemirror_mode": {
    "name": "ipython",
    "version": 3
   },
   "file_extension": ".py",
   "mimetype": "text/x-python",
   "name": "python",
   "nbconvert_exporter": "python",
   "pygments_lexer": "ipython3",
   "version": "3.11.2"
  }
 },
 "nbformat": 4,
 "nbformat_minor": 5
}
