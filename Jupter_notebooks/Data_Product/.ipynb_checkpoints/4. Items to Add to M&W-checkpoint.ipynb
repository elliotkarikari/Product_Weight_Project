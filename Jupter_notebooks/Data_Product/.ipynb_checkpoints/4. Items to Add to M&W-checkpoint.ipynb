{
 "cells": [
  {
   "cell_type": "markdown",
   "id": "0f2ffdd3",
   "metadata": {},
   "source": [
    "# Items to Add to M&W df to creat a dataframe more reflective of current Food Landscape in UK"
   ]
  },
  {
   "cell_type": "markdown",
   "id": "6b08ed30",
   "metadata": {},
   "source": [
    "Read In Data"
   ]
  },
  {
   "cell_type": "code",
   "execution_count": 13,
   "id": "72f28dfd",
   "metadata": {},
   "outputs": [],
   "source": [
    "RetailD = pd.read_csv(r'C:\\Users\\medekar\\Desktop\\Product_Weight_Project\\Confidential\\RetailSuperG.csv', index_col=0)\n",
    "RetailD"
   ]
  },
  {
   "cell_type": "code",
   "execution_count": 14,
   "id": "bcf0cc06",
   "metadata": {},
   "outputs": [],
   "source": [
    "RetailD.shape"
   ]
  },
  {
   "cell_type": "code",
   "execution_count": null,
   "id": "cee2564b",
   "metadata": {},
   "outputs": [],
   "source": [
    "Alcoh_bev = ['Beer','Cider','Port','Sherry','Spirits','Vermouth', 'Wine']\n",
    "\n",
    "Bev = ['Juice', 'Cappuccino', 'Cola', 'Drink', 'Chocolate', 'Energy', \n",
    "       'Horlicks', 'Lemonade', 'Lucozade', 'Lager', 'Liqueurs']\n",
    "\n",
    "Cereals = ['Bread', 'Cereal', 'Biscuits', 'Cakes', 'Croissants', \n",
    "           'Crackers', 'Pastry', 'Pizza', 'Pies', 'Pudding', 'Rice']\n",
    "\n",
    "Egg = ['Eggs', 'Quiche']\n",
    "\n",
    "Foils = ['Dripping', 'Lard', 'Oil']\n",
    "\n",
    "Fish = ['Ayr', 'Anchovies', 'Bass', 'Bele', 'Boal', 'Bream', 'Bombay', 'Catfish', 'Chital', 'Crab', \n",
    "        'Crayfish', 'Calamari', 'Cockles', 'Cuttlefish', 'Caviare', 'Eel', 'Haddock', 'Hake', 'Kalabasu', \n",
    "        'Katla', 'Kippers', 'Mackerel', 'Mussels', 'Octopus', 'Oysters', 'Pollock', 'Prawns']\n",
    "\n",
    "Fruit:\n",
    "Apples, Apricots, Avocado, Babaco, Bananas, Berries, Currants, Cherries, Citrus, Cranberries, Currants, Damsons, Dates, Elderberries, Gooseberries, Grapefruit, Grapes, Guava, Kiwi, Kumquats, Lemons, Limes, Loganberries, Mangoes, Melon, Mulberries, Nectarines, Olives, Oranges, Passion fruit, Peaches, Pears, Pineapple, Plums, Pomegranate, Prunes, Raisins, Raspberries, Rhubarb, Strawberries\n",
    "\n",
    "Herbs and spices:\n",
    "Allspice, Anise, Asafoetida, Basil, Caraway, Cardamom, Celery, Chervil, Chilli, Chinese 5 spice, Chives, Cinnamon, Cloves, Coriander, Cumin, Curry, Dill, Garam masala, Garlic, Ginger, Marjoram, Mint, Mixed herbs, Mustard, Nutmeg, Oregano, Paprika, Parsley, Pepper, Rosemary, Saffron, Sage\n",
    "\n",
    "Meat and meat products:\n",
    "Bacon, Beef, Chicken, Duck, Gammon, Ghee, Ham, Haggis, Kidney, Lamb, Liver, Luncheon meat, Mince, Oxtail, Pork, Rabbit, Ribs, Spare ribs, Venison\n",
    "\n",
    "Milk and milk products:\n",
    "Butter, Cheese, Cream, Custard, Desserts, Ice cream, Jelly, Lassi, Lollies, Milk, Mousse, Pudding, Raita, Yogurt\n",
    "\n",
    "Nuts and seeds:\n",
    "Almonds, Breadnut, Betel, Chestnuts, Coconut, Hazelnuts, Macadamia, Marzipan, Mixed nuts, Peanut butter, Peanuts, Pistachio, Quinoa, Sunflower, Walnuts\n",
    "\n",
    "Soups, sauces and miscellaneous foods:\n",
    "Apple sauce, Barbecue, Sauce, Soup, Dressing, Chutney, Relish, Mayonnaise, Mustard, Pesto, Pickle, Salad cream, Soy sauce, Stock, Vinegar, Worcestershire sauce\n",
    "\n",
    "Sugars, preserves and snacks:\n",
    "Chocolate, Creme egg, Corn snacks, Glucose, Honey, Jam, Liquorice, Marmalade, Maltesers, Mars bar, Marshmallows, Nougat, Peppermints, Popcorn, Pork scratchings, Potato crisps, Sugar, Syrup, Sweets\n",
    "\n",
    "Vegetables:\n",
    "Ackee, Agar, Alfalfa, Amaranth, Arrowhead, Artichoke, Asparagus, Aubergine, Beans, Beetroot, Bok choy, Breadfruit, Broccoli, Brussels sprouts, Cabbage, Carrots, Cauliflower, Celeriac, Celery, Chard, Chicory, Courgette, Kale, Kohl rabi, Lentils, Leeks, Lettuce, Lotus, Mushrooms, Mustard leaves, Okra, Onions, Papaya, Parsnip, Pepper, Plantain, Potatoes, Pumpkin, Radish, Rocket, Spinach, Swede, Sweet potato, Sweetcorn, Turnip, Watercress, Yam"
   ]
  },
  {
   "cell_type": "markdown",
   "id": "5bd49429",
   "metadata": {},
   "source": [
    "### Algo to Import products from Sainsbury's df to M&W df"
   ]
  },
  {
   "cell_type": "code",
   "execution_count": 19,
   "id": "627e9cb5",
   "metadata": {},
   "outputs": [],
   "source": [
    "%%time\n",
    "from fuzzywuzzy import fuzz\n",
    "\n",
    "def match_food_retail(redFood, RetailD):\n",
    "    \"\"\"\n",
    "    Matches food groups between two DataFrames using fuzzy matching and updates \n",
    "    redFood database with Weight and Unit from CleanRetail DataFrame.\n",
    "\n",
    "    Args:\n",
    "        CleanRetail (DataFrame): The DataFrame containing the clean retail data.\n",
    "        redFood (DataFrame): The DataFrame containing the red food data.\n",
    "\n",
    "    Returns:\n",
    "        DataFrame: The red food DataFrame with updated items in RetailID that didn't match.\n",
    "    \"\"\"\n",
    "    # Set a higher threshold for fuzzy matching.\n",
    "    min_token_sort_ratio = 86\n",
    "\n",
    "    # Create a list to store the SKU descriptions that have already been matched.\n",
    "    matched_skus = []\n",
    "\n",
    "    # Check similarity between the food names and SKU descriptions using fuzzy matching.\n",
    "    for i, row in redFood.iterrows():\n",
    "        product = redFood.loc[i, 'Food Name']\n",
    "        matches = RetailD[\"SKUDesc\"].apply(lambda x: fuzz.token_sort_ratio(x, product) >= min_token_sort_ratio)\n",
    "        matched_skus.extend(matches[matches].index)\n",
    "\n",
    "    # Filter the unmatched products based on the matched SKUs.\n",
    "    unmatched_products_df = redFood[~redFood.index.isin(matched_skus)].copy()\n",
    "\n",
    "    # Add unmatched retail data rows to unmatched_products_df with attached information.\n",
    "    unmatched_retail_rows = RetailD[~RetailD.index.isin(matched_skus)].copy()\n",
    "    unmatched_retail_rows[\"Unmatched Food Name\"] = unmatched_retail_rows[\"SKUDesc\"]\n",
    "    unmatched_products_df = unmatched_products_df.append(unmatched_retail_rows)\n",
    "\n",
    "    return unmatched_products_df\n",
    "\n",
    "\n",
    "    unmatched_products_df = match_food_retail(redFood.copy(), RetailD.copy())"
   ]
  },
  {
   "cell_type": "markdown",
   "id": "787c2db2",
   "metadata": {},
   "source": [
    "##### Checking to see products added to M&W. Did some cleaning in Excel at this point. "
   ]
  },
  {
   "cell_type": "code",
   "execution_count": 21,
   "id": "b29fbee0",
   "metadata": {
    "scrolled": true
   },
   "outputs": [],
   "source": [
    "unmatched_products_df"
   ]
  },
  {
   "cell_type": "markdown",
   "id": "a2cccdae",
   "metadata": {},
   "source": [
    "##### Read in refined M&W-Sainsbury Retail df"
   ]
  },
  {
   "cell_type": "code",
   "execution_count": 29,
   "id": "f86e0486",
   "metadata": {},
   "outputs": [],
   "source": [
    "RetailUM = pd.read_csv(r'C:\\Users\\medekar\\Desktop\\Product_Weight_Project\\Confidential\\RetdJoin.csv')"
   ]
  },
  {
   "cell_type": "code",
   "execution_count": 35,
   "id": "c40820a3",
   "metadata": {},
   "outputs": [],
   "source": [
    "RetailUM.shape"
   ]
  },
  {
   "cell_type": "markdown",
   "id": "40e69b8e",
   "metadata": {},
   "source": [
    "##### Correcting Sentence Case"
   ]
  },
  {
   "cell_type": "code",
   "execution_count": 39,
   "id": "f1370ae8",
   "metadata": {},
   "outputs": [],
   "source": [
    "RetailUM['Food Name'] = RetailUM['Food Name'].str.capitalize()\n",
    "RetailUM"
   ]
  },
  {
   "cell_type": "markdown",
   "id": "3f0ef7dc",
   "metadata": {},
   "source": [
    "##### Updating Data Source for all M&W Data"
   ]
  },
  {
   "cell_type": "code",
   "execution_count": 51,
   "id": "40baae3a",
   "metadata": {},
   "outputs": [],
   "source": [
    "MnW = RetailUM[RetailUM['Source Data'].isna()]\n",
    "MM = MnW[~MnW['Food Code'].isna()]\n",
    "MM['Source Data'] = 'M&W Data'"
   ]
  },
  {
   "cell_type": "code",
   "execution_count": 52,
   "id": "da10a4e8",
   "metadata": {},
   "outputs": [],
   "source": [
    "RetailUM.update(MM)"
   ]
  },
  {
   "cell_type": "code",
   "execution_count": 53,
   "id": "9ef4ab3b",
   "metadata": {},
   "outputs": [],
   "source": [
    "RetailUM"
   ]
  },
  {
   "cell_type": "markdown",
   "id": "9e70e168",
   "metadata": {},
   "source": [
    "                                                   Exprot Data"
   ]
  },
  {
   "cell_type": "code",
   "execution_count": 54,
   "id": "32015b28",
   "metadata": {},
   "outputs": [],
   "source": [
    "RetailUM.to_csv(r'C:\\Users\\medekar\\Desktop\\Product_Weight_Project\\Confidential\\RetdJoin.csv')"
   ]
  }
 ],
 "metadata": {
  "kernelspec": {
   "display_name": "ProdW",
   "language": "python",
   "name": "prodw"
  },
  "language_info": {
   "codemirror_mode": {
    "name": "ipython",
    "version": 3
   },
   "file_extension": ".py",
   "mimetype": "text/x-python",
   "name": "python",
   "nbconvert_exporter": "python",
   "pygments_lexer": "ipython3",
   "version": "3.11.2"
  }
 },
 "nbformat": 4,
 "nbformat_minor": 5
}
