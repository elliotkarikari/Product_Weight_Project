{
 "cells": [
  {
   "cell_type": "markdown",
   "id": "9bbb770d",
   "metadata": {},
   "source": [
    "#                                          Open Food Facts API - Product Weights"
   ]
  },
  {
   "cell_type": "markdown",
   "id": "c6198b6e",
   "metadata": {},
   "source": [
    "Importing Libraries"
   ]
  },
  {
   "cell_type": "code",
   "execution_count": 1,
   "id": "29b3ad86",
   "metadata": {},
   "outputs": [],
   "source": [
    "import requests\n",
    "import pandas as pd "
   ]
  },
  {
   "cell_type": "markdown",
   "id": "c70545c7",
   "metadata": {},
   "source": [
    "Data Call"
   ]
  },
  {
   "cell_type": "markdown",
   "id": "b8173236",
   "metadata": {},
   "source": [
    "## Vegetables"
   ]
  },
  {
   "cell_type": "code",
   "execution_count": 5,
   "id": "c134fc9c",
   "metadata": {},
   "outputs": [
    {
     "name": "stdout",
     "output_type": "stream",
     "text": [
      "CPU times: total: 2.39 s\n",
      "Wall time: 1min 35s\n"
     ]
    }
   ],
   "source": [
    "%%time\n",
    "\n",
    "url = \"https://world.openfoodfacts.org/cgi/search.pl\"\n",
    "query = \"vegetable\"\n",
    "page_size = 100  # Adjusted to 100 for a faster response (maximum is 200)\n",
    "max_pages = 50  # Adjusted to 50 for testing purposes\n",
    "\n",
    "product_names = []\n",
    "weights = []\n",
    "packaging_details = []\n",
    "countries = []  # New list to store the country information\n",
    "\n",
    "for page_number in range(1, max_pages + 1):\n",
    "    params = {\n",
    "        \"search_terms\": query,\n",
    "        \"json\": 1,\n",
    "        \"page_size\": page_size,\n",
    "        \"page\": page_number,\n",
    "        \"tagtype_0\": \"categories\",\n",
    "        \"tag_contains_0\": \"contains\",\n",
    "        \"tag_0\": \"vegetables\",\n",
    "        \"tagtype_1\": \"additives\",\n",
    "        \"tag_contains_1\": \"without\"\n",
    "    }\n",
    "\n",
    "    try:\n",
    "        response = requests.get(url, params=params)\n",
    "        response.raise_for_status()  # Raise an exception for 4xx or 5xx status codes\n",
    "        data = response.json()\n",
    "        products = data.get(\"products\", [])\n",
    "\n",
    "        if len(products) == 0:\n",
    "            print(f\"No more data found after page {page_number}. Exiting.\")\n",
    "            break\n",
    "\n",
    "        for product in products:\n",
    "            # Check if the product has weight information and its language is English\n",
    "            if \"quantity\" in product and product.get(\"lang\", \"unknown\") == \"en\":\n",
    "                name = product.get(\"product_name\", \"Unknown Vegetable\").strip()\n",
    "                # Skip if the vegetable name is unknown\n",
    "                if name == \"Unknown Vegetable\":\n",
    "                    continue\n",
    "                weight = product.get(\"quantity\", \"Unknown Weight\").strip()\n",
    "                packaging = product.get(\"packaging\", \"Unknown Packaging\").strip()\n",
    "                country = product.get(\"countries\", \"Unknown Country\").strip()  # Extract country information\n",
    "\n",
    "                # Append data to lists\n",
    "                product_names.append(name)\n",
    "                weights.append(weight)\n",
    "                packaging_details.append(packaging)\n",
    "                countries.append(country)  # Add country information to the list\n",
    "\n",
    "    except requests.exceptions.RequestException as e:\n",
    "        print(f\"Error occurred while processing page {page_number}: {e}\")\n",
    "        break\n",
    "    except Exception as e:\n",
    "        print(f\"Unexpected error occurred while processing page {page_number}: {e}\")\n",
    "        break\n",
    "\n",
    "# Create a pandas DataFrame\n",
    "data_dict = {\n",
    "    'Product Name': product_names,\n",
    "    'Weight': weights,\n",
    "    'Packaging Details': packaging_details,\n",
    "    'Country': countries  # Add the 'Country' column to the data_dict dictionary\n",
    "}"
   ]
  },
  {
   "cell_type": "code",
   "execution_count": 7,
   "id": "73404596",
   "metadata": {
    "scrolled": false
   },
   "outputs": [
    {
     "data": {
      "text/html": [
       "<div>\n",
       "<style scoped>\n",
       "    .dataframe tbody tr th:only-of-type {\n",
       "        vertical-align: middle;\n",
       "    }\n",
       "\n",
       "    .dataframe tbody tr th {\n",
       "        vertical-align: top;\n",
       "    }\n",
       "\n",
       "    .dataframe thead th {\n",
       "        text-align: right;\n",
       "    }\n",
       "</style>\n",
       "<table border=\"1\" class=\"dataframe\">\n",
       "  <thead>\n",
       "    <tr style=\"text-align: right;\">\n",
       "      <th></th>\n",
       "      <th>Product Name</th>\n",
       "      <th>Weight</th>\n",
       "      <th>Packaging Details</th>\n",
       "      <th>Country</th>\n",
       "    </tr>\n",
       "  </thead>\n",
       "  <tbody>\n",
       "    <tr>\n",
       "      <th>0</th>\n",
       "      <td>Heinz Beanz In a rich tomato sauce</td>\n",
       "      <td>415 g</td>\n",
       "      <td>Металл,en:Can,en:Canned,en:Food can</td>\n",
       "      <td>Франция,Португалия,Россия,Испания,Швеция,Великобритания</td>\n",
       "    </tr>\n",
       "    <tr>\n",
       "      <th>1</th>\n",
       "      <td>Röstzwiebeln</td>\n",
       "      <td>100g</td>\n",
       "      <td>Plastic,Pot,de:Stück,fr:Pot plastique</td>\n",
       "      <td>Canada,France,Germany,Switzerland</td>\n",
       "    </tr>\n",
       "    <tr>\n",
       "      <th>2</th>\n",
       "      <td>Tomacouli</td>\n",
       "      <td>3 x 200 g</td>\n",
       "      <td>Plastique,Brique,Carton,Etui en carton</td>\n",
       "      <td>France</td>\n",
       "    </tr>\n",
       "    <tr>\n",
       "      <th>3</th>\n",
       "      <td>Tomatenmark</td>\n",
       "      <td>130g</td>\n",
       "      <td>Metal, Container, Dry, Tube</td>\n",
       "      <td>Australien, Frankreich, Italien, Niederlande, Spanien, Schweiz, Germany</td>\n",
       "    </tr>\n",
       "    <tr>\n",
       "      <th>4</th>\n",
       "      <td>Passierte Tomaten</td>\n",
       "      <td>500g</td>\n",
       "      <td>Tetra Pak, Pappe, Karton, da:C/PAP, 84</td>\n",
       "      <td>Deutschland,Rumänien</td>\n",
       "    </tr>\n",
       "  </tbody>\n",
       "</table>\n",
       "</div>"
      ],
      "text/plain": [
       "                         Product Name     Weight  \\\n",
       "0  Heinz Beanz In a rich tomato sauce      415 g   \n",
       "1                        Röstzwiebeln       100g   \n",
       "2                           Tomacouli  3 x 200 g   \n",
       "3                         Tomatenmark       130g   \n",
       "4                   Passierte Tomaten       500g   \n",
       "\n",
       "                        Packaging Details  \\\n",
       "0     Металл,en:Can,en:Canned,en:Food can   \n",
       "1   Plastic,Pot,de:Stück,fr:Pot plastique   \n",
       "2  Plastique,Brique,Carton,Etui en carton   \n",
       "3             Metal, Container, Dry, Tube   \n",
       "4  Tetra Pak, Pappe, Karton, da:C/PAP, 84   \n",
       "\n",
       "                                                                   Country  \n",
       "0                  Франция,Португалия,Россия,Испания,Швеция,Великобритания  \n",
       "1                                        Canada,France,Germany,Switzerland  \n",
       "2                                                                   France  \n",
       "3  Australien, Frankreich, Italien, Niederlande, Spanien, Schweiz, Germany  \n",
       "4                                                     Deutschland,Rumänien  "
      ]
     },
     "execution_count": 7,
     "metadata": {},
     "output_type": "execute_result"
    }
   ],
   "source": [
    "pd.set_option('display.max_rows', None)\n",
    "pd.set_option('display.max_colwidth', None)\n",
    "Veg = pd.DataFrame(data_dict)\n",
    "\n",
    "Veg.head()"
   ]
  },
  {
   "cell_type": "markdown",
   "id": "1d20b9dc",
   "metadata": {},
   "source": [
    "Export Data"
   ]
  },
  {
   "cell_type": "code",
   "execution_count": 8,
   "id": "1d83cb12",
   "metadata": {},
   "outputs": [],
   "source": [
    "Veg.to_csv(r\"C:\\Users\\medekar\\Desktop\\Product_Weight_Project\\Data\\Processed\\WeightData_sourced\\OpenFoodFacts.csv\")"
   ]
  }
 ],
 "metadata": {
  "kernelspec": {
   "display_name": "ProdW",
   "language": "python",
   "name": "prodw"
  },
  "language_info": {
   "codemirror_mode": {
    "name": "ipython",
    "version": 3
   },
   "file_extension": ".py",
   "mimetype": "text/x-python",
   "name": "python",
   "nbconvert_exporter": "python",
   "pygments_lexer": "ipython3",
   "version": "3.11.2"
  }
 },
 "nbformat": 4,
 "nbformat_minor": 5
}
