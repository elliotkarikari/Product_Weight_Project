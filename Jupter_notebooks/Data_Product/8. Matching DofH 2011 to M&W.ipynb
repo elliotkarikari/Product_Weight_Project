{
 "cells": [
  {
   "cell_type": "markdown",
   "id": "1ed6de8a",
   "metadata": {},
   "source": [
    "# Matching Department of Health data (2011) to M&W"
   ]
  },
  {
   "cell_type": "markdown",
   "id": "b4c091d3",
   "metadata": {},
   "source": [
    "Import Libraries"
   ]
  },
  {
   "cell_type": "code",
   "execution_count": 1,
   "id": "01165e82",
   "metadata": {},
   "outputs": [],
   "source": [
    "import pandas as pd\n",
    "import matplotlib.pyplot as plt\n",
    "import seaborn as sns\n",
    "import numpy as np\n",
    "import re #regular expressions \n",
    "from fuzzywuzzy import process, fuzz\n",
    "from sklearn.feature_extraction.text import TfidfVectorizer\n",
    "from sklearn.metrics.pairwise import cosine_similarity\n",
    "import os \n",
    "import glob"
   ]
  },
  {
   "cell_type": "code",
   "execution_count": 2,
   "id": "504468a6",
   "metadata": {},
   "outputs": [],
   "source": [
    "%load_ext watermark"
   ]
  },
  {
   "cell_type": "code",
   "execution_count": 3,
   "id": "88237516",
   "metadata": {},
   "outputs": [
    {
     "name": "stdout",
     "output_type": "stream",
     "text": [
      "seaborn   : 0.12.2\n",
      "matplotlib: 3.7.1\n",
      "numpy     : 1.23.5\n",
      "fuzzywuzzy: 0.18.0\n",
      "re        : 2.2.1\n",
      "pandas    : 1.5.3\n",
      "\n"
     ]
    }
   ],
   "source": [
    "%watermark --iversions"
   ]
  },
  {
   "cell_type": "markdown",
   "id": "867cc4cc",
   "metadata": {},
   "source": [
    "###### Read in Data"
   ]
  },
  {
   "cell_type": "markdown",
   "id": "7b2e81fb",
   "metadata": {},
   "source": [
    "                                                           M&W Data"
   ]
  },
  {
   "cell_type": "code",
   "execution_count": 2,
   "id": "cb738217",
   "metadata": {
    "scrolled": false
   },
   "outputs": [
    {
     "data": {
      "text/html": [
       "<div>\n",
       "<style scoped>\n",
       "    .dataframe tbody tr th:only-of-type {\n",
       "        vertical-align: middle;\n",
       "    }\n",
       "\n",
       "    .dataframe tbody tr th {\n",
       "        vertical-align: top;\n",
       "    }\n",
       "\n",
       "    .dataframe thead th {\n",
       "        text-align: right;\n",
       "    }\n",
       "</style>\n",
       "<table border=\"1\" class=\"dataframe\">\n",
       "  <thead>\n",
       "    <tr style=\"text-align: right;\">\n",
       "      <th></th>\n",
       "      <th>Food Code</th>\n",
       "      <th>Food Name</th>\n",
       "      <th>Food sub-group codes</th>\n",
       "      <th>Food Group</th>\n",
       "      <th>Sales Format</th>\n",
       "      <th>Source</th>\n",
       "      <th>Similarity Score_FPS</th>\n",
       "      <th>Weight_FPS</th>\n",
       "      <th>PurEqualCon</th>\n",
       "      <th>Portion Consumed_FPS</th>\n",
       "    </tr>\n",
       "  </thead>\n",
       "  <tbody>\n",
       "    <tr>\n",
       "      <th>0</th>\n",
       "      <td>13-145</td>\n",
       "      <td>ackee</td>\n",
       "      <td>DG</td>\n",
       "      <td>Vegetables</td>\n",
       "      <td>Can</td>\n",
       "      <td>NaN</td>\n",
       "      <td>0.000000</td>\n",
       "      <td>NaN</td>\n",
       "      <td>NaN</td>\n",
       "      <td>NaN</td>\n",
       "    </tr>\n",
       "    <tr>\n",
       "      <th>1</th>\n",
       "      <td>13-146</td>\n",
       "      <td>agar</td>\n",
       "      <td>DG</td>\n",
       "      <td>Vegetables</td>\n",
       "      <td>Bag</td>\n",
       "      <td>NaN</td>\n",
       "      <td>0.000000</td>\n",
       "      <td>NaN</td>\n",
       "      <td>NaN</td>\n",
       "      <td>NaN</td>\n",
       "    </tr>\n",
       "    <tr>\n",
       "      <th>2</th>\n",
       "      <td>13-148</td>\n",
       "      <td>alfalfa sprouts</td>\n",
       "      <td>DG</td>\n",
       "      <td>Vegetables</td>\n",
       "      <td>Bagged produce</td>\n",
       "      <td>NaN</td>\n",
       "      <td>0.000000</td>\n",
       "      <td>NaN</td>\n",
       "      <td>NaN</td>\n",
       "      <td>NaN</td>\n",
       "    </tr>\n",
       "    <tr>\n",
       "      <th>3</th>\n",
       "      <td>14-896</td>\n",
       "      <td>almonds whole kernels</td>\n",
       "      <td>GA</td>\n",
       "      <td>Nuts and seeds</td>\n",
       "      <td>Bag</td>\n",
       "      <td>NaN</td>\n",
       "      <td>0.220969</td>\n",
       "      <td>NaN</td>\n",
       "      <td>NaN</td>\n",
       "      <td>NaN</td>\n",
       "    </tr>\n",
       "    <tr>\n",
       "      <th>4</th>\n",
       "      <td>13-149</td>\n",
       "      <td>amaranth leaves</td>\n",
       "      <td>DG</td>\n",
       "      <td>Vegetables</td>\n",
       "      <td>Bagged produce</td>\n",
       "      <td>NaN</td>\n",
       "      <td>0.464151</td>\n",
       "      <td>NaN</td>\n",
       "      <td>NaN</td>\n",
       "      <td>NaN</td>\n",
       "    </tr>\n",
       "  </tbody>\n",
       "</table>\n",
       "</div>"
      ],
      "text/plain": [
       "  Food Code              Food Name Food sub-group codes      Food Group  \\\n",
       "0    13-145                  ackee                   DG      Vegetables   \n",
       "1    13-146                   agar                   DG      Vegetables   \n",
       "2    13-148        alfalfa sprouts                   DG      Vegetables   \n",
       "3    14-896  almonds whole kernels                   GA  Nuts and seeds   \n",
       "4    13-149        amaranth leaves                   DG      Vegetables   \n",
       "\n",
       "     Sales Format Source  Similarity Score_FPS Weight_FPS PurEqualCon  \\\n",
       "0             Can    NaN              0.000000        NaN         NaN   \n",
       "1             Bag    NaN              0.000000        NaN         NaN   \n",
       "2  Bagged produce    NaN              0.000000        NaN         NaN   \n",
       "3             Bag    NaN              0.220969        NaN         NaN   \n",
       "4  Bagged produce    NaN              0.464151        NaN         NaN   \n",
       "\n",
       "  Portion Consumed_FPS  \n",
       "0                  NaN  \n",
       "1                  NaN  \n",
       "2                  NaN  \n",
       "3                  NaN  \n",
       "4                  NaN  "
      ]
     },
     "execution_count": 2,
     "metadata": {},
     "output_type": "execute_result"
    }
   ],
   "source": [
    "pd.set_option('display.max_rows', None)\n",
    "redFood = pd.read_csv(r\"C:\\Users\\medekar\\Desktop\\Product_Weight_Project\\Data\\Processed\\ReducedwithWeights\\matchedwithFPS.csv\", index_col=0)\n",
    "redFood.rename(columns={'Similarity Score':'Similarity Score_FPS','Weight':'Weight_FPS','Portion Consumed':'Portion Consumed_FPS'}, inplace=True)\n",
    "#redFood.drop(['Source','PurEqualCon'], axis=1, inplace=True)\n",
    "redFood['Food Name'] = redFood['Food Name'].str.lower()\n",
    "redFood.head()"
   ]
  },
  {
   "cell_type": "code",
   "execution_count": 3,
   "id": "473e8d98",
   "metadata": {},
   "outputs": [
    {
     "name": "stdout",
     "output_type": "stream",
     "text": [
      "CPU times: total: 15.6 ms\n",
      "Wall time: 10 ms\n"
     ]
    }
   ],
   "source": [
    "%%time\n",
    "def clean_food_name(name):\n",
    "    replacements = [\n",
    "        (r'\\bdried\\b', ''),\n",
    "        (r'\\bfresh\\b', ''),\n",
    "        (r'\\b/baked\\b', ''),\n",
    "        (r'\\bdrink\\b', ''),\n",
    "        (r'\\bbitter best premium\\b', ''),\n",
    "        (r'\\baverage\\b', ''),\n",
    "        (r'\\bchicken whole\\b', ''),\n",
    "        (r'\\bflesh only\\b', ''),\n",
    "        (r'\\bweighed with skin and core\\b', ''),\n",
    "        (r'\\bflesh and skin\\b', ''),\n",
    "        (r'\\bweighed with skin and stone\\b', ''),\n",
    "        (r'\\bclear ambient and chilled\\b', ''),\n",
    "        (r'\\bflesh with skin\\b', ''),\n",
    "        (r'\\bwhole fruit\\b', ''),\n",
    "        (r'\\b cooking\\b', ''),\n",
    "        (r'\\bweighed with core and stalk\\b', ''),\n",
    "        (r'\\bwhole without pips\\b', ''),\n",
    "        (r'\\bflesh and pips weighed with skin\\b', ''),\n",
    "        (r'\\btakeaway\\b', ''),\n",
    "        (r'\\bonly\\b', ''),\n",
    "        (r'\\bindividual\\b', ''),\n",
    "        (r'\\bof condensed as served\\b', ''),\n",
    "        (r'\\bas purchased\\b', ''),\n",
    "        (r'\\bflesh\\b', ''),\n",
    "    ]\n",
    "    \n",
    "    for pattern, replacement in replacements:\n",
    "        name = re.sub(pattern, replacement, name, flags=re.IGNORECASE)\n",
    "    \n",
    "    return name.strip()\n",
    "\n",
    "# Assuming 'redFood' and 'dataframefull' are your DataFrames\n",
    "redFood['Food Name'] = redFood['Food Name'].str.replace(',', '').apply(clean_food_name)\n",
    "#dataframefull['Composite Sample Name'] = dataframefull['Composite Sample Name'].apply(clean_food_name)\n"
   ]
  },
  {
   "cell_type": "code",
   "execution_count": 4,
   "id": "ba0db0de",
   "metadata": {},
   "outputs": [],
   "source": [
    "redFood.to_csv(r\"C:\\Users\\medekar\\Desktop\\Product_Weight_Project\\Data\\Processed\\ReducedwithWeights\\matchedwithFPS.csv\")"
   ]
  },
  {
   "cell_type": "markdown",
   "id": "5f3c2a92",
   "metadata": {},
   "source": [
    "                                                Fruit and Vegetables"
   ]
  },
  {
   "cell_type": "code",
   "execution_count": 5,
   "id": "7386cc76",
   "metadata": {},
   "outputs": [
    {
     "name": "stderr",
     "output_type": "stream",
     "text": [
      "C:\\Users\\medekar\\AppData\\Local\\Temp\\ipykernel_5256\\413163657.py:2: SettingWithCopyWarning: \n",
      "A value is trying to be set on a copy of a slice from a DataFrame.\n",
      "Try using .loc[row_indexer,col_indexer] = value instead\n",
      "\n",
      "See the caveats in the documentation: https://pandas.pydata.org/pandas-docs/stable/user_guide/indexing.html#returning-a-view-versus-a-copy\n",
      "  fv['Food Group'] = fv['Food Group'].fillna('')\n",
      "C:\\Users\\medekar\\AppData\\Local\\Temp\\ipykernel_5256\\413163657.py:3: SettingWithCopyWarning: \n",
      "A value is trying to be set on a copy of a slice from a DataFrame.\n",
      "Try using .loc[row_indexer,col_indexer] = value instead\n",
      "\n",
      "See the caveats in the documentation: https://pandas.pydata.org/pandas-docs/stable/user_guide/indexing.html#returning-a-view-versus-a-copy\n",
      "  fv['Weight_FPS'] = fv['Weight_FPS'].fillna('')\n",
      "C:\\Users\\medekar\\AppData\\Local\\Temp\\ipykernel_5256\\413163657.py:4: SettingWithCopyWarning: \n",
      "A value is trying to be set on a copy of a slice from a DataFrame.\n",
      "Try using .loc[row_indexer,col_indexer] = value instead\n",
      "\n",
      "See the caveats in the documentation: https://pandas.pydata.org/pandas-docs/stable/user_guide/indexing.html#returning-a-view-versus-a-copy\n",
      "  fv['Portion Consumed_FPS'] = fv['Portion Consumed_FPS'].fillna('')\n"
     ]
    }
   ],
   "source": [
    "fv = redFood[redFood['Food Group'].str.contains('Fruit|Vegetables')]\n",
    "fv['Food Group'] = fv['Food Group'].fillna('')\n",
    "fv['Weight_FPS'] = fv['Weight_FPS'].fillna('')\n",
    "fv['Portion Consumed_FPS'] = fv['Portion Consumed_FPS'].fillna('')\n",
    "#fv.tail()"
   ]
  },
  {
   "cell_type": "code",
   "execution_count": 6,
   "id": "92f8ba51",
   "metadata": {},
   "outputs": [
    {
     "data": {
      "text/plain": [
       "170"
      ]
     },
     "execution_count": 6,
     "metadata": {},
     "output_type": "execute_result"
    }
   ],
   "source": [
    "fv['Food Name'].value_counts().sum()"
   ]
  },
  {
   "cell_type": "markdown",
   "id": "4831dee4",
   "metadata": {},
   "source": [
    "                                                Department of Health Data"
   ]
  },
  {
   "cell_type": "markdown",
   "id": "05178ce3",
   "metadata": {},
   "source": [
    "Converted Text data to a table"
   ]
  },
  {
   "cell_type": "code",
   "execution_count": 7,
   "id": "f6901527",
   "metadata": {
    "scrolled": true
   },
   "outputs": [],
   "source": [
    "doh = pd.read_csv(r\"C:\\Users\\medekar\\Desktop\\Product_Weight_Project\\Data\\Processed\\FV_WeightData\\text\\DofHealth_text_FV2011.csv\", index_col=0)\n",
    "doh['Composite Sample Name'] = doh['Composite Sample Name'].str.lower()\n",
    "doh[doh['Composite Sample Name'].str.contains('orange')]#.head()\n",
    "doh['Sub-sample Number'] = doh['Sub-sample Number'].astype(str)"
   ]
  },
  {
   "cell_type": "markdown",
   "id": "ef17409a",
   "metadata": {},
   "source": [
    "Concatinating All excel files into one file"
   ]
  },
  {
   "cell_type": "code",
   "execution_count": 8,
   "id": "55d6d038",
   "metadata": {},
   "outputs": [],
   "source": [
    "# Set the directory path where CSV files are located\n",
    "directory_path = r'C:\\Users\\medekar\\Desktop\\Product_Weight_Project\\Data\\Processed\\FV_WeightData\\tables\\2011'\n",
    "\n",
    "# Use glob to get a list of all CSV files in the directory\n",
    "csv_files = glob.glob(os.path.join(directory_path, '*.csv'))\n",
    "\n",
    "# Initialize an empty list to store DataFrames\n",
    "dataframes = []\n",
    "\n",
    "# Loop through each CSV file, read it using pandas, and append to the list\n",
    "for csv_file in csv_files:\n",
    "    # Read CSV file into a DataFrame\n",
    "    dataframe = pd.read_csv(csv_file)\n",
    "    \n",
    "    # Append DataFrame to the list\n",
    "    dataframes.append(dataframe)\n",
    "\n",
    "# Concatenate all DataFrames into a single DataFrame\n",
    "dataframefull = pd.concat(dataframes, ignore_index=True)"
   ]
  },
  {
   "cell_type": "markdown",
   "id": "36da68f9",
   "metadata": {},
   "source": [
    "Minor Cleaning"
   ]
  },
  {
   "cell_type": "code",
   "execution_count": 9,
   "id": "7f32a3ac",
   "metadata": {
    "scrolled": true
   },
   "outputs": [],
   "source": [
    "dataframefull.drop(['Unnamed: 0'], axis=1, inplace=True)\n",
    "dataframefull['Composite Sample Name'] = dataframefull['Composite Sample Name'].str.lower()"
   ]
  },
  {
   "cell_type": "code",
   "execution_count": 10,
   "id": "419c1236",
   "metadata": {},
   "outputs": [],
   "source": [
    "dataframefull.rename(columns={'Sub-sample Number':'Sub_sampleNumber'}, inplace = True)\n",
    "dataframefull['Sub_sampleNumber'] = dataframefull['Sub_sampleNumber'].astype(str)"
   ]
  },
  {
   "cell_type": "markdown",
   "id": "f4860dcd",
   "metadata": {},
   "source": [
    "Matched DoH data doesn't have good weight data. I am going to go back and look at the PdF to try find better information.\n",
    "\n",
    "\n",
    "Tables at the end of pdf have weight info for all samples used. Get this into text table and try matching again"
   ]
  },
  {
   "cell_type": "markdown",
   "id": "81de47f8",
   "metadata": {},
   "source": [
    "                                    Updating DoH text table with Sample weights tables"
   ]
  },
  {
   "cell_type": "code",
   "execution_count": 11,
   "id": "faa5f80b",
   "metadata": {
    "scrolled": true
   },
   "outputs": [
    {
     "name": "stdout",
     "output_type": "stream",
     "text": [
      "CPU times: total: 609 ms\n",
      "Wall time: 626 ms\n"
     ]
    }
   ],
   "source": [
    "%%time\n",
    "# Define your regular expression matching function\n",
    "def regex_matching(source, target):\n",
    "    pattern = re.compile(f'.*{source}.*', re.IGNORECASE)\n",
    "    return target if re.match(pattern, target) else ''\n",
    "\n",
    "# Create a function to update 'Pack size' and 'Match' column based on the regex match\n",
    "def update_pack_size_and_match(row):\n",
    "    sub_sample_number = row['Sub-sample Number']\n",
    "    \n",
    "    # Find the best match in 'dataframefull' using regular expression\n",
    "    best_match = dataframefull[dataframefull['Sub_sampleNumber'].apply(lambda x: regex_matching(sub_sample_number, x)) != '']\n",
    "    \n",
    "    if not best_match.empty:\n",
    "        # Get the first match and update 'Pack size' and 'Match' column\n",
    "        matched_weight = best_match.iloc[0]['Sample Weight']\n",
    "        return pd.Series([matched_weight, 1], index=['Pack size', 'Match'])\n",
    "    \n",
    "    return pd.Series([row['Pack size'], 0], index=['Pack size', 'Match'])  # If no match, return original 'Pack size' and 'Match' as 0\n",
    "\n",
    "# Apply the update_pack_size_and_match function to 'doh'\n",
    "doh[['Pack size', 'Match']] = doh.apply(update_pack_size_and_match, axis=1)\n"
   ]
  },
  {
   "cell_type": "code",
   "execution_count": 12,
   "id": "86effb78",
   "metadata": {},
   "outputs": [],
   "source": [
    "doh.rename(columns={'Pack size':'Sample Weight'}, inplace=True)"
   ]
  },
  {
   "cell_type": "code",
   "execution_count": 13,
   "id": "5216933e",
   "metadata": {},
   "outputs": [
    {
     "name": "stdout",
     "output_type": "stream",
     "text": [
      "CPU times: total: 0 ns\n",
      "Wall time: 8.01 ms\n"
     ]
    }
   ],
   "source": [
    "%%time\n",
    "filtered_products = pd.read_csv(r\"C:\\Users\\medekar\\Desktop\\Product_Weight_Project\\Data\\Processed\\FV_WeightData\\text\\DofHealth_text_FV2011.csv\", index_col=0)\n",
    "filtered_products['Sub-sample Number'] = filtered_products['Sub-sample Number'].astype(str)#.head()"
   ]
  },
  {
   "cell_type": "code",
   "execution_count": 14,
   "id": "f1efc9e5",
   "metadata": {},
   "outputs": [
    {
     "name": "stdout",
     "output_type": "stream",
     "text": [
      "CPU times: total: 1.45 s\n",
      "Wall time: 1.49 s\n"
     ]
    }
   ],
   "source": [
    "%%time\n",
    "# Define your regular expression matching function\n",
    "def regex_matching(source, target):\n",
    "    pattern = re.compile(f'.*{source}.*', re.IGNORECASE)\n",
    "    return target if re.match(pattern, target) else ''\n",
    "\n",
    "# Create a function to update 'Pack Size' and 'Match' column based on the regex match\n",
    "def pack_size(row):\n",
    "    sub_sample_number = row['Sub-sample Number']  # Correct column name\n",
    "    \n",
    "    # Find the best match in 'filtered_products' using regular expression\n",
    "    best_match = filtered_products[filtered_products['Sub-sample Number'].apply(lambda x: regex_matching(sub_sample_number, x)) != '']\n",
    "    \n",
    "    if not best_match.empty:\n",
    "        # Get the first match and retrieve 'Pack Size'\n",
    "        matched_weight = best_match.iloc[0]['Pack size']  # Correct column name\n",
    "        return matched_weight\n",
    "    \n",
    "    return row['Pack size']  # Return original 'Pack Size' if no match\n",
    "\n",
    "# Load or define your 'filtered_products' DataFrame\n",
    "# filtered_products = ...\n",
    "\n",
    "# Apply the pack_size function to update 'Pack Size' column in 'dataframefull'\n",
    "doh['Pack size'] = doh.apply(pack_size, axis=1)"
   ]
  },
  {
   "cell_type": "code",
   "execution_count": 15,
   "id": "c38e322f",
   "metadata": {},
   "outputs": [
    {
     "name": "stdout",
     "output_type": "stream",
     "text": [
      "CPU times: total: 31.2 ms\n",
      "Wall time: 28 ms\n"
     ]
    }
   ],
   "source": [
    "%%time\n",
    "def clean_food_name(name):\n",
    "    replacements = [\n",
    "        (r'\\bboiled\\b', ''),\n",
    "        (r'\\bdried\\b', ''),\n",
    "        (r'\\bfresh\\b', ''),\n",
    "        (r'\\b/baked\\b', ''),\n",
    "        (r'\\bdrink\\b', ''),\n",
    "        (r'\\bbitter best premium\\b', ''),\n",
    "        (r'\\baverage\\b', ''),\n",
    "        (r'\\bchicken whole\\b', ''),\n",
    "        (r'\\bflesh only\\b', ''),\n",
    "        (r'\\bweighed with skin and core\\b', ''),\n",
    "        (r'\\bflesh and skin\\b', ''),\n",
    "        (r'\\bweighed with skin and stone\\b', ''),\n",
    "        (r'\\bclear ambient and chilled\\b', ''),\n",
    "        (r'\\bflesh with skin\\b', ''),\n",
    "        (r'\\bwhole fruit\\b', ''),\n",
    "        (r'\\b cooking\\b', ''),\n",
    "        (r'\\bweighed with core and stalk\\b', ''),\n",
    "        (r'\\bwhole without pips\\b', ''),\n",
    "        (r'\\bflesh and pips weighed with skin\\b', ''),\n",
    "        (r'\\btakeaway\\b', ''),\n",
    "        (r'\\bonly\\b', ''),\n",
    "        (r'\\bindividual\\b', ''),\n",
    "        (r'\\bof condensed as served\\b', ''),\n",
    "        (r'\\bas purchased\\b', ''),\n",
    "        (r'\\bflesh\\b', ''),\n",
    "        (r'\\braw\\b', ''),\n",
    "    ]\n",
    "    \n",
    "    for pattern, replacement in replacements:\n",
    "        name = re.sub(pattern, replacement, name, flags=re.IGNORECASE)\n",
    "    \n",
    "    return name.strip()\n",
    "\n",
    "# Assuming 'redFood' and 'dataframefull' are your DataFrames\n",
    "doh['Composite Sample Name'] = doh['Composite Sample Name'].str.replace(',', '').apply(clean_food_name)\n",
    "dataframefull['Composite Sample Name'] = dataframefull['Composite Sample Name'].str.replace(',', '').apply(clean_food_name)\n"
   ]
  },
  {
   "cell_type": "code",
   "execution_count": 16,
   "id": "471bafb6",
   "metadata": {
    "scrolled": true
   },
   "outputs": [
    {
     "data": {
      "text/html": [
       "<div>\n",
       "<style scoped>\n",
       "    .dataframe tbody tr th:only-of-type {\n",
       "        vertical-align: middle;\n",
       "    }\n",
       "\n",
       "    .dataframe tbody tr th {\n",
       "        vertical-align: top;\n",
       "    }\n",
       "\n",
       "    .dataframe thead th {\n",
       "        text-align: right;\n",
       "    }\n",
       "</style>\n",
       "<table border=\"1\" class=\"dataframe\">\n",
       "  <thead>\n",
       "    <tr style=\"text-align: right;\">\n",
       "      <th></th>\n",
       "      <th>Composite Sample Number</th>\n",
       "      <th>Composite Sample Name</th>\n",
       "      <th>Sub_sampleNumber</th>\n",
       "      <th>Sub-sample Name</th>\n",
       "      <th>Brand</th>\n",
       "      <th>Sample Weight</th>\n",
       "      <th>Purchase Date</th>\n",
       "      <th>Place of Purchase</th>\n",
       "      <th>Display Until Date</th>\n",
       "      <th>Best Before Date</th>\n",
       "      <th>Batch Number</th>\n",
       "      <th>Packaging</th>\n",
       "      <th>Sample Condition As Purchased</th>\n",
       "      <th>Post Purchase Storage</th>\n",
       "    </tr>\n",
       "  </thead>\n",
       "  <tbody>\n",
       "    <tr>\n",
       "      <th>203</th>\n",
       "      <td>38.0</td>\n",
       "      <td>peppers yellow</td>\n",
       "      <td>38.6</td>\n",
       "      <td>NaN</td>\n",
       "      <td>Morrisons</td>\n",
       "      <td>130.0</td>\n",
       "      <td>26.09.2011</td>\n",
       "      <td>Morrisons, Norwich</td>\n",
       "      <td>01-Oct</td>\n",
       "      <td>03-Oct</td>\n",
       "      <td>kcb75 U 0258 22101 T17303/1008</td>\n",
       "      <td>Plast ic</td>\n",
       "      <td>Ambient</td>\n",
       "      <td>Refrigerated</td>\n",
       "    </tr>\n",
       "    <tr>\n",
       "      <th>204</th>\n",
       "      <td>38.0</td>\n",
       "      <td>peppers yellow</td>\n",
       "      <td>38.7</td>\n",
       "      <td>Waitrose, organic, mixed peppers</td>\n",
       "      <td>Waitrose o rganic</td>\n",
       "      <td>156.9</td>\n",
       "      <td>27.09.2 011</td>\n",
       "      <td>Waitrose, Wymondham</td>\n",
       "      <td>29-Sep</td>\n",
       "      <td>29-Sep</td>\n",
       "      <td>Supplier 272X CC</td>\n",
       "      <td>Plastic</td>\n",
       "      <td>Ambient</td>\n",
       "      <td>Refrigerated</td>\n",
       "    </tr>\n",
       "    <tr>\n",
       "      <th>205</th>\n",
       "      <td>38.0</td>\n",
       "      <td>peppers yellow</td>\n",
       "      <td>38.9</td>\n",
       "      <td>Sainsbury’s, basics, peppers</td>\n",
       "      <td>NaN</td>\n",
       "      <td>116.2</td>\n",
       "      <td>26.09.2011</td>\n",
       "      <td>Sainsbury’s, Longwater, Norwich</td>\n",
       "      <td>30-Sep</td>\n",
       "      <td>30-Sep</td>\n",
       "      <td>23 CO482A F B 5 13:20 7157218 08.09</td>\n",
       "      <td>Plastic</td>\n",
       "      <td>NaN</td>\n",
       "      <td>Refrigerated</td>\n",
       "    </tr>\n",
       "  </tbody>\n",
       "</table>\n",
       "</div>"
      ],
      "text/plain": [
       "     Composite Sample Number Composite Sample Name Sub_sampleNumber  \\\n",
       "203                     38.0        peppers yellow             38.6   \n",
       "204                     38.0        peppers yellow             38.7   \n",
       "205                     38.0        peppers yellow             38.9   \n",
       "\n",
       "                       Sub-sample Name               Brand Sample Weight  \\\n",
       "203                                NaN          Morrisons          130.0   \n",
       "204  Waitrose, organic, mixed peppers   Waitrose o rganic          156.9   \n",
       "205      Sainsbury’s, basics, peppers                  NaN         116.2   \n",
       "\n",
       "    Purchase Date                 Place of Purchase Display Until Date  \\\n",
       "203   26.09.2011                Morrisons, Norwich              01-Oct   \n",
       "204  27.09.2 011               Waitrose, Wymondham              29-Sep   \n",
       "205   26.09.2011   Sainsbury’s, Longwater, Norwich              30-Sep   \n",
       "\n",
       "    Best Before Date                          Batch Number  Packaging  \\\n",
       "203           03-Oct       kcb75 U 0258 22101 T17303/1008   Plast ic    \n",
       "204           29-Sep                     Supplier 272X CC    Plastic    \n",
       "205           30-Sep  23 CO482A F B 5 13:20 7157218 08.09    Plastic    \n",
       "\n",
       "    Sample Condition As Purchased Post Purchase Storage  \n",
       "203                      Ambient          Refrigerated   \n",
       "204                      Ambient          Refrigerated   \n",
       "205                           NaN         Refrigerated   "
      ]
     },
     "execution_count": 16,
     "metadata": {},
     "output_type": "execute_result"
    }
   ],
   "source": [
    "dataframefull.tail(3)"
   ]
  },
  {
   "cell_type": "markdown",
   "id": "32fb9390",
   "metadata": {},
   "source": [
    "                                                       Export"
   ]
  },
  {
   "cell_type": "code",
   "execution_count": 17,
   "id": "4a3b5c7f",
   "metadata": {},
   "outputs": [],
   "source": [
    "#doh.to_csv(r'C:\\Users\\medekar\\Desktop\\Product_Weight_Project\\Data\\Processed\\Sample Reports\\DOH2011.csv')"
   ]
  },
  {
   "cell_type": "markdown",
   "id": "4a61e5d8",
   "metadata": {},
   "source": [
    "                                Removing samples that didn't have the right weights attached "
   ]
  },
  {
   "cell_type": "code",
   "execution_count": 18,
   "id": "41338e5b",
   "metadata": {},
   "outputs": [],
   "source": [
    "rows_to_remove3 = [517,518,519,523,525,526,527,528,\n",
    "                  530,532,533,534,535,536,537]\n",
    "\n",
    "doh.drop(rows_to_remove3, axis=0, inplace=True)"
   ]
  },
  {
   "cell_type": "code",
   "execution_count": 19,
   "id": "a846406b",
   "metadata": {},
   "outputs": [],
   "source": [
    "rows_to_remove2 = [333,332,331,330,329,328,327,326,\n",
    "                  325,324,323,322,321,320,319,318,\n",
    "                  317,316,340,341,342,344,345,346,\n",
    "                  347,348,350,351,352,353,354,355,\n",
    "                  356,357,358,359,360,361,362,363,\n",
    "                  364,365,366,367,368,369,370,371,\n",
    "                  371]\n",
    "\n",
    "doh.drop(rows_to_remove2, axis=0, inplace=True)"
   ]
  },
  {
   "cell_type": "code",
   "execution_count": 20,
   "id": "3b264aa5",
   "metadata": {},
   "outputs": [],
   "source": [
    "rows_to_remove1 = [659,660,661,668,669,670,671,672,673,674,675,\n",
    "                   676,677,678,679,680,681,682,683,684,685,686,\n",
    "                   816,815,814,810,\n",
    "                   805,804,801,798]\n",
    "\n",
    "doh.drop(rows_to_remove1, axis=0, inplace=True)"
   ]
  },
  {
   "cell_type": "code",
   "execution_count": 21,
   "id": "30836940",
   "metadata": {},
   "outputs": [],
   "source": [
    "rows_to_remove = [717,719,722,725,782,729,732,736,738,739,740,742,747,748,753,754,756,757]\n",
    "\n",
    "doh.drop(rows_to_remove, axis=0, inplace=True)"
   ]
  },
  {
   "cell_type": "markdown",
   "id": "32693d3e",
   "metadata": {},
   "source": [
    "                                             Reducing Product list on DOH table"
   ]
  },
  {
   "cell_type": "code",
   "execution_count": 22,
   "id": "3421aa92",
   "metadata": {},
   "outputs": [
    {
     "name": "stderr",
     "output_type": "stream",
     "text": [
      "C:\\Users\\medekar\\AppData\\Local\\Temp\\ipykernel_5256\\3452392078.py:57: UserWarning: This pattern is interpreted as a regular expression, and has match groups. To actually get the groups, use str.extract.\n",
      "  matched_df = doh[doh['Composite Sample Name'].str.contains(best_match, case=False, regex=True)]\n",
      "C:\\Users\\medekar\\AppData\\Local\\Temp\\ipykernel_5256\\3452392078.py:57: UserWarning: This pattern is interpreted as a regular expression, and has match groups. To actually get the groups, use str.extract.\n",
      "  matched_df = doh[doh['Composite Sample Name'].str.contains(best_match, case=False, regex=True)]\n"
     ]
    }
   ],
   "source": [
    "# List of food names to match\n",
    "food_names = [\n",
    "    'potatoes, old, raw',\n",
    "    'carrots, old, raw',\n",
    "    'onions, raw',\n",
    "    'broccoli (calabrese), raw',\n",
    "    'mushrooms, raw',\n",
    "    'cabbage, white, raw',\n",
    "    'cabbage, green, raw',\n",
    "    'cauliflower, raw',\n",
    "    'beans, green, raw',\n",
    "    'tomatoes (standard), grilled',\n",
    "    'lettuce, average, raw',\n",
    "    'spinach, baby, raw',\n",
    "    'cucumber, flesh and skin, raw',\n",
    "    'peppers, red, raw',\n",
    "    'peppers, yellow, raw',\n",
    "    'bananas, raw, flesh only',\n",
    "    'apples, eating, raw, flesh and skin',\n",
    "    'apples, cooking, stewed, flesh only',\n",
    "    'pears, raw, flesh and skin',\n",
    "    'grapes, green, raw',\n",
    "    'grapes, red, raw',\n",
    "    'strawberries, raw',\n",
    "    'blueberries, raw',\n",
    "    'citrus fruit, soft/easy peelers, flesh only',\n",
    "    'oranges, flesh only',\n",
    "    'melon, yellow flesh, flesh only',\n",
    "    'peas, frozen, raw',\n",
    "    'sweetcorn, canned in water, drained',\n",
    "    'tomatoes, canned, whole contents',\n",
    "    'tomato puree',\n",
    "    'baked beans in tomato sauce',\n",
    "    'potato products, shaped, frozen, baked',\n",
    "    'orange juice, from concentrate',\n",
    "    'apple juice, clear, from concentrate'\n",
    "]\n",
    "\n",
    "# Create an empty DataFrame to store matched rows\n",
    "matched_rows = []\n",
    "\n",
    "# Create an empty DataFrame to store matched rows\n",
    "matched_rows = []\n",
    "\n",
    "# Loop through the food names and perform fuzzy matching\n",
    "for food_name in food_names:\n",
    "    best_similarity = 0\n",
    "    best_match = None\n",
    "    \n",
    "    for sample_name in doh['Composite Sample Name']:\n",
    "        similarity = fuzz.partial_ratio(food_name, sample_name)\n",
    "        if similarity > best_similarity:\n",
    "            best_similarity = similarity\n",
    "            best_match = sample_name\n",
    "    \n",
    "    if best_match is not None:\n",
    "        matched_df = doh[doh['Composite Sample Name'].str.contains(best_match, case=False, regex=True)]\n",
    "        if not matched_df.empty:\n",
    "            matched_row = matched_df.iloc[0].copy()\n",
    "            matched_row['Similarity Score'] = best_similarity\n",
    "            matched_rows.append(matched_row)\n",
    "\n",
    "# Create a DataFrame from the matched rows\n",
    "matched_food_df = pd.DataFrame(matched_rows)"
   ]
  },
  {
   "cell_type": "code",
   "execution_count": 23,
   "id": "89fc2b59",
   "metadata": {
    "scrolled": true
   },
   "outputs": [
    {
     "data": {
      "text/plain": [
       "Composite Sample Number          31\n",
       "Composite Sample Name            32\n",
       "Sub-sample Number                32\n",
       "Sub-sample Name                  31\n",
       "Brand                            32\n",
       "Sample Weight                    32\n",
       "Purchase Date                    31\n",
       "Place of Purchase                32\n",
       "Display Until Date               32\n",
       "Best Before Date                 28\n",
       "Batch Number                     29\n",
       "Packaging                        32\n",
       "Sample Condition As Purchased    30\n",
       "Post Purchase Storage            28\n",
       "Match                            32\n",
       "Pack size                        32\n",
       "Similarity Score                 32\n",
       "dtype: int64"
      ]
     },
     "execution_count": 23,
     "metadata": {},
     "output_type": "execute_result"
    }
   ],
   "source": [
    "matched_food_df.count()"
   ]
  },
  {
   "cell_type": "code",
   "execution_count": 24,
   "id": "bd9e8d62",
   "metadata": {},
   "outputs": [
    {
     "data": {
      "text/html": [
       "<div>\n",
       "<style scoped>\n",
       "    .dataframe tbody tr th:only-of-type {\n",
       "        vertical-align: middle;\n",
       "    }\n",
       "\n",
       "    .dataframe tbody tr th {\n",
       "        vertical-align: top;\n",
       "    }\n",
       "\n",
       "    .dataframe thead th {\n",
       "        text-align: right;\n",
       "    }\n",
       "</style>\n",
       "<table border=\"1\" class=\"dataframe\">\n",
       "  <thead>\n",
       "    <tr style=\"text-align: right;\">\n",
       "      <th></th>\n",
       "      <th>Composite Sample Number</th>\n",
       "      <th>Composite Sample Name</th>\n",
       "      <th>Sub-sample Number</th>\n",
       "      <th>Sub-sample Name</th>\n",
       "      <th>Brand</th>\n",
       "      <th>Sample Weight</th>\n",
       "      <th>Purchase Date</th>\n",
       "      <th>Place of Purchase</th>\n",
       "      <th>Display Until Date</th>\n",
       "      <th>Best Before Date</th>\n",
       "      <th>Batch Number</th>\n",
       "      <th>Packaging</th>\n",
       "      <th>Sample Condition As Purchased</th>\n",
       "      <th>Post Purchase Storage</th>\n",
       "      <th>Match</th>\n",
       "      <th>Pack size</th>\n",
       "      <th>Similarity Score</th>\n",
       "    </tr>\n",
       "  </thead>\n",
       "  <tbody>\n",
       "    <tr>\n",
       "      <th>896</th>\n",
       "      <td>54.0</td>\n",
       "      <td>tomato puree</td>\n",
       "      <td>54.1</td>\n",
       "      <td>Napolina, double concentrate, tomato puree</td>\n",
       "      <td>Napolina</td>\n",
       "      <td>142g</td>\n",
       "      <td>30.01.2012</td>\n",
       "      <td>Morrisons, Norwich</td>\n",
       "      <td>Best Before Date: Aug 2013</td>\n",
       "      <td>Aug-13</td>\n",
       "      <td>Packaging: Metal</td>\n",
       "      <td>Metal</td>\n",
       "      <td>Ambient</td>\n",
       "      <td>Ambient</td>\n",
       "      <td>0.0</td>\n",
       "      <td>142g</td>\n",
       "      <td>100</td>\n",
       "    </tr>\n",
       "    <tr>\n",
       "      <th>905</th>\n",
       "      <td>55.0</td>\n",
       "      <td>baked beans in tomato sauce</td>\n",
       "      <td>55.1</td>\n",
       "      <td>Heinz, 4 snap pots</td>\n",
       "      <td>Heinz</td>\n",
       "      <td>800g (4 x 200 g)</td>\n",
       "      <td>27.01.2012</td>\n",
       "      <td>Sainsbury’s, Longwater, Norwich</td>\n",
       "      <td>Best Before Date: 02-2013</td>\n",
       "      <td>Feb-13</td>\n",
       "      <td>BV 1336 13:14</td>\n",
       "      <td>Plastic</td>\n",
       "      <td>Ambient</td>\n",
       "      <td>Ambient</td>\n",
       "      <td>0.0</td>\n",
       "      <td>800g (4 x 200 g)</td>\n",
       "      <td>100</td>\n",
       "    </tr>\n",
       "    <tr>\n",
       "      <th>924</th>\n",
       "      <td>56.0</td>\n",
       "      <td>potato products shap ed frozen baked</td>\n",
       "      <td>56.4</td>\n",
       "      <td>McCain, Smiles</td>\n",
       "      <td>McCain</td>\n",
       "      <td>600g</td>\n",
       "      <td>27.01.2012</td>\n",
       "      <td>Sainsbury’s, Longwater , Norwich</td>\n",
       "      <td>Best Before Date: 06/2013</td>\n",
       "      <td>Jun-13</td>\n",
       "      <td>NaN</td>\n",
       "      <td>Plastic</td>\n",
       "      <td>Frozen</td>\n",
       "      <td>Frozen</td>\n",
       "      <td>0.0</td>\n",
       "      <td>600g</td>\n",
       "      <td>92</td>\n",
       "    </tr>\n",
       "    <tr>\n",
       "      <th>940</th>\n",
       "      <td>58.0</td>\n",
       "      <td>orange juice from concentrate ambient</td>\n",
       "      <td>58.1</td>\n",
       "      <td>Princes, 100% pure orange juice, from concentr...</td>\n",
       "      <td>Princes</td>\n",
       "      <td>1 litre</td>\n",
       "      <td>27.01.2012</td>\n",
       "      <td>Sainsbury’s, Longwate r, Norwich</td>\n",
       "      <td>Use By Date: Jan 2013</td>\n",
       "      <td>NaN</td>\n",
       "      <td>J L2004C 08:49 D</td>\n",
       "      <td>Tetra pak</td>\n",
       "      <td>Ambient</td>\n",
       "      <td>Ambient</td>\n",
       "      <td>0.0</td>\n",
       "      <td>1 litre</td>\n",
       "      <td>97</td>\n",
       "    </tr>\n",
       "    <tr>\n",
       "      <th>949</th>\n",
       "      <td>59.0</td>\n",
       "      <td>apple juice clear from concentrate amb ient an...</td>\n",
       "      <td>59.1</td>\n",
       "      <td>Princes, 100% pure apple juice, from concentrate</td>\n",
       "      <td>Princes</td>\n",
       "      <td>1 litre</td>\n",
       "      <td>27.01.2012</td>\n",
       "      <td>Sainsbury’s, Longwater, Norwich</td>\n",
       "      <td>Best Before Date: Jan 2013</td>\n",
       "      <td>Jan-13</td>\n",
       "      <td>V L2005C 19:40C</td>\n",
       "      <td>Tetra pak</td>\n",
       "      <td>Ambient</td>\n",
       "      <td>Ambient</td>\n",
       "      <td>0.0</td>\n",
       "      <td>1 litre</td>\n",
       "      <td>94</td>\n",
       "    </tr>\n",
       "  </tbody>\n",
       "</table>\n",
       "</div>"
      ],
      "text/plain": [
       "     Composite Sample Number  \\\n",
       "896                     54.0   \n",
       "905                     55.0   \n",
       "924                     56.0   \n",
       "940                     58.0   \n",
       "949                     59.0   \n",
       "\n",
       "                                 Composite Sample Name Sub-sample Number  \\\n",
       "896                                       tomato puree              54.1   \n",
       "905                        baked beans in tomato sauce              55.1   \n",
       "924               potato products shap ed frozen baked              56.4   \n",
       "940              orange juice from concentrate ambient              58.1   \n",
       "949  apple juice clear from concentrate amb ient an...              59.1   \n",
       "\n",
       "                                       Sub-sample Name      Brand  \\\n",
       "896        Napolina, double concentrate, tomato puree   Napolina    \n",
       "905                                Heinz, 4 snap pots      Heinz    \n",
       "924                                    McCain, Smiles     McCain    \n",
       "940  Princes, 100% pure orange juice, from concentr...   Princes    \n",
       "949  Princes, 100% pure apple juice, from concentrate    Princes    \n",
       "\n",
       "         Sample Weight Purchase Date                  Place of Purchase  \\\n",
       "896              142g    30.01.2012                 Morrisons, Norwich    \n",
       "905  800g (4 x 200 g)    27.01.2012    Sainsbury’s, Longwater, Norwich    \n",
       "924              600g    27.01.2012   Sainsbury’s, Longwater , Norwich    \n",
       "940           1 litre    27.01.2012   Sainsbury’s, Longwate r, Norwich    \n",
       "949           1 litre    27.01.2012    Sainsbury’s, Longwater, Norwich    \n",
       "\n",
       "              Display Until Date Best Before Date       Batch Number  \\\n",
       "896  Best Before Date: Aug 2013            Aug-13  Packaging: Metal    \n",
       "905   Best Before Date: 02-2013            Feb-13     BV 1336 13:14    \n",
       "924   Best Before Date: 06/2013            Jun-13                NaN   \n",
       "940       Use By Date: Jan 2013               NaN  J L2004C 08:49 D    \n",
       "949  Best Before Date: Jan 2013            Jan-13   V L2005C 19:40C    \n",
       "\n",
       "      Packaging Sample Condition As Purchased Post Purchase Storage  Match  \\\n",
       "896      Metal                       Ambient               Ambient     0.0   \n",
       "905    Plastic                       Ambient               Ambient     0.0   \n",
       "924    Plastic                        Frozen                Frozen     0.0   \n",
       "940  Tetra pak                       Ambient               Ambient     0.0   \n",
       "949  Tetra pak                       Ambient               Ambient     0.0   \n",
       "\n",
       "             Pack size  Similarity Score  \n",
       "896              142g                100  \n",
       "905  800g (4 x 200 g)                100  \n",
       "924              600g                 92  \n",
       "940           1 litre                 97  \n",
       "949           1 litre                 94  "
      ]
     },
     "execution_count": 24,
     "metadata": {},
     "output_type": "execute_result"
    }
   ],
   "source": [
    "matched_food_df.tail()"
   ]
  },
  {
   "cell_type": "markdown",
   "id": "a71f0e54",
   "metadata": {},
   "source": [
    "                                                    Matching M&W and DoH"
   ]
  },
  {
   "cell_type": "code",
   "execution_count": 25,
   "id": "547fd695",
   "metadata": {
    "scrolled": false
   },
   "outputs": [
    {
     "name": "stdout",
     "output_type": "stream",
     "text": [
      "Iteration 1/2\n",
      "Completed 1\n",
      "Completed 2\n",
      "Completed 3\n",
      "Iteration 2/2\n",
      "Completed 1\n",
      "Completed 2\n",
      "Completed 3\n",
      "CPU times: total: 203 ms\n",
      "Wall time: 216 ms\n"
     ]
    },
    {
     "name": "stderr",
     "output_type": "stream",
     "text": [
      "<timed exec>:55: FutureWarning: The frame.append method is deprecated and will be removed from pandas in a future version. Use pandas.concat instead.\n",
      "<timed exec>:55: FutureWarning: The frame.append method is deprecated and will be removed from pandas in a future version. Use pandas.concat instead.\n"
     ]
    }
   ],
   "source": [
    "%%time\n",
    "\n",
    "def fuzzy_matching_score(source, target):\n",
    "    return fuzz.partial_token_set_ratio(source, target)\n",
    "\n",
    "def get_most_similar_indices(tfidf_red_food, tfidf_clean_retail):\n",
    "    similarities = cosine_similarity(tfidf_red_food, tfidf_clean_retail)\n",
    "    return similarities.argmax(axis=1)\n",
    "\n",
    "def hybrid_fuzzy_matching(matched_food_df, fv, iterations=2):\n",
    "    # Set initial and subsequent thresholds for matching\n",
    "    initial_fuzzy_threshold = 85  # Lower the threshold for initial fuzzy matching\n",
    "    subsequent_fuzzy_threshold = 99\n",
    "    cosine_similarity_threshold = 0.90\n",
    "    min_similarity_threshold = 0.62\n",
    "\n",
    "    for iteration in range(iterations):\n",
    "        print(f\"Iteration {iteration + 1}/{iterations}\")\n",
    "    \n",
    "          # Step 1: Fuzzy Matching (Initial: permissive, Subsequent: stricter)\n",
    "        if iteration == 0:\n",
    "            partial_token_set_ratio_threshold = initial_fuzzy_threshold\n",
    "        else:\n",
    "            partial_token_set_ratio_threshold = subsequent_fuzzy_threshold\n",
    "            \n",
    "        matched_food_df['Partial Token Set Ratio'] = matched_food_df['Composite Sample Name'].apply(lambda x: fuzzy_matching_score(x, fv['Food Name']))\n",
    "        potential_matches = matched_food_df[matched_food_df['Partial Token Set Ratio'] >= partial_token_set_ratio_threshold]\n",
    "\n",
    "        print('Completed 1')\n",
    "\n",
    "        # Step 2: TF-IDF and Cosine Similarity (Text Matching) - Use combined matches as input\n",
    "        vectorizer = TfidfVectorizer()\n",
    "        vectorizer.fit(potential_matches['Composite Sample Name'])\n",
    "        tfidf_clean_doh = vectorizer.transform(potential_matches['Composite Sample Name'])\n",
    "        tfidf_red_food = vectorizer.transform(fv['Food Name'])\n",
    "\n",
    "        # Find the most similar match for each redFood product\n",
    "        max_sim_indices = get_most_similar_indices(tfidf_red_food, tfidf_clean_doh)\n",
    "        max_sim_scores = cosine_similarity(tfidf_red_food, tfidf_clean_doh).max(axis=1)\n",
    "\n",
    "        print('Completed 2')\n",
    "\n",
    "        # Update redFood DataFrame with matched information and sources\n",
    "        fv['Similarity Score DoH'] = max_sim_scores\n",
    "        #fv['Weight DoH'] = potential_matches['Sample Weight'].values[max_sim_indices]\n",
    "        fv['Pack Size11'] = potential_matches['Pack size'].values[max_sim_indices]\n",
    "        fv['Packaging DoH11'] = potential_matches['Packaging'].values[max_sim_indices]\n",
    "        fv['Purchase Date DoH11'] = potential_matches['Purchase Date'].values[max_sim_indices]\n",
    "\n",
    "\n",
    "        print('Completed 3')\n",
    "\n",
    "        # Set to NaN for rows where similarity score is below the minimum threshold\n",
    "        fv.loc[fv['Similarity Score DoH'] < min_similarity_threshold, [ 'Packaging DoH11', 'Pack Size11', 'Purchase Date DoH11']] = ''\n",
    "        \n",
    "        # Update CleanRetail with new matches from redFood\n",
    "        matched_food_df = matched_food_df.append(fv[fv['Similarity Score DoH'] >= min_similarity_threshold])\n",
    "\n",
    "\n",
    "    return fv\n",
    "\n",
    "# Call the hybrid_fuzzy_matching function and get the matched DataFrame\n",
    "redFood_matched = hybrid_fuzzy_matching(matched_food_df.copy(),fv.copy())"
   ]
  },
  {
   "cell_type": "code",
   "execution_count": 26,
   "id": "d785e3b3",
   "metadata": {},
   "outputs": [
    {
     "data": {
      "text/plain": [
       "Index(['Food Code', 'Food Name', 'Food sub-group codes', 'Food Group',\n",
       "       'Sales Format', 'Source', 'Similarity Score_FPS', 'Weight_FPS',\n",
       "       'PurEqualCon', 'Portion Consumed_FPS'],\n",
       "      dtype='object')"
      ]
     },
     "execution_count": 26,
     "metadata": {},
     "output_type": "execute_result"
    }
   ],
   "source": [
    "redFood.columns"
   ]
  },
  {
   "cell_type": "code",
   "execution_count": 27,
   "id": "d5e346d4",
   "metadata": {
    "scrolled": true
   },
   "outputs": [
    {
     "data": {
      "text/html": [
       "<div>\n",
       "<style scoped>\n",
       "    .dataframe tbody tr th:only-of-type {\n",
       "        vertical-align: middle;\n",
       "    }\n",
       "\n",
       "    .dataframe tbody tr th {\n",
       "        vertical-align: top;\n",
       "    }\n",
       "\n",
       "    .dataframe thead th {\n",
       "        text-align: right;\n",
       "    }\n",
       "</style>\n",
       "<table border=\"1\" class=\"dataframe\">\n",
       "  <thead>\n",
       "    <tr style=\"text-align: right;\">\n",
       "      <th></th>\n",
       "      <th>Food Code</th>\n",
       "      <th>Food Name</th>\n",
       "      <th>Food sub-group codes</th>\n",
       "      <th>Food Group</th>\n",
       "      <th>Sales Format</th>\n",
       "      <th>Source</th>\n",
       "      <th>Similarity Score_FPS</th>\n",
       "      <th>Weight_FPS</th>\n",
       "      <th>PurEqualCon</th>\n",
       "      <th>Portion Consumed_FPS</th>\n",
       "      <th>Similarity Score DoH</th>\n",
       "      <th>Pack Size11</th>\n",
       "      <th>Packaging DoH11</th>\n",
       "      <th>Purchase Date DoH11</th>\n",
       "    </tr>\n",
       "  </thead>\n",
       "  <tbody>\n",
       "    <tr>\n",
       "      <th>0</th>\n",
       "      <td>13-145</td>\n",
       "      <td>ackee</td>\n",
       "      <td>DG</td>\n",
       "      <td>Vegetables</td>\n",
       "      <td>Can</td>\n",
       "      <td>NaN</td>\n",
       "      <td>0.000000</td>\n",
       "      <td></td>\n",
       "      <td>NaN</td>\n",
       "      <td></td>\n",
       "      <td>0.0</td>\n",
       "      <td></td>\n",
       "      <td></td>\n",
       "      <td></td>\n",
       "    </tr>\n",
       "    <tr>\n",
       "      <th>1</th>\n",
       "      <td>13-146</td>\n",
       "      <td>agar</td>\n",
       "      <td>DG</td>\n",
       "      <td>Vegetables</td>\n",
       "      <td>Bag</td>\n",
       "      <td>NaN</td>\n",
       "      <td>0.000000</td>\n",
       "      <td></td>\n",
       "      <td>NaN</td>\n",
       "      <td></td>\n",
       "      <td>0.0</td>\n",
       "      <td></td>\n",
       "      <td></td>\n",
       "      <td></td>\n",
       "    </tr>\n",
       "    <tr>\n",
       "      <th>2</th>\n",
       "      <td>13-148</td>\n",
       "      <td>alfalfa sprouts</td>\n",
       "      <td>DG</td>\n",
       "      <td>Vegetables</td>\n",
       "      <td>Bagged produce</td>\n",
       "      <td>NaN</td>\n",
       "      <td>0.000000</td>\n",
       "      <td></td>\n",
       "      <td>NaN</td>\n",
       "      <td></td>\n",
       "      <td>0.0</td>\n",
       "      <td></td>\n",
       "      <td></td>\n",
       "      <td></td>\n",
       "    </tr>\n",
       "    <tr>\n",
       "      <th>4</th>\n",
       "      <td>13-149</td>\n",
       "      <td>amaranth leaves</td>\n",
       "      <td>DG</td>\n",
       "      <td>Vegetables</td>\n",
       "      <td>Bagged produce</td>\n",
       "      <td>NaN</td>\n",
       "      <td>0.464151</td>\n",
       "      <td></td>\n",
       "      <td>NaN</td>\n",
       "      <td></td>\n",
       "      <td>0.0</td>\n",
       "      <td></td>\n",
       "      <td></td>\n",
       "      <td></td>\n",
       "    </tr>\n",
       "    <tr>\n",
       "      <th>6</th>\n",
       "      <td>14-016</td>\n",
       "      <td>apples eating</td>\n",
       "      <td>FA</td>\n",
       "      <td>Fruit</td>\n",
       "      <td>Loose produce</td>\n",
       "      <td>NaN</td>\n",
       "      <td>0.000000</td>\n",
       "      <td></td>\n",
       "      <td>NaN</td>\n",
       "      <td></td>\n",
       "      <td>1.0</td>\n",
       "      <td>4 pack</td>\n",
       "      <td>Plastic</td>\n",
       "      <td>14.11.2011</td>\n",
       "    </tr>\n",
       "  </tbody>\n",
       "</table>\n",
       "</div>"
      ],
      "text/plain": [
       "  Food Code        Food Name Food sub-group codes  Food Group    Sales Format  \\\n",
       "0    13-145            ackee                   DG  Vegetables             Can   \n",
       "1    13-146             agar                   DG  Vegetables             Bag   \n",
       "2    13-148  alfalfa sprouts                   DG  Vegetables  Bagged produce   \n",
       "4    13-149  amaranth leaves                   DG  Vegetables  Bagged produce   \n",
       "6    14-016    apples eating                   FA       Fruit   Loose produce   \n",
       "\n",
       "  Source  Similarity Score_FPS Weight_FPS PurEqualCon Portion Consumed_FPS  \\\n",
       "0    NaN              0.000000                    NaN                        \n",
       "1    NaN              0.000000                    NaN                        \n",
       "2    NaN              0.000000                    NaN                        \n",
       "4    NaN              0.464151                    NaN                        \n",
       "6    NaN              0.000000                    NaN                        \n",
       "\n",
       "   Similarity Score DoH Pack Size11 Packaging DoH11 Purchase Date DoH11  \n",
       "0                   0.0                                                  \n",
       "1                   0.0                                                  \n",
       "2                   0.0                                                  \n",
       "4                   0.0                                                  \n",
       "6                   1.0     4 pack         Plastic          14.11.2011   "
      ]
     },
     "execution_count": 27,
     "metadata": {},
     "output_type": "execute_result"
    }
   ],
   "source": [
    "redFood_matched.head()#.groupby('Food Group').size()"
   ]
  },
  {
   "cell_type": "markdown",
   "id": "0e73e54f",
   "metadata": {},
   "source": [
    "                                                        Export Data"
   ]
  },
  {
   "cell_type": "code",
   "execution_count": 28,
   "id": "554cc8f7",
   "metadata": {},
   "outputs": [],
   "source": [
    "#redFood_matched.to_csv(r\"C:\\Users\\medekar\\Desktop\\Product_Weight_Project\\Data\\Processed\\ReducedwithWeights\\FV_MatchedFPSnDoh11.csv\")"
   ]
  },
  {
   "cell_type": "markdown",
   "id": "c41c2f4a",
   "metadata": {},
   "source": [
    "## Plotting Matching Efficiency Using Department of Health Data 2011"
   ]
  },
  {
   "cell_type": "markdown",
   "id": "70174e3c",
   "metadata": {},
   "source": [
    "Find total counts of food by Super Group"
   ]
  },
  {
   "cell_type": "code",
   "execution_count": 29,
   "id": "18df57b8",
   "metadata": {
    "scrolled": false
   },
   "outputs": [
    {
     "data": {
      "text/html": [
       "<div>\n",
       "<style scoped>\n",
       "    .dataframe tbody tr th:only-of-type {\n",
       "        vertical-align: middle;\n",
       "    }\n",
       "\n",
       "    .dataframe tbody tr th {\n",
       "        vertical-align: top;\n",
       "    }\n",
       "\n",
       "    .dataframe thead th {\n",
       "        text-align: right;\n",
       "    }\n",
       "</style>\n",
       "<table border=\"1\" class=\"dataframe\">\n",
       "  <thead>\n",
       "    <tr style=\"text-align: right;\">\n",
       "      <th></th>\n",
       "      <th>Food Group</th>\n",
       "      <th>Matched Prod Count</th>\n",
       "    </tr>\n",
       "  </thead>\n",
       "  <tbody>\n",
       "    <tr>\n",
       "      <th>0</th>\n",
       "      <td>Fruit</td>\n",
       "      <td>6</td>\n",
       "    </tr>\n",
       "    <tr>\n",
       "      <th>1</th>\n",
       "      <td>Vegetables</td>\n",
       "      <td>12</td>\n",
       "    </tr>\n",
       "  </tbody>\n",
       "</table>\n",
       "</div>"
      ],
      "text/plain": [
       "   Food Group  Matched Prod Count\n",
       "0       Fruit                   6\n",
       "1  Vegetables                  12"
      ]
     },
     "execution_count": 29,
     "metadata": {},
     "output_type": "execute_result"
    }
   ],
   "source": [
    "d = redFood_matched[redFood_matched['Weight_FPS'] != '']\n",
    "ax4_s = d.groupby('Food Group')['Food Name'].count().rename('Matched Prod Count', inplace=True).copy().sort_values(ascending=True)\n",
    "ax4 = pd.DataFrame(ax4_s).reset_index()\n",
    "ax4"
   ]
  },
  {
   "cell_type": "code",
   "execution_count": 30,
   "id": "d8e7fbc5",
   "metadata": {
    "scrolled": false
   },
   "outputs": [
    {
     "data": {
      "text/html": [
       "<div>\n",
       "<style scoped>\n",
       "    .dataframe tbody tr th:only-of-type {\n",
       "        vertical-align: middle;\n",
       "    }\n",
       "\n",
       "    .dataframe tbody tr th {\n",
       "        vertical-align: top;\n",
       "    }\n",
       "\n",
       "    .dataframe thead th {\n",
       "        text-align: right;\n",
       "    }\n",
       "</style>\n",
       "<table border=\"1\" class=\"dataframe\">\n",
       "  <thead>\n",
       "    <tr style=\"text-align: right;\">\n",
       "      <th></th>\n",
       "      <th>Food Group</th>\n",
       "      <th>Total Prod Count</th>\n",
       "    </tr>\n",
       "  </thead>\n",
       "  <tbody>\n",
       "    <tr>\n",
       "      <th>0</th>\n",
       "      <td>Fruit</td>\n",
       "      <td>63</td>\n",
       "    </tr>\n",
       "    <tr>\n",
       "      <th>1</th>\n",
       "      <td>Vegetables</td>\n",
       "      <td>107</td>\n",
       "    </tr>\n",
       "  </tbody>\n",
       "</table>\n",
       "</div>"
      ],
      "text/plain": [
       "   Food Group  Total Prod Count\n",
       "0       Fruit                63\n",
       "1  Vegetables               107"
      ]
     },
     "execution_count": 30,
     "metadata": {},
     "output_type": "execute_result"
    }
   ],
   "source": [
    "ax4_count = redFood_matched.groupby('Food Group')['Food Name'].count().rename('Total Prod Count', inplace=True).copy().sort_values(ascending=True)\n",
    "ax4_nt = pd.DataFrame(ax4_count).reset_index()\n",
    "ax4_nt"
   ]
  },
  {
   "cell_type": "code",
   "execution_count": 31,
   "id": "9a3c8710",
   "metadata": {},
   "outputs": [],
   "source": [
    "# Evaluating Percentaged Mapped\n",
    "ax4_counts = ax4_nt.merge(ax4, on='Food Group', how='left')\n",
    "ax4_counts['%Matched'] = ax4_counts['Matched Prod Count'] / ax4_counts['Total Prod Count'] * 100 "
   ]
  },
  {
   "cell_type": "code",
   "execution_count": 39,
   "id": "e5ed6819",
   "metadata": {
    "scrolled": false
   },
   "outputs": [
    {
     "name": "stderr",
     "output_type": "stream",
     "text": [
      "C:\\Users\\medekar\\AppData\\Local\\Temp\\ipykernel_5256\\2648226532.py:45: UserWarning: FixedFormatter should only be used together with FixedLocator\n",
      "  ax.set_yticklabels(ax.get_yticklabels(), rotation=0, ha=\"right\",  fontsize=12)\n"
     ]
    },
    {
     "data": {
      "image/png": "[encoded data removed]",
      "text/plain": [
       "<Figure size 1000x700 with 1 Axes>"
      ]
     },
     "metadata": {},
     "output_type": "display_data"
    }
   ],
   "source": [
    "import matplotlib.font_manager as fm\n",
    "\n",
    "# Find the minimum count in the ax4_counts DataFrame.\n",
    "min_count4 = ax4_counts['%Matched'].min()\n",
    "\n",
    "# Create a custom color palette.\n",
    "bar_colors4 = ['lightpink' if count != min_count4 else '#f95d6a' for count in ax4_counts['%Matched']]\n",
    "\n",
    "# Set the font family and size for the title.\n",
    "title_font = fm.FontProperties(family='Arial', size=23)\n",
    "subtitle_font = fm.FontProperties(family='Arial', size=12)\n",
    "\n",
    "# Set the font family and size for the axes labels.\n",
    "axis_font = fm.FontProperties(family='Arial', size=18)\n",
    "\n",
    "# Create the figure and axes objects.\n",
    "fig, ax = plt.subplots(figsize=(10, 7))\n",
    "\n",
    "# Plot the horizontal bar chart.\n",
    "bars = ax.barh(ax4_counts['Food Group'], ax4_counts['%Matched'], color=bar_colors4)\n",
    "\n",
    "# Add gridlines to the plot.\n",
    "ax.grid(axis='x', linestyle='--', alpha=0.45)\n",
    "\n",
    "# Customize the title, x-axis, and y-axis labels.\n",
    "plt.suptitle('Matching Rate of Hybrid Matching Process, FPS',ha='center', fontproperties=title_font, y=1)  # Add y parameter\n",
    "ax.set_title('The matching process was used to match weights from the Food Portion Sizes data to our reduced food product dataset', ha='center', fontproperties=subtitle_font, y=1.04, x=0.45)  # Add y parameter for subtitle\n",
    "ax.set_xlabel('Percentage Matched', fontproperties=axis_font)\n",
    "ax.set_ylabel('Food Group', fontproperties=axis_font)\n",
    "\n",
    "# Set the maximum value of the x-axis to 100.\n",
    "ax.set_xlim(0, 100)\n",
    "\n",
    "# Adjust the spacing around the plot.\n",
    "plt.tight_layout(pad=1.07)\n",
    "\n",
    "# Remove the top and right spines from the plot.\n",
    "ax.spines['top'].set_visible(False)\n",
    "ax.spines['right'].set_visible(False)\n",
    "\n",
    "# Increase the tick label font size.\n",
    "ax.tick_params(axis='x', which='major', labelsize=13)\n",
    "\n",
    "# Adjust y-axis tick label alignment and font size.\n",
    "ax.set_yticklabels(ax.get_yticklabels(), rotation=0, ha=\"right\",  fontsize=12)\n",
    "\n",
    "# Invert the y-axis to display the lowest match on top.\n",
    "ax.invert_yaxis()\n",
    "\n",
    "    # Show the plot.\n",
    "plt.show()\n"
   ]
  },
  {
   "cell_type": "markdown",
   "id": "20563d93",
   "metadata": {},
   "source": [
    "                                                       Next Notebook"
   ]
  }
 ],
 "metadata": {
  "kernelspec": {
   "display_name": "ProdW",
   "language": "python",
   "name": "prodw"
  },
  "language_info": {
   "codemirror_mode": {
    "name": "ipython",
    "version": 3
   },
   "file_extension": ".py",
   "mimetype": "text/x-python",
   "name": "python",
   "nbconvert_exporter": "python",
   "pygments_lexer": "ipython3",
   "version": "3.11.2"
  }
 },
 "nbformat": 4,
 "nbformat_minor": 5
}
