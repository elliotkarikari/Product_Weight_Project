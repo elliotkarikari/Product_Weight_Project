{
 "cells": [
  {
   "cell_type": "markdown",
   "id": "ca496640",
   "metadata": {},
   "source": [
    "# Final Dataframe"
   ]
  },
  {
   "cell_type": "code",
   "execution_count": 1,
   "id": "9e1c6d28",
   "metadata": {},
   "outputs": [],
   "source": [
    "import pandas as pd\n",
    "import matplotlib.pyplot as plt"
   ]
  },
  {
   "cell_type": "markdown",
   "id": "e2809cac",
   "metadata": {},
   "source": [
    "                                                     Full Dataset"
   ]
  },
  {
   "cell_type": "code",
   "execution_count": 2,
   "id": "2a65cce5",
   "metadata": {},
   "outputs": [
    {
     "data": {
      "text/html": [
       "<div>\n",
       "<style scoped>\n",
       "    .dataframe tbody tr th:only-of-type {\n",
       "        vertical-align: middle;\n",
       "    }\n",
       "\n",
       "    .dataframe tbody tr th {\n",
       "        vertical-align: top;\n",
       "    }\n",
       "\n",
       "    .dataframe thead th {\n",
       "        text-align: right;\n",
       "    }\n",
       "</style>\n",
       "<table border=\"1\" class=\"dataframe\">\n",
       "  <thead>\n",
       "    <tr style=\"text-align: right;\">\n",
       "      <th></th>\n",
       "      <th>Food Code</th>\n",
       "      <th>Food Name</th>\n",
       "      <th>Food sub-group codes</th>\n",
       "      <th>Food Group</th>\n",
       "      <th>Sale format(s)</th>\n",
       "      <th>Similarity Score</th>\n",
       "      <th>Weight</th>\n",
       "      <th>PurEqualCon</th>\n",
       "      <th>Portion Consumed</th>\n",
       "      <th>Source</th>\n",
       "    </tr>\n",
       "  </thead>\n",
       "  <tbody>\n",
       "    <tr>\n",
       "      <th>0</th>\n",
       "      <td>17-208</td>\n",
       "      <td>beer, bitter, best, premium</td>\n",
       "      <td>QA</td>\n",
       "      <td>Alcoholic beverages</td>\n",
       "      <td>can, can multipack, bottle, bottle multipack</td>\n",
       "      <td>0.707107</td>\n",
       "      <td>574g</td>\n",
       "      <td>Y</td>\n",
       "      <td>1 pint</td>\n",
       "      <td>NaN</td>\n",
       "    </tr>\n",
       "    <tr>\n",
       "      <th>1</th>\n",
       "      <td>17-224</td>\n",
       "      <td>cider, sweet</td>\n",
       "      <td>QC</td>\n",
       "      <td>Alcoholic beverages</td>\n",
       "      <td>can, can multipack, bottle, bottle multipack</td>\n",
       "      <td>0.609864</td>\n",
       "      <td>25g</td>\n",
       "      <td>Y</td>\n",
       "      <td>NaN</td>\n",
       "      <td>NaN</td>\n",
       "    </tr>\n",
       "  </tbody>\n",
       "</table>\n",
       "</div>"
      ],
      "text/plain": [
       "  Food Code                    Food Name Food sub-group codes  \\\n",
       "0    17-208  beer, bitter, best, premium                   QA   \n",
       "1    17-224                 cider, sweet                   QC   \n",
       "\n",
       "            Food Group                                Sale format(s)  \\\n",
       "0  Alcoholic beverages  can, can multipack, bottle, bottle multipack   \n",
       "1  Alcoholic beverages  can, can multipack, bottle, bottle multipack   \n",
       "\n",
       "   Similarity Score Weight PurEqualCon Portion Consumed Source  \n",
       "0          0.707107   574g           Y           1 pint    NaN  \n",
       "1          0.609864    25g           Y              NaN    NaN  "
      ]
     },
     "execution_count": 2,
     "metadata": {},
     "output_type": "execute_result"
    }
   ],
   "source": [
    "pd.set_option('display.max_rows', None)\n",
    "Retail = pd.read_csv(r'C:\\Users\\medekar\\Desktop\\Product_Weight_Project\\Data\\Processed\\ReducedwithWeights\\dataproduct.csv', index_col=0)\n",
    "Retail.head(2)"
   ]
  },
  {
   "cell_type": "markdown",
   "id": "f013c010",
   "metadata": {},
   "source": [
    "                                    Aligning Full Dataset with Fruit and Veg Df"
   ]
  },
  {
   "cell_type": "code",
   "execution_count": 3,
   "id": "cd422d96",
   "metadata": {},
   "outputs": [],
   "source": [
    "Retail.rename(columns={'Weight':'Product Weight'}, inplace=True)"
   ]
  },
  {
   "cell_type": "code",
   "execution_count": 4,
   "id": "9819dfa5",
   "metadata": {},
   "outputs": [],
   "source": [
    "Retail[['Purchase Date','Pack Size']] = ''"
   ]
  },
  {
   "cell_type": "code",
   "execution_count": 5,
   "id": "383ec0dc",
   "metadata": {},
   "outputs": [],
   "source": [
    "Retail['Pack Size'] = Retail['Portion Consumed']"
   ]
  },
  {
   "cell_type": "code",
   "execution_count": 6,
   "id": "538ef52a",
   "metadata": {},
   "outputs": [],
   "source": [
    "Retail.drop(['Portion Consumed'], axis=1, inplace=True)"
   ]
  },
  {
   "cell_type": "code",
   "execution_count": 7,
   "id": "019ab5a8",
   "metadata": {},
   "outputs": [],
   "source": [
    "ps = Retail[~Retail['PurEqualCon'].isna()]"
   ]
  },
  {
   "cell_type": "code",
   "execution_count": 8,
   "id": "7569a15b",
   "metadata": {},
   "outputs": [
    {
     "name": "stderr",
     "output_type": "stream",
     "text": [
      "C:\\Users\\medekar\\AppData\\Local\\Temp\\ipykernel_25000\\2421317720.py:1: SettingWithCopyWarning: \n",
      "A value is trying to be set on a copy of a slice from a DataFrame.\n",
      "Try using .loc[row_indexer,col_indexer] = value instead\n",
      "\n",
      "See the caveats in the documentation: https://pandas.pydata.org/pandas-docs/stable/user_guide/indexing.html#returning-a-view-versus-a-copy\n",
      "  ps['Source'] = 'FPS'\n"
     ]
    }
   ],
   "source": [
    "ps['Source'] = 'FPS'"
   ]
  },
  {
   "cell_type": "code",
   "execution_count": 9,
   "id": "961264e2",
   "metadata": {},
   "outputs": [],
   "source": [
    "Retail.update(ps)"
   ]
  },
  {
   "cell_type": "code",
   "execution_count": 10,
   "id": "d3618a07",
   "metadata": {},
   "outputs": [],
   "source": [
    "Retail.drop(['PurEqualCon'], axis=1, inplace=True)"
   ]
  },
  {
   "cell_type": "code",
   "execution_count": 11,
   "id": "b4e0f2f5",
   "metadata": {},
   "outputs": [
    {
     "data": {
      "text/html": [
       "<div>\n",
       "<style scoped>\n",
       "    .dataframe tbody tr th:only-of-type {\n",
       "        vertical-align: middle;\n",
       "    }\n",
       "\n",
       "    .dataframe tbody tr th {\n",
       "        vertical-align: top;\n",
       "    }\n",
       "\n",
       "    .dataframe thead th {\n",
       "        text-align: right;\n",
       "    }\n",
       "</style>\n",
       "<table border=\"1\" class=\"dataframe\">\n",
       "  <thead>\n",
       "    <tr style=\"text-align: right;\">\n",
       "      <th></th>\n",
       "      <th>Food Code</th>\n",
       "      <th>Food Name</th>\n",
       "      <th>Food sub-group codes</th>\n",
       "      <th>Food Group</th>\n",
       "      <th>Sale format(s)</th>\n",
       "      <th>Similarity Score</th>\n",
       "      <th>Product Weight</th>\n",
       "      <th>Source</th>\n",
       "      <th>Purchase Date</th>\n",
       "      <th>Pack Size</th>\n",
       "    </tr>\n",
       "  </thead>\n",
       "  <tbody>\n",
       "    <tr>\n",
       "      <th>0</th>\n",
       "      <td>17-208</td>\n",
       "      <td>beer, bitter, best, premium</td>\n",
       "      <td>QA</td>\n",
       "      <td>Alcoholic beverages</td>\n",
       "      <td>can, can multipack, bottle, bottle multipack</td>\n",
       "      <td>0.707107</td>\n",
       "      <td>574g</td>\n",
       "      <td>FPS</td>\n",
       "      <td></td>\n",
       "      <td>1 pint</td>\n",
       "    </tr>\n",
       "    <tr>\n",
       "      <th>1</th>\n",
       "      <td>17-224</td>\n",
       "      <td>cider, sweet</td>\n",
       "      <td>QC</td>\n",
       "      <td>Alcoholic beverages</td>\n",
       "      <td>can, can multipack, bottle, bottle multipack</td>\n",
       "      <td>0.609864</td>\n",
       "      <td>25g</td>\n",
       "      <td>FPS</td>\n",
       "      <td></td>\n",
       "      <td>NaN</td>\n",
       "    </tr>\n",
       "  </tbody>\n",
       "</table>\n",
       "</div>"
      ],
      "text/plain": [
       "  Food Code                    Food Name Food sub-group codes  \\\n",
       "0    17-208  beer, bitter, best, premium                   QA   \n",
       "1    17-224                 cider, sweet                   QC   \n",
       "\n",
       "            Food Group                                Sale format(s)  \\\n",
       "0  Alcoholic beverages  can, can multipack, bottle, bottle multipack   \n",
       "1  Alcoholic beverages  can, can multipack, bottle, bottle multipack   \n",
       "\n",
       "   Similarity Score Product Weight Source Purchase Date Pack Size  \n",
       "0          0.707107           574g    FPS                  1 pint  \n",
       "1          0.609864            25g    FPS                     NaN  "
      ]
     },
     "execution_count": 11,
     "metadata": {},
     "output_type": "execute_result"
    }
   ],
   "source": [
    "Retail[['Food Code', 'Food Name', 'Food sub-group codes', 'Food Group',\n",
    "       'Sale format(s)', 'Similarity Score', 'Product Weight', 'Source',\n",
    "       'Purchase Date', 'Pack Size']].head(2)"
   ]
  },
  {
   "cell_type": "markdown",
   "id": "5f3b284a",
   "metadata": {},
   "source": [
    "                                              Remove Fruit and Veg from List"
   ]
  },
  {
   "cell_type": "code",
   "execution_count": 12,
   "id": "1631bdf0",
   "metadata": {},
   "outputs": [],
   "source": [
    "rest = Retail[~Retail['Food Group'].str.contains('Fruit|Vegetables')]"
   ]
  },
  {
   "cell_type": "markdown",
   "id": "e08d31d2",
   "metadata": {},
   "source": [
    "                                                  Fruit & Veg Database"
   ]
  },
  {
   "cell_type": "code",
   "execution_count": 14,
   "id": "50c0189d",
   "metadata": {},
   "outputs": [],
   "source": [
    "fv = pd.read_csv(r'C:\\Users\\medekar\\Desktop\\Product_Weight_Project\\Data\\Processed\\ReducedwithWeights\\fv_full.csv', index_col=0)"
   ]
  },
  {
   "cell_type": "code",
   "execution_count": 15,
   "id": "de1fe823",
   "metadata": {},
   "outputs": [],
   "source": [
    "fv.rename(columns={'Packaging':'Sale format(s)'}, inplace=True)"
   ]
  },
  {
   "cell_type": "code",
   "execution_count": 16,
   "id": "2cabe7ca",
   "metadata": {},
   "outputs": [
    {
     "data": {
      "text/html": [
       "<div>\n",
       "<style scoped>\n",
       "    .dataframe tbody tr th:only-of-type {\n",
       "        vertical-align: middle;\n",
       "    }\n",
       "\n",
       "    .dataframe tbody tr th {\n",
       "        vertical-align: top;\n",
       "    }\n",
       "\n",
       "    .dataframe thead th {\n",
       "        text-align: right;\n",
       "    }\n",
       "</style>\n",
       "<table border=\"1\" class=\"dataframe\">\n",
       "  <thead>\n",
       "    <tr style=\"text-align: right;\">\n",
       "      <th></th>\n",
       "      <th>Food Code</th>\n",
       "      <th>Food Name</th>\n",
       "      <th>Food sub-group codes</th>\n",
       "      <th>Food Group</th>\n",
       "      <th>Product Weight</th>\n",
       "      <th>Source</th>\n",
       "      <th>Similarity Score</th>\n",
       "      <th>Sale format(s)</th>\n",
       "      <th>Purchase Date</th>\n",
       "      <th>Pack Size</th>\n",
       "    </tr>\n",
       "  </thead>\n",
       "  <tbody>\n",
       "    <tr>\n",
       "      <th>0</th>\n",
       "      <td>13-145</td>\n",
       "      <td>ackee</td>\n",
       "      <td>DG</td>\n",
       "      <td>Vegetables</td>\n",
       "      <td>NaN</td>\n",
       "      <td>NaN</td>\n",
       "      <td>NaN</td>\n",
       "      <td>Can</td>\n",
       "      <td>NaN</td>\n",
       "      <td>NaN</td>\n",
       "    </tr>\n",
       "    <tr>\n",
       "      <th>1</th>\n",
       "      <td>13-146</td>\n",
       "      <td>agar</td>\n",
       "      <td>DG</td>\n",
       "      <td>Vegetables</td>\n",
       "      <td>NaN</td>\n",
       "      <td>NaN</td>\n",
       "      <td>NaN</td>\n",
       "      <td>Bag</td>\n",
       "      <td>NaN</td>\n",
       "      <td>NaN</td>\n",
       "    </tr>\n",
       "  </tbody>\n",
       "</table>\n",
       "</div>"
      ],
      "text/plain": [
       "  Food Code Food Name Food sub-group codes  Food Group Product Weight Source  \\\n",
       "0    13-145     ackee                   DG  Vegetables            NaN    NaN   \n",
       "1    13-146      agar                   DG  Vegetables            NaN    NaN   \n",
       "\n",
       "   Similarity Score Sale format(s) Purchase Date Pack Size  \n",
       "0               NaN            Can           NaN       NaN  \n",
       "1               NaN            Bag           NaN       NaN  "
      ]
     },
     "execution_count": 16,
     "metadata": {},
     "output_type": "execute_result"
    }
   ],
   "source": [
    "fv.reset_index(drop=True).head(2)"
   ]
  },
  {
   "cell_type": "markdown",
   "id": "77bb98ba",
   "metadata": {},
   "source": [
    "                                             Add Cleaned fruit and Veg to List"
   ]
  },
  {
   "cell_type": "code",
   "execution_count": 17,
   "id": "1309e56c",
   "metadata": {},
   "outputs": [],
   "source": [
    "rfull = pd.concat([rest,fv])"
   ]
  },
  {
   "cell_type": "code",
   "execution_count": 18,
   "id": "ecd50ee3",
   "metadata": {},
   "outputs": [],
   "source": [
    "rfull.drop(366, axis=0, inplace=True)"
   ]
  },
  {
   "cell_type": "code",
   "execution_count": 26,
   "id": "0450f504",
   "metadata": {
    "scrolled": true
   },
   "outputs": [
    {
     "data": {
      "text/plain": [
       "Alcoholic beverages                        8\n",
       "Beverages                                 14\n",
       "Cereals and cereal products               89\n",
       "Eggs                                       2\n",
       "Fats and oils                              7\n",
       "Fish and fish products                    33\n",
       "Fruit                                     61\n",
       "Herbs and spices                          35\n",
       "Meat and meat products                    46\n",
       "Milk and milk products                    33\n",
       "Nuts and seeds                            17\n",
       "Soups, sauces and miscellaneous foods     43\n",
       "Sugars, preserves and snacks              25\n",
       "Vegetables                               107\n",
       "Name: Food Group, dtype: int64"
      ]
     },
     "execution_count": 26,
     "metadata": {},
     "output_type": "execute_result"
    }
   ],
   "source": [
    "rfull['Food Group'].value_counts().sort_index()"
   ]
  },
  {
   "cell_type": "markdown",
   "id": "8c59660e",
   "metadata": {},
   "source": [
    "                                                            Export"
   ]
  },
  {
   "cell_type": "code",
   "execution_count": 21,
   "id": "3ee1b053",
   "metadata": {},
   "outputs": [],
   "source": [
    "rfull.to_csv(r'C:\\Users\\medekar\\Desktop\\Product_Weight_Project\\Data\\Processed\\ReducedwithWeights\\dp_full.csv')"
   ]
  }
 ],
 "metadata": {
  "kernelspec": {
   "display_name": "ProdW",
   "language": "python",
   "name": "prodw"
  },
  "language_info": {
   "codemirror_mode": {
    "name": "ipython",
    "version": 3
   },
   "file_extension": ".py",
   "mimetype": "text/x-python",
   "name": "python",
   "nbconvert_exporter": "python",
   "pygments_lexer": "ipython3",
   "version": "3.11.2"
  }
 },
 "nbformat": 4,
 "nbformat_minor": 5
}
