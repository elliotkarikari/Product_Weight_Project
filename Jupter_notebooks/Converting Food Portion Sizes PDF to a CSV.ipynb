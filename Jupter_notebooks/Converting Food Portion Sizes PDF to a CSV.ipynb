{
 "cells": [
  {
   "cell_type": "markdown",
   "id": "4f3babcf",
   "metadata": {},
   "source": [
    "# Food Portion Sizes "
   ]
  },
  {
   "cell_type": "markdown",
   "id": "ebea721f",
   "metadata": {},
   "source": [
    "                                        Extracting text from Food Portion Sizes PDF"
   ]
  },
  {
   "cell_type": "markdown",
   "id": "5bbe40b3",
   "metadata": {},
   "source": [
    "Install Libraries "
   ]
  },
  {
   "cell_type": "code",
   "execution_count": 2,
   "id": "37506f70",
   "metadata": {},
   "outputs": [],
   "source": [
    "import pandas as pd\n",
    "import tabula"
   ]
  },
  {
   "cell_type": "markdown",
   "id": "cdc1e11c",
   "metadata": {},
   "source": [
    "    Using tabula"
   ]
  },
  {
   "cell_type": "code",
   "execution_count": 3,
   "id": "2a43b9e4",
   "metadata": {
    "scrolled": false
   },
   "outputs": [
    {
     "name": "stderr",
     "output_type": "stream",
     "text": [
      "C:\\Users\\medekar\\AppData\\Local\\Temp\\ipykernel_1576\\1021459922.py:23: FutureWarning: The frame.append method is deprecated and will be removed from pandas in a future version. Use pandas.concat instead.\n",
      "  df = df.append(table, ignore_index=True)\n"
     ]
    }
   ],
   "source": [
    "# The path to the PDF file\n",
    "pdf_path = r\"C:\\Users\\medekar\\Desktop\\Product_Weight_Project\\Data\\Food_Portion_Sizes.pdf\"\n",
    "\n",
    "# Extract all tables from the PDF file\n",
    "tables = tabula.read_pdf(pdf_path, \n",
    "                         pages=\"12-114\", \n",
    "                         stream=True, \n",
    "                         multiple_tables=True, \n",
    "                         guess=False, \n",
    "                         pandas_options={\"header\": [0, 1,2,3]}\n",
    "                        )\n",
    "\n",
    "# Get the number of pages\n",
    "num_pages = len(tables)\n",
    "\n",
    "df = pd.DataFrame()\n",
    "# Loop over the pages\n",
    "for page in range(num_pages):\n",
    "    # Extract the table from the PDF file\n",
    "    table = tables[page]\n",
    "\n",
    "    # Print the table data\n",
    "    df = df.append(table, ignore_index=True)"
   ]
  },
  {
   "cell_type": "code",
   "execution_count": 4,
   "id": "21ee83fe",
   "metadata": {},
   "outputs": [
    {
     "data": {
      "text/html": [
       "<div>\n",
       "<style scoped>\n",
       "    .dataframe tbody tr th:only-of-type {\n",
       "        vertical-align: middle;\n",
       "    }\n",
       "\n",
       "    .dataframe tbody tr th {\n",
       "        vertical-align: top;\n",
       "    }\n",
       "\n",
       "    .dataframe thead th {\n",
       "        text-align: right;\n",
       "    }\n",
       "</style>\n",
       "<table border=\"1\" class=\"dataframe\">\n",
       "  <thead>\n",
       "    <tr style=\"text-align: right;\">\n",
       "      <th></th>\n",
       "      <th>0</th>\n",
       "      <th>1</th>\n",
       "      <th>2</th>\n",
       "      <th>3</th>\n",
       "    </tr>\n",
       "  </thead>\n",
       "  <tbody>\n",
       "    <tr>\n",
       "      <th>0</th>\n",
       "      <td>Nutrient analysis of fruit and vegetables</td>\n",
       "      <td>NaN</td>\n",
       "      <td>NaN</td>\n",
       "      <td>NaN</td>\n",
       "    </tr>\n",
       "    <tr>\n",
       "      <th>1</th>\n",
       "      <td>NaN</td>\n",
       "      <td>NaN</td>\n",
       "      <td>NaN</td>\n",
       "      <td>NaN</td>\n",
       "    </tr>\n",
       "    <tr>\n",
       "      <th>2</th>\n",
       "      <td>Sample 1: Potatoes, old, raw, flesh only</td>\n",
       "      <td>NaN</td>\n",
       "      <td>NaN</td>\n",
       "      <td>NaN</td>\n",
       "    </tr>\n",
       "    <tr>\n",
       "      <th>3</th>\n",
       "      <td>NaN</td>\n",
       "      <td>NaN</td>\n",
       "      <td>NaN</td>\n",
       "      <td>NaN</td>\n",
       "    </tr>\n",
       "    <tr>\n",
       "      <th>4</th>\n",
       "      <td>Composite Sample Number:  1</td>\n",
       "      <td>NaN</td>\n",
       "      <td>NaN</td>\n",
       "      <td>NaN</td>\n",
       "    </tr>\n",
       "    <tr>\n",
       "      <th>...</th>\n",
       "      <td>...</td>\n",
       "      <td>...</td>\n",
       "      <td>...</td>\n",
       "      <td>...</td>\n",
       "    </tr>\n",
       "    <tr>\n",
       "      <th>69169</th>\n",
       "      <td>NaN</td>\n",
       "      <td>NaN</td>\n",
       "      <td>NaN</td>\n",
       "      <td>NaN</td>\n",
       "    </tr>\n",
       "    <tr>\n",
       "      <th>69170</th>\n",
       "      <td>Post Purchase Storage: Ambient</td>\n",
       "      <td>NaN</td>\n",
       "      <td>NaN</td>\n",
       "      <td>NaN</td>\n",
       "    </tr>\n",
       "    <tr>\n",
       "      <th>69171</th>\n",
       "      <td>NaN</td>\n",
       "      <td>NaN</td>\n",
       "      <td>NaN</td>\n",
       "      <td>NaN</td>\n",
       "    </tr>\n",
       "    <tr>\n",
       "      <th>69172</th>\n",
       "      <td>NaN</td>\n",
       "      <td>NaN</td>\n",
       "      <td>NaN</td>\n",
       "      <td>NaN</td>\n",
       "    </tr>\n",
       "    <tr>\n",
       "      <th>69173</th>\n",
       "      <td>NaN</td>\n",
       "      <td>2145.0</td>\n",
       "      <td>NaN</td>\n",
       "      <td>NaN</td>\n",
       "    </tr>\n",
       "  </tbody>\n",
       "</table>\n",
       "<p>69174 rows × 4 columns</p>\n",
       "</div>"
      ],
      "text/plain": [
       "                                               0       1    2   3\n",
       "0      Nutrient analysis of fruit and vegetables     NaN  NaN NaN\n",
       "1                                            NaN     NaN  NaN NaN\n",
       "2       Sample 1: Potatoes, old, raw, flesh only     NaN  NaN NaN\n",
       "3                                            NaN     NaN  NaN NaN\n",
       "4                    Composite Sample Number:  1     NaN  NaN NaN\n",
       "...                                          ...     ...  ...  ..\n",
       "69169                                        NaN     NaN  NaN NaN\n",
       "69170             Post Purchase Storage: Ambient     NaN  NaN NaN\n",
       "69171                                        NaN     NaN  NaN NaN\n",
       "69172                                        NaN     NaN  NaN NaN\n",
       "69173                                        NaN  2145.0  NaN NaN\n",
       "\n",
       "[69174 rows x 4 columns]"
      ]
     },
     "execution_count": 4,
     "metadata": {},
     "output_type": "execute_result"
    }
   ],
   "source": [
    "df"
   ]
  },
  {
   "cell_type": "markdown",
   "id": "47f6d691",
   "metadata": {},
   "source": [
    "*Removing rows I do not want*"
   ]
  },
  {
   "cell_type": "code",
   "execution_count": 4,
   "id": "ac60259f",
   "metadata": {},
   "outputs": [],
   "source": [
    "FPS = df.drop([0,1,2,3,4,5,2918,2919])"
   ]
  },
  {
   "cell_type": "code",
   "execution_count": 9,
   "id": "5ce7bc12",
   "metadata": {},
   "outputs": [
    {
     "data": {
      "text/html": [
       "<div>\n",
       "<style scoped>\n",
       "    .dataframe tbody tr th:only-of-type {\n",
       "        vertical-align: middle;\n",
       "    }\n",
       "\n",
       "    .dataframe tbody tr th {\n",
       "        vertical-align: top;\n",
       "    }\n",
       "\n",
       "    .dataframe thead th {\n",
       "        text-align: right;\n",
       "    }\n",
       "</style>\n",
       "<table border=\"1\" class=\"dataframe\">\n",
       "  <thead>\n",
       "    <tr style=\"text-align: right;\">\n",
       "      <th></th>\n",
       "      <th>0</th>\n",
       "      <th>1</th>\n",
       "      <th>2</th>\n",
       "      <th>3</th>\n",
       "    </tr>\n",
       "  </thead>\n",
       "  <tbody>\n",
       "    <tr>\n",
       "      <th>6</th>\n",
       "      <td>BABY FOODS</td>\n",
       "      <td>NaN</td>\n",
       "      <td>NaN</td>\n",
       "      <td>NaN</td>\n",
       "    </tr>\n",
       "    <tr>\n",
       "      <th>7</th>\n",
       "      <td>Boots, First Harvest</td>\n",
       "      <td>Dessert starter</td>\n",
       "      <td>125g</td>\n",
       "      <td>NaN</td>\n",
       "    </tr>\n",
       "    <tr>\n",
       "      <th>8</th>\n",
       "      <td>NaN</td>\n",
       "      <td>Infant desserts</td>\n",
       "      <td>125g</td>\n",
       "      <td>NaN</td>\n",
       "    </tr>\n",
       "    <tr>\n",
       "      <th>9</th>\n",
       "      <td>NaN</td>\n",
       "      <td>Infant savouries, from 4 months</td>\n",
       "      <td>125g</td>\n",
       "      <td>NaN</td>\n",
       "    </tr>\n",
       "    <tr>\n",
       "      <th>10</th>\n",
       "      <td>NaN</td>\n",
       "      <td>Junior desserts</td>\n",
       "      <td>190g</td>\n",
       "      <td>NaN</td>\n",
       "    </tr>\n",
       "    <tr>\n",
       "      <th>...</th>\n",
       "      <td>...</td>\n",
       "      <td>...</td>\n",
       "      <td>...</td>\n",
       "      <td>...</td>\n",
       "    </tr>\n",
       "    <tr>\n",
       "      <th>2913</th>\n",
       "      <td>NaN</td>\n",
       "      <td>Onken</td>\n",
       "      <td>200g</td>\n",
       "      <td>NaN</td>\n",
       "    </tr>\n",
       "    <tr>\n",
       "      <th>2914</th>\n",
       "      <td>NaN</td>\n",
       "      <td>Petit Danone—small</td>\n",
       "      <td>50g</td>\n",
       "      <td>NaN</td>\n",
       "    </tr>\n",
       "    <tr>\n",
       "      <th>2915</th>\n",
       "      <td>NaN</td>\n",
       "      <td>St Ivel Fiendish Faces</td>\n",
       "      <td>50g</td>\n",
       "      <td>NaN</td>\n",
       "    </tr>\n",
       "    <tr>\n",
       "      <th>2916</th>\n",
       "      <td>Baby fromage frais</td>\n",
       "      <td>Baby Danone</td>\n",
       "      <td>60g</td>\n",
       "      <td>NaN</td>\n",
       "    </tr>\n",
       "    <tr>\n",
       "      <th>2917</th>\n",
       "      <td>NaN</td>\n",
       "      <td>Heinz (jar)</td>\n",
       "      <td>163g</td>\n",
       "      <td>NaN</td>\n",
       "    </tr>\n",
       "  </tbody>\n",
       "</table>\n",
       "<p>2912 rows × 4 columns</p>\n",
       "</div>"
      ],
      "text/plain": [
       "                         0                                1     2    3\n",
       "6               BABY FOODS                              NaN   NaN  NaN\n",
       "7     Boots, First Harvest                  Dessert starter  125g  NaN\n",
       "8                      NaN                  Infant desserts  125g  NaN\n",
       "9                      NaN  Infant savouries, from 4 months  125g  NaN\n",
       "10                     NaN                  Junior desserts  190g  NaN\n",
       "...                    ...                              ...   ...  ...\n",
       "2913                   NaN                            Onken  200g  NaN\n",
       "2914                   NaN               Petit Danone—small   50g  NaN\n",
       "2915                   NaN           St Ivel Fiendish Faces   50g  NaN\n",
       "2916    Baby fromage frais                      Baby Danone   60g  NaN\n",
       "2917                   NaN                      Heinz (jar)  163g  NaN\n",
       "\n",
       "[2912 rows x 4 columns]"
      ]
     },
     "execution_count": 9,
     "metadata": {},
     "output_type": "execute_result"
    }
   ],
   "source": [
    "FPS"
   ]
  },
  {
   "cell_type": "code",
   "execution_count": 10,
   "id": "0e835443",
   "metadata": {},
   "outputs": [],
   "source": [
    "df.to_csv(r\"C:\\Users\\medekar\\Desktop\\Product_Weight_Project\\Data\\Raw_Food_Portion_Sizes.csv\")"
   ]
  }
 ],
 "metadata": {
  "kernelspec": {
   "display_name": "ProdW",
   "language": "python",
   "name": "prodw"
  },
  "language_info": {
   "codemirror_mode": {
    "name": "ipython",
    "version": 3
   },
   "file_extension": ".py",
   "mimetype": "text/x-python",
   "name": "python",
   "nbconvert_exporter": "python",
   "pygments_lexer": "ipython3",
   "version": "3.11.2"
  }
 },
 "nbformat": 4,
 "nbformat_minor": 5
}
