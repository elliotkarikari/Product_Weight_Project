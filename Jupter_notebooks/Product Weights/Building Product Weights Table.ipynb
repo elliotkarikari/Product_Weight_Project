{
 "cells": [
  {
   "cell_type": "markdown",
   "id": "19d7f05b",
   "metadata": {},
   "source": [
    "                                            Building Product Weights Table"
   ]
  },
  {
   "cell_type": "markdown",
   "id": "86ba00e6",
   "metadata": {},
   "source": [
    "##### Import Librarys"
   ]
  },
  {
   "cell_type": "code",
   "execution_count": 2,
   "id": "e903ec0b",
   "metadata": {},
   "outputs": [],
   "source": [
    "import pandas as pd"
   ]
  },
  {
   "cell_type": "markdown",
   "id": "d757e305",
   "metadata": {},
   "source": [
    "##### *Reading In Data*"
   ]
  },
  {
   "cell_type": "markdown",
   "id": "ac400ead",
   "metadata": {},
   "source": [
    "        Reduced List"
   ]
  },
  {
   "cell_type": "code",
   "execution_count": 7,
   "id": "a8324bec",
   "metadata": {},
   "outputs": [
    {
     "data": {
      "text/html": [
       "<div>\n",
       "<style scoped>\n",
       "    .dataframe tbody tr th:only-of-type {\n",
       "        vertical-align: middle;\n",
       "    }\n",
       "\n",
       "    .dataframe tbody tr th {\n",
       "        vertical-align: top;\n",
       "    }\n",
       "\n",
       "    .dataframe thead th {\n",
       "        text-align: right;\n",
       "    }\n",
       "</style>\n",
       "<table border=\"1\" class=\"dataframe\">\n",
       "  <thead>\n",
       "    <tr style=\"text-align: right;\">\n",
       "      <th></th>\n",
       "      <th>Unnamed: 0</th>\n",
       "      <th>Food Code</th>\n",
       "      <th>Food Name</th>\n",
       "      <th>Group</th>\n",
       "      <th>Super Group</th>\n",
       "    </tr>\n",
       "  </thead>\n",
       "  <tbody>\n",
       "    <tr>\n",
       "      <th>0</th>\n",
       "      <td>0</td>\n",
       "      <td>11-001</td>\n",
       "      <td>Arrowroot</td>\n",
       "      <td>AA</td>\n",
       "      <td>Cereals and cereal products</td>\n",
       "    </tr>\n",
       "    <tr>\n",
       "      <th>1</th>\n",
       "      <td>1</td>\n",
       "      <td>13-145</td>\n",
       "      <td>Ackee, canned, drained</td>\n",
       "      <td>DG</td>\n",
       "      <td>Vegetables</td>\n",
       "    </tr>\n",
       "    <tr>\n",
       "      <th>2</th>\n",
       "      <td>2</td>\n",
       "      <td>13-146</td>\n",
       "      <td>Agar, dried</td>\n",
       "      <td>DG</td>\n",
       "      <td>Vegetables</td>\n",
       "    </tr>\n",
       "    <tr>\n",
       "      <th>3</th>\n",
       "      <td>3</td>\n",
       "      <td>13-148</td>\n",
       "      <td>Alfalfa sprouts, raw</td>\n",
       "      <td>DG</td>\n",
       "      <td>Vegetables</td>\n",
       "    </tr>\n",
       "    <tr>\n",
       "      <th>4</th>\n",
       "      <td>4</td>\n",
       "      <td>13-149</td>\n",
       "      <td>Amaranth leaves, raw</td>\n",
       "      <td>DG</td>\n",
       "      <td>Vegetables</td>\n",
       "    </tr>\n",
       "  </tbody>\n",
       "</table>\n",
       "</div>"
      ],
      "text/plain": [
       "   Unnamed: 0 Food Code               Food Name Group  \\\n",
       "0           0    11-001               Arrowroot    AA   \n",
       "1           1    13-145  Ackee, canned, drained    DG   \n",
       "2           2    13-146             Agar, dried    DG   \n",
       "3           3    13-148    Alfalfa sprouts, raw    DG   \n",
       "4           4    13-149    Amaranth leaves, raw    DG   \n",
       "\n",
       "                   Super Group  \n",
       "0  Cereals and cereal products  \n",
       "1                   Vegetables  \n",
       "2                   Vegetables  \n",
       "3                   Vegetables  \n",
       "4                   Vegetables  "
      ]
     },
     "execution_count": 7,
     "metadata": {},
     "output_type": "execute_result"
    }
   ],
   "source": [
    "Red_List = pd.read_csv(r'C:\\Users\\medekar\\Desktop\\Product_Weight_Project\\Data\\Processed\\1Reduced_Labelling2021.csv')\n",
    "Red_List.head()"
   ]
  },
  {
   "cell_type": "markdown",
   "id": "da73dfd6",
   "metadata": {},
   "source": [
    "        Open Food Facts"
   ]
  },
  {
   "cell_type": "code",
   "execution_count": 8,
   "id": "aa4b2883",
   "metadata": {},
   "outputs": [
    {
     "data": {
      "text/html": [
       "<div>\n",
       "<style scoped>\n",
       "    .dataframe tbody tr th:only-of-type {\n",
       "        vertical-align: middle;\n",
       "    }\n",
       "\n",
       "    .dataframe tbody tr th {\n",
       "        vertical-align: top;\n",
       "    }\n",
       "\n",
       "    .dataframe thead th {\n",
       "        text-align: right;\n",
       "    }\n",
       "</style>\n",
       "<table border=\"1\" class=\"dataframe\">\n",
       "  <thead>\n",
       "    <tr style=\"text-align: right;\">\n",
       "      <th></th>\n",
       "      <th>Unnamed: 0</th>\n",
       "      <th>product_name_en</th>\n",
       "      <th>product_quantity</th>\n",
       "      <th>packaging</th>\n",
       "      <th>url</th>\n",
       "      <th>stores</th>\n",
       "      <th>countries</th>\n",
       "    </tr>\n",
       "  </thead>\n",
       "  <tbody>\n",
       "    <tr>\n",
       "      <th>0</th>\n",
       "      <td>0</td>\n",
       "      <td>Ketchup 5 Ingrédients</td>\n",
       "      <td>468.00000</td>\n",
       "      <td>OPERCULE A JETER, BOUTEILLE PLASTIQUE ET SON B...</td>\n",
       "      <td>https://world.openfoodfacts.org/product/871052...</td>\n",
       "      <td>E.Leclerc,carrefour.fr</td>\n",
       "      <td>France</td>\n",
       "    </tr>\n",
       "    <tr>\n",
       "      <th>1</th>\n",
       "      <td>6</td>\n",
       "      <td>Chocolat noir fruité</td>\n",
       "      <td>100.00000</td>\n",
       "      <td>Tablette</td>\n",
       "      <td>https://world.openfoodfacts.org/product/761303...</td>\n",
       "      <td>Carrefour,Leclerc,Magasins U</td>\n",
       "      <td>France,Guyane</td>\n",
       "    </tr>\n",
       "    <tr>\n",
       "      <th>2</th>\n",
       "      <td>19</td>\n",
       "      <td>Golden sunflower oil cooking spray</td>\n",
       "      <td>190.00000</td>\n",
       "      <td>Plastic, Bottle, Hdpe-bottle</td>\n",
       "      <td>https://world.openfoodfacts.org/product/500044...</td>\n",
       "      <td>Asda,Tesco,Iceland,Waitrose,Morrisons</td>\n",
       "      <td>France,United Kingdom</td>\n",
       "    </tr>\n",
       "    <tr>\n",
       "      <th>3</th>\n",
       "      <td>24</td>\n",
       "      <td>Tuna in olive oil blend</td>\n",
       "      <td>95.00000</td>\n",
       "      <td>Tin steel</td>\n",
       "      <td>https://world.openfoodfacts.org/product/930046...</td>\n",
       "      <td>Woolworths, Coles</td>\n",
       "      <td>Australia,Singapore,en:singapore</td>\n",
       "    </tr>\n",
       "    <tr>\n",
       "      <th>4</th>\n",
       "      <td>26</td>\n",
       "      <td>Pringles</td>\n",
       "      <td>18.99418</td>\n",
       "      <td>Plastic, Tub</td>\n",
       "      <td>https://world.openfoodfacts.org/product/038083...</td>\n",
       "      <td>Kroger</td>\n",
       "      <td>United States</td>\n",
       "    </tr>\n",
       "  </tbody>\n",
       "</table>\n",
       "</div>"
      ],
      "text/plain": [
       "   Unnamed: 0                     product_name_en  product_quantity  \\\n",
       "0           0               Ketchup 5 Ingrédients         468.00000   \n",
       "1           6                Chocolat noir fruité         100.00000   \n",
       "2          19  Golden sunflower oil cooking spray         190.00000   \n",
       "3          24             Tuna in olive oil blend          95.00000   \n",
       "4          26                            Pringles          18.99418   \n",
       "\n",
       "                                           packaging  \\\n",
       "0  OPERCULE A JETER, BOUTEILLE PLASTIQUE ET SON B...   \n",
       "1                                           Tablette   \n",
       "2                       Plastic, Bottle, Hdpe-bottle   \n",
       "3                                          Tin steel   \n",
       "4                                       Plastic, Tub   \n",
       "\n",
       "                                                 url  \\\n",
       "0  https://world.openfoodfacts.org/product/871052...   \n",
       "1  https://world.openfoodfacts.org/product/761303...   \n",
       "2  https://world.openfoodfacts.org/product/500044...   \n",
       "3  https://world.openfoodfacts.org/product/930046...   \n",
       "4  https://world.openfoodfacts.org/product/038083...   \n",
       "\n",
       "                                  stores                         countries  \n",
       "0                 E.Leclerc,carrefour.fr                            France  \n",
       "1           Carrefour,Leclerc,Magasins U                     France,Guyane  \n",
       "2  Asda,Tesco,Iceland,Waitrose,Morrisons             France,United Kingdom  \n",
       "3                      Woolworths, Coles  Australia,Singapore,en:singapore  \n",
       "4                                 Kroger                     United States  "
      ]
     },
     "execution_count": 8,
     "metadata": {},
     "output_type": "execute_result"
    }
   ],
   "source": [
    "OFF = pd.read_csv(r'C:\\Users\\medekar\\Desktop\\Product_Weight_Project\\Data\\Processed\\OpenFoodFacts.csv')\n",
    "OFF.head()"
   ]
  }
 ],
 "metadata": {
  "kernelspec": {
   "display_name": "ProdW",
   "language": "python",
   "name": "prodw"
  },
  "language_info": {
   "codemirror_mode": {
    "name": "ipython",
    "version": 3
   },
   "file_extension": ".py",
   "mimetype": "text/x-python",
   "name": "python",
   "nbconvert_exporter": "python",
   "pygments_lexer": "ipython3",
   "version": "3.11.2"
  }
 },
 "nbformat": 4,
 "nbformat_minor": 5
}
