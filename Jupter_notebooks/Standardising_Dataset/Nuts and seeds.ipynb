{
 "cells": [
  {
   "cell_type": "markdown",
   "id": "fb1073e1",
   "metadata": {},
   "source": [
    "                                          SelfScale DataBase Nuts and seeds "
   ]
  },
  {
   "cell_type": "markdown",
   "id": "613935f6",
   "metadata": {},
   "source": [
    "Libraries Imported"
   ]
  },
  {
   "cell_type": "code",
   "execution_count": 1,
   "id": "7fce0198",
   "metadata": {},
   "outputs": [],
   "source": [
    "import pandas as pd\n",
    "import re"
   ]
  },
  {
   "cell_type": "markdown",
   "id": "10bb47f1",
   "metadata": {},
   "source": [
    "Reading in Updated List"
   ]
  },
  {
   "cell_type": "code",
   "execution_count": 2,
   "id": "f14f1da5",
   "metadata": {},
   "outputs": [],
   "source": [
    "Red_List = pd.read_csv(r'C:\\Users\\medekar\\Desktop\\Product_Weight_Project\\Data\\Processed\\Reduced Total\\Updated2_RedLab2021.csv', index_col=0)"
   ]
  },
  {
   "cell_type": "markdown",
   "id": "3e2fb5c1",
   "metadata": {},
   "source": [
    "###### Selecting all Fruits in Reduced List"
   ]
  },
  {
   "cell_type": "code",
   "execution_count": 3,
   "id": "b520111a",
   "metadata": {
    "scrolled": false
   },
   "outputs": [],
   "source": [
    "Nuts = Red_List.loc[Red_List['Super Group'] == 'Nuts and seeds']"
   ]
  },
  {
   "cell_type": "code",
   "execution_count": 5,
   "id": "133bcaf3",
   "metadata": {},
   "outputs": [],
   "source": [
    "Nuts.to_csv(r'C:\\Users\\medekar\\Desktop\\Product_Weight_Project\\Data\\Processed\\Reduced Super Group\\Nuts and seeds.csv')"
   ]
  },
  {
   "cell_type": "markdown",
   "id": "61ae2ff5",
   "metadata": {},
   "source": [
    "                                                   Herbs and spices"
   ]
  },
  {
   "cell_type": "code",
   "execution_count": 6,
   "id": "4c93bd75",
   "metadata": {},
   "outputs": [],
   "source": [
    "NutSd = pd.read_csv(r'C:\\Users\\medekar\\Desktop\\Product_Weight_Project\\Data\\Processed\\Reduced Super Group\\Nuts and seeds.csv', index_col=0)"
   ]
  },
  {
   "cell_type": "code",
   "execution_count": 7,
   "id": "edda0dfe",
   "metadata": {},
   "outputs": [
    {
     "data": {
      "text/plain": [
       "(17, 6)"
      ]
     },
     "execution_count": 7,
     "metadata": {},
     "output_type": "execute_result"
    }
   ],
   "source": [
    "NutSd.shape"
   ]
  },
  {
   "cell_type": "markdown",
   "id": "eb59405d",
   "metadata": {},
   "source": [
    "##### Reviewing Veg List"
   ]
  },
  {
   "cell_type": "markdown",
   "id": "20ffe0f3",
   "metadata": {},
   "source": [
    "Most of Review done in Excel "
   ]
  },
  {
   "cell_type": "code",
   "execution_count": 8,
   "id": "59d22c0b",
   "metadata": {
    "scrolled": false
   },
   "outputs": [
    {
     "data": {
      "text/html": [
       "<div>\n",
       "<style scoped>\n",
       "    .dataframe tbody tr th:only-of-type {\n",
       "        vertical-align: middle;\n",
       "    }\n",
       "\n",
       "    .dataframe tbody tr th {\n",
       "        vertical-align: top;\n",
       "    }\n",
       "\n",
       "    .dataframe thead th {\n",
       "        text-align: right;\n",
       "    }\n",
       "</style>\n",
       "<table border=\"1\" class=\"dataframe\">\n",
       "  <thead>\n",
       "    <tr style=\"text-align: right;\">\n",
       "      <th></th>\n",
       "      <th>Food Code</th>\n",
       "      <th>Food Name</th>\n",
       "      <th>Group</th>\n",
       "      <th>Super Group</th>\n",
       "      <th>Sale format(s)</th>\n",
       "      <th>VJ comments</th>\n",
       "    </tr>\n",
       "  </thead>\n",
       "  <tbody>\n",
       "    <tr>\n",
       "      <th>19</th>\n",
       "      <td>14-870</td>\n",
       "      <td>Almonds, flaked and ground</td>\n",
       "      <td>GA</td>\n",
       "      <td>Nuts and seeds</td>\n",
       "      <td>packet</td>\n",
       "      <td>NaN</td>\n",
       "    </tr>\n",
       "    <tr>\n",
       "      <th>20</th>\n",
       "      <td>14-897</td>\n",
       "      <td>Almonds, toasted</td>\n",
       "      <td>GA</td>\n",
       "      <td>Nuts and seeds</td>\n",
       "      <td>packet</td>\n",
       "      <td>NaN</td>\n",
       "    </tr>\n",
       "    <tr>\n",
       "      <th>21</th>\n",
       "      <td>14-896</td>\n",
       "      <td>Almonds, whole kernels</td>\n",
       "      <td>GA</td>\n",
       "      <td>Nuts and seeds</td>\n",
       "      <td>packet</td>\n",
       "      <td>NaN</td>\n",
       "    </tr>\n",
       "    <tr>\n",
       "      <th>105</th>\n",
       "      <td>14-895</td>\n",
       "      <td>Breadnut seeds, dried</td>\n",
       "      <td>G</td>\n",
       "      <td>Nuts and seeds</td>\n",
       "      <td>packet</td>\n",
       "      <td>NaN</td>\n",
       "    </tr>\n",
       "    <tr>\n",
       "      <th>106</th>\n",
       "      <td>14-806</td>\n",
       "      <td>Betel nuts</td>\n",
       "      <td>GA</td>\n",
       "      <td>Nuts and seeds</td>\n",
       "      <td>packet</td>\n",
       "      <td>NaN</td>\n",
       "    </tr>\n",
       "    <tr>\n",
       "      <th>187</th>\n",
       "      <td>14-813</td>\n",
       "      <td>Chestnuts, kernel only, raw</td>\n",
       "      <td>GA</td>\n",
       "      <td>Nuts and seeds</td>\n",
       "      <td>packet</td>\n",
       "      <td>NaN</td>\n",
       "    </tr>\n",
       "    <tr>\n",
       "      <th>188</th>\n",
       "      <td>14-889</td>\n",
       "      <td>Coconut milk, retail</td>\n",
       "      <td>GA</td>\n",
       "      <td>Nuts and seeds</td>\n",
       "      <td>carton/tetrapak</td>\n",
       "      <td>NaN</td>\n",
       "    </tr>\n",
       "    <tr>\n",
       "      <th>308</th>\n",
       "      <td>14-874</td>\n",
       "      <td>Hazelnuts, kernel only</td>\n",
       "      <td>GA</td>\n",
       "      <td>Nuts and seeds</td>\n",
       "      <td>packet</td>\n",
       "      <td>NaN</td>\n",
       "    </tr>\n",
       "    <tr>\n",
       "      <th>382</th>\n",
       "      <td>14-891</td>\n",
       "      <td>Macadamia nuts, salted</td>\n",
       "      <td>G</td>\n",
       "      <td>Nuts and seeds</td>\n",
       "      <td>packet</td>\n",
       "      <td>NaN</td>\n",
       "    </tr>\n",
       "    <tr>\n",
       "      <th>383</th>\n",
       "      <td>14-875</td>\n",
       "      <td>Marzipan, white and yellow, retail</td>\n",
       "      <td>GA</td>\n",
       "      <td>Nuts and seeds</td>\n",
       "      <td>packet</td>\n",
       "      <td>NaN</td>\n",
       "    </tr>\n",
       "    <tr>\n",
       "      <th>404</th>\n",
       "      <td>14-880</td>\n",
       "      <td>Nuts, mixed</td>\n",
       "      <td>GA</td>\n",
       "      <td>Nuts and seeds</td>\n",
       "      <td>packet</td>\n",
       "      <td>NaN</td>\n",
       "    </tr>\n",
       "    <tr>\n",
       "      <th>456</th>\n",
       "      <td>14-892</td>\n",
       "      <td>Peanut butter, smooth</td>\n",
       "      <td>GA</td>\n",
       "      <td>Nuts and seeds</td>\n",
       "      <td>jar</td>\n",
       "      <td>NaN</td>\n",
       "    </tr>\n",
       "    <tr>\n",
       "      <th>457</th>\n",
       "      <td>14-882</td>\n",
       "      <td>Peanuts and raisins</td>\n",
       "      <td>GA</td>\n",
       "      <td>Nuts and seeds</td>\n",
       "      <td>packet</td>\n",
       "      <td>NaN</td>\n",
       "    </tr>\n",
       "    <tr>\n",
       "      <th>458</th>\n",
       "      <td>14-840</td>\n",
       "      <td>Pistachio nuts, kernel only, roasted and salted</td>\n",
       "      <td>GA</td>\n",
       "      <td>Nuts and seeds</td>\n",
       "      <td>packet</td>\n",
       "      <td>NaN</td>\n",
       "    </tr>\n",
       "    <tr>\n",
       "      <th>475</th>\n",
       "      <td>14-843</td>\n",
       "      <td>Quinoa, raw</td>\n",
       "      <td>GA</td>\n",
       "      <td>Nuts and seeds</td>\n",
       "      <td>packet</td>\n",
       "      <td>NaN</td>\n",
       "    </tr>\n",
       "    <tr>\n",
       "      <th>509</th>\n",
       "      <td>14-845</td>\n",
       "      <td>Sunflower seeds</td>\n",
       "      <td>GA</td>\n",
       "      <td>Nuts and seeds</td>\n",
       "      <td>packet</td>\n",
       "      <td>NaN</td>\n",
       "    </tr>\n",
       "    <tr>\n",
       "      <th>567</th>\n",
       "      <td>14-879</td>\n",
       "      <td>Walnuts, kernel only</td>\n",
       "      <td>GA</td>\n",
       "      <td>Nuts and seeds</td>\n",
       "      <td>packet</td>\n",
       "      <td>NaN</td>\n",
       "    </tr>\n",
       "  </tbody>\n",
       "</table>\n",
       "</div>"
      ],
      "text/plain": [
       "    Food Code                                        Food Name Group  \\\n",
       "19     14-870                       Almonds, flaked and ground    GA   \n",
       "20     14-897                                 Almonds, toasted    GA   \n",
       "21     14-896                           Almonds, whole kernels    GA   \n",
       "105    14-895                            Breadnut seeds, dried     G   \n",
       "106    14-806                                       Betel nuts    GA   \n",
       "187    14-813                      Chestnuts, kernel only, raw    GA   \n",
       "188    14-889                             Coconut milk, retail    GA   \n",
       "308    14-874                           Hazelnuts, kernel only    GA   \n",
       "382    14-891                           Macadamia nuts, salted     G   \n",
       "383    14-875               Marzipan, white and yellow, retail    GA   \n",
       "404    14-880                                      Nuts, mixed    GA   \n",
       "456    14-892                            Peanut butter, smooth    GA   \n",
       "457    14-882                              Peanuts and raisins    GA   \n",
       "458    14-840  Pistachio nuts, kernel only, roasted and salted    GA   \n",
       "475    14-843                                      Quinoa, raw    GA   \n",
       "509    14-845                                  Sunflower seeds    GA   \n",
       "567    14-879                             Walnuts, kernel only    GA   \n",
       "\n",
       "        Super Group   Sale format(s)  VJ comments  \n",
       "19   Nuts and seeds           packet          NaN  \n",
       "20   Nuts and seeds           packet          NaN  \n",
       "21   Nuts and seeds           packet          NaN  \n",
       "105  Nuts and seeds           packet          NaN  \n",
       "106  Nuts and seeds           packet          NaN  \n",
       "187  Nuts and seeds           packet          NaN  \n",
       "188  Nuts and seeds  carton/tetrapak          NaN  \n",
       "308  Nuts and seeds           packet          NaN  \n",
       "382  Nuts and seeds           packet          NaN  \n",
       "383  Nuts and seeds           packet          NaN  \n",
       "404  Nuts and seeds           packet          NaN  \n",
       "456  Nuts and seeds              jar          NaN  \n",
       "457  Nuts and seeds           packet          NaN  \n",
       "458  Nuts and seeds           packet          NaN  \n",
       "475  Nuts and seeds           packet          NaN  \n",
       "509  Nuts and seeds           packet          NaN  \n",
       "567  Nuts and seeds           packet          NaN  "
      ]
     },
     "execution_count": 8,
     "metadata": {},
     "output_type": "execute_result"
    }
   ],
   "source": [
    "#Loop through dataframe and print comments\n",
    "for comment in NutSd:\n",
    "    pd.set_option('display.max_colwidth', None)\n",
    "    #pd.set_option('display.max_rows', None)\n",
    "NutSd"
   ]
  },
  {
   "cell_type": "code",
   "execution_count": 9,
   "id": "10197c56",
   "metadata": {},
   "outputs": [],
   "source": [
    "NutSd.drop('VJ comments', axis=1, inplace=True)"
   ]
  },
  {
   "cell_type": "code",
   "execution_count": 10,
   "id": "77eb4132",
   "metadata": {},
   "outputs": [],
   "source": [
    "NutSd.to_csv(r'C:\\Users\\medekar\\Desktop\\Product_Weight_Project\\Data\\Processed\\Reduced Super Group\\Cleaned\\Nuts and seeds.csv')"
   ]
  }
 ],
 "metadata": {
  "kernelspec": {
   "display_name": "ProdW",
   "language": "python",
   "name": "prodw"
  },
  "language_info": {
   "codemirror_mode": {
    "name": "ipython",
    "version": 3
   },
   "file_extension": ".py",
   "mimetype": "text/x-python",
   "name": "python",
   "nbconvert_exporter": "python",
   "pygments_lexer": "ipython3",
   "version": "3.11.2"
  }
 },
 "nbformat": 4,
 "nbformat_minor": 5
}
