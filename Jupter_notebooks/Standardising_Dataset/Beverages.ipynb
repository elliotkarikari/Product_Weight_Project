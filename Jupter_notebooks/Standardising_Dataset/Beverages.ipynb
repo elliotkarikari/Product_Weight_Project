{
 "cells": [
  {
   "cell_type": "markdown",
   "id": "fb1073e1",
   "metadata": {},
   "source": [
    "                                                 SelfScale DataBase Beverages"
   ]
  },
  {
   "cell_type": "markdown",
   "id": "613935f6",
   "metadata": {},
   "source": [
    "Libraries Imported"
   ]
  },
  {
   "cell_type": "code",
   "execution_count": 1,
   "id": "7fce0198",
   "metadata": {},
   "outputs": [],
   "source": [
    "import pandas as pd\n",
    "import re"
   ]
  },
  {
   "cell_type": "markdown",
   "id": "10bb47f1",
   "metadata": {},
   "source": [
    "Reading in Updated List"
   ]
  },
  {
   "cell_type": "code",
   "execution_count": 2,
   "id": "f14f1da5",
   "metadata": {},
   "outputs": [],
   "source": [
    "Red_List = pd.read_csv(r'C:\\Users\\medekar\\Desktop\\Product_Weight_Project\\Data\\Processed\\Reduced Total\\Updated2_RedLab2021.csv', index_col=0)"
   ]
  },
  {
   "cell_type": "markdown",
   "id": "3e2fb5c1",
   "metadata": {},
   "source": [
    "###### Selecting all Fruits in Reduced List"
   ]
  },
  {
   "cell_type": "code",
   "execution_count": 3,
   "id": "b520111a",
   "metadata": {
    "scrolled": false
   },
   "outputs": [],
   "source": [
    "Bev = Red_List.loc[Red_List['Super Group'] == 'Beverages']"
   ]
  },
  {
   "cell_type": "code",
   "execution_count": 4,
   "id": "133bcaf3",
   "metadata": {},
   "outputs": [],
   "source": [
    "Bev.to_csv(r'C:\\Users\\medekar\\Desktop\\Product_Weight_Project\\Data\\Processed\\Reduced Super Group\\Beverages.csv')"
   ]
  },
  {
   "cell_type": "markdown",
   "id": "61ae2ff5",
   "metadata": {},
   "source": [
    "                                                   Herbs and spices"
   ]
  },
  {
   "cell_type": "code",
   "execution_count": 5,
   "id": "4c93bd75",
   "metadata": {},
   "outputs": [],
   "source": [
    "Bevy = pd.read_csv(r'C:\\Users\\medekar\\Desktop\\Product_Weight_Project\\Data\\Processed\\Reduced Super Group\\Beverages.csv', index_col=0)"
   ]
  },
  {
   "cell_type": "code",
   "execution_count": 6,
   "id": "edda0dfe",
   "metadata": {},
   "outputs": [
    {
     "data": {
      "text/plain": [
       "(14, 6)"
      ]
     },
     "execution_count": 6,
     "metadata": {},
     "output_type": "execute_result"
    }
   ],
   "source": [
    "Bevy.shape"
   ]
  },
  {
   "cell_type": "markdown",
   "id": "eb59405d",
   "metadata": {},
   "source": [
    "##### Reviewing Veg List"
   ]
  },
  {
   "cell_type": "markdown",
   "id": "20ffe0f3",
   "metadata": {},
   "source": [
    "Most of Review done in Excel "
   ]
  },
  {
   "cell_type": "code",
   "execution_count": 7,
   "id": "59d22c0b",
   "metadata": {
    "scrolled": false
   },
   "outputs": [
    {
     "data": {
      "text/html": [
       "<div>\n",
       "<style scoped>\n",
       "    .dataframe tbody tr th:only-of-type {\n",
       "        vertical-align: middle;\n",
       "    }\n",
       "\n",
       "    .dataframe tbody tr th {\n",
       "        vertical-align: top;\n",
       "    }\n",
       "\n",
       "    .dataframe thead th {\n",
       "        text-align: right;\n",
       "    }\n",
       "</style>\n",
       "<table border=\"1\" class=\"dataframe\">\n",
       "  <thead>\n",
       "    <tr style=\"text-align: right;\">\n",
       "      <th></th>\n",
       "      <th>Food Code</th>\n",
       "      <th>Food Name</th>\n",
       "      <th>Group</th>\n",
       "      <th>Super Group</th>\n",
       "      <th>Sale format(s)</th>\n",
       "      <th>VJ comments</th>\n",
       "    </tr>\n",
       "  </thead>\n",
       "  <tbody>\n",
       "    <tr>\n",
       "      <th>27</th>\n",
       "      <td>14-272</td>\n",
       "      <td>Apple juice concentrate, unsweetened, commerical</td>\n",
       "      <td>PE</td>\n",
       "      <td>Beverages</td>\n",
       "      <td>carton, tetrapak, bottle</td>\n",
       "      <td>NaN</td>\n",
       "    </tr>\n",
       "    <tr>\n",
       "      <th>230</th>\n",
       "      <td>17-632</td>\n",
       "      <td>Coffee, cappuccino, latte</td>\n",
       "      <td>P</td>\n",
       "      <td>Beverages</td>\n",
       "      <td>NaN</td>\n",
       "      <td>NaN</td>\n",
       "    </tr>\n",
       "    <tr>\n",
       "      <th>231</th>\n",
       "      <td>17-175</td>\n",
       "      <td>Cola</td>\n",
       "      <td>PCA</td>\n",
       "      <td>Beverages</td>\n",
       "      <td>can, ready to drink bottle, sharing bottle</td>\n",
       "      <td>NaN</td>\n",
       "    </tr>\n",
       "    <tr>\n",
       "      <th>232</th>\n",
       "      <td>17-744</td>\n",
       "      <td>Cranberry fruit juice drink</td>\n",
       "      <td>PE</td>\n",
       "      <td>Beverages</td>\n",
       "      <td>carton, tetrapak, bottle</td>\n",
       "      <td>NaN</td>\n",
       "    </tr>\n",
       "    <tr>\n",
       "      <th>255</th>\n",
       "      <td>17-498</td>\n",
       "      <td>Drinking chocolate, powder</td>\n",
       "      <td>PAA</td>\n",
       "      <td>Beverages</td>\n",
       "      <td>NaN</td>\n",
       "      <td>NaN</td>\n",
       "    </tr>\n",
       "    <tr>\n",
       "      <th>263</th>\n",
       "      <td>17-672</td>\n",
       "      <td>Energy drink, carbonated</td>\n",
       "      <td>PCA</td>\n",
       "      <td>Beverages</td>\n",
       "      <td>can, ready to drink bottle, sharing bottle</td>\n",
       "      <td>NaN</td>\n",
       "    </tr>\n",
       "    <tr>\n",
       "      <th>300</th>\n",
       "      <td>17-745</td>\n",
       "      <td>Grape juice, unsweetened</td>\n",
       "      <td>PE</td>\n",
       "      <td>Beverages</td>\n",
       "      <td>carton, tetrapak, bottle</td>\n",
       "      <td>NaN</td>\n",
       "    </tr>\n",
       "    <tr>\n",
       "      <th>314</th>\n",
       "      <td>17-731</td>\n",
       "      <td>Horlicks, powder</td>\n",
       "      <td>PAA</td>\n",
       "      <td>Beverages</td>\n",
       "      <td>NaN</td>\n",
       "      <td>NaN</td>\n",
       "    </tr>\n",
       "    <tr>\n",
       "      <th>356</th>\n",
       "      <td>17-179</td>\n",
       "      <td>Lemonade</td>\n",
       "      <td>PCA</td>\n",
       "      <td>Beverages</td>\n",
       "      <td>can, ready to drink bottle, sharing bottle</td>\n",
       "      <td>NaN</td>\n",
       "    </tr>\n",
       "    <tr>\n",
       "      <th>357</th>\n",
       "      <td>17-761</td>\n",
       "      <td>Lucozade</td>\n",
       "      <td>PCA</td>\n",
       "      <td>Beverages</td>\n",
       "      <td>ready to drink bottle, sharing bottle</td>\n",
       "      <td>NaN</td>\n",
       "    </tr>\n",
       "    <tr>\n",
       "      <th>358</th>\n",
       "      <td>17-751</td>\n",
       "      <td>Lager, premium</td>\n",
       "      <td>QA</td>\n",
       "      <td>Beverages</td>\n",
       "      <td>can, multipack can, bottle, multipack bottle</td>\n",
       "      <td>NaN</td>\n",
       "    </tr>\n",
       "    <tr>\n",
       "      <th>359</th>\n",
       "      <td>17-244</td>\n",
       "      <td>Liqueurs, high strength</td>\n",
       "      <td>QI</td>\n",
       "      <td>Beverages</td>\n",
       "      <td>bottle, miniature</td>\n",
       "      <td>NaN</td>\n",
       "    </tr>\n",
       "    <tr>\n",
       "      <th>394</th>\n",
       "      <td>17-733</td>\n",
       "      <td>Milk shake, powder</td>\n",
       "      <td>PAA</td>\n",
       "      <td>Beverages</td>\n",
       "      <td>NaN</td>\n",
       "      <td>NaN</td>\n",
       "    </tr>\n",
       "    <tr>\n",
       "      <th>422</th>\n",
       "      <td>17-734</td>\n",
       "      <td>Ovaltine, powder</td>\n",
       "      <td>PAA</td>\n",
       "      <td>Beverages</td>\n",
       "      <td>NaN</td>\n",
       "      <td>NaN</td>\n",
       "    </tr>\n",
       "  </tbody>\n",
       "</table>\n",
       "</div>"
      ],
      "text/plain": [
       "    Food Code                                         Food Name Group  \\\n",
       "27     14-272  Apple juice concentrate, unsweetened, commerical    PE   \n",
       "230    17-632                         Coffee, cappuccino, latte     P   \n",
       "231    17-175                                              Cola   PCA   \n",
       "232    17-744                       Cranberry fruit juice drink    PE   \n",
       "255    17-498                        Drinking chocolate, powder   PAA   \n",
       "263    17-672                          Energy drink, carbonated   PCA   \n",
       "300    17-745                          Grape juice, unsweetened    PE   \n",
       "314    17-731                                  Horlicks, powder   PAA   \n",
       "356    17-179                                          Lemonade   PCA   \n",
       "357    17-761                                          Lucozade   PCA   \n",
       "358    17-751                                    Lager, premium    QA   \n",
       "359    17-244                           Liqueurs, high strength    QI   \n",
       "394    17-733                                Milk shake, powder   PAA   \n",
       "422    17-734                                  Ovaltine, powder   PAA   \n",
       "\n",
       "    Super Group                                Sale format(s)  VJ comments  \n",
       "27    Beverages                      carton, tetrapak, bottle          NaN  \n",
       "230   Beverages                                           NaN          NaN  \n",
       "231   Beverages    can, ready to drink bottle, sharing bottle          NaN  \n",
       "232   Beverages                      carton, tetrapak, bottle          NaN  \n",
       "255   Beverages                                           NaN          NaN  \n",
       "263   Beverages    can, ready to drink bottle, sharing bottle          NaN  \n",
       "300   Beverages                      carton, tetrapak, bottle          NaN  \n",
       "314   Beverages                                           NaN          NaN  \n",
       "356   Beverages    can, ready to drink bottle, sharing bottle          NaN  \n",
       "357   Beverages         ready to drink bottle, sharing bottle          NaN  \n",
       "358   Beverages  can, multipack can, bottle, multipack bottle          NaN  \n",
       "359   Beverages                             bottle, miniature          NaN  \n",
       "394   Beverages                                           NaN          NaN  \n",
       "422   Beverages                                           NaN          NaN  "
      ]
     },
     "execution_count": 7,
     "metadata": {},
     "output_type": "execute_result"
    }
   ],
   "source": [
    "#Loop through dataframe and print comments\n",
    "for comment in Bevy:\n",
    "    pd.set_option('display.max_colwidth', None)\n",
    "    #pd.set_option('display.max_rows', None)\n",
    "Bevy"
   ]
  },
  {
   "cell_type": "code",
   "execution_count": 9,
   "id": "10197c56",
   "metadata": {},
   "outputs": [],
   "source": [
    "NutSd.drop('VJ comments', axis=1, inplace=True)"
   ]
  },
  {
   "cell_type": "code",
   "execution_count": 10,
   "id": "77eb4132",
   "metadata": {},
   "outputs": [],
   "source": [
    "NutSd.to_csv(r'C:\\Users\\medekar\\Desktop\\Product_Weight_Project\\Data\\Processed\\Reduced Super Group\\Cleaned\\Nuts and seeds.csv')"
   ]
  },
  {
   "cell_type": "code",
   "execution_count": null,
   "id": "579fd266",
   "metadata": {},
   "outputs": [],
   "source": []
  }
 ],
 "metadata": {
  "kernelspec": {
   "display_name": "ProdW",
   "language": "python",
   "name": "prodw"
  },
  "language_info": {
   "codemirror_mode": {
    "name": "ipython",
    "version": 3
   },
   "file_extension": ".py",
   "mimetype": "text/x-python",
   "name": "python",
   "nbconvert_exporter": "python",
   "pygments_lexer": "ipython3",
   "version": "3.11.2"
  }
 },
 "nbformat": 4,
 "nbformat_minor": 5
}
