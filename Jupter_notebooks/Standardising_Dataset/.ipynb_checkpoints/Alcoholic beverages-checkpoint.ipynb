{
 "cells": [
  {
   "cell_type": "markdown",
   "id": "fb1073e1",
   "metadata": {},
   "source": [
    "                                               SelfScale DataBase Alcoholic beverages "
   ]
  },
  {
   "cell_type": "markdown",
   "id": "613935f6",
   "metadata": {},
   "source": [
    "Libraries Imported"
   ]
  },
  {
   "cell_type": "code",
   "execution_count": 1,
   "id": "7fce0198",
   "metadata": {},
   "outputs": [],
   "source": [
    "import pandas as pd\n",
    "import re"
   ]
  },
  {
   "cell_type": "markdown",
   "id": "10bb47f1",
   "metadata": {},
   "source": [
    "Reading in Updated List"
   ]
  },
  {
   "cell_type": "code",
   "execution_count": 2,
   "id": "f14f1da5",
   "metadata": {},
   "outputs": [],
   "source": [
    "Red_List = pd.read_csv(r'C:\\Users\\medekar\\Desktop\\Product_Weight_Project\\Data\\Processed\\Reduced Total\\Updated2_RedLab2021.csv', index_col=0)"
   ]
  },
  {
   "cell_type": "markdown",
   "id": "3e2fb5c1",
   "metadata": {},
   "source": [
    "###### Selecting all Fruits in Reduced List"
   ]
  },
  {
   "cell_type": "code",
   "execution_count": 11,
   "id": "b520111a",
   "metadata": {
    "scrolled": false
   },
   "outputs": [],
   "source": [
    "Alh = Red_List.loc[Red_List['Super Group'] == 'Alcoholic beverages']"
   ]
  },
  {
   "cell_type": "code",
   "execution_count": 12,
   "id": "133bcaf3",
   "metadata": {},
   "outputs": [],
   "source": [
    "Alh.to_csv(r'C:\\Users\\medekar\\Desktop\\Product_Weight_Project\\Data\\Processed\\Reduced Super Group\\Alcoholic beverages.csv')"
   ]
  },
  {
   "cell_type": "markdown",
   "id": "61ae2ff5",
   "metadata": {},
   "source": [
    "                                                   Herbs and spices"
   ]
  },
  {
   "cell_type": "code",
   "execution_count": 13,
   "id": "4c93bd75",
   "metadata": {},
   "outputs": [],
   "source": [
    "Alch = pd.read_csv(r'C:\\Users\\medekar\\Desktop\\Product_Weight_Project\\Data\\Processed\\Reduced Super Group\\Alcoholic beverages.csv', index_col=0)"
   ]
  },
  {
   "cell_type": "code",
   "execution_count": 14,
   "id": "edda0dfe",
   "metadata": {},
   "outputs": [
    {
     "data": {
      "text/plain": [
       "(8, 6)"
      ]
     },
     "execution_count": 14,
     "metadata": {},
     "output_type": "execute_result"
    }
   ],
   "source": [
    "Alch.shape"
   ]
  },
  {
   "cell_type": "markdown",
   "id": "eb59405d",
   "metadata": {},
   "source": [
    "##### Reviewing Veg List"
   ]
  },
  {
   "cell_type": "markdown",
   "id": "20ffe0f3",
   "metadata": {},
   "source": [
    "Most of Review done in Excel "
   ]
  },
  {
   "cell_type": "code",
   "execution_count": 19,
   "id": "59d22c0b",
   "metadata": {
    "scrolled": false
   },
   "outputs": [
    {
     "data": {
      "text/html": [
       "<div>\n",
       "<style scoped>\n",
       "    .dataframe tbody tr th:only-of-type {\n",
       "        vertical-align: middle;\n",
       "    }\n",
       "\n",
       "    .dataframe tbody tr th {\n",
       "        vertical-align: top;\n",
       "    }\n",
       "\n",
       "    .dataframe thead th {\n",
       "        text-align: right;\n",
       "    }\n",
       "</style>\n",
       "<table border=\"1\" class=\"dataframe\">\n",
       "  <thead>\n",
       "    <tr style=\"text-align: right;\">\n",
       "      <th></th>\n",
       "      <th>Food Code</th>\n",
       "      <th>Food Name</th>\n",
       "      <th>Group</th>\n",
       "      <th>Super Group</th>\n",
       "      <th>Sale format(s)</th>\n",
       "    </tr>\n",
       "  </thead>\n",
       "  <tbody>\n",
       "    <tr>\n",
       "      <th>131</th>\n",
       "      <td>17-208</td>\n",
       "      <td>Beer, bitter, best, premium</td>\n",
       "      <td>QA</td>\n",
       "      <td>Alcoholic beverages</td>\n",
       "      <td>can, can multipack, bottle, bottle multipack</td>\n",
       "    </tr>\n",
       "    <tr>\n",
       "      <th>233</th>\n",
       "      <td>17-224</td>\n",
       "      <td>Cider, sweet</td>\n",
       "      <td>QC</td>\n",
       "      <td>Alcoholic beverages</td>\n",
       "      <td>can, can multipack, bottle, bottle multipack</td>\n",
       "    </tr>\n",
       "    <tr>\n",
       "      <th>465</th>\n",
       "      <td>17-234</td>\n",
       "      <td>Port</td>\n",
       "      <td>QF</td>\n",
       "      <td>Alcoholic beverages</td>\n",
       "      <td>bottle</td>\n",
       "    </tr>\n",
       "    <tr>\n",
       "      <th>512</th>\n",
       "      <td>17-236</td>\n",
       "      <td>Sherry, medium</td>\n",
       "      <td>QF</td>\n",
       "      <td>Alcoholic beverages</td>\n",
       "      <td>bottle</td>\n",
       "    </tr>\n",
       "    <tr>\n",
       "      <th>513</th>\n",
       "      <td>17-247</td>\n",
       "      <td>Spirits, 40% volume</td>\n",
       "      <td>QK</td>\n",
       "      <td>Alcoholic beverages</td>\n",
       "      <td>bottle, miniature</td>\n",
       "    </tr>\n",
       "    <tr>\n",
       "      <th>562</th>\n",
       "      <td>17-239</td>\n",
       "      <td>Vermouth, dry</td>\n",
       "      <td>QG</td>\n",
       "      <td>Alcoholic beverages</td>\n",
       "      <td>bottle</td>\n",
       "    </tr>\n",
       "    <tr>\n",
       "      <th>569</th>\n",
       "      <td>17-752</td>\n",
       "      <td>Wine, red</td>\n",
       "      <td>QE</td>\n",
       "      <td>Alcoholic beverages</td>\n",
       "      <td>bottle, small bottle, box</td>\n",
       "    </tr>\n",
       "    <tr>\n",
       "      <th>570</th>\n",
       "      <td>17-756</td>\n",
       "      <td>Wine, white, medium</td>\n",
       "      <td>QE</td>\n",
       "      <td>Alcoholic beverages</td>\n",
       "      <td>bottle, small bottle, box</td>\n",
       "    </tr>\n",
       "  </tbody>\n",
       "</table>\n",
       "</div>"
      ],
      "text/plain": [
       "    Food Code                    Food Name Group          Super Group  \\\n",
       "131    17-208  Beer, bitter, best, premium    QA  Alcoholic beverages   \n",
       "233    17-224                 Cider, sweet    QC  Alcoholic beverages   \n",
       "465    17-234                         Port    QF  Alcoholic beverages   \n",
       "512    17-236               Sherry, medium    QF  Alcoholic beverages   \n",
       "513    17-247          Spirits, 40% volume    QK  Alcoholic beverages   \n",
       "562    17-239                Vermouth, dry    QG  Alcoholic beverages   \n",
       "569    17-752                    Wine, red    QE  Alcoholic beverages   \n",
       "570    17-756          Wine, white, medium    QE  Alcoholic beverages   \n",
       "\n",
       "                                   Sale format(s)  \n",
       "131  can, can multipack, bottle, bottle multipack  \n",
       "233  can, can multipack, bottle, bottle multipack  \n",
       "465                                        bottle  \n",
       "512                                        bottle  \n",
       "513                             bottle, miniature  \n",
       "562                                        bottle  \n",
       "569                     bottle, small bottle, box  \n",
       "570                     bottle, small bottle, box  "
      ]
     },
     "execution_count": 19,
     "metadata": {},
     "output_type": "execute_result"
    }
   ],
   "source": [
    "#Loop through dataframe and print comments\n",
    "for comment in Alch:\n",
    "    pd.set_option('display.max_colwidth', None)\n",
    "    #pd.set_option('display.max_rows', None)\n",
    "Alch"
   ]
  },
  {
   "cell_type": "code",
   "execution_count": 17,
   "id": "10197c56",
   "metadata": {},
   "outputs": [],
   "source": [
    "Alch.drop('VJ comments', axis=1, inplace=True)"
   ]
  },
  {
   "cell_type": "code",
   "execution_count": 18,
   "id": "77eb4132",
   "metadata": {},
   "outputs": [],
   "source": [
    "Alch.to_csv(r'C:\\Users\\medekar\\Desktop\\Product_Weight_Project\\Data\\Processed\\Reduced Super Group\\Cleaned\\Alcoholic beverages_Cleaned.csv')"
   ]
  }
 ],
 "metadata": {
  "kernelspec": {
   "display_name": "ProdW",
   "language": "python",
   "name": "prodw"
  },
  "language_info": {
   "codemirror_mode": {
    "name": "ipython",
    "version": 3
   },
   "file_extension": ".py",
   "mimetype": "text/x-python",
   "name": "python",
   "nbconvert_exporter": "python",
   "pygments_lexer": "ipython3",
   "version": "3.11.2"
  }
 },
 "nbformat": 4,
 "nbformat_minor": 5
}
