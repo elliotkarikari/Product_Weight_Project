{
 "cells": [
  {
   "cell_type": "markdown",
   "id": "fb1073e1",
   "metadata": {},
   "source": [
    "                                               SelfScale DataBase Fats and oils"
   ]
  },
  {
   "cell_type": "markdown",
   "id": "613935f6",
   "metadata": {},
   "source": [
    "Libraries Imported"
   ]
  },
  {
   "cell_type": "code",
   "execution_count": 1,
   "id": "7fce0198",
   "metadata": {},
   "outputs": [],
   "source": [
    "import pandas as pd\n",
    "import re"
   ]
  },
  {
   "cell_type": "markdown",
   "id": "10bb47f1",
   "metadata": {},
   "source": [
    "Reading in Updated List"
   ]
  },
  {
   "cell_type": "code",
   "execution_count": 2,
   "id": "f14f1da5",
   "metadata": {},
   "outputs": [],
   "source": [
    "Red_List = pd.read_csv(r'C:\\Users\\medekar\\Desktop\\Product_Weight_Project\\Data\\Processed\\Reduced Total\\Updated2_RedLab2021.csv', index_col=0)"
   ]
  },
  {
   "cell_type": "markdown",
   "id": "3e2fb5c1",
   "metadata": {},
   "source": [
    "###### Selecting all Fruits in Reduced List"
   ]
  },
  {
   "cell_type": "code",
   "execution_count": 3,
   "id": "b520111a",
   "metadata": {
    "scrolled": false
   },
   "outputs": [],
   "source": [
    "Fats = Red_List.loc[Red_List['Super Group'] == 'Fats and oils']"
   ]
  },
  {
   "cell_type": "code",
   "execution_count": 4,
   "id": "133bcaf3",
   "metadata": {},
   "outputs": [],
   "source": [
    "Fats.to_csv(r'C:\\Users\\medekar\\Desktop\\Product_Weight_Project\\Data\\Processed\\Reduced Super Group\\Fats and oils.csv')"
   ]
  },
  {
   "cell_type": "markdown",
   "id": "61ae2ff5",
   "metadata": {},
   "source": [
    "                                                   Herbs and spices"
   ]
  },
  {
   "cell_type": "code",
   "execution_count": 9,
   "id": "4c93bd75",
   "metadata": {},
   "outputs": [],
   "source": [
    "Fato = pd.read_csv(r'C:\\Users\\medekar\\Desktop\\Product_Weight_Project\\Data\\Processed\\Reduced Super Group\\Fats and oils.csv', index_col=0)"
   ]
  },
  {
   "cell_type": "code",
   "execution_count": 10,
   "id": "edda0dfe",
   "metadata": {},
   "outputs": [
    {
     "data": {
      "text/plain": [
       "(7, 6)"
      ]
     },
     "execution_count": 10,
     "metadata": {},
     "output_type": "execute_result"
    }
   ],
   "source": [
    "Fato.shape"
   ]
  },
  {
   "cell_type": "markdown",
   "id": "eb59405d",
   "metadata": {},
   "source": [
    "##### Reviewing Veg List"
   ]
  },
  {
   "cell_type": "markdown",
   "id": "20ffe0f3",
   "metadata": {},
   "source": [
    "Most of Review done in Excel "
   ]
  },
  {
   "cell_type": "code",
   "execution_count": 11,
   "id": "59d22c0b",
   "metadata": {
    "scrolled": false
   },
   "outputs": [
    {
     "data": {
      "text/html": [
       "<div>\n",
       "<style scoped>\n",
       "    .dataframe tbody tr th:only-of-type {\n",
       "        vertical-align: middle;\n",
       "    }\n",
       "\n",
       "    .dataframe tbody tr th {\n",
       "        vertical-align: top;\n",
       "    }\n",
       "\n",
       "    .dataframe thead th {\n",
       "        text-align: right;\n",
       "    }\n",
       "</style>\n",
       "<table border=\"1\" class=\"dataframe\">\n",
       "  <thead>\n",
       "    <tr style=\"text-align: right;\">\n",
       "      <th></th>\n",
       "      <th>Food Code</th>\n",
       "      <th>Food Name</th>\n",
       "      <th>Group</th>\n",
       "      <th>Super Group</th>\n",
       "      <th>Sale format(s)</th>\n",
       "      <th>VJ comments</th>\n",
       "    </tr>\n",
       "  </thead>\n",
       "  <tbody>\n",
       "    <tr>\n",
       "      <th>254</th>\n",
       "      <td>17-487</td>\n",
       "      <td>Dripping, beef</td>\n",
       "      <td>OF</td>\n",
       "      <td>Fats and oils</td>\n",
       "      <td>jar</td>\n",
       "      <td>NaN</td>\n",
       "    </tr>\n",
       "    <tr>\n",
       "      <th>355</th>\n",
       "      <td>17-010</td>\n",
       "      <td>Lard</td>\n",
       "      <td>OF</td>\n",
       "      <td>Fats and oils</td>\n",
       "      <td>block</td>\n",
       "      <td>NaN</td>\n",
       "    </tr>\n",
       "    <tr>\n",
       "      <th>417</th>\n",
       "      <td>17-031</td>\n",
       "      <td>Oil, coconut</td>\n",
       "      <td>OC</td>\n",
       "      <td>Fats and oils</td>\n",
       "      <td>jar</td>\n",
       "      <td>NaN</td>\n",
       "    </tr>\n",
       "    <tr>\n",
       "      <th>418</th>\n",
       "      <td>17-039</td>\n",
       "      <td>Oil, palm</td>\n",
       "      <td>OC</td>\n",
       "      <td>Fats and oils</td>\n",
       "      <td>bottle</td>\n",
       "      <td>NaN</td>\n",
       "    </tr>\n",
       "    <tr>\n",
       "      <th>419</th>\n",
       "      <td>17-044</td>\n",
       "      <td>Oil, soya</td>\n",
       "      <td>OC</td>\n",
       "      <td>Fats and oils</td>\n",
       "      <td>bottle</td>\n",
       "      <td>NaN</td>\n",
       "    </tr>\n",
       "    <tr>\n",
       "      <th>420</th>\n",
       "      <td>17-045</td>\n",
       "      <td>Oil, sunflower</td>\n",
       "      <td>OC</td>\n",
       "      <td>Fats and oils</td>\n",
       "      <td>bottle</td>\n",
       "      <td>NaN</td>\n",
       "    </tr>\n",
       "    <tr>\n",
       "      <th>421</th>\n",
       "      <td>17-686</td>\n",
       "      <td>Oil, vegetable, average</td>\n",
       "      <td>OC</td>\n",
       "      <td>Fats and oils</td>\n",
       "      <td>bottle</td>\n",
       "      <td>NaN</td>\n",
       "    </tr>\n",
       "  </tbody>\n",
       "</table>\n",
       "</div>"
      ],
      "text/plain": [
       "    Food Code                Food Name Group    Super Group Sale format(s)  \\\n",
       "254    17-487           Dripping, beef    OF  Fats and oils            jar   \n",
       "355    17-010                     Lard    OF  Fats and oils          block   \n",
       "417    17-031             Oil, coconut    OC  Fats and oils            jar   \n",
       "418    17-039                Oil, palm    OC  Fats and oils         bottle   \n",
       "419    17-044                Oil, soya    OC  Fats and oils         bottle   \n",
       "420    17-045           Oil, sunflower    OC  Fats and oils         bottle   \n",
       "421    17-686  Oil, vegetable, average    OC  Fats and oils         bottle   \n",
       "\n",
       "     VJ comments  \n",
       "254          NaN  \n",
       "355          NaN  \n",
       "417          NaN  \n",
       "418          NaN  \n",
       "419          NaN  \n",
       "420          NaN  \n",
       "421          NaN  "
      ]
     },
     "execution_count": 11,
     "metadata": {},
     "output_type": "execute_result"
    }
   ],
   "source": [
    "#Loop through dataframe and print comments\n",
    "for comment in Fato:\n",
    "    pd.set_option('display.max_colwidth', None)\n",
    "    #pd.set_option('display.max_rows', None)\n",
    "Fato"
   ]
  },
  {
   "cell_type": "code",
   "execution_count": 12,
   "id": "10197c56",
   "metadata": {},
   "outputs": [],
   "source": [
    "Fato.drop('VJ comments', axis=1, inplace=True)"
   ]
  },
  {
   "cell_type": "code",
   "execution_count": 13,
   "id": "77eb4132",
   "metadata": {},
   "outputs": [],
   "source": [
    "Fato.to_csv(r'C:\\Users\\medekar\\Desktop\\Product_Weight_Project\\Data\\Processed\\Reduced Super Group\\Cleaned\\Fats and oils_Cleaned.csv')"
   ]
  }
 ],
 "metadata": {
  "kernelspec": {
   "display_name": "ProdW",
   "language": "python",
   "name": "prodw"
  },
  "language_info": {
   "codemirror_mode": {
    "name": "ipython",
    "version": 3
   },
   "file_extension": ".py",
   "mimetype": "text/x-python",
   "name": "python",
   "nbconvert_exporter": "python",
   "pygments_lexer": "ipython3",
   "version": "3.11.2"
  }
 },
 "nbformat": 4,
 "nbformat_minor": 5
}
