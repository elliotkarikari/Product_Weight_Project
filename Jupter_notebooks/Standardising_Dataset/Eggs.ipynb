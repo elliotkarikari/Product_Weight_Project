{
 "cells": [
  {
   "cell_type": "markdown",
   "id": "fb1073e1",
   "metadata": {},
   "source": [
    "                                                   SelfScale DataBase Eggs"
   ]
  },
  {
   "cell_type": "markdown",
   "id": "613935f6",
   "metadata": {},
   "source": [
    "Libraries Imported"
   ]
  },
  {
   "cell_type": "code",
   "execution_count": 1,
   "id": "7fce0198",
   "metadata": {},
   "outputs": [],
   "source": [
    "import pandas as pd\n",
    "import re"
   ]
  },
  {
   "cell_type": "markdown",
   "id": "10bb47f1",
   "metadata": {},
   "source": [
    "Reading in Updated List"
   ]
  },
  {
   "cell_type": "code",
   "execution_count": 2,
   "id": "f14f1da5",
   "metadata": {},
   "outputs": [],
   "source": [
    "Red_List = pd.read_csv(r'C:\\Users\\medekar\\Desktop\\Product_Weight_Project\\Data\\Processed\\Reduced Total\\Updated2_RedLab2021.csv', index_col=0)"
   ]
  },
  {
   "cell_type": "markdown",
   "id": "3e2fb5c1",
   "metadata": {},
   "source": [
    "###### Selecting all Fruits in Reduced List"
   ]
  },
  {
   "cell_type": "code",
   "execution_count": 3,
   "id": "b520111a",
   "metadata": {
    "scrolled": false
   },
   "outputs": [],
   "source": [
    "Eggg = Red_List.loc[Red_List['Super Group'] == 'Eggs']"
   ]
  },
  {
   "cell_type": "code",
   "execution_count": 4,
   "id": "133bcaf3",
   "metadata": {},
   "outputs": [],
   "source": [
    "Eggg.to_csv(r'C:\\Users\\medekar\\Desktop\\Product_Weight_Project\\Data\\Processed\\Reduced Super Group\\Eggs.csv')"
   ]
  },
  {
   "cell_type": "markdown",
   "id": "61ae2ff5",
   "metadata": {},
   "source": [
    "                                                   Herbs and spices"
   ]
  },
  {
   "cell_type": "code",
   "execution_count": 8,
   "id": "4c93bd75",
   "metadata": {},
   "outputs": [],
   "source": [
    "Eggs = pd.read_csv(r'C:\\Users\\medekar\\Desktop\\Product_Weight_Project\\Data\\Processed\\Reduced Super Group\\Eggs.csv', index_col=0)"
   ]
  },
  {
   "cell_type": "code",
   "execution_count": 9,
   "id": "edda0dfe",
   "metadata": {},
   "outputs": [
    {
     "data": {
      "text/plain": [
       "(2, 6)"
      ]
     },
     "execution_count": 9,
     "metadata": {},
     "output_type": "execute_result"
    }
   ],
   "source": [
    "Eggs.shape"
   ]
  },
  {
   "cell_type": "markdown",
   "id": "eb59405d",
   "metadata": {},
   "source": [
    "##### Reviewing Veg List"
   ]
  },
  {
   "cell_type": "markdown",
   "id": "20ffe0f3",
   "metadata": {},
   "source": [
    "Most of Review done in Excel "
   ]
  },
  {
   "cell_type": "code",
   "execution_count": 10,
   "id": "59d22c0b",
   "metadata": {
    "scrolled": false
   },
   "outputs": [
    {
     "data": {
      "text/html": [
       "<div>\n",
       "<style scoped>\n",
       "    .dataframe tbody tr th:only-of-type {\n",
       "        vertical-align: middle;\n",
       "    }\n",
       "\n",
       "    .dataframe tbody tr th {\n",
       "        vertical-align: top;\n",
       "    }\n",
       "\n",
       "    .dataframe thead th {\n",
       "        text-align: right;\n",
       "    }\n",
       "</style>\n",
       "<table border=\"1\" class=\"dataframe\">\n",
       "  <thead>\n",
       "    <tr style=\"text-align: right;\">\n",
       "      <th></th>\n",
       "      <th>Food Code</th>\n",
       "      <th>Food Name</th>\n",
       "      <th>Group</th>\n",
       "      <th>Super Group</th>\n",
       "      <th>Sale format(s)</th>\n",
       "      <th>VJ comments</th>\n",
       "    </tr>\n",
       "  </thead>\n",
       "  <tbody>\n",
       "    <tr>\n",
       "      <th>259</th>\n",
       "      <td>12-937</td>\n",
       "      <td>Eggs, chicken, whole, raw</td>\n",
       "      <td>CA</td>\n",
       "      <td>Eggs</td>\n",
       "      <td>egg box, 6, 10, 12, 30</td>\n",
       "      <td>NaN</td>\n",
       "    </tr>\n",
       "    <tr>\n",
       "      <th>473</th>\n",
       "      <td>12-949</td>\n",
       "      <td>Quiche, vegetable, retail</td>\n",
       "      <td>CD</td>\n",
       "      <td>Eggs</td>\n",
       "      <td>small individual, large sharing</td>\n",
       "      <td>NaN</td>\n",
       "    </tr>\n",
       "  </tbody>\n",
       "</table>\n",
       "</div>"
      ],
      "text/plain": [
       "    Food Code                  Food Name Group Super Group  \\\n",
       "259    12-937  Eggs, chicken, whole, raw    CA        Eggs   \n",
       "473    12-949  Quiche, vegetable, retail    CD        Eggs   \n",
       "\n",
       "                      Sale format(s)  VJ comments  \n",
       "259           egg box, 6, 10, 12, 30          NaN  \n",
       "473  small individual, large sharing          NaN  "
      ]
     },
     "execution_count": 10,
     "metadata": {},
     "output_type": "execute_result"
    }
   ],
   "source": [
    "#Loop through dataframe and print comments\n",
    "for comment in Eggs:\n",
    "    pd.set_option('display.max_colwidth', None)\n",
    "    #pd.set_option('display.max_rows', None)\n",
    "Eggs"
   ]
  },
  {
   "cell_type": "code",
   "execution_count": 11,
   "id": "10197c56",
   "metadata": {},
   "outputs": [],
   "source": [
    "Eggs.drop('VJ comments', axis=1, inplace=True)"
   ]
  },
  {
   "cell_type": "code",
   "execution_count": 18,
   "id": "77eb4132",
   "metadata": {},
   "outputs": [],
   "source": [
    "Eggs.to_csv(r'C:\\Users\\medekar\\Desktop\\Product_Weight_Project\\Data\\Processed\\Reduced Super Group\\Cleaned\\Eggs_Cleaned.csv')"
   ]
  },
  {
   "cell_type": "code",
   "execution_count": null,
   "id": "ae5b160c",
   "metadata": {},
   "outputs": [],
   "source": []
  }
 ],
 "metadata": {
  "kernelspec": {
   "display_name": "ProdW",
   "language": "python",
   "name": "prodw"
  },
  "language_info": {
   "codemirror_mode": {
    "name": "ipython",
    "version": 3
   },
   "file_extension": ".py",
   "mimetype": "text/x-python",
   "name": "python",
   "nbconvert_exporter": "python",
   "pygments_lexer": "ipython3",
   "version": "3.11.2"
  }
 },
 "nbformat": 4,
 "nbformat_minor": 5
}
