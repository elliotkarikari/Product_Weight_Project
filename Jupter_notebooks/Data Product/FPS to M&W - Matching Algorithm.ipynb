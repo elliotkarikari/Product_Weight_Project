{
 "cells": [
  {
   "cell_type": "markdown",
   "id": "ece92cad",
   "metadata": {},
   "source": [
    "# Matching Algorithm - Matching Through One Column"
   ]
  },
  {
   "cell_type": "markdown",
   "id": "b21a4f87",
   "metadata": {},
   "source": [
    "##### Import Libraries"
   ]
  },
  {
   "cell_type": "code",
   "execution_count": 1,
   "id": "ee5b14fb",
   "metadata": {},
   "outputs": [],
   "source": [
    "import pandas as pd\n",
    "import matplotlib.pyplot as plt\n",
    "import seaborn as sns\n",
    "import numpy as np\n",
    "import re #regular expressions "
   ]
  },
  {
   "cell_type": "markdown",
   "id": "6d08cee8",
   "metadata": {},
   "source": [
    "##### Read In Data"
   ]
  },
  {
   "cell_type": "markdown",
   "id": "6f2784a9",
   "metadata": {},
   "source": [
    "                                                      M&W Reduced"
   ]
  },
  {
   "cell_type": "code",
   "execution_count": 2,
   "id": "05336899",
   "metadata": {
    "scrolled": true
   },
   "outputs": [
    {
     "data": {
      "text/html": [
       "<div>\n",
       "<style scoped>\n",
       "    .dataframe tbody tr th:only-of-type {\n",
       "        vertical-align: middle;\n",
       "    }\n",
       "\n",
       "    .dataframe tbody tr th {\n",
       "        vertical-align: top;\n",
       "    }\n",
       "\n",
       "    .dataframe thead th {\n",
       "        text-align: right;\n",
       "    }\n",
       "</style>\n",
       "<table border=\"1\" class=\"dataframe\">\n",
       "  <thead>\n",
       "    <tr style=\"text-align: right;\">\n",
       "      <th></th>\n",
       "      <th>Food Code</th>\n",
       "      <th>Food Name</th>\n",
       "      <th>Group</th>\n",
       "      <th>Super Group</th>\n",
       "      <th>Sale format(s)</th>\n",
       "    </tr>\n",
       "  </thead>\n",
       "  <tbody>\n",
       "    <tr>\n",
       "      <th>0</th>\n",
       "      <td>17-208</td>\n",
       "      <td>beer, bitter, best, premium</td>\n",
       "      <td>QA</td>\n",
       "      <td>Alcoholic beverages</td>\n",
       "      <td>can, can multipack, bottle, bottle multipack</td>\n",
       "    </tr>\n",
       "    <tr>\n",
       "      <th>1</th>\n",
       "      <td>17-224</td>\n",
       "      <td>cider, sweet</td>\n",
       "      <td>QC</td>\n",
       "      <td>Alcoholic beverages</td>\n",
       "      <td>can, can multipack, bottle, bottle multipack</td>\n",
       "    </tr>\n",
       "    <tr>\n",
       "      <th>2</th>\n",
       "      <td>17-234</td>\n",
       "      <td>port</td>\n",
       "      <td>QF</td>\n",
       "      <td>Alcoholic beverages</td>\n",
       "      <td>bottle</td>\n",
       "    </tr>\n",
       "    <tr>\n",
       "      <th>3</th>\n",
       "      <td>17-236</td>\n",
       "      <td>sherry, medium</td>\n",
       "      <td>QF</td>\n",
       "      <td>Alcoholic beverages</td>\n",
       "      <td>bottle</td>\n",
       "    </tr>\n",
       "    <tr>\n",
       "      <th>4</th>\n",
       "      <td>17-247</td>\n",
       "      <td>spirits, 40% volume</td>\n",
       "      <td>QK</td>\n",
       "      <td>Alcoholic beverages</td>\n",
       "      <td>bottle, miniature</td>\n",
       "    </tr>\n",
       "  </tbody>\n",
       "</table>\n",
       "</div>"
      ],
      "text/plain": [
       "  Food Code                    Food Name Group          Super Group  \\\n",
       "0    17-208  beer, bitter, best, premium    QA  Alcoholic beverages   \n",
       "1    17-224                 cider, sweet    QC  Alcoholic beverages   \n",
       "2    17-234                         port    QF  Alcoholic beverages   \n",
       "3    17-236               sherry, medium    QF  Alcoholic beverages   \n",
       "4    17-247          spirits, 40% volume    QK  Alcoholic beverages   \n",
       "\n",
       "                                 Sale format(s)  \n",
       "0  can, can multipack, bottle, bottle multipack  \n",
       "1  can, can multipack, bottle, bottle multipack  \n",
       "2                                        bottle  \n",
       "3                                        bottle  \n",
       "4                             bottle, miniature  "
      ]
     },
     "execution_count": 2,
     "metadata": {},
     "output_type": "execute_result"
    }
   ],
   "source": [
    "#pd.set_option('display.max_rows', None)\n",
    "redFood = pd.read_csv(r\"C:\\Users\\medekar\\Desktop\\Product_Weight_Project\\Data\\Processed\\Reduced Super Group\\Cleaned\\Reduced_SecondClean.csv\", index_col=0)\n",
    "redFood.rename(columns={'Super Group':'SuperGroup'})\n",
    "redFood['Food Name'] = redFood['Food Name'].str.lower()\n",
    "redFood.head()"
   ]
  },
  {
   "cell_type": "markdown",
   "id": "c04c5362",
   "metadata": {},
   "source": [
    "                                                         FPS Data"
   ]
  },
  {
   "cell_type": "code",
   "execution_count": 3,
   "id": "e0b18b00",
   "metadata": {
    "scrolled": true
   },
   "outputs": [
    {
     "data": {
      "text/html": [
       "<div>\n",
       "<style scoped>\n",
       "    .dataframe tbody tr th:only-of-type {\n",
       "        vertical-align: middle;\n",
       "    }\n",
       "\n",
       "    .dataframe tbody tr th {\n",
       "        vertical-align: top;\n",
       "    }\n",
       "\n",
       "    .dataframe thead th {\n",
       "        text-align: right;\n",
       "    }\n",
       "</style>\n",
       "<table border=\"1\" class=\"dataframe\">\n",
       "  <thead>\n",
       "    <tr style=\"text-align: right;\">\n",
       "      <th></th>\n",
       "      <th>Group</th>\n",
       "      <th>Brand</th>\n",
       "      <th>Food Name</th>\n",
       "      <th>Portion Consumed</th>\n",
       "      <th>Weight</th>\n",
       "      <th>PurEqualCon</th>\n",
       "      <th>Purchased</th>\n",
       "      <th>Format</th>\n",
       "      <th>Source</th>\n",
       "    </tr>\n",
       "  </thead>\n",
       "  <tbody>\n",
       "    <tr>\n",
       "      <th>2670</th>\n",
       "      <td>YOGHURTS AND FROMAGE FRAIS</td>\n",
       "      <td>NaN</td>\n",
       "      <td>onken</td>\n",
       "      <td>NaN</td>\n",
       "      <td>200g</td>\n",
       "      <td>NaN</td>\n",
       "      <td>NaN</td>\n",
       "      <td>NaN</td>\n",
       "      <td>NaN</td>\n",
       "    </tr>\n",
       "    <tr>\n",
       "      <th>2671</th>\n",
       "      <td>YOGHURTS AND FROMAGE FRAIS</td>\n",
       "      <td>NaN</td>\n",
       "      <td>petit danoneâ</td>\n",
       "      <td>small</td>\n",
       "      <td>50g</td>\n",
       "      <td>NaN</td>\n",
       "      <td>NaN</td>\n",
       "      <td>NaN</td>\n",
       "      <td>NaN</td>\n",
       "    </tr>\n",
       "    <tr>\n",
       "      <th>2672</th>\n",
       "      <td>YOGHURTS AND FROMAGE FRAIS</td>\n",
       "      <td>NaN</td>\n",
       "      <td>st ivel fiendish faces</td>\n",
       "      <td>NaN</td>\n",
       "      <td>50g</td>\n",
       "      <td>NaN</td>\n",
       "      <td>NaN</td>\n",
       "      <td>NaN</td>\n",
       "      <td>NaN</td>\n",
       "    </tr>\n",
       "    <tr>\n",
       "      <th>2673</th>\n",
       "      <td>YOGHURTS AND FROMAGE FRAIS</td>\n",
       "      <td>NaN</td>\n",
       "      <td>baby fromage frais</td>\n",
       "      <td>Baby Danone</td>\n",
       "      <td>60g</td>\n",
       "      <td>Y</td>\n",
       "      <td>NaN</td>\n",
       "      <td>NaN</td>\n",
       "      <td>NaN</td>\n",
       "    </tr>\n",
       "    <tr>\n",
       "      <th>2674</th>\n",
       "      <td>YOGHURTS AND FROMAGE FRAIS</td>\n",
       "      <td>Heinz</td>\n",
       "      <td>baby fromage frais</td>\n",
       "      <td>Jar</td>\n",
       "      <td>163g</td>\n",
       "      <td>Y</td>\n",
       "      <td>NaN</td>\n",
       "      <td>NaN</td>\n",
       "      <td>NaN</td>\n",
       "    </tr>\n",
       "  </tbody>\n",
       "</table>\n",
       "</div>"
      ],
      "text/plain": [
       "                           Group   Brand               Food Name  \\\n",
       "2670  YOGHURTS AND FROMAGE FRAIS     NaN                   onken   \n",
       "2671  YOGHURTS AND FROMAGE FRAIS     NaN           petit danoneâ   \n",
       "2672  YOGHURTS AND FROMAGE FRAIS     NaN  st ivel fiendish faces   \n",
       "2673  YOGHURTS AND FROMAGE FRAIS     NaN      baby fromage frais   \n",
       "2674  YOGHURTS AND FROMAGE FRAIS  Heinz       baby fromage frais   \n",
       "\n",
       "     Portion Consumed Weight PurEqualCon  Purchased Format Source  \n",
       "2670              NaN   200g         NaN        NaN    NaN    NaN  \n",
       "2671            small    50g         NaN        NaN    NaN    NaN  \n",
       "2672              NaN    50g         NaN        NaN    NaN    NaN  \n",
       "2673      Baby Danone    60g           Y        NaN    NaN    NaN  \n",
       "2674              Jar   163g           Y        NaN    NaN    NaN  "
      ]
     },
     "execution_count": 3,
     "metadata": {},
     "output_type": "execute_result"
    }
   ],
   "source": [
    "CleanRetai = pd.read_csv(r'C:\\Users\\medekar\\Desktop\\Product_Weight_Project\\Data\\Processed\\FoodPortionSized\\FPS_VJ.csv')\n",
    "CleanRetai['Food Name'] = CleanRetai['Food Name'].str.lower()\n",
    "CleanRetai.tail()"
   ]
  },
  {
   "cell_type": "code",
   "execution_count": 4,
   "id": "7a20abd2",
   "metadata": {},
   "outputs": [
    {
     "data": {
      "text/html": [
       "<div>\n",
       "<style scoped>\n",
       "    .dataframe tbody tr th:only-of-type {\n",
       "        vertical-align: middle;\n",
       "    }\n",
       "\n",
       "    .dataframe tbody tr th {\n",
       "        vertical-align: top;\n",
       "    }\n",
       "\n",
       "    .dataframe thead th {\n",
       "        text-align: right;\n",
       "    }\n",
       "</style>\n",
       "<table border=\"1\" class=\"dataframe\">\n",
       "  <thead>\n",
       "    <tr style=\"text-align: right;\">\n",
       "      <th></th>\n",
       "      <th>Group</th>\n",
       "      <th>Brand</th>\n",
       "      <th>Food Name</th>\n",
       "      <th>Portion Consumed</th>\n",
       "      <th>Weight</th>\n",
       "      <th>PurEqualCon</th>\n",
       "      <th>Purchased</th>\n",
       "      <th>Format</th>\n",
       "      <th>Source</th>\n",
       "    </tr>\n",
       "  </thead>\n",
       "  <tbody>\n",
       "    <tr>\n",
       "      <th>0</th>\n",
       "      <td>BABY FOODS</td>\n",
       "      <td>Boots</td>\n",
       "      <td>first harvest,dessert starter</td>\n",
       "      <td>NaN</td>\n",
       "      <td>125g</td>\n",
       "      <td>Y</td>\n",
       "      <td>NaN</td>\n",
       "      <td>NaN</td>\n",
       "      <td>NaN</td>\n",
       "    </tr>\n",
       "    <tr>\n",
       "      <th>1</th>\n",
       "      <td>BABY FOODS</td>\n",
       "      <td>Boots</td>\n",
       "      <td>first harvest, infant desserts</td>\n",
       "      <td>NaN</td>\n",
       "      <td>125g</td>\n",
       "      <td>Y</td>\n",
       "      <td>NaN</td>\n",
       "      <td>NaN</td>\n",
       "      <td>NaN</td>\n",
       "    </tr>\n",
       "    <tr>\n",
       "      <th>2</th>\n",
       "      <td>BABY FOODS</td>\n",
       "      <td>Boots</td>\n",
       "      <td>first harvest,infant savouries</td>\n",
       "      <td>NaN</td>\n",
       "      <td>125g</td>\n",
       "      <td>Y</td>\n",
       "      <td>NaN</td>\n",
       "      <td>NaN</td>\n",
       "      <td>NaN</td>\n",
       "    </tr>\n",
       "    <tr>\n",
       "      <th>3</th>\n",
       "      <td>BABY FOODS</td>\n",
       "      <td>Boots</td>\n",
       "      <td>first harvest,junior desserts</td>\n",
       "      <td>NaN</td>\n",
       "      <td>190g</td>\n",
       "      <td>Y</td>\n",
       "      <td>NaN</td>\n",
       "      <td>NaN</td>\n",
       "      <td>NaN</td>\n",
       "    </tr>\n",
       "    <tr>\n",
       "      <th>4</th>\n",
       "      <td>BABY FOODS</td>\n",
       "      <td>Boots</td>\n",
       "      <td>first harvest,junior savouries</td>\n",
       "      <td>NaN</td>\n",
       "      <td>190g</td>\n",
       "      <td>Y</td>\n",
       "      <td>NaN</td>\n",
       "      <td>NaN</td>\n",
       "      <td>NaN</td>\n",
       "    </tr>\n",
       "  </tbody>\n",
       "</table>\n",
       "</div>"
      ],
      "text/plain": [
       "        Group  Brand                       Food Name Portion Consumed Weight  \\\n",
       "0  BABY FOODS  Boots   first harvest,dessert starter              NaN   125g   \n",
       "1  BABY FOODS  Boots  first harvest, infant desserts              NaN   125g   \n",
       "2  BABY FOODS  Boots  first harvest,infant savouries              NaN   125g   \n",
       "3  BABY FOODS  Boots   first harvest,junior desserts              NaN   190g   \n",
       "4  BABY FOODS  Boots  first harvest,junior savouries              NaN   190g   \n",
       "\n",
       "  PurEqualCon  Purchased Format Source  \n",
       "0           Y        NaN    NaN    NaN  \n",
       "1           Y        NaN    NaN    NaN  \n",
       "2           Y        NaN    NaN    NaN  \n",
       "3           Y        NaN    NaN    NaN  \n",
       "4           Y        NaN    NaN    NaN  "
      ]
     },
     "execution_count": 4,
     "metadata": {},
     "output_type": "execute_result"
    }
   ],
   "source": [
    "CleanRetail = CleanRetai[CleanRetai['PurEqualCon'].isin(['Y', 'Y, P'])]\n",
    "CleanRetail.head()"
   ]
  },
  {
   "cell_type": "markdown",
   "id": "e86913fc",
   "metadata": {},
   "source": [
    "###                                                        Match Data.\n",
    "\n",
    "###### Once matched, Import Weight and Unit Columns into Reduced M&W table"
   ]
  },
  {
   "cell_type": "markdown",
   "id": "79929170",
   "metadata": {},
   "source": [
    "# 1"
   ]
  },
  {
   "cell_type": "markdown",
   "id": "d97f9aae",
   "metadata": {},
   "source": [
    "                                                   Using Fuzzy Matching"
   ]
  },
  {
   "cell_type": "code",
   "execution_count": 5,
   "id": "1e8ac9c3",
   "metadata": {},
   "outputs": [
    {
     "name": "stdout",
     "output_type": "stream",
     "text": [
      "CPU times: total: 6.11 s\n",
      "Wall time: 6.15 s\n"
     ]
    }
   ],
   "source": [
    "%%time\n",
    "from fuzzywuzzy import fuzz\n",
    "\n",
    "def match_food_group(CleanRetail, redFood):\n",
    "    \"\"\"\n",
    "    Matches food groups between two DataFrames using fuzzy matching and updates \n",
    "    redFood database with Weight and Unit from CleanRetail dataframe.\n",
    "\n",
    "    Args:\n",
    "        CleanRetail (DataFrame): The DataFrame containing the clean retail data.\n",
    "        redFood (DataFrame): The DataFrame containing the red food data.\n",
    "\n",
    "    Returns:\n",
    "        DataFrame: The red food DataFrame with updated weight, unit, and super group values.\n",
    "    \"\"\"\n",
    "    # Set a threshold for fuzzy matching.\n",
    "    threshold = 65\n",
    "\n",
    "    # Create a set to store the SKU descriptions that have already been matched.\n",
    "    matched_skus = set()\n",
    "\n",
    "    # Add Weight and Unit columns to the redFood DataFrame.\n",
    "    redFood['Weight'] = ''\n",
    "    redFood['PurEqualCon'] = ''\n",
    "    redFood['Portion Consumed'] = ''\n",
    "\n",
    "    # Loop through the rows in the redFood DataFrame.\n",
    "    for i, row in redFood.iterrows():\n",
    "        # Get the food name from the current row.\n",
    "        product = row['Food Name']\n",
    "\n",
    "        # Check if the food name has already been matched.\n",
    "        if product in matched_skus:\n",
    "            continue\n",
    "\n",
    "        # Check similarity between the food name and SKU descriptions using fuzzy matching.\n",
    "        matches = CleanRetail['Food Name'].apply(lambda x: fuzz.token_sort_ratio(x, product) >= threshold)\n",
    "\n",
    "        # Replace NaN values in the boolean Series with False.\n",
    "        matches = matches.fillna(False)\n",
    "\n",
    "        # If any match is found, update the 'Weight', 'Unit', and 'Super Group' values in the redFood DataFrame.\n",
    "        if matches.any():\n",
    "            match_indices = matches[matches].index\n",
    "            match_index = match_indices[0]\n",
    "            food = CleanRetail.loc[match_index, 'Weight']\n",
    "            unit = CleanRetail.loc[match_index, 'PurEqualCon']\n",
    "            cons = CleanRetail.loc[match_index, 'Portion Consumed']\n",
    "            matched_skus.add(product)\n",
    "\n",
    "            \n",
    "            redFood.loc[i, 'Weight'] = food\n",
    "            redFood.loc[i, 'PurEqualCon'] = unit\n",
    "            redFood.loc[i, 'Portion Consumed'] = cons\n",
    "            \n",
    "\n",
    "    return redFood\n",
    "\n",
    "redFood1 = match_food_group(CleanRetail.copy(), redFood.copy())"
   ]
  },
  {
   "cell_type": "code",
   "execution_count": 6,
   "id": "a3b0ce42",
   "metadata": {},
   "outputs": [],
   "source": [
    "redFood1['Source'] = ' '"
   ]
  },
  {
   "cell_type": "markdown",
   "id": "2d0651c1",
   "metadata": {},
   "source": [
    "###### Identifying all columns with weights and assigning data source "
   ]
  },
  {
   "cell_type": "code",
   "execution_count": 7,
   "id": "40703979",
   "metadata": {
    "scrolled": true
   },
   "outputs": [
    {
     "name": "stderr",
     "output_type": "stream",
     "text": [
      "C:\\Users\\medekar\\AppData\\Local\\Temp\\ipykernel_17960\\2909531313.py:3: SettingWithCopyWarning: \n",
      "A value is trying to be set on a copy of a slice from a DataFrame.\n",
      "Try using .loc[row_indexer,col_indexer] = value instead\n",
      "\n",
      "See the caveats in the documentation: https://pandas.pydata.org/pandas-docs/stable/user_guide/indexing.html#returning-a-view-versus-a-copy\n",
      "  WeiRdf1['Source'] = 'FPS'\n"
     ]
    }
   ],
   "source": [
    "pd.set_option('display.max_rows', None)\n",
    "WeiRdf1 = redFood1.loc[redFood1['Weight'] != '']\n",
    "WeiRdf1['Source'] = 'FPS'"
   ]
  },
  {
   "cell_type": "markdown",
   "id": "99ad331d",
   "metadata": {},
   "source": [
    "###### Updating Red M&W List with Source indications"
   ]
  },
  {
   "cell_type": "code",
   "execution_count": 8,
   "id": "19977039",
   "metadata": {},
   "outputs": [],
   "source": [
    "redFood1.update(WeiRdf1)"
   ]
  },
  {
   "cell_type": "code",
   "execution_count": 9,
   "id": "9ce9ae3b",
   "metadata": {
    "scrolled": true
   },
   "outputs": [
    {
     "data": {
      "text/plain": [
       "94"
      ]
     },
     "execution_count": 9,
     "metadata": {},
     "output_type": "execute_result"
    }
   ],
   "source": [
    "a = redFood1.loc[redFood1['Weight'] != '']\n",
    "a['Weight'].value_counts().sum()"
   ]
  },
  {
   "cell_type": "markdown",
   "id": "c5059529",
   "metadata": {},
   "source": [
    "### 94 / 535 items Matched Using Algo 1 "
   ]
  },
  {
   "cell_type": "code",
   "execution_count": 10,
   "id": "df3a8d58",
   "metadata": {},
   "outputs": [
    {
     "data": {
      "text/plain": [
       "'First Algorithm Matched 17.57% of products between McCane and Widdowson df and Food Portion Sizes df'"
      ]
     },
     "execution_count": 10,
     "metadata": {},
     "output_type": "execute_result"
    }
   ],
   "source": [
    "f'First Algorithm Matched {round((94/535) * 100, 2)}% of products between McCane and Widdowson df and Food Portion Sizes df'"
   ]
  },
  {
   "cell_type": "markdown",
   "id": "26444e1b",
   "metadata": {},
   "source": [
    "# 2"
   ]
  },
  {
   "cell_type": "markdown",
   "id": "af9fc094",
   "metadata": {},
   "source": [
    "                                    Using Term Frequency-Inverse Document Frequency\n",
    "                                                                        \n",
    "Its a feature extraction technique used in natural language processing and information retrieval. The main purpose of TfidfVectorizer is to transform a collection of text documents into a numerical feature matrix that can be used as input for machine learning algorithms.\n",
    "\n",
    "Starts with:\n",
    "\n",
    "Tokenization: The input text is first split into individual words or tokens.\n",
    "\n",
    "Term Frequency (TF): For each token, the term frequency is calculated, which represents the number of times a token appears in a specific document.\n",
    "\n",
    "Inverse Document Frequency (IDF): The inverse document frequency measures how important a word is in the entire collection of documents. If a word appears frequently in many documents, its IDF score will be low. But if a word is rare and only appears in a few documents, its IDF score will be high.\n",
    "\n",
    "TF-IDF Weighting: The TF-IDF score is calculated for each token in each document by multiplying the term frequency (TF) with the inverse document frequency (IDF)(how unique it is among all the documents).\n",
    "\n",
    "The result is that words that appear often in a document but are rare overall get a high TF-IDF score."
   ]
  },
  {
   "cell_type": "code",
   "execution_count": 11,
   "id": "3264d79d",
   "metadata": {},
   "outputs": [
    {
     "name": "stdout",
     "output_type": "stream",
     "text": [
      "CPU times: total: 688 ms\n",
      "Wall time: 932 ms\n"
     ]
    }
   ],
   "source": [
    "%%time\n",
    "from sklearn.feature_extraction.text import TfidfVectorizer\n",
    "from sklearn.metrics.pairwise import cosine_similarity\n",
    "\n",
    "\n",
    "def match_food_group(CleanRetail, redFood):\n",
    "    \"\"\"\n",
    "    Matches food groups between two DataFrames using TF-IDF and cosine similarity and updates \n",
    "    redFood database with Weight and Unit from CleanRetail dataframe.\n",
    "\n",
    "    Args:\n",
    "        CleanRetail (DataFrame): The DataFrame containing the clean retail data.\n",
    "        redFood (DataFrame): The DataFrame containing the red food data.\n",
    "\n",
    "    Returns:\n",
    "        DataFrame: The red food DataFrame with updated weight and unit values.\n",
    "    \"\"\"\n",
    "    # Set a threshold for cosine similarity.\n",
    "    threshold = 0.65\n",
    "\n",
    "    # Add Weight and Unit columns to the redFood DataFrame.\n",
    "    redFood['Weight'] = ''\n",
    "    redFood['PurEqualCon'] = ''\n",
    "    redFood['Portion Consumed'] = ''\n",
    "\n",
    "    # Preprocess text data in both DataFrames for the \"Food Name\" field.\n",
    "    CleanRetail['Food Name'] = CleanRetail['Food Name'].str.lower()\n",
    "    redFood['Food Name'] = redFood['Food Name'].str.lower()\n",
    "\n",
    "    # Create a TF-IDF vectorizer for the \"Food Name\" field only in the redFood DataFrame.\n",
    "    vectorizer = TfidfVectorizer()\n",
    "    vectorizer.fit(CleanRetail['Food Name'])\n",
    "\n",
    "    # Transform the \"Food Name\" field into TF-IDF vectors for both DataFrames.\n",
    "    tfidf_clean_retail = vectorizer.transform(CleanRetail['Food Name'])\n",
    "    tfidf_red_food = vectorizer.transform(redFood['Food Name'])\n",
    "\n",
    "    # Loop through the rows in the redFood DataFrame.\n",
    "    for i, row in redFood.iterrows():\n",
    "        # Get the food name from the current row.\n",
    "        product = row['Food Name']\n",
    "\n",
    "        # Calculate cosine similarity between the food name and all CleanRetail food names.\n",
    "        similarities = cosine_similarity(tfidf_red_food[i], tfidf_clean_retail)\n",
    "\n",
    "        # Find the index of the most similar food name based on cosine similarity.\n",
    "        match_index = similarities.argmax()\n",
    "\n",
    "        # If the similarity exceeds the threshold, update the 'Weight' and 'PurEqualCon' values in the redFood DataFrame.\n",
    "        if similarities[0, match_index] >= threshold:\n",
    "            food = CleanRetail.loc[CleanRetail.index[match_index], 'Weight']\n",
    "            unit = CleanRetail.loc[CleanRetail.index[match_index], 'PurEqualCon']\n",
    "            consumed = CleanRetail.loc[CleanRetail.index[match_index], 'Portion Consumed']\n",
    "\n",
    "            redFood.at[i, 'Weight'] = food\n",
    "            redFood.at[i, 'PurEqualCon'] = unit\n",
    "            redFood.at[i, 'Portion Consumed'] = consumed\n",
    "\n",
    "    return redFood\n",
    "\n",
    "redFood2 = match_food_group(CleanRetail.copy(), redFood.copy())"
   ]
  },
  {
   "cell_type": "code",
   "execution_count": 12,
   "id": "e6265223",
   "metadata": {},
   "outputs": [],
   "source": [
    "redFood2['Source'] = ' '"
   ]
  },
  {
   "cell_type": "markdown",
   "id": "a4e6db8c",
   "metadata": {},
   "source": [
    "###### Identifying all columns with weights and assigning data source "
   ]
  },
  {
   "cell_type": "code",
   "execution_count": 13,
   "id": "8a955d58",
   "metadata": {
    "scrolled": true
   },
   "outputs": [
    {
     "name": "stderr",
     "output_type": "stream",
     "text": [
      "C:\\Users\\medekar\\AppData\\Local\\Temp\\ipykernel_17960\\1784067148.py:3: SettingWithCopyWarning: \n",
      "A value is trying to be set on a copy of a slice from a DataFrame.\n",
      "Try using .loc[row_indexer,col_indexer] = value instead\n",
      "\n",
      "See the caveats in the documentation: https://pandas.pydata.org/pandas-docs/stable/user_guide/indexing.html#returning-a-view-versus-a-copy\n",
      "  WeiRdf2['Source'] = 'FPS'\n"
     ]
    }
   ],
   "source": [
    "pd.set_option('display.max_rows', None)\n",
    "WeiRdf2 = redFood2.loc[redFood2['Weight'] != '']\n",
    "WeiRdf2['Source'] = 'FPS'"
   ]
  },
  {
   "cell_type": "markdown",
   "id": "d7648307",
   "metadata": {},
   "source": [
    "###### Updating Red M&W List with Source indications"
   ]
  },
  {
   "cell_type": "code",
   "execution_count": 14,
   "id": "bd06756a",
   "metadata": {},
   "outputs": [],
   "source": [
    "redFood2.update(WeiRdf2)"
   ]
  },
  {
   "cell_type": "code",
   "execution_count": 15,
   "id": "79ebe89b",
   "metadata": {
    "scrolled": true
   },
   "outputs": [
    {
     "data": {
      "text/html": [
       "<div>\n",
       "<style scoped>\n",
       "    .dataframe tbody tr th:only-of-type {\n",
       "        vertical-align: middle;\n",
       "    }\n",
       "\n",
       "    .dataframe tbody tr th {\n",
       "        vertical-align: top;\n",
       "    }\n",
       "\n",
       "    .dataframe thead th {\n",
       "        text-align: right;\n",
       "    }\n",
       "</style>\n",
       "<table border=\"1\" class=\"dataframe\">\n",
       "  <thead>\n",
       "    <tr style=\"text-align: right;\">\n",
       "      <th></th>\n",
       "      <th>Food Code</th>\n",
       "      <th>Food Name</th>\n",
       "      <th>Group</th>\n",
       "      <th>Super Group</th>\n",
       "      <th>Sale format(s)</th>\n",
       "      <th>Weight</th>\n",
       "      <th>PurEqualCon</th>\n",
       "      <th>Portion Consumed</th>\n",
       "      <th>Source</th>\n",
       "    </tr>\n",
       "  </thead>\n",
       "  <tbody>\n",
       "    <tr>\n",
       "      <th>500</th>\n",
       "      <td>13-298</td>\n",
       "      <td>mustard leaves, raw</td>\n",
       "      <td>DG</td>\n",
       "      <td>Vegetables</td>\n",
       "      <td>NaN</td>\n",
       "      <td>5g</td>\n",
       "      <td>Y</td>\n",
       "      <td>I sachet</td>\n",
       "      <td>FPS</td>\n",
       "    </tr>\n",
       "    <tr>\n",
       "      <th>504</th>\n",
       "      <td>NaN</td>\n",
       "      <td>potatoes,</td>\n",
       "      <td>DA</td>\n",
       "      <td>Vegetables</td>\n",
       "      <td>NaN</td>\n",
       "      <td>75g</td>\n",
       "      <td>Y</td>\n",
       "      <td>small</td>\n",
       "      <td>FPS</td>\n",
       "    </tr>\n",
       "    <tr>\n",
       "      <th>508</th>\n",
       "      <td>13-527</td>\n",
       "      <td>peas, frozen, raw</td>\n",
       "      <td>DF</td>\n",
       "      <td>Vegetables</td>\n",
       "      <td>NaN</td>\n",
       "      <td>100g</td>\n",
       "      <td>Y</td>\n",
       "      <td>tubs</td>\n",
       "      <td>FPS</td>\n",
       "    </tr>\n",
       "    <tr>\n",
       "      <th>519</th>\n",
       "      <td>13-521</td>\n",
       "      <td>spinach, baby, raw</td>\n",
       "      <td>DG</td>\n",
       "      <td>Vegetables</td>\n",
       "      <td>packet</td>\n",
       "      <td>150g</td>\n",
       "      <td>Y</td>\n",
       "      <td>Jar</td>\n",
       "      <td>FPS</td>\n",
       "    </tr>\n",
       "    <tr>\n",
       "      <th>529</th>\n",
       "      <td>15-617</td>\n",
       "      <td>sushi, vegetable</td>\n",
       "      <td>DR</td>\n",
       "      <td>Vegetables</td>\n",
       "      <td>NaN</td>\n",
       "      <td>210g/440g</td>\n",
       "      <td>Y</td>\n",
       "      <td>can</td>\n",
       "      <td>FPS</td>\n",
       "    </tr>\n",
       "  </tbody>\n",
       "</table>\n",
       "</div>"
      ],
      "text/plain": [
       "    Food Code            Food Name Group Super Group Sale format(s)  \\\n",
       "500    13-298  mustard leaves, raw    DG  Vegetables            NaN   \n",
       "504       NaN            potatoes,    DA  Vegetables            NaN   \n",
       "508    13-527    peas, frozen, raw    DF  Vegetables            NaN   \n",
       "519    13-521   spinach, baby, raw    DG  Vegetables         packet   \n",
       "529    15-617     sushi, vegetable    DR  Vegetables            NaN   \n",
       "\n",
       "        Weight PurEqualCon Portion Consumed Source  \n",
       "500         5g           Y         I sachet    FPS  \n",
       "504        75g           Y            small    FPS  \n",
       "508       100g           Y             tubs    FPS  \n",
       "519       150g           Y              Jar    FPS  \n",
       "529  210g/440g           Y              can    FPS  "
      ]
     },
     "execution_count": 15,
     "metadata": {},
     "output_type": "execute_result"
    }
   ],
   "source": [
    "#redFood2\n",
    "b = redFood2.loc[redFood2['Weight'] != '']\n",
    "b.tail()"
   ]
  },
  {
   "cell_type": "code",
   "execution_count": 16,
   "id": "6b90baff",
   "metadata": {},
   "outputs": [
    {
     "data": {
      "text/plain": [
       "106"
      ]
     },
     "execution_count": 16,
     "metadata": {},
     "output_type": "execute_result"
    }
   ],
   "source": [
    "b['Weight'].value_counts().sum()"
   ]
  },
  {
   "cell_type": "markdown",
   "id": "46697da2",
   "metadata": {},
   "source": [
    "### 106 / 535 items Matched Using Algo 2 "
   ]
  },
  {
   "cell_type": "code",
   "execution_count": 17,
   "id": "6ead815b",
   "metadata": {},
   "outputs": [
    {
     "data": {
      "text/plain": [
       "'Second Algorithm Matched 19.81% of products between McCane and Widdowson df and Food Portion Sizes df. Contains some errors'"
      ]
     },
     "execution_count": 17,
     "metadata": {},
     "output_type": "execute_result"
    }
   ],
   "source": [
    "f'Second Algorithm Matched {round((106/535) * 100, 2)}% of products between McCane and Widdowson df and Food Portion Sizes df. Contains some errors'"
   ]
  },
  {
   "cell_type": "markdown",
   "id": "69ab769e",
   "metadata": {},
   "source": [
    "# 3"
   ]
  },
  {
   "cell_type": "markdown",
   "id": "045ff0b2",
   "metadata": {},
   "source": [
    "                                               Using Fuzzy Matching"
   ]
  },
  {
   "cell_type": "markdown",
   "id": "a1a555fa",
   "metadata": {},
   "source": [
    "\n",
    "\n",
    "Here, I use fuzz.token_set_ratio from the fuzzywuzzy library to calculate a similarity score between each food name in redFood and all food names in CleanRetail. The token_set_ratio function considers the set of unique tokens (words) in the strings and calculates the similarity based on common token matches. The similarity score ranges from 0 to 100, where higher values indicate more similarity.\n",
    "\n",
    "\n",
    "By adjusting the threshold value, you can control the matching sensitivity. Lower threshold values will allow for more leniency in matching, potentially catching more variations, while higher threshold values will require closer matches."
   ]
  },
  {
   "cell_type": "code",
   "execution_count": 18,
   "id": "113a5cdd",
   "metadata": {},
   "outputs": [
    {
     "name": "stdout",
     "output_type": "stream",
     "text": [
      "CPU times: total: 25.8 s\n",
      "Wall time: 25.9 s\n"
     ]
    }
   ],
   "source": [
    "%%time\n",
    "from fuzzywuzzy import fuzz\n",
    "\n",
    "def match_food_group(CleanRetail, redFood):\n",
    "    \"\"\"\n",
    "    Matches food groups between two DataFrames using approximate string matching and updates \n",
    "    redFood database with Weight and Unit from CleanRetail dataframe.\n",
    "\n",
    "    Args:\n",
    "        CleanRetail (DataFrame): The DataFrame containing the clean retail data.\n",
    "        redFood (DataFrame): The DataFrame containing the red food data.\n",
    "\n",
    "    Returns:\n",
    "        DataFrame: The red food DataFrame with updated weight and unit values.\n",
    "    \"\"\"\n",
    "    # Set a threshold for string matching similarity.\n",
    "    threshold = 65  # You can experiment with different threshold values (0 to 100).\n",
    "\n",
    "    # Add Weight and Unit columns to the redFood DataFrame.\n",
    "    redFood['Weight'] = ''\n",
    "    redFood['PurEqualCon'] = ''\n",
    "    redFood['Portion Consumed'] = ''\n",
    "\n",
    "    # Preprocess text data in both DataFrames for the \"Food Name\" field.\n",
    "    CleanRetai['Food Name'] = CleanRetail['Food Name'].str.lower()\n",
    "    redFood['Food Name'] = redFood['Food Name'].str.lower()\n",
    "\n",
    "    # Loop through the rows in the redFood DataFrame.\n",
    "    for i, row in redFood.iterrows():\n",
    "        # Get the food name from the current row.\n",
    "        product = row['Food Name']\n",
    "\n",
    "        # Find the most similar food name in CleanRetail using fuzzy string matching.\n",
    "        best_match = 60\n",
    "        best_score = 0\n",
    "\n",
    "        for _, retail_row in CleanRetail.iterrows():\n",
    "            retail_product = retail_row['Food Name']\n",
    "            similarity_score = fuzz.token_set_ratio(product, retail_product)\n",
    "\n",
    "            if similarity_score > best_score:\n",
    "                best_score = similarity_score\n",
    "                best_match = retail_row\n",
    "\n",
    "        # If the similarity exceeds the threshold, update the 'Weight' and 'PurEqualCon' values in the redFood DataFrame.\n",
    "        if best_score >= threshold:\n",
    "            food = best_match['Weight']\n",
    "            unit = best_match['PurEqualCon']\n",
    "            consumed = best_match['Portion Consumed']\n",
    "\n",
    "            redFood.at[i, 'Weight'] = food\n",
    "            redFood.at[i, 'PurEqualCon'] = unit\n",
    "            redFood.at[i, 'Portion Consumed'] = consumed\n",
    "\n",
    "    return redFood\n",
    "\n",
    "redFood3 = match_food_group(CleanRetail.copy(), redFood.copy())"
   ]
  },
  {
   "cell_type": "markdown",
   "id": "06f16199",
   "metadata": {},
   "source": [
    "                              Creating Source column so I can Identify weight Inputs source"
   ]
  },
  {
   "cell_type": "code",
   "execution_count": 19,
   "id": "ad86a9dc",
   "metadata": {},
   "outputs": [],
   "source": [
    "redFood3['Source'] = ' '"
   ]
  },
  {
   "cell_type": "markdown",
   "id": "533bdd3f",
   "metadata": {},
   "source": [
    "###### Identifying all columns with weights and assigning data source "
   ]
  },
  {
   "cell_type": "code",
   "execution_count": 20,
   "id": "191be41d",
   "metadata": {
    "scrolled": true
   },
   "outputs": [
    {
     "name": "stderr",
     "output_type": "stream",
     "text": [
      "C:\\Users\\medekar\\AppData\\Local\\Temp\\ipykernel_17960\\2784020946.py:3: SettingWithCopyWarning: \n",
      "A value is trying to be set on a copy of a slice from a DataFrame.\n",
      "Try using .loc[row_indexer,col_indexer] = value instead\n",
      "\n",
      "See the caveats in the documentation: https://pandas.pydata.org/pandas-docs/stable/user_guide/indexing.html#returning-a-view-versus-a-copy\n",
      "  WeiRdf3['Source'] = 'FPS'\n"
     ]
    }
   ],
   "source": [
    "pd.set_option('display.max_rows', None)\n",
    "WeiRdf3 = redFood3.loc[redFood3['Weight'] != '']\n",
    "WeiRdf3['Source'] = 'FPS'"
   ]
  },
  {
   "cell_type": "markdown",
   "id": "6ec954c5",
   "metadata": {},
   "source": [
    "###### Updating Red M&W List with Source indications"
   ]
  },
  {
   "cell_type": "code",
   "execution_count": 21,
   "id": "0413eafd",
   "metadata": {},
   "outputs": [],
   "source": [
    "redFood3.update(WeiRdf3)"
   ]
  },
  {
   "cell_type": "code",
   "execution_count": 22,
   "id": "37f2a72c",
   "metadata": {},
   "outputs": [
    {
     "data": {
      "text/html": [
       "<div>\n",
       "<style scoped>\n",
       "    .dataframe tbody tr th:only-of-type {\n",
       "        vertical-align: middle;\n",
       "    }\n",
       "\n",
       "    .dataframe tbody tr th {\n",
       "        vertical-align: top;\n",
       "    }\n",
       "\n",
       "    .dataframe thead th {\n",
       "        text-align: right;\n",
       "    }\n",
       "</style>\n",
       "<table border=\"1\" class=\"dataframe\">\n",
       "  <thead>\n",
       "    <tr style=\"text-align: right;\">\n",
       "      <th></th>\n",
       "      <th>Food Code</th>\n",
       "      <th>Food Name</th>\n",
       "      <th>Group</th>\n",
       "      <th>Super Group</th>\n",
       "      <th>Sale format(s)</th>\n",
       "      <th>Weight</th>\n",
       "      <th>PurEqualCon</th>\n",
       "      <th>Portion Consumed</th>\n",
       "      <th>Source</th>\n",
       "    </tr>\n",
       "  </thead>\n",
       "  <tbody>\n",
       "    <tr>\n",
       "      <th>4</th>\n",
       "      <td>17-247</td>\n",
       "      <td>spirits, 40% volume</td>\n",
       "      <td>QK</td>\n",
       "      <td>Alcoholic beverages</td>\n",
       "      <td>bottle, miniature</td>\n",
       "      <td>29g</td>\n",
       "      <td>Y</td>\n",
       "      <td>1 miniature</td>\n",
       "      <td>FPS</td>\n",
       "    </tr>\n",
       "    <tr>\n",
       "      <th>6</th>\n",
       "      <td>17-752</td>\n",
       "      <td>wine, red</td>\n",
       "      <td>QE</td>\n",
       "      <td>Alcoholic beverages</td>\n",
       "      <td>bottle, small bottle, box</td>\n",
       "      <td>200g</td>\n",
       "      <td>Y</td>\n",
       "      <td>I small bottle</td>\n",
       "      <td>FPS</td>\n",
       "    </tr>\n",
       "    <tr>\n",
       "      <th>7</th>\n",
       "      <td>17-756</td>\n",
       "      <td>wine, white, medium</td>\n",
       "      <td>QE</td>\n",
       "      <td>Alcoholic beverages</td>\n",
       "      <td>bottle, small bottle, box</td>\n",
       "      <td>200g</td>\n",
       "      <td>Y</td>\n",
       "      <td>I small bottle</td>\n",
       "      <td>FPS</td>\n",
       "    </tr>\n",
       "    <tr>\n",
       "      <th>8</th>\n",
       "      <td>14-272</td>\n",
       "      <td>apple juice concentrate, unsweetened, commerical</td>\n",
       "      <td>PE</td>\n",
       "      <td>Beverages</td>\n",
       "      <td>carton, tetrapak, bottle</td>\n",
       "      <td>12g</td>\n",
       "      <td>Y, P</td>\n",
       "      <td>1 sachet</td>\n",
       "      <td>FPS</td>\n",
       "    </tr>\n",
       "    <tr>\n",
       "      <th>9</th>\n",
       "      <td>17-632</td>\n",
       "      <td>coffee, cappuccino, latte</td>\n",
       "      <td>P</td>\n",
       "      <td>Beverages</td>\n",
       "      <td>NaN</td>\n",
       "      <td>170g</td>\n",
       "      <td>Y</td>\n",
       "      <td>1 average vending machine cup</td>\n",
       "      <td>FPS</td>\n",
       "    </tr>\n",
       "  </tbody>\n",
       "</table>\n",
       "</div>"
      ],
      "text/plain": [
       "  Food Code                                         Food Name Group  \\\n",
       "4    17-247                               spirits, 40% volume    QK   \n",
       "6    17-752                                         wine, red    QE   \n",
       "7    17-756                               wine, white, medium    QE   \n",
       "8    14-272  apple juice concentrate, unsweetened, commerical    PE   \n",
       "9    17-632                         coffee, cappuccino, latte     P   \n",
       "\n",
       "           Super Group             Sale format(s) Weight PurEqualCon  \\\n",
       "4  Alcoholic beverages          bottle, miniature    29g           Y   \n",
       "6  Alcoholic beverages  bottle, small bottle, box   200g           Y   \n",
       "7  Alcoholic beverages  bottle, small bottle, box   200g           Y   \n",
       "8            Beverages   carton, tetrapak, bottle    12g        Y, P   \n",
       "9            Beverages                        NaN   170g           Y   \n",
       "\n",
       "                Portion Consumed Source  \n",
       "4                    1 miniature    FPS  \n",
       "6                 I small bottle    FPS  \n",
       "7                 I small bottle    FPS  \n",
       "8                       1 sachet    FPS  \n",
       "9  1 average vending machine cup    FPS  "
      ]
     },
     "execution_count": 22,
     "metadata": {},
     "output_type": "execute_result"
    }
   ],
   "source": [
    "WeiRdf3.head()"
   ]
  },
  {
   "cell_type": "code",
   "execution_count": 23,
   "id": "85df79e7",
   "metadata": {
    "scrolled": true
   },
   "outputs": [
    {
     "data": {
      "text/plain": [
       "258"
      ]
     },
     "execution_count": 23,
     "metadata": {},
     "output_type": "execute_result"
    }
   ],
   "source": [
    "c = redFood3.loc[redFood3['Weight'] != '']\n",
    "c['Food Name'].value_counts().sum()"
   ]
  },
  {
   "cell_type": "markdown",
   "id": "e4912270",
   "metadata": {},
   "source": [
    "### 258 / 535 items Matched Using Algo 3 "
   ]
  },
  {
   "cell_type": "code",
   "execution_count": 24,
   "id": "10429068",
   "metadata": {},
   "outputs": [
    {
     "data": {
      "text/plain": [
       "'Third Algorithm Matched 48.22% of products between McCane and Widdowson df and Food Portion Sizes df. Contains some errors'"
      ]
     },
     "execution_count": 24,
     "metadata": {},
     "output_type": "execute_result"
    }
   ],
   "source": [
    "f'Third Algorithm Matched {round((258/535) * 100, 2)}% of products between McCane and Widdowson df and Food Portion Sizes df. Contains some errors'"
   ]
  },
  {
   "cell_type": "markdown",
   "id": "e0ef2284",
   "metadata": {},
   "source": [
    "Exporting Updated dataframe"
   ]
  },
  {
   "cell_type": "code",
   "execution_count": 26,
   "id": "fa4d48e4",
   "metadata": {},
   "outputs": [],
   "source": [
    "#redFood.to_csv(r'C:\\Users\\medekar\\Desktop\\Product_Weight_Project\\Data\\Processed\\ReducedwithWeights\\RedM&Weight.csv')"
   ]
  },
  {
   "cell_type": "markdown",
   "id": "c74647ae",
   "metadata": {},
   "source": [
    "                                            Visualising Matching Efficiency "
   ]
  },
  {
   "cell_type": "code",
   "execution_count": 25,
   "id": "c9ecb47d",
   "metadata": {},
   "outputs": [
    {
     "data": {
      "image/png": "[encoded data removed]",
      "text/plain": [
       "<Figure size 2500x1000 with 3 Axes>"
      ]
     },
     "metadata": {},
     "output_type": "display_data"
    }
   ],
   "source": [
    "# Group the DataFrames by 'Super Group' and count the occurrences in each group, then sort in ascending order.\n",
    "ax1_counts = WeiRdf1.groupby('Super Group')['Super Group'].count().sort_values(ascending=True)\n",
    "ax2_counts = WeiRdf2.groupby('Super Group')['Super Group'].count().sort_values(ascending=True)\n",
    "ax3_counts = WeiRdf3.groupby('Super Group')['Super Group'].count().sort_values(ascending=True)\n",
    "\n",
    "# Find the minimum count in each grouped DataFrame.\n",
    "min_count1 = ax1_counts.min()\n",
    "min_count2 = ax2_counts.min()\n",
    "min_count3 = ax3_counts.min()\n",
    "\n",
    "# Create a list of colors for the bars. If count equals the minimum count, set the color to red; otherwise, set it to teal.\n",
    "bar_colors1 = ['#f95d6a' if count == min_count1 else '#4d7db3' for count in ax1_counts]\n",
    "bar_colors2 = ['#f95d6a' if count == min_count2 else '#4d7db3' for count in ax2_counts]\n",
    "bar_colors3 = ['#f95d6a' if count == min_count3 else '#4d7db3' for count in ax3_counts]\n",
    "\n",
    "# Create a figure with three subplots (1 row, 3 columns) for each algorithm's matching output evaluation.\n",
    "fig, (ax1, ax2, ax3) = plt.subplots(1, 3, sharex=False, sharey=True)\n",
    "fig.set_size_inches(25, 10)\n",
    "\n",
    "# Plot the bar chart for each algorithm's matching output evaluation.\n",
    "ax1.barh(ax1_counts.index, ax1_counts, color=bar_colors1)\n",
    "ax1.set_title('Evaluation of Algo 1 Matching Output', fontsize=20)\n",
    "\n",
    "ax2.barh(ax2_counts.index, ax2_counts, color=bar_colors2)\n",
    "ax2.set_title('Evaluation of Algo 2 Matching Output', fontsize=20)\n",
    "\n",
    "ax3.barh(ax3_counts.index, ax3_counts, color=bar_colors3)\n",
    "ax3.set_title('Evaluation of Algo 3 Matching Output', fontsize=20)\n",
    "\n",
    "# Set the label for the common x-axis and y-axis of the subplots.\n",
    "fig.supxlabel(\"Count\")\n",
    "fig.supylabel(\"Super Group\")\n",
    "\n",
    "plt.show()"
   ]
  },
  {
   "cell_type": "markdown",
   "id": "4d8c9f81",
   "metadata": {},
   "source": [
    "                                                  NEXT NOTEBOOK"
   ]
  }
 ],
 "metadata": {
  "kernelspec": {
   "display_name": "ProdW",
   "language": "python",
   "name": "prodw"
  },
  "language_info": {
   "codemirror_mode": {
    "name": "ipython",
    "version": 3
   },
   "file_extension": ".py",
   "mimetype": "text/x-python",
   "name": "python",
   "nbconvert_exporter": "python",
   "pygments_lexer": "ipython3",
   "version": "3.11.2"
  }
 },
 "nbformat": 4,
 "nbformat_minor": 5
}
