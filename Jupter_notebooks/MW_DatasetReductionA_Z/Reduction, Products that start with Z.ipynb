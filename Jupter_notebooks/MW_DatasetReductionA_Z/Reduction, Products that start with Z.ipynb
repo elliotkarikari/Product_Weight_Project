{
 "cells": [
  {
   "cell_type": "markdown",
   "id": "26eb5f17",
   "metadata": {},
   "source": [
    "# Product Weighting Project"
   ]
  },
  {
   "cell_type": "markdown",
   "id": "e344662d",
   "metadata": {},
   "source": [
    "                                         Data Reduction - Food Purchased In Store"
   ]
  },
  {
   "cell_type": "markdown",
   "id": "3fc27e6e",
   "metadata": {},
   "source": [
    "###### Import Necessary Libraries "
   ]
  },
  {
   "cell_type": "code",
   "execution_count": 1,
   "id": "afa09013",
   "metadata": {},
   "outputs": [],
   "source": [
    "import pandas as pd"
   ]
  },
  {
   "cell_type": "markdown",
   "id": "6be5a0fb",
   "metadata": {},
   "source": [
    "Read in Data"
   ]
  },
  {
   "cell_type": "code",
   "execution_count": 2,
   "id": "bdfa9c96",
   "metadata": {},
   "outputs": [],
   "source": [
    "Labelled = pd.read_csv(r'C:\\Users\\medekar\\Desktop\\Product_Weight_Project\\Data\\Processed\\Labelling2021_watercress.csv')"
   ]
  },
  {
   "cell_type": "markdown",
   "id": "e575d791",
   "metadata": {},
   "source": [
    "### Products beginning with a 'Z' "
   ]
  },
  {
   "cell_type": "code",
   "execution_count": 5,
   "id": "2f12459c",
   "metadata": {
    "scrolled": true
   },
   "outputs": [
    {
     "data": {
      "text/html": [
       "<div>\n",
       "<style scoped>\n",
       "    .dataframe tbody tr th:only-of-type {\n",
       "        vertical-align: middle;\n",
       "    }\n",
       "\n",
       "    .dataframe tbody tr th {\n",
       "        vertical-align: top;\n",
       "    }\n",
       "\n",
       "    .dataframe thead th {\n",
       "        text-align: right;\n",
       "    }\n",
       "</style>\n",
       "<table border=\"1\" class=\"dataframe\">\n",
       "  <thead>\n",
       "    <tr style=\"text-align: right;\">\n",
       "      <th></th>\n",
       "      <th>Food Code</th>\n",
       "      <th>Food Name</th>\n",
       "      <th>Description</th>\n",
       "      <th>Group</th>\n",
       "      <th>Previous</th>\n",
       "      <th>Main data references</th>\n",
       "      <th>Footnote</th>\n",
       "      <th>Energy (kJ)</th>\n",
       "      <th>Energy (kcal)</th>\n",
       "      <th>Fat (g)</th>\n",
       "      <th>Saturates (g)</th>\n",
       "      <th>Carbohydrate (g)</th>\n",
       "      <th>Sugars (g)</th>\n",
       "      <th>Starch (g)</th>\n",
       "      <th>Fibre (g)</th>\n",
       "      <th>Protein (g)</th>\n",
       "      <th>Salt (g)</th>\n",
       "    </tr>\n",
       "  </thead>\n",
       "  <tbody>\n",
       "  </tbody>\n",
       "</table>\n",
       "</div>"
      ],
      "text/plain": [
       "Empty DataFrame\n",
       "Columns: [Food Code, Food Name, Description, Group, Previous, Main data references, Footnote, Energy (kJ), Energy (kcal), Fat (g), Saturates (g), Carbohydrate (g), Sugars (g), Starch (g), Fibre (g), Protein (g), Salt (g)]\n",
       "Index: []"
      ]
     },
     "execution_count": 5,
     "metadata": {},
     "output_type": "execute_result"
    }
   ],
   "source": [
    "prod_z = Labelled.loc[Labelled['Food Name'].str.startswith('Z')]\n",
    "prod_z"
   ]
  },
  {
   "cell_type": "markdown",
   "id": "501006a1",
   "metadata": {},
   "source": [
    "No products start with a Z"
   ]
  }
 ],
 "metadata": {
  "kernelspec": {
   "display_name": "ProdW",
   "language": "python",
   "name": "prodw"
  },
  "language_info": {
   "codemirror_mode": {
    "name": "ipython",
    "version": 3
   },
   "file_extension": ".py",
   "mimetype": "text/x-python",
   "name": "python",
   "nbconvert_exporter": "python",
   "pygments_lexer": "ipython3",
   "version": "3.11.2"
  }
 },
 "nbformat": 4,
 "nbformat_minor": 5
}
