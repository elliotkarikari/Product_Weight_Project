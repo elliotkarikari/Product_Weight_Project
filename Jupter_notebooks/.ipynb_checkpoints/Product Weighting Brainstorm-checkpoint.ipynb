{
 "cells": [
  {
   "cell_type": "markdown",
   "id": "26eb5f17",
   "metadata": {},
   "source": [
    "# Product Weighting Project"
   ]
  },
  {
   "cell_type": "markdown",
   "id": "5fa80327",
   "metadata": {},
   "source": [
    "                                         Data Reduction - Food Purchased In Store"
   ]
  },
  {
   "cell_type": "markdown",
   "id": "3fc27e6e",
   "metadata": {},
   "source": [
    "###### Import Necessary Libraries "
   ]
  },
  {
   "cell_type": "code",
   "execution_count": 1,
   "id": "afa09013",
   "metadata": {},
   "outputs": [],
   "source": [
    "import pandas as pd"
   ]
  },
  {
   "cell_type": "markdown",
   "id": "6be5a0fb",
   "metadata": {},
   "source": [
    "Read in Data"
   ]
  },
  {
   "cell_type": "code",
   "execution_count": 2,
   "id": "bdfa9c96",
   "metadata": {},
   "outputs": [
    {
     "ename": "FileNotFoundError",
     "evalue": "[Errno 2] No such file or directory: 'C:\\\\Users\\\\medekar\\\\Desktop\\\\Product Weighting Project\\\\Data\\\\Processed\\\\Labelling2021_watercress.csv'",
     "output_type": "error",
     "traceback": [
      "\u001b[1;31m---------------------------------------------------------------------------\u001b[0m",
      "\u001b[1;31mFileNotFoundError\u001b[0m                         Traceback (most recent call last)",
      "Cell \u001b[1;32mIn[2], line 1\u001b[0m\n\u001b[1;32m----> 1\u001b[0m Labelled \u001b[38;5;241m=\u001b[39m pd\u001b[38;5;241m.\u001b[39mread_csv(\u001b[38;5;124mr\u001b[39m\u001b[38;5;124m'\u001b[39m\u001b[38;5;124mC:\u001b[39m\u001b[38;5;124m\\\u001b[39m\u001b[38;5;124mUsers\u001b[39m\u001b[38;5;124m\\\u001b[39m\u001b[38;5;124mmedekar\u001b[39m\u001b[38;5;124m\\\u001b[39m\u001b[38;5;124mDesktop\u001b[39m\u001b[38;5;124m\\\u001b[39m\u001b[38;5;124mProduct Weighting Project\u001b[39m\u001b[38;5;124m\\\u001b[39m\u001b[38;5;124mData\u001b[39m\u001b[38;5;124m\\\u001b[39m\u001b[38;5;124mProcessed\u001b[39m\u001b[38;5;124m\\\u001b[39m\u001b[38;5;124mLabelling2021_watercress.csv\u001b[39m\u001b[38;5;124m'\u001b[39m)\n",
      "File \u001b[1;32m~\\Anaconda3\\envs\\ProdW\\Lib\\site-packages\\pandas\\util\\_decorators.py:211\u001b[0m, in \u001b[0;36mdeprecate_kwarg.<locals>._deprecate_kwarg.<locals>.wrapper\u001b[1;34m(*args, **kwargs)\u001b[0m\n\u001b[0;32m    209\u001b[0m     \u001b[38;5;28;01melse\u001b[39;00m:\n\u001b[0;32m    210\u001b[0m         kwargs[new_arg_name] \u001b[38;5;241m=\u001b[39m new_arg_value\n\u001b[1;32m--> 211\u001b[0m \u001b[38;5;28;01mreturn\u001b[39;00m func(\u001b[38;5;241m*\u001b[39margs, \u001b[38;5;241m*\u001b[39m\u001b[38;5;241m*\u001b[39mkwargs)\n",
      "File \u001b[1;32m~\\Anaconda3\\envs\\ProdW\\Lib\\site-packages\\pandas\\util\\_decorators.py:331\u001b[0m, in \u001b[0;36mdeprecate_nonkeyword_arguments.<locals>.decorate.<locals>.wrapper\u001b[1;34m(*args, **kwargs)\u001b[0m\n\u001b[0;32m    325\u001b[0m \u001b[38;5;28;01mif\u001b[39;00m \u001b[38;5;28mlen\u001b[39m(args) \u001b[38;5;241m>\u001b[39m num_allow_args:\n\u001b[0;32m    326\u001b[0m     warnings\u001b[38;5;241m.\u001b[39mwarn(\n\u001b[0;32m    327\u001b[0m         msg\u001b[38;5;241m.\u001b[39mformat(arguments\u001b[38;5;241m=\u001b[39m_format_argument_list(allow_args)),\n\u001b[0;32m    328\u001b[0m         \u001b[38;5;167;01mFutureWarning\u001b[39;00m,\n\u001b[0;32m    329\u001b[0m         stacklevel\u001b[38;5;241m=\u001b[39mfind_stack_level(),\n\u001b[0;32m    330\u001b[0m     )\n\u001b[1;32m--> 331\u001b[0m \u001b[38;5;28;01mreturn\u001b[39;00m func(\u001b[38;5;241m*\u001b[39margs, \u001b[38;5;241m*\u001b[39m\u001b[38;5;241m*\u001b[39mkwargs)\n",
      "File \u001b[1;32m~\\Anaconda3\\envs\\ProdW\\Lib\\site-packages\\pandas\\io\\parsers\\readers.py:950\u001b[0m, in \u001b[0;36mread_csv\u001b[1;34m(filepath_or_buffer, sep, delimiter, header, names, index_col, usecols, squeeze, prefix, mangle_dupe_cols, dtype, engine, converters, true_values, false_values, skipinitialspace, skiprows, skipfooter, nrows, na_values, keep_default_na, na_filter, verbose, skip_blank_lines, parse_dates, infer_datetime_format, keep_date_col, date_parser, dayfirst, cache_dates, iterator, chunksize, compression, thousands, decimal, lineterminator, quotechar, quoting, doublequote, escapechar, comment, encoding, encoding_errors, dialect, error_bad_lines, warn_bad_lines, on_bad_lines, delim_whitespace, low_memory, memory_map, float_precision, storage_options)\u001b[0m\n\u001b[0;32m    935\u001b[0m kwds_defaults \u001b[38;5;241m=\u001b[39m _refine_defaults_read(\n\u001b[0;32m    936\u001b[0m     dialect,\n\u001b[0;32m    937\u001b[0m     delimiter,\n\u001b[1;32m   (...)\u001b[0m\n\u001b[0;32m    946\u001b[0m     defaults\u001b[38;5;241m=\u001b[39m{\u001b[38;5;124m\"\u001b[39m\u001b[38;5;124mdelimiter\u001b[39m\u001b[38;5;124m\"\u001b[39m: \u001b[38;5;124m\"\u001b[39m\u001b[38;5;124m,\u001b[39m\u001b[38;5;124m\"\u001b[39m},\n\u001b[0;32m    947\u001b[0m )\n\u001b[0;32m    948\u001b[0m kwds\u001b[38;5;241m.\u001b[39mupdate(kwds_defaults)\n\u001b[1;32m--> 950\u001b[0m \u001b[38;5;28;01mreturn\u001b[39;00m _read(filepath_or_buffer, kwds)\n",
      "File \u001b[1;32m~\\Anaconda3\\envs\\ProdW\\Lib\\site-packages\\pandas\\io\\parsers\\readers.py:605\u001b[0m, in \u001b[0;36m_read\u001b[1;34m(filepath_or_buffer, kwds)\u001b[0m\n\u001b[0;32m    602\u001b[0m _validate_names(kwds\u001b[38;5;241m.\u001b[39mget(\u001b[38;5;124m\"\u001b[39m\u001b[38;5;124mnames\u001b[39m\u001b[38;5;124m\"\u001b[39m, \u001b[38;5;28;01mNone\u001b[39;00m))\n\u001b[0;32m    604\u001b[0m \u001b[38;5;66;03m# Create the parser.\u001b[39;00m\n\u001b[1;32m--> 605\u001b[0m parser \u001b[38;5;241m=\u001b[39m TextFileReader(filepath_or_buffer, \u001b[38;5;241m*\u001b[39m\u001b[38;5;241m*\u001b[39mkwds)\n\u001b[0;32m    607\u001b[0m \u001b[38;5;28;01mif\u001b[39;00m chunksize \u001b[38;5;129;01mor\u001b[39;00m iterator:\n\u001b[0;32m    608\u001b[0m     \u001b[38;5;28;01mreturn\u001b[39;00m parser\n",
      "File \u001b[1;32m~\\Anaconda3\\envs\\ProdW\\Lib\\site-packages\\pandas\\io\\parsers\\readers.py:1442\u001b[0m, in \u001b[0;36mTextFileReader.__init__\u001b[1;34m(self, f, engine, **kwds)\u001b[0m\n\u001b[0;32m   1439\u001b[0m     \u001b[38;5;28mself\u001b[39m\u001b[38;5;241m.\u001b[39moptions[\u001b[38;5;124m\"\u001b[39m\u001b[38;5;124mhas_index_names\u001b[39m\u001b[38;5;124m\"\u001b[39m] \u001b[38;5;241m=\u001b[39m kwds[\u001b[38;5;124m\"\u001b[39m\u001b[38;5;124mhas_index_names\u001b[39m\u001b[38;5;124m\"\u001b[39m]\n\u001b[0;32m   1441\u001b[0m \u001b[38;5;28mself\u001b[39m\u001b[38;5;241m.\u001b[39mhandles: IOHandles \u001b[38;5;241m|\u001b[39m \u001b[38;5;28;01mNone\u001b[39;00m \u001b[38;5;241m=\u001b[39m \u001b[38;5;28;01mNone\u001b[39;00m\n\u001b[1;32m-> 1442\u001b[0m \u001b[38;5;28mself\u001b[39m\u001b[38;5;241m.\u001b[39m_engine \u001b[38;5;241m=\u001b[39m \u001b[38;5;28mself\u001b[39m\u001b[38;5;241m.\u001b[39m_make_engine(f, \u001b[38;5;28mself\u001b[39m\u001b[38;5;241m.\u001b[39mengine)\n",
      "File \u001b[1;32m~\\Anaconda3\\envs\\ProdW\\Lib\\site-packages\\pandas\\io\\parsers\\readers.py:1735\u001b[0m, in \u001b[0;36mTextFileReader._make_engine\u001b[1;34m(self, f, engine)\u001b[0m\n\u001b[0;32m   1733\u001b[0m     \u001b[38;5;28;01mif\u001b[39;00m \u001b[38;5;124m\"\u001b[39m\u001b[38;5;124mb\u001b[39m\u001b[38;5;124m\"\u001b[39m \u001b[38;5;129;01mnot\u001b[39;00m \u001b[38;5;129;01min\u001b[39;00m mode:\n\u001b[0;32m   1734\u001b[0m         mode \u001b[38;5;241m+\u001b[39m\u001b[38;5;241m=\u001b[39m \u001b[38;5;124m\"\u001b[39m\u001b[38;5;124mb\u001b[39m\u001b[38;5;124m\"\u001b[39m\n\u001b[1;32m-> 1735\u001b[0m \u001b[38;5;28mself\u001b[39m\u001b[38;5;241m.\u001b[39mhandles \u001b[38;5;241m=\u001b[39m get_handle(\n\u001b[0;32m   1736\u001b[0m     f,\n\u001b[0;32m   1737\u001b[0m     mode,\n\u001b[0;32m   1738\u001b[0m     encoding\u001b[38;5;241m=\u001b[39m\u001b[38;5;28mself\u001b[39m\u001b[38;5;241m.\u001b[39moptions\u001b[38;5;241m.\u001b[39mget(\u001b[38;5;124m\"\u001b[39m\u001b[38;5;124mencoding\u001b[39m\u001b[38;5;124m\"\u001b[39m, \u001b[38;5;28;01mNone\u001b[39;00m),\n\u001b[0;32m   1739\u001b[0m     compression\u001b[38;5;241m=\u001b[39m\u001b[38;5;28mself\u001b[39m\u001b[38;5;241m.\u001b[39moptions\u001b[38;5;241m.\u001b[39mget(\u001b[38;5;124m\"\u001b[39m\u001b[38;5;124mcompression\u001b[39m\u001b[38;5;124m\"\u001b[39m, \u001b[38;5;28;01mNone\u001b[39;00m),\n\u001b[0;32m   1740\u001b[0m     memory_map\u001b[38;5;241m=\u001b[39m\u001b[38;5;28mself\u001b[39m\u001b[38;5;241m.\u001b[39moptions\u001b[38;5;241m.\u001b[39mget(\u001b[38;5;124m\"\u001b[39m\u001b[38;5;124mmemory_map\u001b[39m\u001b[38;5;124m\"\u001b[39m, \u001b[38;5;28;01mFalse\u001b[39;00m),\n\u001b[0;32m   1741\u001b[0m     is_text\u001b[38;5;241m=\u001b[39mis_text,\n\u001b[0;32m   1742\u001b[0m     errors\u001b[38;5;241m=\u001b[39m\u001b[38;5;28mself\u001b[39m\u001b[38;5;241m.\u001b[39moptions\u001b[38;5;241m.\u001b[39mget(\u001b[38;5;124m\"\u001b[39m\u001b[38;5;124mencoding_errors\u001b[39m\u001b[38;5;124m\"\u001b[39m, \u001b[38;5;124m\"\u001b[39m\u001b[38;5;124mstrict\u001b[39m\u001b[38;5;124m\"\u001b[39m),\n\u001b[0;32m   1743\u001b[0m     storage_options\u001b[38;5;241m=\u001b[39m\u001b[38;5;28mself\u001b[39m\u001b[38;5;241m.\u001b[39moptions\u001b[38;5;241m.\u001b[39mget(\u001b[38;5;124m\"\u001b[39m\u001b[38;5;124mstorage_options\u001b[39m\u001b[38;5;124m\"\u001b[39m, \u001b[38;5;28;01mNone\u001b[39;00m),\n\u001b[0;32m   1744\u001b[0m )\n\u001b[0;32m   1745\u001b[0m \u001b[38;5;28;01massert\u001b[39;00m \u001b[38;5;28mself\u001b[39m\u001b[38;5;241m.\u001b[39mhandles \u001b[38;5;129;01mis\u001b[39;00m \u001b[38;5;129;01mnot\u001b[39;00m \u001b[38;5;28;01mNone\u001b[39;00m\n\u001b[0;32m   1746\u001b[0m f \u001b[38;5;241m=\u001b[39m \u001b[38;5;28mself\u001b[39m\u001b[38;5;241m.\u001b[39mhandles\u001b[38;5;241m.\u001b[39mhandle\n",
      "File \u001b[1;32m~\\Anaconda3\\envs\\ProdW\\Lib\\site-packages\\pandas\\io\\common.py:856\u001b[0m, in \u001b[0;36mget_handle\u001b[1;34m(path_or_buf, mode, encoding, compression, memory_map, is_text, errors, storage_options)\u001b[0m\n\u001b[0;32m    851\u001b[0m \u001b[38;5;28;01melif\u001b[39;00m \u001b[38;5;28misinstance\u001b[39m(handle, \u001b[38;5;28mstr\u001b[39m):\n\u001b[0;32m    852\u001b[0m     \u001b[38;5;66;03m# Check whether the filename is to be opened in binary mode.\u001b[39;00m\n\u001b[0;32m    853\u001b[0m     \u001b[38;5;66;03m# Binary mode does not support 'encoding' and 'newline'.\u001b[39;00m\n\u001b[0;32m    854\u001b[0m     \u001b[38;5;28;01mif\u001b[39;00m ioargs\u001b[38;5;241m.\u001b[39mencoding \u001b[38;5;129;01mand\u001b[39;00m \u001b[38;5;124m\"\u001b[39m\u001b[38;5;124mb\u001b[39m\u001b[38;5;124m\"\u001b[39m \u001b[38;5;129;01mnot\u001b[39;00m \u001b[38;5;129;01min\u001b[39;00m ioargs\u001b[38;5;241m.\u001b[39mmode:\n\u001b[0;32m    855\u001b[0m         \u001b[38;5;66;03m# Encoding\u001b[39;00m\n\u001b[1;32m--> 856\u001b[0m         handle \u001b[38;5;241m=\u001b[39m \u001b[38;5;28mopen\u001b[39m(\n\u001b[0;32m    857\u001b[0m             handle,\n\u001b[0;32m    858\u001b[0m             ioargs\u001b[38;5;241m.\u001b[39mmode,\n\u001b[0;32m    859\u001b[0m             encoding\u001b[38;5;241m=\u001b[39mioargs\u001b[38;5;241m.\u001b[39mencoding,\n\u001b[0;32m    860\u001b[0m             errors\u001b[38;5;241m=\u001b[39merrors,\n\u001b[0;32m    861\u001b[0m             newline\u001b[38;5;241m=\u001b[39m\u001b[38;5;124m\"\u001b[39m\u001b[38;5;124m\"\u001b[39m,\n\u001b[0;32m    862\u001b[0m         )\n\u001b[0;32m    863\u001b[0m     \u001b[38;5;28;01melse\u001b[39;00m:\n\u001b[0;32m    864\u001b[0m         \u001b[38;5;66;03m# Binary mode\u001b[39;00m\n\u001b[0;32m    865\u001b[0m         handle \u001b[38;5;241m=\u001b[39m \u001b[38;5;28mopen\u001b[39m(handle, ioargs\u001b[38;5;241m.\u001b[39mmode)\n",
      "\u001b[1;31mFileNotFoundError\u001b[0m: [Errno 2] No such file or directory: 'C:\\\\Users\\\\medekar\\\\Desktop\\\\Product Weighting Project\\\\Data\\\\Processed\\\\Labelling2021_watercress.csv'"
     ]
    }
   ],
   "source": [
    "Labelled = pd.read_csv(r'C:\\Users\\medekar\\Desktop\\Product Weighting Project\\Data\\Processed\\Labelling2021_watercress.csv')"
   ]
  },
  {
   "cell_type": "markdown",
   "id": "41c691db",
   "metadata": {},
   "source": [
    "###### Looking at this data Alphabetically starting from A. "
   ]
  },
  {
   "cell_type": "code",
   "execution_count": null,
   "id": "2f12459c",
   "metadata": {},
   "outputs": [],
   "source": [
    "Prod_A = Labelled.loc[Labelled['Food Name'].str.startswith('A')]\n",
    "Prod_A.head()"
   ]
  },
  {
   "cell_type": "markdown",
   "id": "aa839189",
   "metadata": {},
   "source": [
    "Products within a Group (provide identification of the food group and food type to which the food belongs)"
   ]
  },
  {
   "cell_type": "code",
   "execution_count": null,
   "id": "397e8469",
   "metadata": {},
   "outputs": [],
   "source": [
    "Prod_A.groupby('Group')['Food Name'].count()"
   ]
  },
  {
   "cell_type": "markdown",
   "id": "f290934c",
   "metadata": {},
   "source": [
    "## *Reducing products based on its most basic form. Improve as you go on*"
   ]
  },
  {
   "cell_type": "markdown",
   "id": "bbbc3c6d",
   "metadata": {},
   "source": [
    "                                              Cereals and cereal products"
   ]
  },
  {
   "cell_type": "markdown",
   "id": "451cf921",
   "metadata": {},
   "source": [
    "Flours, grains and starches"
   ]
  },
  {
   "cell_type": "code",
   "execution_count": null,
   "id": "4b048a0e",
   "metadata": {
    "scrolled": true
   },
   "outputs": [],
   "source": [
    "AA = Prod_A.loc[Prod_A['Group']== 'AA']\n",
    "AA"
   ]
  },
  {
   "cell_type": "code",
   "execution_count": null,
   "id": "f297320d",
   "metadata": {},
   "outputs": [],
   "source": [
    "AA['Super Group'] = 'Cereals and cereal products'"
   ]
  },
  {
   "cell_type": "markdown",
   "id": "0edf401a",
   "metadata": {},
   "source": [
    "                                                       Vegetables"
   ]
  },
  {
   "cell_type": "markdown",
   "id": "db0d9858",
   "metadata": {},
   "source": [
    "Vegetables, general"
   ]
  },
  {
   "cell_type": "code",
   "execution_count": null,
   "id": "480f469b",
   "metadata": {
    "scrolled": false
   },
   "outputs": [],
   "source": [
    "DG = Prod_A.loc[Prod_A['Group']== 'DG']\n",
    "DG.head()"
   ]
  },
  {
   "cell_type": "markdown",
   "id": "86a00688",
   "metadata": {},
   "source": [
    "**Reduced**"
   ]
  },
  {
   "cell_type": "code",
   "execution_count": null,
   "id": "e3b9413a",
   "metadata": {
    "scrolled": false
   },
   "outputs": [],
   "source": [
    "Priority_DG = ['Ackee, canned, drained','Agar, dried','Alfalfa sprouts, raw','Amaranth leaves, raw','Arrowhead, raw','Artichoke, globe, raw','Asparagus, raw','Aubergine, raw']"
   ]
  },
  {
   "cell_type": "code",
   "execution_count": null,
   "id": "a0ded20a",
   "metadata": {},
   "outputs": [],
   "source": [
    "Filt_DG = DG[DG['Food Name'].isin(Priority_DG)]\n",
    "Filt_DG"
   ]
  },
  {
   "cell_type": "code",
   "execution_count": null,
   "id": "9517c3a7",
   "metadata": {},
   "outputs": [],
   "source": [
    "Filt_DG['Super Group'] = 'Vegetables'"
   ]
  },
  {
   "cell_type": "markdown",
   "id": "44f14825",
   "metadata": {},
   "source": [
    "Vegetable Dishes"
   ]
  },
  {
   "cell_type": "code",
   "execution_count": null,
   "id": "04704480",
   "metadata": {
    "scrolled": true
   },
   "outputs": [],
   "source": [
    "DR = Prod_A.loc[Prod_A['Group']== 'DR']\n",
    "DR"
   ]
  },
  {
   "cell_type": "code",
   "execution_count": null,
   "id": "26c3de80",
   "metadata": {},
   "outputs": [],
   "source": [
    "DR['Super Group'] = 'Vegetables'"
   ]
  },
  {
   "cell_type": "code",
   "execution_count": null,
   "id": "ad25a30d",
   "metadata": {},
   "outputs": [],
   "source": [
    "DR['Food Name'].unique()"
   ]
  },
  {
   "cell_type": "markdown",
   "id": "4e0a19f0",
   "metadata": {},
   "source": [
    "                                                        Fruit"
   ]
  },
  {
   "cell_type": "code",
   "execution_count": null,
   "id": "8318d558",
   "metadata": {
    "scrolled": false
   },
   "outputs": [],
   "source": [
    "F = Prod_A.loc[Prod_A['Group']== 'F']\n",
    "F"
   ]
  },
  {
   "cell_type": "code",
   "execution_count": null,
   "id": "60b3934f",
   "metadata": {},
   "outputs": [],
   "source": [
    "F['Food Name'].unique()"
   ]
  },
  {
   "cell_type": "markdown",
   "id": "09205b67",
   "metadata": {},
   "source": [
    "**Reduced** "
   ]
  },
  {
   "cell_type": "code",
   "execution_count": null,
   "id": "bf8898f6",
   "metadata": {},
   "outputs": [],
   "source": [
    "Filt_F = F.loc[F['Food Name'] == 'Apples, cooking, raw, flesh only, weighed with skin and core']\n",
    "Filt_F"
   ]
  },
  {
   "cell_type": "code",
   "execution_count": null,
   "id": "5d8a83e5",
   "metadata": {
    "scrolled": true
   },
   "outputs": [],
   "source": [
    "Filt_F['Super Group'] = 'Fruit'"
   ]
  },
  {
   "cell_type": "markdown",
   "id": "8ccb64a2",
   "metadata": {},
   "source": [
    "Fruit General "
   ]
  },
  {
   "cell_type": "code",
   "execution_count": null,
   "id": "4dbc9401",
   "metadata": {
    "scrolled": true
   },
   "outputs": [],
   "source": [
    "FA = Prod_A.loc[Prod_A['Group']== 'FA']\n",
    "FA"
   ]
  },
  {
   "cell_type": "code",
   "execution_count": null,
   "id": "4f66f191",
   "metadata": {
    "scrolled": false
   },
   "outputs": [],
   "source": [
    "FA['Food Name'].unique()"
   ]
  },
  {
   "cell_type": "markdown",
   "id": "897d698c",
   "metadata": {},
   "source": [
    "##### Reduced"
   ]
  },
  {
   "cell_type": "code",
   "execution_count": null,
   "id": "cae65429",
   "metadata": {},
   "outputs": [],
   "source": [
    "Priority_FA = ['Amla','Apricots, raw, flesh and skin','Apricots, ready-to-eat, semi-dried','Avocado, Fuerte, flesh only, weighed with skin and stone','Avocado, Hass, flesh only, weighed with skin and stone']"
   ]
  },
  {
   "cell_type": "code",
   "execution_count": null,
   "id": "dabfc6e7",
   "metadata": {
    "scrolled": false
   },
   "outputs": [],
   "source": [
    "Filt_FAR = FA[FA['Food Name'].isin(Priority_FA)]\n",
    "Filt_FAR"
   ]
  },
  {
   "cell_type": "code",
   "execution_count": null,
   "id": "13251d9c",
   "metadata": {},
   "outputs": [],
   "source": [
    "Filt_FAR['Super Group'] = 'Fruit'"
   ]
  },
  {
   "cell_type": "markdown",
   "id": "66dd5933",
   "metadata": {},
   "source": [
    "Fruit Juices"
   ]
  },
  {
   "cell_type": "code",
   "execution_count": null,
   "id": "65607948",
   "metadata": {
    "scrolled": true
   },
   "outputs": [],
   "source": [
    "FC = Prod_A.loc[Prod_A['Group']== 'FC']\n",
    "FC"
   ]
  },
  {
   "cell_type": "code",
   "execution_count": null,
   "id": "67d1a06f",
   "metadata": {},
   "outputs": [],
   "source": [
    "FC['Super Group'] = 'Fruit'"
   ]
  },
  {
   "cell_type": "markdown",
   "id": "cea36c12",
   "metadata": {},
   "source": [
    "                                                    Nuts and Seeds"
   ]
  },
  {
   "cell_type": "code",
   "execution_count": null,
   "id": "373d1497",
   "metadata": {
    "scrolled": true
   },
   "outputs": [],
   "source": [
    "GA = Prod_A.loc[Prod_A['Group']== 'GA']\n",
    "GA"
   ]
  },
  {
   "cell_type": "code",
   "execution_count": null,
   "id": "cf3f64eb",
   "metadata": {},
   "outputs": [],
   "source": [
    "Priority_GA = ['Almonds, flaked and ground','Almonds, toasted','Almonds, whole kernels']"
   ]
  },
  {
   "cell_type": "markdown",
   "id": "88922c4f",
   "metadata": {},
   "source": [
    "**Reduced**"
   ]
  },
  {
   "cell_type": "code",
   "execution_count": null,
   "id": "e13be6f0",
   "metadata": {},
   "outputs": [],
   "source": [
    "Filt_GA = GA[GA['Food Name'].isin(Priority_GA)]\n",
    "Filt_GA"
   ]
  },
  {
   "cell_type": "code",
   "execution_count": null,
   "id": "e06e734a",
   "metadata": {},
   "outputs": [],
   "source": [
    "Filt_GA['Super Group'] = 'Nuts and Seeds'"
   ]
  },
  {
   "cell_type": "markdown",
   "id": "7270c33d",
   "metadata": {},
   "source": [
    "                                                   Herbs and Spices"
   ]
  },
  {
   "cell_type": "code",
   "execution_count": null,
   "id": "b85aa737",
   "metadata": {
    "scrolled": true
   },
   "outputs": [],
   "source": [
    "H = Prod_A.loc[Prod_A['Group']== 'H']\n",
    "H"
   ]
  },
  {
   "cell_type": "code",
   "execution_count": null,
   "id": "db4944e2",
   "metadata": {},
   "outputs": [],
   "source": [
    "H['Super Group'] = 'Herbs and Spices'"
   ]
  },
  {
   "cell_type": "markdown",
   "id": "443c5951",
   "metadata": {},
   "source": [
    "                                                   Fish and Fish Products"
   ]
  },
  {
   "cell_type": "markdown",
   "id": "4907fb7c",
   "metadata": {},
   "source": [
    "White Fish"
   ]
  },
  {
   "cell_type": "code",
   "execution_count": null,
   "id": "c09e1514",
   "metadata": {},
   "outputs": [],
   "source": [
    "JA = Prod_A.loc[Prod_A['Group']== 'JA']\n",
    "JA"
   ]
  },
  {
   "cell_type": "code",
   "execution_count": null,
   "id": "df7d67ae",
   "metadata": {},
   "outputs": [],
   "source": [
    "JA['Super Group'] = 'Fish and Fish Products'"
   ]
  },
  {
   "cell_type": "markdown",
   "id": "4ad4db74",
   "metadata": {},
   "source": [
    "Fatty Fish"
   ]
  },
  {
   "cell_type": "code",
   "execution_count": null,
   "id": "75675a96",
   "metadata": {},
   "outputs": [],
   "source": [
    "JC = Prod_A.loc[Prod_A['Group']== 'JC']\n",
    "JC"
   ]
  },
  {
   "cell_type": "code",
   "execution_count": null,
   "id": "d55f94d9",
   "metadata": {},
   "outputs": [],
   "source": [
    "JC['Super Group'] = 'Fish and Fish Products'\n"
   ]
  },
  {
   "cell_type": "markdown",
   "id": "447dcb20",
   "metadata": {},
   "source": [
    "                                                        Beverages"
   ]
  },
  {
   "cell_type": "markdown",
   "id": "2081c5fb",
   "metadata": {},
   "source": [
    "Juices"
   ]
  },
  {
   "cell_type": "code",
   "execution_count": null,
   "id": "35057ac6",
   "metadata": {
    "scrolled": true
   },
   "outputs": [],
   "source": [
    "PE = Prod_A.loc[Prod_A['Group']== 'PE']\n",
    "PE"
   ]
  },
  {
   "cell_type": "code",
   "execution_count": null,
   "id": "0c9bfdcd",
   "metadata": {},
   "outputs": [],
   "source": [
    "PE['Super Group'] = 'Beverages'\n"
   ]
  },
  {
   "cell_type": "markdown",
   "id": "7c6c891f",
   "metadata": {},
   "source": [
    "                                        Soups, sauces and miscellaneous foods"
   ]
  },
  {
   "cell_type": "markdown",
   "id": "68e1d71e",
   "metadata": {},
   "source": [
    "Sauces"
   ]
  },
  {
   "cell_type": "code",
   "execution_count": null,
   "id": "5763c51b",
   "metadata": {},
   "outputs": [],
   "source": [
    "WC = Prod_A.loc[Prod_A['Group']== 'WC']\n",
    "WC"
   ]
  },
  {
   "cell_type": "code",
   "execution_count": null,
   "id": "6b24b1e3",
   "metadata": {},
   "outputs": [],
   "source": [
    "WC['Super Group'] = 'Soups, sauces and miscellaneous foods'\n"
   ]
  },
  {
   "cell_type": "markdown",
   "id": "40fe1a84",
   "metadata": {},
   "source": [
    "                                              **Join Reduced Tables**\n",
    "                                              "
   ]
  },
  {
   "cell_type": "code",
   "execution_count": null,
   "id": "a1a7b8df",
   "metadata": {
    "scrolled": false
   },
   "outputs": [],
   "source": [
    "Red11 = pd.concat([Red10,WC], axis=0, join='inner')\n",
    "Red11"
   ]
  },
  {
   "cell_type": "markdown",
   "id": "bb7176e5",
   "metadata": {},
   "source": [
    "                                                       Export"
   ]
  },
  {
   "cell_type": "code",
   "execution_count": null,
   "id": "0e637cdb",
   "metadata": {},
   "outputs": [],
   "source": [
    "Red11.to_csv(r'C:...\\Product Weighting Project\\Data\\Processed\\Reduced_A.csv')"
   ]
  },
  {
   "cell_type": "code",
   "execution_count": null,
   "id": "21bedf29",
   "metadata": {},
   "outputs": [],
   "source": []
  }
 ],
 "metadata": {
  "kernelspec": {
   "display_name": "ProdW",
   "language": "python",
   "name": "prodw"
  },
  "language_info": {
   "codemirror_mode": {
    "name": "ipython",
    "version": 3
   },
   "file_extension": ".py",
   "mimetype": "text/x-python",
   "name": "python",
   "nbconvert_exporter": "python",
   "pygments_lexer": "ipython3",
   "version": "3.11.2"
  }
 },
 "nbformat": 4,
 "nbformat_minor": 5
}
