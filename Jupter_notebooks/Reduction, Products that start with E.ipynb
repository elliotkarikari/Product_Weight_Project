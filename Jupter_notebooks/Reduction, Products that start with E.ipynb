{
 "cells": [
  {
   "cell_type": "markdown",
   "id": "26eb5f17",
   "metadata": {},
   "source": [
    "# Product Weighting Project"
   ]
  },
  {
   "cell_type": "markdown",
   "id": "e344662d",
   "metadata": {},
   "source": [
    "                                         Data Reduction - Food Purchased In Store"
   ]
  },
  {
   "cell_type": "markdown",
   "id": "3fc27e6e",
   "metadata": {},
   "source": [
    "###### Import Necessary Libraries "
   ]
  },
  {
   "cell_type": "code",
   "execution_count": 2,
   "id": "afa09013",
   "metadata": {},
   "outputs": [],
   "source": [
    "import pandas as pd"
   ]
  },
  {
   "cell_type": "markdown",
   "id": "6be5a0fb",
   "metadata": {},
   "source": [
    "Read in Data"
   ]
  },
  {
   "cell_type": "code",
   "execution_count": 3,
   "id": "bdfa9c96",
   "metadata": {},
   "outputs": [],
   "source": [
    "Labelled = pd.read_csv(r'C:\\Users\\medekar\\Desktop\\Product_Weight_Project\\Data\\Processed\\Labelling2021_watercress.csv')"
   ]
  },
  {
   "cell_type": "markdown",
   "id": "e575d791",
   "metadata": {},
   "source": [
    "### Products beginning with a 'E' "
   ]
  },
  {
   "cell_type": "code",
   "execution_count": 5,
   "id": "2f12459c",
   "metadata": {},
   "outputs": [
    {
     "data": {
      "text/html": [
       "<div>\n",
       "<style scoped>\n",
       "    .dataframe tbody tr th:only-of-type {\n",
       "        vertical-align: middle;\n",
       "    }\n",
       "\n",
       "    .dataframe tbody tr th {\n",
       "        vertical-align: top;\n",
       "    }\n",
       "\n",
       "    .dataframe thead th {\n",
       "        text-align: right;\n",
       "    }\n",
       "</style>\n",
       "<table border=\"1\" class=\"dataframe\">\n",
       "  <thead>\n",
       "    <tr style=\"text-align: right;\">\n",
       "      <th></th>\n",
       "      <th>Food Code</th>\n",
       "      <th>Food Name</th>\n",
       "      <th>Description</th>\n",
       "      <th>Group</th>\n",
       "      <th>Previous</th>\n",
       "      <th>Main data references</th>\n",
       "      <th>Footnote</th>\n",
       "      <th>Energy (kJ)</th>\n",
       "      <th>Energy (kcal)</th>\n",
       "      <th>Fat (g)</th>\n",
       "      <th>Saturates (g)</th>\n",
       "      <th>Carbohydrate (g)</th>\n",
       "      <th>Sugars (g)</th>\n",
       "      <th>Starch (g)</th>\n",
       "      <th>Fibre (g)</th>\n",
       "      <th>Protein (g)</th>\n",
       "      <th>Salt (g)</th>\n",
       "    </tr>\n",
       "  </thead>\n",
       "  <tbody>\n",
       "    <tr>\n",
       "      <th>1076</th>\n",
       "      <td>11-838</td>\n",
       "      <td>Eccles cakes, retail</td>\n",
       "      <td>10 samples, 6 products</td>\n",
       "      <td>AN</td>\n",
       "      <td>11-589</td>\n",
       "      <td>DH, Nutrient analysis of biscuits, buns, cakes...</td>\n",
       "      <td>NaN</td>\n",
       "      <td>1587</td>\n",
       "      <td>379</td>\n",
       "      <td>18.3</td>\n",
       "      <td>9.4</td>\n",
       "      <td>47</td>\n",
       "      <td>33.6</td>\n",
       "      <td>13.4</td>\n",
       "      <td>3.6</td>\n",
       "      <td>4.8</td>\n",
       "      <td>0.55</td>\n",
       "    </tr>\n",
       "    <tr>\n",
       "      <th>1077</th>\n",
       "      <td>16-036</td>\n",
       "      <td>Eel, conger, flesh only, grilled</td>\n",
       "      <td>Calculated from raw 16-035, steaks</td>\n",
       "      <td>JA</td>\n",
       "      <td>NaN</td>\n",
       "      <td>Fish and Fish Products Supplement, 1993</td>\n",
       "      <td>NaN</td>\n",
       "      <td>582</td>\n",
       "      <td>139</td>\n",
       "      <td>5.5</td>\n",
       "      <td>1.48</td>\n",
       "      <td>0</td>\n",
       "      <td>0</td>\n",
       "      <td>0</td>\n",
       "      <td>0</td>\n",
       "      <td>22.3</td>\n",
       "      <td>0.15</td>\n",
       "    </tr>\n",
       "    <tr>\n",
       "      <th>1078</th>\n",
       "      <td>16-037</td>\n",
       "      <td>Eel, conger, flesh only, grilled, weighed with...</td>\n",
       "      <td>Calculated from grilled 16-036</td>\n",
       "      <td>JA</td>\n",
       "      <td>NaN</td>\n",
       "      <td>Fish and Fish Products Supplement, 1993</td>\n",
       "      <td>NaN</td>\n",
       "      <td>304</td>\n",
       "      <td>72</td>\n",
       "      <td>2.9</td>\n",
       "      <td>0.77</td>\n",
       "      <td>0</td>\n",
       "      <td>0</td>\n",
       "      <td>0</td>\n",
       "      <td>0</td>\n",
       "      <td>11.6</td>\n",
       "      <td>0.08</td>\n",
       "    </tr>\n",
       "    <tr>\n",
       "      <th>1079</th>\n",
       "      <td>16-035</td>\n",
       "      <td>Eel, conger, flesh only, raw</td>\n",
       "      <td>Literature sources</td>\n",
       "      <td>JA</td>\n",
       "      <td>NaN</td>\n",
       "      <td>Fish and Fish Products Supplement, 1993</td>\n",
       "      <td>NaN</td>\n",
       "      <td>485</td>\n",
       "      <td>115</td>\n",
       "      <td>4.6</td>\n",
       "      <td>1.24</td>\n",
       "      <td>0</td>\n",
       "      <td>0</td>\n",
       "      <td>0</td>\n",
       "      <td>0</td>\n",
       "      <td>18.5</td>\n",
       "      <td>0.13</td>\n",
       "    </tr>\n",
       "    <tr>\n",
       "      <th>1080</th>\n",
       "      <td>16-173</td>\n",
       "      <td>Eel, yellow, raw</td>\n",
       "      <td>Analytical and literature sources</td>\n",
       "      <td>JC</td>\n",
       "      <td>NaN</td>\n",
       "      <td>Fish and Fish Products Supplement, 1993</td>\n",
       "      <td>NaN</td>\n",
       "      <td>701</td>\n",
       "      <td>168</td>\n",
       "      <td>11.3</td>\n",
       "      <td>2.9</td>\n",
       "      <td>0</td>\n",
       "      <td>0</td>\n",
       "      <td>0</td>\n",
       "      <td>0</td>\n",
       "      <td>16.6</td>\n",
       "      <td>0.22</td>\n",
       "    </tr>\n",
       "  </tbody>\n",
       "</table>\n",
       "</div>"
      ],
      "text/plain": [
       "     Food Code                                          Food Name  \\\n",
       "1076    11-838                               Eccles cakes, retail   \n",
       "1077    16-036                   Eel, conger, flesh only, grilled   \n",
       "1078    16-037  Eel, conger, flesh only, grilled, weighed with...   \n",
       "1079    16-035                       Eel, conger, flesh only, raw   \n",
       "1080    16-173                                   Eel, yellow, raw   \n",
       "\n",
       "                             Description Group Previous  \\\n",
       "1076              10 samples, 6 products    AN  11-589    \n",
       "1077  Calculated from raw 16-035, steaks    JA      NaN   \n",
       "1078      Calculated from grilled 16-036    JA      NaN   \n",
       "1079                  Literature sources    JA      NaN   \n",
       "1080   Analytical and literature sources    JC      NaN   \n",
       "\n",
       "                                   Main data references Footnote Energy (kJ)  \\\n",
       "1076  DH, Nutrient analysis of biscuits, buns, cakes...      NaN        1587   \n",
       "1077            Fish and Fish Products Supplement, 1993      NaN         582   \n",
       "1078            Fish and Fish Products Supplement, 1993      NaN         304   \n",
       "1079            Fish and Fish Products Supplement, 1993      NaN         485   \n",
       "1080            Fish and Fish Products Supplement, 1993      NaN         701   \n",
       "\n",
       "     Energy (kcal)  Fat (g) Saturates (g) Carbohydrate (g) Sugars (g)  \\\n",
       "1076           379     18.3           9.4               47       33.6   \n",
       "1077           139      5.5          1.48                0          0   \n",
       "1078            72      2.9          0.77                0          0   \n",
       "1079           115      4.6          1.24                0          0   \n",
       "1080           168     11.3           2.9                0          0   \n",
       "\n",
       "     Starch (g) Fibre (g)  Protein (g) Salt (g)  \n",
       "1076       13.4       3.6          4.8     0.55  \n",
       "1077          0         0         22.3     0.15  \n",
       "1078          0         0         11.6     0.08  \n",
       "1079          0         0         18.5     0.13  \n",
       "1080          0         0         16.6     0.22  "
      ]
     },
     "execution_count": 5,
     "metadata": {},
     "output_type": "execute_result"
    }
   ],
   "source": [
    "Prod_E = Labelled.loc[Labelled['Food Name'].str.startswith('E')]\n",
    "Prod_E.head()"
   ]
  },
  {
   "cell_type": "markdown",
   "id": "8ce61870",
   "metadata": {},
   "source": [
    "Products within a Group (provide identification of the food group and food type to which the food belongs)"
   ]
  },
  {
   "cell_type": "code",
   "execution_count": 6,
   "id": "0e051ec9",
   "metadata": {
    "scrolled": true
   },
   "outputs": [
    {
     "data": {
      "text/plain": [
       "Group\n",
       "AN      1\n",
       "CA     16\n",
       "CD      1\n",
       "CDE     1\n",
       "DG      1\n",
       "FA      1\n",
       "JA      3\n",
       "JC      1\n",
       "MR      1\n",
       "PCA     1\n",
       "QI      1\n",
       "Name: Food Name, dtype: int64"
      ]
     },
     "execution_count": 6,
     "metadata": {},
     "output_type": "execute_result"
    }
   ],
   "source": [
    "Prod_E.groupby('Group')['Food Name'].count()"
   ]
  },
  {
   "cell_type": "markdown",
   "id": "ae2fef99",
   "metadata": {},
   "source": [
    "## *Reducing products based on its most basic form. Improve as you go on*"
   ]
  },
  {
   "cell_type": "markdown",
   "id": "ffaa799a",
   "metadata": {},
   "source": [
    "                                              Cereals and cereal products"
   ]
  },
  {
   "cell_type": "code",
   "execution_count": null,
   "id": "a8ec9d70",
   "metadata": {},
   "outputs": [],
   "source": []
  }
 ],
 "metadata": {
  "kernelspec": {
   "display_name": "ProdW",
   "language": "python",
   "name": "prodw"
  },
  "language_info": {
   "codemirror_mode": {
    "name": "ipython",
    "version": 3
   },
   "file_extension": ".py",
   "mimetype": "text/x-python",
   "name": "python",
   "nbconvert_exporter": "python",
   "pygments_lexer": "ipython3",
   "version": "3.11.2"
  }
 },
 "nbformat": 4,
 "nbformat_minor": 5
}
